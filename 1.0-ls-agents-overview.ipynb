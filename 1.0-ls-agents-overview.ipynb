{
 "cells": [
  {
   "cell_type": "markdown",
   "metadata": {},
   "source": [
    "# Why Agents?\n",
    "\n",
    "- [Karpathy on Agents](https://www.youtube.com/watch?v=fqVLjtvWgq8)"
   ]
  },
  {
   "cell_type": "markdown",
   "metadata": {},
   "source": [
    "Frameworks to build AI agents in Python:\n",
    "- Langchain\n",
    "- Autogen\n",
    "- AutoGPT?\n",
    "- Agent Protocol?\n",
    "- [Agents with Llama-index?](https://gpt-index.readthedocs.io/en/stable/end_to_end_tutorials/agents.html#:~:text=concept%20of%20agents.-,agents%20%2B%20llamaindex,-LlamaIndex%20provides%20some)\n",
    "- [AgentGPT](https://agentgpt.reworkd.ai/)\n",
    "- GPT-Engineer\n",
    "- GPT-Pilot\n",
    "- [Lagent](https://github.com/InternLM/lagent)\n",
    "- [AgentVerse](https://github.com/OpenBMB/AgentVerse)\n",
    "- [XAgent](https://github.com/OpenBMB/XAgent)\n",
    "- [Agenta - framework to deploy agents](https://github.com/agenta-ai/agenta)\n",
    "- [Steamship - framework to deploy agents](https://www.steamship.com/)"
   ]
  },
  {
   "cell_type": "markdown",
   "metadata": {},
   "source": [
    "Microsoft's AutoGen:\n",
    "\n",
    "- Aims at creating “agents” which are programming modules that can collaborate to solve complex tasks.\n",
    "- Supports hierarchical arrangement of LLM agents for complex workflows.\n",
    "- Offers features like multi-agent collaboration, enhanced inference API, seamless human participation integration, and customizable agents.\n",
    "- Noted for its open-source, community-driven nature, though it's still under development and may have some stability issues​1​."
   ]
  },
  {
   "cell_type": "markdown",
   "metadata": {},
   "source": [
    "Langchain:\n",
    "- Simplifies the development of LLM-centric applications with its suite of tools, components, and interfaces.\n",
    "- Provides APIs for embedding language processing capabilities in applications.\n",
    "- Suitable for creating chatbots, virtual assistants, language translation utilities, and sentiment analysis tools.\n",
    "- Installation is straightforward with pip or conda, and it facilitates integrations with various model providers and data stores​2​."
   ]
  },
  {
   "cell_type": "markdown",
   "metadata": {},
   "source": [
    "[Agents Framework](https://ar5iv.labs.arxiv.org/html/2309.07870)\n",
    "- Engineered to support planning, memory, tool usage, multi-agent communication, and fine-grained symbolic control.\n",
    "- Aims at enabling non-specialists to build, customize, test, tune, and deploy autonomous language agents with ease.\n",
    "- Provides key features like long-short term memory, tool usage & web navigation, multi-agent communication, human-agent interaction, and controllability through a symbolic plan.\n",
    "- Tackles the limitation of existing frameworks regarding customization, tuning, and deployment of new agents​3​."
   ]
  },
  {
   "cell_type": "markdown",
   "metadata": {},
   "source": [
    "# Background Papers for Agents\n",
    "\n",
    "- [HuggingGPT](https://github.com/microsoft/JARVIS)\n",
    "- [Gen Agents](https://arxiv.org/pdf/2304.03442.pdf)\n",
    "\n",
    "- [WebGPT](https://www.semanticscholar.org/paper/WebGPT%3A-Browser-assisted-question-answering-with-Nakano-Hilton/2f3efe44083af91cef562c1a3451eee2f8601d22)"
   ]
  }
 ],
 "metadata": {
  "language_info": {
   "name": "python"
  }
 },
 "nbformat": 4,
 "nbformat_minor": 2
}
