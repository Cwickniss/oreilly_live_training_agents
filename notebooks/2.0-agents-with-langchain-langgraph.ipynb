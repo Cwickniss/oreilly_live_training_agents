{
 "cells": [
  {
   "cell_type": "code",
   "execution_count": 1,
   "metadata": {
    "execution": {
     "iopub.execute_input": "2024-07-18T12:07:53.081208Z",
     "iopub.status.busy": "2024-07-18T12:07:53.080878Z",
     "iopub.status.idle": "2024-07-18T12:07:53.086379Z",
     "shell.execute_reply": "2024-07-18T12:07:53.086117Z"
    }
   },
   "outputs": [],
   "source": [
    "# %pip install openai>1.50.0 langchain>0.3.0 langgraph langchainhub langchain-openai langchain-community langchain-cli langchain_ollama tavily-python>=0.5.0 langchain_nomic nomic[local] langserve faiss-cpu tiktoken pypdf chroma jira google-search-results numexpr beautifulsoup4 scikit-learn"
   ]
  },
  {
   "cell_type": "code",
   "execution_count": 2,
   "metadata": {
    "execution": {
     "iopub.execute_input": "2024-07-18T12:07:53.088025Z",
     "iopub.status.busy": "2024-07-18T12:07:53.087914Z",
     "iopub.status.idle": "2024-07-18T12:07:53.089455Z",
     "shell.execute_reply": "2024-07-18T12:07:53.089268Z"
    }
   },
   "outputs": [],
   "source": [
    "# uncomment this if running locally\n",
    "# from dotenv import load_dotenv\n",
    "\n",
    "# load_dotenv()\n",
    "\n",
    "# Or if you are in Colab, uncoment below and add your api key\n",
    "import os\n",
    "os.environ[\"OPENAI_API_KEY\"] = \"your-api-key\""
   ]
  },
  {
   "cell_type": "markdown",
   "metadata": {},
   "source": [
    "# Common Sense Agent\n",
    "\n",
    "1. Model (large language model like ChatGPT, or Claude)\n",
    "2. Prompt (system message and the user input)\n",
    "3. Tool calling"
   ]
  },
  {
   "cell_type": "code",
   "execution_count": 1,
   "metadata": {
    "execution": {
     "iopub.execute_input": "2024-07-18T12:07:53.090666Z",
     "iopub.status.busy": "2024-07-18T12:07:53.090588Z",
     "iopub.status.idle": "2024-07-18T12:07:54.315056Z",
     "shell.execute_reply": "2024-07-18T12:07:54.314772Z"
    }
   },
   "outputs": [
    {
     "data": {
      "text/plain": [
       "AIMessage(content='Hello! How can I assist you today?', additional_kwargs={'refusal': None}, response_metadata={'token_usage': {'completion_tokens': 10, 'prompt_tokens': 8, 'total_tokens': 18, 'completion_tokens_details': {'accepted_prediction_tokens': 0, 'audio_tokens': 0, 'reasoning_tokens': 0, 'rejected_prediction_tokens': 0}, 'prompt_tokens_details': {'audio_tokens': 0, 'cached_tokens': 0}}, 'model_name': 'gpt-4o-2024-08-06', 'system_fingerprint': 'fp_f5bdcc3276', 'id': 'chatcmpl-BNJrXucoSGR9DdnWUs3chtAE0je6v', 'finish_reason': 'stop', 'logprobs': None}, id='run-bf826dd0-fbb7-4164-a659-b8cbc0659df2-0', usage_metadata={'input_tokens': 8, 'output_tokens': 10, 'total_tokens': 18, 'input_token_details': {'audio': 0, 'cache_read': 0}, 'output_token_details': {'audio': 0, 'reasoning': 0}})"
      ]
     },
     "execution_count": 1,
     "metadata": {},
     "output_type": "execute_result"
    }
   ],
   "source": [
    "from langchain_openai import ChatOpenAI\n",
    "import os\n",
    "# os.environ[\"OPENAI_API_KEY\"] = \"your openai api key\"\n",
    "llm = ChatOpenAI(model=\"gpt-4o\", temperature=0)\n",
    "\n",
    "llm.invoke(\"Hi\")"
   ]
  },
  {
   "cell_type": "code",
   "execution_count": 2,
   "metadata": {
    "execution": {
     "iopub.execute_input": "2024-07-18T12:07:54.329995Z",
     "iopub.status.busy": "2024-07-18T12:07:54.329883Z",
     "iopub.status.idle": "2024-07-18T12:07:54.332303Z",
     "shell.execute_reply": "2024-07-18T12:07:54.331957Z"
    }
   },
   "outputs": [],
   "source": [
    "from langchain.prompts import ChatPromptTemplate\n",
    "\n",
    "prompt = ChatPromptTemplate.from_template(\"Answer this question: {question} in bullet points. Output:\\n\")"
   ]
  },
  {
   "cell_type": "code",
   "execution_count": 3,
   "metadata": {
    "execution": {
     "iopub.execute_input": "2024-07-18T12:07:54.333532Z",
     "iopub.status.busy": "2024-07-18T12:07:54.333461Z",
     "iopub.status.idle": "2024-07-18T12:07:54.335405Z",
     "shell.execute_reply": "2024-07-18T12:07:54.335229Z"
    }
   },
   "outputs": [
    {
     "data": {
      "text/plain": [
       "ChatPromptTemplate(input_variables=['question'], input_types={}, partial_variables={}, messages=[HumanMessagePromptTemplate(prompt=PromptTemplate(input_variables=['question'], input_types={}, partial_variables={}, template='Answer this question: {question} in bullet points. Output:\\n'), additional_kwargs={})])\n",
       "| ChatOpenAI(client=<openai.resources.chat.completions.Completions object at 0x11596fd50>, async_client=<openai.resources.chat.completions.AsyncCompletions object at 0x116929410>, root_client=<openai.OpenAI object at 0x1145f3a10>, root_async_client=<openai.AsyncOpenAI object at 0x116903490>, model_name='gpt-4o', temperature=0.0, model_kwargs={}, openai_api_key=SecretStr('**********'), openai_api_base='https://api.openai.com/v1')"
      ]
     },
     "execution_count": 3,
     "metadata": {},
     "output_type": "execute_result"
    }
   ],
   "source": [
    "chain = prompt | llm\n",
    "\n",
    "chain"
   ]
  },
  {
   "cell_type": "code",
   "execution_count": 5,
   "metadata": {
    "execution": {
     "iopub.execute_input": "2024-07-18T12:07:54.339494Z",
     "iopub.status.busy": "2024-07-18T12:07:54.339424Z",
     "iopub.status.idle": "2024-07-18T12:07:55.316024Z",
     "shell.execute_reply": "2024-07-18T12:07:55.315572Z"
    }
   },
   "outputs": [
    {
     "data": {
      "text/plain": [
       "AIMessage(content='- Whiskers\\n- Mittens\\n- Shadow\\n- Luna\\n- Oliver\\n- Bella\\n- Simba\\n- Chloe\\n- Max\\n- Tiger\\n- Smokey\\n- Tigger\\n- Oscar\\n- Milo\\n- Cleo', additional_kwargs={'refusal': None}, response_metadata={'token_usage': {'completion_tokens': 51, 'prompt_tokens': 23, 'total_tokens': 74, 'completion_tokens_details': {'accepted_prediction_tokens': 0, 'audio_tokens': 0, 'reasoning_tokens': 0, 'rejected_prediction_tokens': 0}, 'prompt_tokens_details': {'audio_tokens': 0, 'cached_tokens': 0}}, 'model_name': 'gpt-4o-2024-08-06', 'system_fingerprint': 'fp_50cad350e4', 'finish_reason': 'stop', 'logprobs': None}, id='run-b313433f-4893-4e7c-a79d-52ec8a9700a7-0', usage_metadata={'input_tokens': 23, 'output_tokens': 51, 'total_tokens': 74, 'input_token_details': {'audio': 0, 'cache_read': 0}, 'output_token_details': {'audio': 0, 'reasoning': 0}})"
      ]
     },
     "execution_count": 5,
     "metadata": {},
     "output_type": "execute_result"
    }
   ],
   "source": [
    "output = chain.invoke(\"Write down names of cats.\")\n",
    "output"
   ]
  },
  {
   "cell_type": "code",
   "execution_count": 6,
   "metadata": {
    "execution": {
     "iopub.execute_input": "2024-07-18T12:07:55.317446Z",
     "iopub.status.busy": "2024-07-18T12:07:55.317348Z",
     "iopub.status.idle": "2024-07-18T12:07:55.319317Z",
     "shell.execute_reply": "2024-07-18T12:07:55.319110Z"
    }
   },
   "outputs": [
    {
     "data": {
      "text/markdown": [
       "- Whiskers\n",
       "- Mittens\n",
       "- Shadow\n",
       "- Luna\n",
       "- Oliver\n",
       "- Bella\n",
       "- Simba\n",
       "- Chloe\n",
       "- Max\n",
       "- Tiger\n",
       "- Smokey\n",
       "- Tigger\n",
       "- Oscar\n",
       "- Milo\n",
       "- Cleo"
      ],
      "text/plain": [
       "<IPython.core.display.Markdown object>"
      ]
     },
     "execution_count": 6,
     "metadata": {},
     "output_type": "execute_result"
    }
   ],
   "source": [
    "from IPython.display import Markdown\n",
    "\n",
    "Markdown(output.content)"
   ]
  },
  {
   "cell_type": "code",
   "execution_count": 7,
   "metadata": {
    "execution": {
     "iopub.execute_input": "2024-07-18T12:07:55.320590Z",
     "iopub.status.busy": "2024-07-18T12:07:55.320513Z",
     "iopub.status.idle": "2024-07-18T12:07:56.694298Z",
     "shell.execute_reply": "2024-07-18T12:07:56.693618Z"
    }
   },
   "outputs": [
    {
     "data": {
      "text/plain": [
       "[{'position': 1,\n",
       "  'title': 'THE 10 BEST Paris Architectural Buildings (2025)',\n",
       "  'link': 'https://www.tripadvisor.com/Attractions-g187147-Activities-c47-t3-Paris_Ile_de_France.html',\n",
       "  'redirect_link': 'https://www.google.com/url?sa=t&source=web&rct=j&opi=89978449&url=https://www.tripadvisor.com/Attractions-g187147-Activities-c47-t3-Paris_Ile_de_France.html&ved=2ahUKEwjLqaKO7ZqLAxWJPUQIHfwsDLsQFnoECBgQAQ',\n",
       "  'displayed_link': 'https://www.tripadvisor.com › Attractions-g187147-Act...',\n",
       "  'thumbnail': 'https://serpapi.com/searches/679a1465a38395d78f58d2bd/images/b82971cf6568ad27e2fa13ba6a1ef50fcedef7e58fe760b01529225406d3a2a2.jpeg',\n",
       "  'favicon': 'https://serpapi.com/searches/679a1465a38395d78f58d2bd/images/b82971cf6568ad27e2fa13ba6a1ef50f8f513dcefb7186a53f3be813729d0233.png',\n",
       "  'snippet': 'Architectural Buildings in Paris · 1. Louvre Museum · 2. Cathédrale Notre-Dame de Paris.',\n",
       "  'snippet_highlighted_words': ['1. Louvre Museum'],\n",
       "  'images': ['https://serpapi.com/searches/679a1465a38395d78f58d2bd/images/b82971cf6568ad27e2fa13ba6a1ef50ffc52bc2c9956e3bac7b4ce83863f5dec.jpeg'],\n",
       "  'source': 'Tripadvisor'},\n",
       " {'position': 2,\n",
       "  'title': '25 Must-See Paris Landmarks',\n",
       "  'link': 'https://www.architecturaldigest.com/gallery/paris-architectural-landmarks',\n",
       "  'redirect_link': 'https://www.google.com/url?sa=t&source=web&rct=j&opi=89978449&url=https://www.architecturaldigest.com/gallery/paris-architectural-landmarks&ved=2ahUKEwjLqaKO7ZqLAxWJPUQIHfwsDLsQFnoECBMQAQ',\n",
       "  'displayed_link': 'https://www.architecturaldigest.com › ... › travel',\n",
       "  'thumbnail': 'https://serpapi.com/searches/679a1465a38395d78f58d2bd/images/b82971cf6568ad27e2fa13ba6a1ef50fa468a3705da2a91f138b3f75c6467fe6.jpeg',\n",
       "  'favicon': 'https://serpapi.com/searches/679a1465a38395d78f58d2bd/images/b82971cf6568ad27e2fa13ba6a1ef50f08c25ac7edcc829852259e946798da9e.png',\n",
       "  'date': 'Feb 18, 2016',\n",
       "  'snippet': 'The Eiffel Tower shoots up from one end. The gilded cap of the Les Invalides gleams just a few blocks away. The Louvre stretches across its ...',\n",
       "  'snippet_highlighted_words': ['The Eiffel Tower shoots up from one end'],\n",
       "  'source': 'Architectural Digest'},\n",
       " {'position': 3,\n",
       "  'title': 'Top 10 of modern and contemporary architecture in Paris ...',\n",
       "  'link': 'https://www.visitparisregion.com/en/inspiration/top-experiences/10-modern-contemporary-architecture-to-see-in-paris-region',\n",
       "  'redirect_link': 'https://www.google.com/url?sa=t&source=web&rct=j&opi=89978449&url=https://www.visitparisregion.com/en/inspiration/top-experiences/10-modern-contemporary-architecture-to-see-in-paris-region&ved=2ahUKEwjLqaKO7ZqLAxWJPUQIHfwsDLsQFnoECEkQAQ',\n",
       "  'displayed_link': 'https://www.visitparisregion.com › top-experiences › 1...',\n",
       "  'thumbnail': 'https://serpapi.com/searches/679a1465a38395d78f58d2bd/images/b82971cf6568ad27e2fa13ba6a1ef50feb9d8865f32a246009a13abbcf7cddc4.jpeg',\n",
       "  'favicon': 'https://serpapi.com/searches/679a1465a38395d78f58d2bd/images/b82971cf6568ad27e2fa13ba6a1ef50f370bde2573dcebfb5cbeece5c709c343.png',\n",
       "  'snippet': 'Top 10 of modern and contemporary architecture in Paris Region · Fondation Louis Vuitton · Centre Pompidou · Villa Savoye · The Louvre Pyramid · Seine Musicale.',\n",
       "  'snippet_highlighted_words': ['Fondation Louis Vuitton'],\n",
       "  'source': 'VisitParisRegion'},\n",
       " {'position': 4,\n",
       "  'title': \"26 Historic Buildings to Visit the Next Time You're in Paris\",\n",
       "  'link': 'https://www.britannica.com/list/26-historic-buildings-to-visit-the-next-time-youre-in-paris',\n",
       "  'redirect_link': 'https://www.google.com/url?sa=t&source=web&rct=j&opi=89978449&url=https://www.britannica.com/list/26-historic-buildings-to-visit-the-next-time-youre-in-paris&ved=2ahUKEwjLqaKO7ZqLAxWJPUQIHfwsDLsQFnoECEgQAQ',\n",
       "  'displayed_link': 'https://www.britannica.com › List › Geography & Travel',\n",
       "  'thumbnail': 'https://serpapi.com/searches/679a1465a38395d78f58d2bd/images/b82971cf6568ad27e2fa13ba6a1ef50f7296bdb196f5a1138f426d9649458507.jpeg',\n",
       "  'favicon': 'https://serpapi.com/searches/679a1465a38395d78f58d2bd/images/b82971cf6568ad27e2fa13ba6a1ef50f360e6da1bad1a49ccfdb85a04ee1d64c.png',\n",
       "  'snippet': \"26 Historic Buildings to Visit the Next Time You're in Paris · Notre-Dame de Paris · Hôtel de Soubise · Panthéon · Arc de Triomphe · Church of St. Mary ...\",\n",
       "  'snippet_highlighted_words': ['Notre-Dame de Paris'],\n",
       "  'source': 'Britannica'},\n",
       " {'position': 5,\n",
       "  'title': 'Going to Paris soon, which buildings should I visit?',\n",
       "  'link': 'https://www.reddit.com/r/architecture/comments/19830tq/going_to_paris_soon_which_buildings_should_i_visit/',\n",
       "  'redirect_link': 'https://www.google.com/url?sa=t&source=web&rct=j&opi=89978449&url=https://www.reddit.com/r/architecture/comments/19830tq/going_to_paris_soon_which_buildings_should_i_visit/&ved=2ahUKEwjLqaKO7ZqLAxWJPUQIHfwsDLsQFnoECE4QAQ',\n",
       "  'displayed_link': '30+ comments · 1 year ago',\n",
       "  'favicon': 'https://serpapi.com/searches/679a1465a38395d78f58d2bd/images/b82971cf6568ad27e2fa13ba6a1ef50fd34d337766ddad997ae2c567a8267e14.png',\n",
       "  'snippet': \"You can visit la maison la roche by le corbusier, le pavillon de l'arsenal (architecture and urban planning museum), Beaubourg, la fondation ...\",\n",
       "  'snippet_highlighted_words': ['la maison la roche by le corbusier'],\n",
       "  'source': 'Reddit · r/architecture'},\n",
       " {'position': 6,\n",
       "  'title': 'Paris City Guide: 23 Places Every Architect Must Visit',\n",
       "  'link': 'https://www.archdaily.com/922278/23-places-in-paris-every-architect-must-visit',\n",
       "  'redirect_link': 'https://www.google.com/url?sa=t&source=web&rct=j&opi=89978449&url=https://www.archdaily.com/922278/23-places-in-paris-every-architect-must-visit&ved=2ahUKEwjLqaKO7ZqLAxWJPUQIHfwsDLsQFnoECGAQAQ',\n",
       "  'displayed_link': 'https://www.archdaily.com › Architecture City Guide',\n",
       "  'thumbnail': 'https://encrypted-tbn0.gstatic.com/images?q=tbn:ANd9GcSWonrQFmjNg1mBQowj1mT9IcwC2xswapq3t-ShKfbi7WJTn-28uIIxSaY&s',\n",
       "  'favicon': 'https://serpapi.com/searches/679a1465a38395d78f58d2bd/images/b82971cf6568ad27e2fa13ba6a1ef50fa9cd563b33a610034c28a80933934af1.png',\n",
       "  'date': 'Aug 22, 2021',\n",
       "  'snippet': 'Some of the constructions in this plan include the Arab World Institute, the Parc de la Villette and Pyramide at the Louvre. The library ...',\n",
       "  'snippet_highlighted_words': ['Arab World Institute'],\n",
       "  'source': 'ArchDaily'},\n",
       " {'position': 7,\n",
       "  'title': '13 Famous Landmarks in Paris',\n",
       "  'link': 'https://www.celebritycruises.com/blog/famous-landmarks-in-paris',\n",
       "  'redirect_link': 'https://www.google.com/url?sa=t&source=web&rct=j&opi=89978449&url=https://www.celebritycruises.com/blog/famous-landmarks-in-paris&ved=2ahUKEwjLqaKO7ZqLAxWJPUQIHfwsDLsQFnoECF0QAQ',\n",
       "  'displayed_link': 'https://www.celebritycruises.com › blog › famous-landm...',\n",
       "  'thumbnail': 'https://encrypted-tbn0.gstatic.com/images?q=tbn:ANd9GcQ0r8B1bKBy-9B6OLkkOx8Z6Rgkmi754zxgKfe2BnhC33numfXY6KJOqzk&s',\n",
       "  'favicon': 'https://serpapi.com/searches/679a1465a38395d78f58d2bd/images/b82971cf6568ad27e2fa13ba6a1ef50f288dc6a365ee76d8b895d720ad931b73.png',\n",
       "  'date': 'Jun 4, 2024',\n",
       "  'snippet': '13 Famous Landmarks in Paris · Eiffel Tower · Arc de Triomphe · The Louvre · Grand Palais · Notre-Dame Cathedral · Opera Garnier · Place de la ...',\n",
       "  'snippet_highlighted_words': ['Eiffel Tower'],\n",
       "  'source': 'Celebrity Cruises'},\n",
       " {'position': 8,\n",
       "  'title': '8 beautiful buildings in Paris',\n",
       "  'link': 'https://brightnomad.net/beautiful-buildings-in-paris/',\n",
       "  'redirect_link': 'https://www.google.com/url?sa=t&source=web&rct=j&opi=89978449&url=https://brightnomad.net/beautiful-buildings-in-paris/&ved=2ahUKEwjLqaKO7ZqLAxWJPUQIHfwsDLsQFnoECE0QAQ',\n",
       "  'displayed_link': 'https://brightnomad.net › beautiful-buildings-in-paris',\n",
       "  'thumbnail': 'https://encrypted-tbn0.gstatic.com/images?q=tbn:ANd9GcSxdVsJr4Z5VXEdTcYv-lnM_Cd7tH_lVNe4f-Sksb3Tp1LDEp19cY9H&usqp=CAE&s',\n",
       "  'favicon': 'https://serpapi.com/searches/679a1465a38395d78f58d2bd/images/b82971cf6568ad27e2fa13ba6a1ef50f370b61cb503dd8a4f0a619157955bf15.png',\n",
       "  'date': 'Jan 14, 2025',\n",
       "  'snippet': 'A selection of the most beautiful buildings in Paris: Galeries Lafayette, Palais Garnier, Galerie Vivienne and more amazing architecture.',\n",
       "  'snippet_highlighted_words': ['Galeries Lafayette'],\n",
       "  'sitelinks': {'inline': [{'title': 'Gorgeous Buildings And...',\n",
       "     'link': 'https://brightnomad.net/beautiful-buildings-in-paris/#:~:text=Gorgeous%20buildings%20and%20interiors%20in%20Paris'},\n",
       "    {'title': 'Palais Garnier',\n",
       "     'link': 'https://brightnomad.net/beautiful-buildings-in-paris/#:~:text=Foundation-,Palais%20Garnier'},\n",
       "    {'title': 'The Arab World Institute',\n",
       "     'link': 'https://brightnomad.net/beautiful-buildings-in-paris/#:~:text=design.-,The%20Arab%20World%20Institute'}]},\n",
       "  'missing': ['Cool'],\n",
       "  'must_include': {'word': 'Cool',\n",
       "   'link': 'https://www.google.com/search?sca_esv=ff21b54c5ea83dff&q=%22Cool%22+buildings+in+Paris&sa=X&ved=2ahUKEwjLqaKO7ZqLAxWJPUQIHfwsDLsQ5t4CegQIYxAB'},\n",
       "  'source': 'Bright Nomad'},\n",
       " {'position': 9,\n",
       "  'title': '10 icons of contemporary architecture in Paris',\n",
       "  'link': 'https://parisjetaime.com/eng/article/10-icons-of-contemporary-architecture-in-paris-a684',\n",
       "  'redirect_link': 'https://www.google.com/url?sa=t&source=web&rct=j&opi=89978449&url=https://parisjetaime.com/eng/article/10-icons-of-contemporary-architecture-in-paris-a684&ved=2ahUKEwjLqaKO7ZqLAxWJPUQIHfwsDLsQFnoECEcQAQ',\n",
       "  'displayed_link': 'https://parisjetaime.com › ... › Heritage in Paris',\n",
       "  'favicon': 'https://serpapi.com/searches/679a1465a38395d78f58d2bd/images/b82971cf6568ad27e2fa13ba6a1ef50f641b9b98d4851131b4d682bf493ba672.png',\n",
       "  'snippet': '10 icons of contemporary architecture in Paris · Fondation Louis Vuitton · Centre Pompidou · Musée du quai Branly - Jacques Chirac · Philharmonie de Paris.',\n",
       "  'snippet_highlighted_words': ['Fondation Louis Vuitton'],\n",
       "  'sitelinks': {'inline': [{'title': 'Fondation Louis Vuitton',\n",
       "     'link': 'https://parisjetaime.com/eng/article/10-icons-of-contemporary-architecture-in-paris-a684#:~:text=Fondation%20Louis%20Vuitton,-Museum'},\n",
       "    {'title': 'Centre Pompidou',\n",
       "     'link': 'https://parisjetaime.com/eng/article/10-icons-of-contemporary-architecture-in-paris-a684#:~:text=Centre%20Pompidou,-Museum'},\n",
       "    {'title': 'Philharmonie De Paris',\n",
       "     'link': 'https://parisjetaime.com/eng/article/10-icons-of-contemporary-architecture-in-paris-a684#:~:text=Philharmonie%20de%20Paris,-Theatre%2Fconcert%20hall'}]},\n",
       "  'source': \"Paris Je t'aime\"}]"
      ]
     },
     "execution_count": 7,
     "metadata": {},
     "output_type": "execute_result"
    }
   ],
   "source": [
    "from langchain_core.tools import tool\n",
    "from serpapi import GoogleSearch\n",
    "\n",
    "serpapi_params = {\n",
    "    \"engine\": \"google\",\n",
    "    \"api_key\": os.environ[\"SERPAPI_KEY\"]\n",
    "}\n",
    "\n",
    "query = \"Cool buildings in Paris\"\n",
    "search = GoogleSearch({**serpapi_params, \"q\":query, \"n\": 3})\n",
    "search.get_dict()[\"organic_results\"]"
   ]
  },
  {
   "cell_type": "code",
   "execution_count": 8,
   "metadata": {
    "execution": {
     "iopub.execute_input": "2024-07-18T12:07:56.696849Z",
     "iopub.status.busy": "2024-07-18T12:07:56.696688Z",
     "iopub.status.idle": "2024-07-18T12:07:56.804710Z",
     "shell.execute_reply": "2024-07-18T12:07:56.803740Z"
    }
   },
   "outputs": [
    {
     "data": {
      "text/plain": [
       "\"THE 10 BEST Paris Architectural Buildings (2025)\\nArchitectural Buildings in Paris · 1. Louvre Museum · 2. Cathédrale Notre-Dame de Paris.\\nhttps://www.tripadvisor.com/Attractions-g187147-Activities-c47-t3-Paris_Ile_de_France.html\\n---\\n25 Must-See Paris Landmarks\\nThe Eiffel Tower shoots up from one end. The gilded cap of the Les Invalides gleams just a few blocks away. The Louvre stretches across its ...\\nhttps://www.architecturaldigest.com/gallery/paris-architectural-landmarks\\n---\\nTop 10 of modern and contemporary architecture in Paris ...\\nTop 10 of modern and contemporary architecture in Paris Region · Fondation Louis Vuitton · Centre Pompidou · Villa Savoye · The Louvre Pyramid · Seine Musicale.\\nhttps://www.visitparisregion.com/en/inspiration/top-experiences/10-modern-contemporary-architecture-to-see-in-paris-region\\n---\\n26 Historic Buildings to Visit the Next Time You're in Paris\\n26 Historic Buildings to Visit the Next Time You're in Paris · Notre-Dame de Paris · Hôtel de Soubise · Panthéon · Arc de Triomphe · Church of St. Mary ...\\nhttps://www.britannica.com/list/26-historic-buildings-to-visit-the-next-time-youre-in-paris\\n---\\nGoing to Paris soon, which buildings should I visit?\\nYou can visit la maison la roche by le corbusier, le pavillon de l'arsenal (architecture and urban planning museum), Beaubourg, la fondation ...\\nhttps://www.reddit.com/r/architecture/comments/19830tq/going_to_paris_soon_which_buildings_should_i_visit/\\n---\\nParis City Guide: 23 Places Every Architect Must Visit\\nSome of the constructions in this plan include the Arab World Institute, the Parc de la Villette and Pyramide at the Louvre. The library ...\\nhttps://www.archdaily.com/922278/23-places-in-paris-every-architect-must-visit\\n---\\n13 Famous Landmarks in Paris\\n13 Famous Landmarks in Paris · Eiffel Tower · Arc de Triomphe · The Louvre · Grand Palais · Notre-Dame Cathedral · Opera Garnier · Place de la ...\\nhttps://www.celebritycruises.com/blog/famous-landmarks-in-paris\\n---\\n8 beautiful buildings in Paris\\nA selection of the most beautiful buildings in Paris: Galeries Lafayette, Palais Garnier, Galerie Vivienne and more amazing architecture.\\nhttps://brightnomad.net/beautiful-buildings-in-paris/\\n---\\n10 icons of contemporary architecture in Paris\\n10 icons of contemporary architecture in Paris · Fondation Louis Vuitton · Centre Pompidou · Musée du quai Branly - Jacques Chirac · Philharmonie de Paris.\\nhttps://parisjetaime.com/eng/article/10-icons-of-contemporary-architecture-in-paris-a684\""
      ]
     },
     "execution_count": 8,
     "metadata": {},
     "output_type": "execute_result"
    }
   ],
   "source": [
    "results = search.get_dict()[\"organic_results\"]\n",
    "contexts = \"\\n---\\n\".join(\n",
    "       [\"\\n\".join([x[\"title\"], x[\"snippet\"], x[\"link\"]]) for x in results]\n",
    "   )\n",
    "contexts"
   ]
  },
  {
   "cell_type": "code",
   "execution_count": 9,
   "metadata": {
    "execution": {
     "iopub.execute_input": "2024-07-18T12:07:56.814631Z",
     "iopub.status.busy": "2024-07-18T12:07:56.814420Z",
     "iopub.status.idle": "2024-07-18T12:07:56.956303Z",
     "shell.execute_reply": "2024-07-18T12:07:56.955900Z"
    }
   },
   "outputs": [
    {
     "data": {
      "text/plain": [
       "\"THE 10 BEST Paris Architectural Buildings (2025)\\nArchitectural Buildings in Paris · 1. Louvre Museum · 2. Cathédrale Notre-Dame de Paris.\\nhttps://www.tripadvisor.com/Attractions-g187147-Activities-c47-t3-Paris_Ile_de_France.html\\n---\\n25 Must-See Paris Landmarks\\nThe Eiffel Tower shoots up from one end. The gilded cap of the Les Invalides gleams just a few blocks away. The Louvre stretches across its ...\\nhttps://www.architecturaldigest.com/gallery/paris-architectural-landmarks\\n---\\nTop 10 of modern and contemporary architecture in Paris ...\\nTop 10 of modern and contemporary architecture in Paris Region · Fondation Louis Vuitton · Centre Pompidou · Villa Savoye · The Louvre Pyramid · Seine Musicale.\\nhttps://www.visitparisregion.com/en/inspiration/top-experiences/10-modern-contemporary-architecture-to-see-in-paris-region\\n---\\n26 Historic Buildings to Visit the Next Time You're in Paris\\n26 Historic Buildings to Visit the Next Time You're in Paris · Notre-Dame de Paris · Hôtel de Soubise · Panthéon · Arc de Triomphe · Church of St. Mary ...\\nhttps://www.britannica.com/list/26-historic-buildings-to-visit-the-next-time-youre-in-paris\\n---\\nGoing to Paris soon, which buildings should I visit?\\nYou can visit la maison la roche by le corbusier, le pavillon de l'arsenal (architecture and urban planning museum), Beaubourg, la fondation ...\\nhttps://www.reddit.com/r/architecture/comments/19830tq/going_to_paris_soon_which_buildings_should_i_visit/\\n---\\nParis City Guide: 23 Places Every Architect Must Visit\\nSome of the constructions in this plan include the Arab World Institute, the Parc de la Villette and Pyramide at the Louvre. The library ...\\nhttps://www.archdaily.com/922278/23-places-in-paris-every-architect-must-visit\\n---\\n13 Famous Landmarks in Paris\\n13 Famous Landmarks in Paris · Eiffel Tower · Arc de Triomphe · The Louvre · Grand Palais · Notre-Dame Cathedral · Opera Garnier · Place de la ...\\nhttps://www.celebritycruises.com/blog/famous-landmarks-in-paris\\n---\\n8 beautiful buildings in Paris\\nA selection of the most beautiful buildings in Paris: Galeries Lafayette, Palais Garnier, Galerie Vivienne and more amazing architecture.\\nhttps://brightnomad.net/beautiful-buildings-in-paris/\\n---\\n10 icons of contemporary architecture in Paris\\n10 icons of contemporary architecture in Paris · Fondation Louis Vuitton · Centre Pompidou · Musée du quai Branly - Jacques Chirac · Philharmonie de Paris.\\nhttps://parisjetaime.com/eng/article/10-icons-of-contemporary-architecture-in-paris-a684\""
      ]
     },
     "execution_count": 9,
     "metadata": {},
     "output_type": "execute_result"
    }
   ],
   "source": [
    "@tool\n",
    "def web_search(query: str) -> str:\n",
    "    \"\"\"Finds general knowledge information using Google search. Can also be used\n",
    "    to augment more 'general' knowledge to a previous specialist query.\"\"\"\n",
    "    search = GoogleSearch({**serpapi_params, \"q\":query, \"n\": 3})\n",
    "    results = search.get_dict()[\"organic_results\"]\n",
    "    contexts = \"\\n---\\n\".join(\n",
    "         [\"\\n\".join([x[\"title\"], x[\"snippet\"], x[\"link\"]]) for x in results]\n",
    "        )\n",
    "    \n",
    "    return contexts\n",
    "\n",
    "web_search.invoke(\"Cool buildings in Paris\")"
   ]
  },
  {
   "cell_type": "code",
   "execution_count": 10,
   "metadata": {
    "execution": {
     "iopub.execute_input": "2024-07-18T12:07:56.958781Z",
     "iopub.status.busy": "2024-07-18T12:07:56.958609Z",
     "iopub.status.idle": "2024-07-18T12:07:57.792607Z",
     "shell.execute_reply": "2024-07-18T12:07:57.792046Z"
    }
   },
   "outputs": [
    {
     "data": {
      "text/plain": [
       "AIMessage(content='', additional_kwargs={'tool_calls': [{'id': 'call_ZCwkFI23LRnmrfDHSvfEpOkn', 'function': {'arguments': '{\"query\":\"cool buildings in Paris\"}', 'name': 'web_search'}, 'type': 'function'}], 'refusal': None}, response_metadata={'token_usage': {'completion_tokens': 18, 'prompt_tokens': 82, 'total_tokens': 100, 'completion_tokens_details': {'accepted_prediction_tokens': 0, 'audio_tokens': 0, 'reasoning_tokens': 0, 'rejected_prediction_tokens': 0}, 'prompt_tokens_details': {'audio_tokens': 0, 'cached_tokens': 0}}, 'model_name': 'gpt-4o-2024-08-06', 'system_fingerprint': 'fp_4691090a87', 'finish_reason': 'tool_calls', 'logprobs': None}, id='run-0f9dbdbe-d7ea-48b1-a47e-fa6c36ad7b16-0', tool_calls=[{'name': 'web_search', 'args': {'query': 'cool buildings in Paris'}, 'id': 'call_ZCwkFI23LRnmrfDHSvfEpOkn', 'type': 'tool_call'}], usage_metadata={'input_tokens': 82, 'output_tokens': 18, 'total_tokens': 100, 'input_token_details': {'audio': 0, 'cache_read': 0}, 'output_token_details': {'audio': 0, 'reasoning': 0}})"
      ]
     },
     "execution_count": 10,
     "metadata": {},
     "output_type": "execute_result"
    }
   ],
   "source": [
    "llm_with_tool = llm.bind_tools([web_search])\n",
    "\n",
    "research_chain = prompt | llm_with_tool \n",
    "\n",
    "research_chain.invoke(\"What are the cool buildings in Paris?\")"
   ]
  },
  {
   "cell_type": "code",
   "execution_count": 11,
   "metadata": {
    "execution": {
     "iopub.execute_input": "2024-07-18T12:07:57.795761Z",
     "iopub.status.busy": "2024-07-18T12:07:57.795567Z",
     "iopub.status.idle": "2024-07-18T12:07:59.279686Z",
     "shell.execute_reply": "2024-07-18T12:07:59.279444Z"
    }
   },
   "outputs": [
    {
     "data": {
      "text/plain": [
       "AIMessage(content='', additional_kwargs={'tool_calls': [{'id': 'call_y6OYjPZ6KDZn1kd6ZExc9bgY', 'function': {'arguments': '{\"query\":\"cool buildings in Paris\"}', 'name': 'web_search'}, 'type': 'function'}], 'refusal': None}, response_metadata={'token_usage': {'completion_tokens': 18, 'prompt_tokens': 82, 'total_tokens': 100, 'completion_tokens_details': {'accepted_prediction_tokens': 0, 'audio_tokens': 0, 'reasoning_tokens': 0, 'rejected_prediction_tokens': 0}, 'prompt_tokens_details': {'audio_tokens': 0, 'cached_tokens': 0}}, 'model_name': 'gpt-4o-2024-08-06', 'system_fingerprint': 'fp_4691090a87', 'finish_reason': 'tool_calls', 'logprobs': None}, id='run-286bbd45-e787-4447-b128-19d7489a9bf2-0', tool_calls=[{'name': 'web_search', 'args': {'query': 'cool buildings in Paris'}, 'id': 'call_y6OYjPZ6KDZn1kd6ZExc9bgY', 'type': 'tool_call'}], usage_metadata={'input_tokens': 82, 'output_tokens': 18, 'total_tokens': 100, 'input_token_details': {'audio': 0, 'cache_read': 0}, 'output_token_details': {'audio': 0, 'reasoning': 0}})"
      ]
     },
     "execution_count": 11,
     "metadata": {},
     "output_type": "execute_result"
    }
   ],
   "source": [
    "sample_search_result = research_chain.invoke(\"What are the cool buildings in Paris?\")\n",
    "sample_search_result"
   ]
  },
  {
   "cell_type": "code",
   "execution_count": 12,
   "metadata": {
    "execution": {
     "iopub.execute_input": "2024-07-18T12:07:59.281067Z",
     "iopub.status.busy": "2024-07-18T12:07:59.280996Z",
     "iopub.status.idle": "2024-07-18T12:07:59.283089Z",
     "shell.execute_reply": "2024-07-18T12:07:59.282885Z"
    }
   },
   "outputs": [
    {
     "data": {
      "text/plain": [
       "[{'name': 'web_search',\n",
       "  'args': {'query': 'cool buildings in Paris'},\n",
       "  'id': 'call_y6OYjPZ6KDZn1kd6ZExc9bgY',\n",
       "  'type': 'tool_call'}]"
      ]
     },
     "execution_count": 12,
     "metadata": {},
     "output_type": "execute_result"
    }
   ],
   "source": [
    "sample_search_result.tool_calls"
   ]
  },
  {
   "cell_type": "code",
   "execution_count": 13,
   "metadata": {
    "execution": {
     "iopub.execute_input": "2024-07-18T12:07:59.284496Z",
     "iopub.status.busy": "2024-07-18T12:07:59.284409Z",
     "iopub.status.idle": "2024-07-18T12:07:59.286393Z",
     "shell.execute_reply": "2024-07-18T12:07:59.286161Z"
    }
   },
   "outputs": [
    {
     "data": {
      "text/plain": [
       "{'query': 'cool buildings in Paris'}"
      ]
     },
     "execution_count": 13,
     "metadata": {},
     "output_type": "execute_result"
    }
   ],
   "source": [
    "sample_search_result.tool_calls[0]['args']"
   ]
  },
  {
   "cell_type": "code",
   "execution_count": 14,
   "metadata": {
    "execution": {
     "iopub.execute_input": "2024-07-18T12:07:59.287651Z",
     "iopub.status.busy": "2024-07-18T12:07:59.287568Z",
     "iopub.status.idle": "2024-07-18T12:08:00.608782Z",
     "shell.execute_reply": "2024-07-18T12:08:00.608043Z"
    }
   },
   "outputs": [
    {
     "data": {
      "text/plain": [
       "{'query': 'cool buildings in Paris'}"
      ]
     },
     "execution_count": 14,
     "metadata": {},
     "output_type": "execute_result"
    }
   ],
   "source": [
    "research_chain = prompt | llm_with_tool | (lambda x: x.tool_calls[0]['args'])\n",
    "\n",
    "research_chain.invoke(\"What are the cool buildings in Paris?\")"
   ]
  },
  {
   "cell_type": "code",
   "execution_count": 15,
   "metadata": {
    "execution": {
     "iopub.execute_input": "2024-07-18T12:08:00.613531Z",
     "iopub.status.busy": "2024-07-18T12:08:00.613260Z",
     "iopub.status.idle": "2024-07-18T12:08:05.199342Z",
     "shell.execute_reply": "2024-07-18T12:08:05.197954Z"
    }
   },
   "outputs": [
    {
     "data": {
      "text/plain": [
       "\"25 Must-See Paris Landmarks\\nThe Eiffel Tower shoots up from one end. The gilded cap of the Les Invalides gleams just a few blocks away. The Louvre stretches across its ...\\nhttps://www.architecturaldigest.com/gallery/paris-architectural-landmarks\\n---\\nTHE 10 BEST Paris Architectural Buildings (2025)\\nArchitectural Buildings in Paris · 1. Louvre Museum · 2. Cathédrale Notre-Dame de Paris.\\nhttps://www.tripadvisor.com/Attractions-g187147-Activities-c47-t3-Paris_Ile_de_France.html\\n---\\nTop 10 of modern and contemporary architecture in Paris ...\\nTop 10 of modern and contemporary architecture in Paris Region · Fondation Louis Vuitton · Centre Pompidou · Villa Savoye · The Louvre Pyramid · Seine Musicale.\\nhttps://www.visitparisregion.com/en/inspiration/top-experiences/10-modern-contemporary-architecture-to-see-in-paris-region\\n---\\n26 Historic Buildings to Visit the Next Time You're in Paris\\n26 Historic Buildings to Visit the Next Time You're in Paris · Notre-Dame de Paris · Hôtel de Soubise · Panthéon · Arc de Triomphe · Church of St. Mary ...\\nhttps://www.britannica.com/list/26-historic-buildings-to-visit-the-next-time-youre-in-paris\\n---\\nGoing to Paris soon, which buildings should I visit?\\nYou can visit la maison la roche by le corbusier, le pavillon de l'arsenal (architecture and urban planning museum), Beaubourg, la fondation ...\\nhttps://www.reddit.com/r/architecture/comments/19830tq/going_to_paris_soon_which_buildings_should_i_visit/\\n---\\nParis City Guide: 23 Places Every Architect Must Visit\\nSome of the constructions in this plan include the Arab World Institute, the Parc de la Villette and Pyramide at the Louvre. The library ...\\nhttps://www.archdaily.com/922278/23-places-in-paris-every-architect-must-visit\\n---\\n13 Famous Landmarks in Paris\\n13 Famous Landmarks in Paris · Eiffel Tower · Arc de Triomphe · The Louvre · Grand Palais · Notre-Dame Cathedral · Opera Garnier · Place de la Concorde.\\nhttps://www.celebritycruises.com/blog/famous-landmarks-in-paris\\n---\\n8 beautiful buildings in Paris\\nA selection of the most beautiful buildings in Paris: Galeries Lafayette, Palais Garnier, Galerie Vivienne and more amazing architecture.\\nhttps://brightnomad.net/beautiful-buildings-in-paris/\\n---\\n10 icons of contemporary architecture in Paris\\n10 icons of contemporary architecture in Paris · Fondation Louis Vuitton · Centre Pompidou · Musée du quai Branly - Jacques Chirac · Philharmonie de Paris.\\nhttps://parisjetaime.com/eng/article/10-icons-of-contemporary-architecture-in-paris-a684\""
      ]
     },
     "execution_count": 15,
     "metadata": {},
     "output_type": "execute_result"
    }
   ],
   "source": [
    "research_chain = prompt | llm_with_tool | (lambda x: x.tool_calls[0]['args']) | web_search\n",
    "\n",
    "research_chain.invoke(\"What are the cool buildings in Paris?\")"
   ]
  },
  {
   "cell_type": "code",
   "execution_count": 16,
   "metadata": {
    "execution": {
     "iopub.execute_input": "2024-07-18T12:08:05.206171Z",
     "iopub.status.busy": "2024-07-18T12:08:05.205748Z",
     "iopub.status.idle": "2024-07-18T12:08:15.840422Z",
     "shell.execute_reply": "2024-07-18T12:08:15.838910Z"
    }
   },
   "outputs": [
    {
     "data": {
      "text/plain": [
       "'Paris is home to a mix of historic and contemporary architectural marvels. Some of the must-see buildings include:\\n\\n1. **Eiffel Tower** - An iconic symbol of Paris.\\n2. **Louvre Museum** - Known for its historic architecture and the modern Louvre Pyramid.\\n3. **Cathédrale Notre-Dame de Paris** - A masterpiece of Gothic architecture.\\n4. **Fondation Louis Vuitton** - A striking example of contemporary design.\\n5. **Centre Pompidou** - Famous for its high-tech architecture.\\n6. **Arc de Triomphe** - A historic monument honoring those who fought for France.\\n7. **Palais Garnier** - A stunning opera house with opulent interiors.\\n8. **Galeries Lafayette** - Known for its beautiful Art Nouveau architecture.\\n9. **Villa Savoye** - A modernist villa designed by Le Corbusier.\\n10. **Seine Musicale** - A modern cultural complex on the Seine River.\\n\\nThese buildings showcase the diverse architectural styles that Paris has to offer, from historic landmarks to modern innovations.'"
      ]
     },
     "execution_count": 16,
     "metadata": {},
     "output_type": "execute_result"
    }
   ],
   "source": [
    "def fake_agent(query: str) -> str:\n",
    "    search_result = research_chain.invoke(\"What are the cool buildings in Paris?\")\n",
    "    fake_agent = llm.invoke(f\"The user query was: {query}. The web search result for\\\n",
    "        that is: {search_result}. Give a summarized answer:\")\n",
    "    \n",
    "    return fake_agent.content\n",
    "\n",
    "fake_agent(\"What are the cool buildings in Paris?\")"
   ]
  },
  {
   "cell_type": "code",
   "execution_count": 17,
   "metadata": {
    "execution": {
     "iopub.execute_input": "2024-07-18T12:08:15.846620Z",
     "iopub.status.busy": "2024-07-18T12:08:15.846363Z",
     "iopub.status.idle": "2024-07-18T12:08:16.821654Z",
     "shell.execute_reply": "2024-07-18T12:08:16.820911Z"
    }
   },
   "outputs": [
    {
     "data": {
      "text/plain": [
       "[ToolAgentAction(tool='web_search', tool_input={'query': 'cool buildings in Paris'}, log=\"\\nInvoking: `web_search` with `{'query': 'cool buildings in Paris'}`\\n\\n\\n\", message_log=[AIMessage(content='', additional_kwargs={'tool_calls': [{'id': 'call_Cl4KqdXJ4GnpB4lBxHxR6xQE', 'function': {'arguments': '{\"query\":\"cool buildings in Paris\"}', 'name': 'web_search'}, 'type': 'function'}], 'refusal': None}, response_metadata={'token_usage': {'completion_tokens': 18, 'prompt_tokens': 78, 'total_tokens': 96, 'completion_tokens_details': {'accepted_prediction_tokens': 0, 'audio_tokens': 0, 'reasoning_tokens': 0, 'rejected_prediction_tokens': 0}, 'prompt_tokens_details': {'audio_tokens': 0, 'cached_tokens': 0}}, 'model_name': 'gpt-4o-2024-08-06', 'system_fingerprint': 'fp_4691090a87', 'finish_reason': 'tool_calls', 'logprobs': None}, id='run-12eebca1-063c-4bca-a999-55de74eb9a6a-0', tool_calls=[{'name': 'web_search', 'args': {'query': 'cool buildings in Paris'}, 'id': 'call_Cl4KqdXJ4GnpB4lBxHxR6xQE', 'type': 'tool_call'}], usage_metadata={'input_tokens': 78, 'output_tokens': 18, 'total_tokens': 96, 'input_token_details': {'audio': 0, 'cache_read': 0}, 'output_token_details': {'audio': 0, 'reasoning': 0}})], tool_call_id='call_Cl4KqdXJ4GnpB4lBxHxR6xQE')]"
      ]
     },
     "execution_count": 17,
     "metadata": {},
     "output_type": "execute_result"
    }
   ],
   "source": [
    "from langchain_core.runnables import RunnablePassthrough\n",
    "from langchain.agents.format_scratchpad.tools import format_to_tool_messages\n",
    "from langchain.agents.output_parsers.tools import ToolsAgentOutputParser\n",
    "\n",
    "prompt = ChatPromptTemplate.from_messages(\n",
    "    [\n",
    "    (\"system\", \"You are a helpful assistant\"),\n",
    "    (\"placeholder\", \"{chat_history}\"),\n",
    "    (\"human\", \"{input}\"),\n",
    "    (\"placeholder\", \"{agent_scratchpad}\")\n",
    "    ]\n",
    "                                          )\n",
    "\n",
    "llm = ChatOpenAI(model=\"gpt-4o\", temperature=0)\n",
    "\n",
    "tools = [web_search]\n",
    "\n",
    "llm_with_tools = llm.bind_tools(tools)\n",
    "\n",
    "research_agent = (\n",
    "                 RunnablePassthrough.assign(\n",
    "                    agent_scratchpad=lambda x: format_to_tool_messages(x['intermediate_steps'])\n",
    "                    )\n",
    ") | prompt | llm_with_tools | ToolsAgentOutputParser()\n",
    "\n",
    "research_agent.invoke({\"input\": \"What are the cool buildings in Paris?\", \"intermediate_steps\": []})"
   ]
  },
  {
   "cell_type": "code",
   "execution_count": 19,
   "metadata": {
    "execution": {
     "iopub.execute_input": "2024-07-18T12:08:16.830341Z",
     "iopub.status.busy": "2024-07-18T12:08:16.830204Z",
     "iopub.status.idle": "2024-07-18T12:08:25.923747Z",
     "shell.execute_reply": "2024-07-18T12:08:25.921519Z"
    }
   },
   "outputs": [
    {
     "data": {
      "text/plain": [
       "{'input': 'What are cool buildings in Alicante Spain?',\n",
       " 'output': \"Alicante, Spain, is home to several cool and iconic buildings. Here are some notable ones:\\n\\n1. **Castle of Santa Barbara**: A medieval fortress perched on a hill overlooking the city, offering stunning views and a glimpse into Alicante's history.\\n\\n2. **Casa Carbonell**: Built between 1922 and 1925, this iconic building is located at the end of the Explanada de España and is a prime example of early 20th-century architecture.\\n\\n3. **Oficina De Correos**: The main post office building, known for its architectural beauty.\\n\\n4. **Sarrio Tower**: A notable modern structure in the city.\\n\\n5. **Comandancia Naval Alacant Building**: Another significant building with historical importance.\\n\\n6. **Casa De Bruixes**: Known for its unique design and historical value.\\n\\nThese buildings reflect a mix of historical and modern architectural styles, making Alicante a fascinating city for architecture enthusiasts.\"}"
      ]
     },
     "execution_count": 19,
     "metadata": {},
     "output_type": "execute_result"
    }
   ],
   "source": [
    "from langchain.agents import AgentExecutor\n",
    "agent_executor = AgentExecutor(agent=research_agent,tools=tools)\n",
    "agent_executor.invoke({'input': 'What are cool buildings in Alicante Spain?'})"
   ]
  },
  {
   "cell_type": "markdown",
   "metadata": {},
   "source": [
    "Wwe can automate part of this process by using a built in method in LangChain\n",
    "that abstracts away the chaining procedure."
   ]
  },
  {
   "cell_type": "code",
   "execution_count": 20,
   "metadata": {
    "execution": {
     "iopub.execute_input": "2024-07-18T12:08:25.928941Z",
     "iopub.status.busy": "2024-07-18T12:08:25.928523Z",
     "iopub.status.idle": "2024-07-18T12:08:34.407486Z",
     "shell.execute_reply": "2024-07-18T12:08:34.404693Z"
    }
   },
   "outputs": [
    {
     "data": {
      "text/plain": [
       "{'input': 'What are cool buildings in Alicante Spain?',\n",
       " 'output': \"Alicante, Spain, is home to several cool and iconic buildings. Here are some notable ones:\\n\\n1. **Castle of Santa Barbara**: A medieval fortress perched on a hill overlooking the city, offering stunning views and a glimpse into Alicante's history.\\n\\n2. **Casa Carbonell**: Built between 1922 and 1925, this iconic building is located at the end of the Explanada de España and is a prime example of early 20th-century architecture.\\n\\n3. **Oficina De Correos**: The main post office building, known for its architectural beauty.\\n\\n4. **Sarrio Tower**: A modern architectural landmark in the city.\\n\\n5. **Comandancia Naval Alacant Building**: Another significant building with unique architectural features.\\n\\n6. **Casa De Bruixes**: Known for its distinctive design and historical significance.\\n\\nThese buildings reflect a mix of historical and modern architectural styles, making Alicante a fascinating city for architecture enthusiasts.\"}"
      ]
     },
     "execution_count": 20,
     "metadata": {},
     "output_type": "execute_result"
    }
   ],
   "source": [
    "from langchain.agents import create_tool_calling_agent\n",
    "from langchain_openai import ChatOpenAI\n",
    "from langchain import hub\n",
    "\n",
    "llm = ChatOpenAI(model=\"gpt-4o\", temperature=0)\n",
    "\n",
    "tools = [web_search]\n",
    "\n",
    "prompt = hub.pull(\"hwchase17/openai-tools-agent\")\n",
    "\n",
    "agent = create_tool_calling_agent(llm, tools, prompt)\n",
    "\n",
    "agent_executor = AgentExecutor(agent=agent, tools=tools)\n",
    "\n",
    "agent_executor.invoke({'input': 'What are cool buildings in Alicante Spain?'})"
   ]
  },
  {
   "cell_type": "markdown",
   "metadata": {},
   "source": [
    "The new way of doing it!"
   ]
  },
  {
   "cell_type": "code",
   "execution_count": 21,
   "metadata": {},
   "outputs": [
    {
     "data": {
      "text/plain": [
       "{'messages': [HumanMessage(content='What are cool buildings in Alicante Spain?', additional_kwargs={}, response_metadata={}, id='c52ef873-d890-4761-82ec-b1d4e279f297'),\n",
       "  AIMessage(content='', additional_kwargs={'tool_calls': [{'id': 'call_hsiTEtEKggKtrCRtIATpwTz4', 'function': {'arguments': '{\"query\":\"cool buildings in Alicante Spain\"}', 'name': 'web_search'}, 'type': 'function'}], 'refusal': None}, response_metadata={'token_usage': {'completion_tokens': 19, 'prompt_tokens': 72, 'total_tokens': 91, 'completion_tokens_details': {'accepted_prediction_tokens': 0, 'audio_tokens': 0, 'reasoning_tokens': 0, 'rejected_prediction_tokens': 0}, 'prompt_tokens_details': {'audio_tokens': 0, 'cached_tokens': 0}}, 'model_name': 'gpt-4o-2024-08-06', 'system_fingerprint': 'fp_4691090a87', 'finish_reason': 'tool_calls', 'logprobs': None}, id='run-f52a4e87-5a6a-4209-8726-88f97c47f7e6-0', tool_calls=[{'name': 'web_search', 'args': {'query': 'cool buildings in Alicante Spain'}, 'id': 'call_hsiTEtEKggKtrCRtIATpwTz4', 'type': 'tool_call'}], usage_metadata={'input_tokens': 72, 'output_tokens': 19, 'total_tokens': 91, 'input_token_details': {'audio': 0, 'cache_read': 0}, 'output_token_details': {'audio': 0, 'reasoning': 0}}),\n",
       "  ToolMessage(content=\"THE 10 BEST Alicante Architectural Buildings (2025)\\n3. Oficina De Correos · 4. Archives Municipales · 5. Sarrio Tower · 6. 46 Calle San Fernando Building · 7. Comandancia Naval Alacant Building · 8. Casa De Bruixes ...\\nhttps://www.tripadvisor.com/Attractions-g1064230-Activities-c47-t3-Alicante_Costa_Blanca_Province_of_Alicante_Valencian_Community.html\\n---\\nAlicante City Break - Design Lover's Travel Guide\\nBuilt between 1922 and 1925, Casa Carbonell is located at the end of the Explanada de España and is one of the most iconic buildings in Alicante ...\\nhttps://www.nospacelikehome.uk/blog/alicante-city-break-design-lovers-travel-guide\\n---\\nLandmarks & Historical Buildings - Alicante - Yelp\\nBest Landmarks & Historical Buildings in Alicante - Castillo de Santa Bárbara, Explanada de España, Plaza Puerta del Mar, El Hombre del Mercado, ...\\nhttps://www.yelp.com/search?cflt=landmarks&find_loc=Alicante\\n---\\nTop 10 Must-Visit Historical Landmarks in Alicante\\nExplore the top 10 must-visit historical landmarks in Alicante, from the iconic Castle of Santa Barbara to the ancient streets of El Barrio.\\nhttps://mojones.net/top-10-historical-landmarks-to-visit-in-alicante.html\\n---\\nArchitectural Buildings in Province of Alicante\\nPlaça De Bous De Benidorm is the bullfighting arena thats a great building to view. This circular venue is very impressive, ...\\nhttps://www.tripadvisor.com/Attractions-g187524-Activities-c47-t3-oa30-Province_of_Alicante_Valencian_Community.html\\n---\\nArchitecture of alicante hi-res stock photography and images\\nFind the perfect architecture of alicante stock photo, image, vector, illustration or 360 image. Available for both RF and RM licensing.\\nhttps://www.alamy.com/stock-photo/architecture-of-alicante.html\\n---\\nArchitecture and design in Alicante\\nSpanish studio Fran Silvestre Arquitectos has created a minimalist white house in Alicante, which winds through the landscape to enhance its relationship with ...\\nhttps://www.dezeen.com/tag/alicante/\\n---\\nAlicante's Architecture: From Ancient Roots to Modern ...\\nSome of the most notable architectural landmarks in Alicante include the Castle of Santa Barbara, a medieval fortress perched on a hill overlooking the city; ...\\nhttps://archeyes.com/tag/alicante/\\n---\\nMassive buildings blocking the sea, Alicante, Spain\\nI spent a little over a month in Alicante back in 2013. It was an awesome city with a gorgeous castle on the bluffs overlooking the ...\\nhttps://www.reddit.com/r/UrbanHell/comments/gglgvu/massive_buildings_blocking_the_sea_alicante_spain/\\n---\\nWhat strikes first time visitors as special or unusual when ...\\nIn addition, Alicante has an important birds area, the natural park of “Lagunas of La Mata y Torrevieja”, and “Las Salinas of Santa Pola”, also ...\\nhttps://www.quora.com/What-strikes-first-time-visitors-as-special-or-unusual-when-they-arrive-in-Alicante-Spain\", name='web_search', id='fdd549ec-5cde-4b58-a5d0-b55fd942edfb', tool_call_id='call_hsiTEtEKggKtrCRtIATpwTz4'),\n",
       "  AIMessage(content=\"Alicante, Spain, is home to several cool and iconic buildings. Here are some notable ones:\\n\\n1. **Castle of Santa Barbara**: A medieval fortress perched on a hill overlooking the city, offering stunning views and a glimpse into Alicante's history.\\n\\n2. **Casa Carbonell**: Built between 1922 and 1925, this iconic building is located at the end of the Explanada de España and is a must-see for architecture enthusiasts.\\n\\n3. **Oficina De Correos**: The main post office building, known for its architectural beauty.\\n\\n4. **Sarrio Tower**: A notable structure in the city.\\n\\n5. **Comandancia Naval Alacant Building**: Another interesting architectural site.\\n\\n6. **Casa De Bruixes**: Known for its unique design and historical significance.\\n\\nThese buildings reflect a mix of historical and modern architectural styles, making Alicante a fascinating destination for design lovers.\", additional_kwargs={'refusal': None}, response_metadata={'token_usage': {'completion_tokens': 191, 'prompt_tokens': 786, 'total_tokens': 977, 'completion_tokens_details': {'accepted_prediction_tokens': 0, 'audio_tokens': 0, 'reasoning_tokens': 0, 'rejected_prediction_tokens': 0}, 'prompt_tokens_details': {'audio_tokens': 0, 'cached_tokens': 0}}, 'model_name': 'gpt-4o-2024-08-06', 'system_fingerprint': 'fp_50cad350e4', 'finish_reason': 'stop', 'logprobs': None}, id='run-9673d24a-8dec-489d-853d-133ad290f428-0', usage_metadata={'input_tokens': 786, 'output_tokens': 191, 'total_tokens': 977, 'input_token_details': {'audio': 0, 'cache_read': 0}, 'output_token_details': {'audio': 0, 'reasoning': 0}})]}"
      ]
     },
     "execution_count": 21,
     "metadata": {},
     "output_type": "execute_result"
    }
   ],
   "source": [
    "# No system message in this simple example\n",
    "from langgraph.prebuilt import create_react_agent\n",
    "\n",
    "langgraph_agent_executor = create_react_agent(llm, tools)\n",
    "\n",
    "query = 'What are cool buildings in Alicante Spain?'\n",
    "\n",
    "messages = langgraph_agent_executor.invoke({\"messages\": [(\"human\", query)]})\n",
    "{\n",
    "    \"input\": query,\n",
    "    \"output\": messages[\"messages\"][-1].content,\n",
    "}\n",
    "messages"
   ]
  },
  {
   "cell_type": "code",
   "execution_count": 22,
   "metadata": {},
   "outputs": [
    {
     "data": {
      "text/plain": [
       "{'messages': [HumanMessage(content='What are cool buildings in Alicante Spain?', additional_kwargs={}, response_metadata={}, id='1ba8c792-fb63-45c0-b213-f8b4fdfaff63'),\n",
       "  AIMessage(content='', additional_kwargs={'tool_calls': [{'id': 'call_LMQElH56T0hXFrI6Ubxzj9Iw', 'function': {'arguments': '{\"query\":\"cool buildings in Alicante Spain\"}', 'name': 'web_search'}, 'type': 'function'}], 'refusal': None}, response_metadata={'token_usage': {'completion_tokens': 19, 'prompt_tokens': 83, 'total_tokens': 102, 'completion_tokens_details': {'accepted_prediction_tokens': 0, 'audio_tokens': 0, 'reasoning_tokens': 0, 'rejected_prediction_tokens': 0}, 'prompt_tokens_details': {'audio_tokens': 0, 'cached_tokens': 0}}, 'model_name': 'gpt-4o-2024-08-06', 'system_fingerprint': 'fp_50cad350e4', 'finish_reason': 'tool_calls', 'logprobs': None}, id='run-60bd3b56-2c70-4153-85ac-1cb3f817183b-0', tool_calls=[{'name': 'web_search', 'args': {'query': 'cool buildings in Alicante Spain'}, 'id': 'call_LMQElH56T0hXFrI6Ubxzj9Iw', 'type': 'tool_call'}], usage_metadata={'input_tokens': 83, 'output_tokens': 19, 'total_tokens': 102, 'input_token_details': {'audio': 0, 'cache_read': 0}, 'output_token_details': {'audio': 0, 'reasoning': 0}}),\n",
       "  ToolMessage(content=\"THE 10 BEST Alicante Architectural Buildings (2025)\\n3. Oficina De Correos · 4. Archives Municipales · 5. Sarrio Tower · 6. 46 Calle San Fernando Building · 7. Comandancia Naval Alacant Building · 8. Casa De Bruixes ...\\nhttps://www.tripadvisor.com/Attractions-g1064230-Activities-c47-t3-Alicante_Costa_Blanca_Province_of_Alicante_Valencian_Community.html\\n---\\nAlicante City Break - Design Lover's Travel Guide\\nBuilt between 1922 and 1925, Casa Carbonell is located at the end of the Explanada de España and is one of the most iconic buildings in Alicante ...\\nhttps://www.nospacelikehome.uk/blog/alicante-city-break-design-lovers-travel-guide\\n---\\nLandmarks & Historical Buildings - Alicante - Yelp\\nBest Landmarks & Historical Buildings in Alicante - Castillo de Santa Bárbara, Explanada de España, Plaza Puerta del Mar, El Hombre del Mercado, ...\\nhttps://www.yelp.com/search?cflt=landmarks&find_loc=Alicante\\n---\\nTop 10 Must-Visit Historical Landmarks in Alicante\\nExplore the top 10 must-visit historical landmarks in Alicante, from the iconic Castle of Santa Barbara to the ancient streets of El Barrio.\\nhttps://mojones.net/top-10-historical-landmarks-to-visit-in-alicante.html\\n---\\nArchitectural Buildings in Province of Alicante\\nPlaça De Bous De Benidorm is the bullfighting arena thats a great building to view. This circular venue is very impressive, ...\\nhttps://www.tripadvisor.com/Attractions-g187524-Activities-c47-t3-oa30-Province_of_Alicante_Valencian_Community.html\\n---\\nArchitecture of alicante hi-res stock photography and images\\nFind the perfect architecture of alicante stock photo, image, vector, illustration or 360 image. Available for both RF and RM licensing.\\nhttps://www.alamy.com/stock-photo/architecture-of-alicante.html\\n---\\nArchitecture and design in Alicante\\nSpanish studio Fran Silvestre Arquitectos has created a minimalist white house in Alicante, which winds through the landscape to enhance its relationship with ...\\nhttps://www.dezeen.com/tag/alicante/\\n---\\nAlicante's Architecture: From Ancient Roots to Modern ...\\nSome of the most notable architectural landmarks in Alicante include the Castle of Santa Barbara, a medieval fortress perched on a hill overlooking the city; ...\\nhttps://archeyes.com/tag/alicante/\\n---\\nMassive buildings blocking the sea, Alicante, Spain\\nI spent a little over a month in Alicante back in 2013. It was an awesome city with a gorgeous castle on the bluffs overlooking the ...\\nhttps://www.reddit.com/r/UrbanHell/comments/gglgvu/massive_buildings_blocking_the_sea_alicante_spain/\\n---\\nWhat strikes first time visitors as special or unusual when ...\\nIn addition, Alicante has an important birds area, the natural park of “Lagunas of La Mata y Torrevieja”, and “Las Salinas of Santa Pola”, also ...\\nhttps://www.quora.com/What-strikes-first-time-visitors-as-special-or-unusual-when-they-arrive-in-Alicante-Spain\", name='web_search', id='c4dac201-a3f1-45e6-945c-9b71686d19a2', tool_call_id='call_LMQElH56T0hXFrI6Ubxzj9Iw'),\n",
       "  AIMessage(content='Aquí tienes algunos edificios interesantes en Alicante, España:\\n\\n1. **Castillo de Santa Bárbara**: Una fortaleza medieval situada en una colina con vistas a la ciudad, es uno de los puntos más emblemáticos de Alicante.\\n\\n2. **Casa Carbonell**: Construida entre 1922 y 1925, es uno de los edificios más icónicos de Alicante, ubicado al final de la Explanada de España.\\n\\n3. **Oficina de Correos**: Un edificio arquitectónicamente notable en el centro de la ciudad.\\n\\n4. **Explanada de España**: Aunque no es un edificio, es un paseo marítimo famoso por su diseño de mosaico y su importancia cultural.\\n\\n5. **Plaza Puerta del Mar**: Un lugar histórico con arquitectura interesante.\\n\\n6. **Casa de Bruixes**: Un edificio con un diseño único y una historia fascinante.\\n\\nEstos lugares ofrecen una mezcla de historia, cultura y diseño arquitectónico que vale la pena explorar en Alicante.', additional_kwargs={'refusal': None}, response_metadata={'token_usage': {'completion_tokens': 206, 'prompt_tokens': 797, 'total_tokens': 1003, 'completion_tokens_details': {'accepted_prediction_tokens': 0, 'audio_tokens': 0, 'reasoning_tokens': 0, 'rejected_prediction_tokens': 0}, 'prompt_tokens_details': {'audio_tokens': 0, 'cached_tokens': 0}}, 'model_name': 'gpt-4o-2024-08-06', 'system_fingerprint': 'fp_50cad350e4', 'finish_reason': 'stop', 'logprobs': None}, id='run-a0b9475e-40a8-420c-8867-20a71fda1843-0', usage_metadata={'input_tokens': 797, 'output_tokens': 206, 'total_tokens': 1003, 'input_token_details': {'audio': 0, 'cache_read': 0}, 'output_token_details': {'audio': 0, 'reasoning': 0}})]}"
      ]
     },
     "execution_count": 22,
     "metadata": {},
     "output_type": "execute_result"
    }
   ],
   "source": [
    "from langchain_core.messages import SystemMessage\n",
    "from langgraph.prebuilt import create_react_agent\n",
    "\n",
    "system_message = \"You are a helpful assistant. Respond only in Spanish.\"\n",
    "# This could also be a SystemMessage object\n",
    "# system_message = SystemMessage(content=\"You are a helpful assistant. Respond only in Spanish.\")\n",
    "\n",
    "langgraph_agent_executor = create_react_agent(llm, tools, prompt=system_message)\n",
    "\n",
    "\n",
    "messages = langgraph_agent_executor.invoke({\"messages\": [(\"user\", query)]})\n",
    "messages"
   ]
  },
  {
   "cell_type": "code",
   "execution_count": 23,
   "metadata": {},
   "outputs": [
    {
     "name": "stdout",
     "output_type": "stream",
     "text": [
      "{'input': 'What are cool buildings in Alicante Spain?', 'output': 'Aquí tienes algunos edificios interesantes en Alicante, España:\\n\\n1. **Castillo de Santa Bárbara**: Una fortaleza medieval situada en una colina con vistas a la ciudad, es uno de los monumentos más emblemáticos de Alicante.\\n\\n2. **Casa Carbonell**: Construida entre 1922 y 1925, se encuentra al final de la Explanada de España y es uno de los edificios más icónicos de la ciudad.\\n\\n3. **Oficina de Correos**: Un edificio arquitectónicamente notable en Alicante.\\n\\n4. **Explanada de España**: Aunque no es un edificio, es un paseo marítimo famoso por su diseño de mosaico y su importancia cultural.\\n\\n5. **Casa de Bruixes**: Un edificio con un diseño arquitectónico único.\\n\\n6. **Comandancia Naval de Alicante**: Otro edificio destacado por su arquitectura.\\n\\n7. **Plaza Puerta del Mar**: Un lugar histórico y arquitectónicamente significativo.\\n\\nPandamonium!'}\n"
     ]
    }
   ],
   "source": [
    "from langchain_core.messages import HumanMessage, SystemMessage\n",
    "from langgraph.prebuilt import create_react_agent\n",
    "from langgraph.prebuilt.chat_agent_executor import AgentState\n",
    "\n",
    "prompt = ChatPromptTemplate.from_messages(\n",
    "    [\n",
    "        (\"system\", \"You are a helpful assistant. Respond only in Spanish.\"),\n",
    "        (\"placeholder\", \"{messages}\"),\n",
    "        (\"user\", \"Also say 'Pandamonium!' after the answer.\"),\n",
    "    ]\n",
    ")\n",
    "\n",
    "# alternatively, this can be passed as a function, e.g.\n",
    "# def prompt(state: AgentState):\n",
    "#     return (\n",
    "#         [SystemMessage(content=\"You are a helpful assistant. Respond only in Spanish.\")] +\n",
    "#         state[\"messages\"] +\n",
    "#         [HumanMessage(content=\"Also say 'Pandamonium!' after the answer.\")]\n",
    "#     )\n",
    "\n",
    "\n",
    "langgraph_agent_executor = create_react_agent(llm, tools, prompt=prompt)\n",
    "\n",
    "\n",
    "messages = langgraph_agent_executor.invoke({\"messages\": [(\"human\", query)]})\n",
    "print(\n",
    "    {\n",
    "        \"input\": query,\n",
    "        \"output\": messages[\"messages\"][-1].content,\n",
    "    }\n",
    ")"
   ]
  },
  {
   "cell_type": "markdown",
   "metadata": {},
   "source": [
    "# Memory in Legacy LangChain\n",
    "source: [LangChain Docs](https://python.langchain.com/docs/how_to/migrate_agent/)"
   ]
  },
  {
   "cell_type": "code",
   "execution_count": 24,
   "metadata": {},
   "outputs": [
    {
     "name": "stdout",
     "output_type": "stream",
     "text": [
      "The output of `magic_function` for the input 3 is 5.\n",
      "---\n",
      "Yes, you mentioned that your name is Polly.\n",
      "---\n",
      "The output of `magic_function` for the input 3 is 5.\n"
     ]
    }
   ],
   "source": [
    "from langchain.agents import AgentExecutor, create_tool_calling_agent\n",
    "from langchain_core.chat_history import InMemoryChatMessageHistory\n",
    "from langchain_core.prompts import ChatPromptTemplate\n",
    "from langchain_core.runnables.history import RunnableWithMessageHistory\n",
    "from langchain_core.tools import tool\n",
    "from langchain_openai import ChatOpenAI\n",
    "\n",
    "model = ChatOpenAI(model=\"gpt-4o\")\n",
    "memory = InMemoryChatMessageHistory(session_id=\"test-session\")\n",
    "prompt = ChatPromptTemplate.from_messages(\n",
    "    [\n",
    "        (\"system\", \"You are a helpful assistant.\"),\n",
    "        # First put the history\n",
    "        (\"placeholder\", \"{chat_history}\"),\n",
    "        # Then the new input\n",
    "        (\"human\", \"{input}\"),\n",
    "        # Finally the scratchpad\n",
    "        (\"placeholder\", \"{agent_scratchpad}\"),\n",
    "    ]\n",
    ")\n",
    "\n",
    "\n",
    "@tool\n",
    "def magic_function(input: int) -> int:\n",
    "    \"\"\"Applies a magic function to an input.\"\"\"\n",
    "    return input + 2\n",
    "\n",
    "\n",
    "tools = [magic_function]\n",
    "\n",
    "\n",
    "agent = create_tool_calling_agent(model, tools, prompt)\n",
    "agent_executor = AgentExecutor(agent=agent, tools=tools)\n",
    "\n",
    "agent_with_chat_history = RunnableWithMessageHistory(\n",
    "    agent_executor,\n",
    "    # This is needed because in most real world scenarios, a session id is needed\n",
    "    # It isn't really used here because we are using a simple in memory ChatMessageHistory\n",
    "    lambda session_id: memory,\n",
    "    input_messages_key=\"input\",\n",
    "    history_messages_key=\"chat_history\",\n",
    ")\n",
    "\n",
    "config = {\"configurable\": {\"session_id\": \"test-session\"}}\n",
    "print(\n",
    "    agent_with_chat_history.invoke(\n",
    "        {\"input\": \"Hi, I'm polly! What's the output of magic_function of 3?\"}, config\n",
    "    )[\"output\"]\n",
    ")\n",
    "print(\"---\")\n",
    "print(agent_with_chat_history.invoke({\"input\": \"Remember my name?\"}, config)[\"output\"])\n",
    "print(\"---\")\n",
    "print(\n",
    "    agent_with_chat_history.invoke({\"input\": \"what was that output again?\"}, config)[\n",
    "        \"output\"\n",
    "    ]\n",
    ")"
   ]
  },
  {
   "cell_type": "markdown",
   "metadata": {},
   "source": [
    "In the new LangGraph,\n",
    "memory = [checkpointing](https://langchain-ai.github.io/langgraph/reference/checkpoints/)."
   ]
  },
  {
   "cell_type": "code",
   "execution_count": null,
   "metadata": {},
   "outputs": [],
   "source": [
    "from langgraph.checkpoint.memory import MemorySaver  # an in-memory checkpointer\n",
    "from langgraph.prebuilt import create_react_agent\n",
    "\n",
    "system_message = \"You are a helpful assistant.\"\n",
    "# This could also be a SystemMessage object\n",
    "# system_message = SystemMessage(content=\"You are a helpful assistant. Respond only in Spanish.\")\n",
    "\n",
    "memory = MemorySaver()\n",
    "langgraph_agent_executor = create_react_agent(\n",
    "    model, tools, prompt=system_message, checkpointer=memory\n",
    ")\n",
    "\n",
    "config = {\"configurable\": {\"thread_id\": \"test-thread\"}}\n",
    "print(\n",
    "    langgraph_agent_executor.invoke(\n",
    "        {\n",
    "            \"messages\": [\n",
    "                (\"user\", \"Hi, I'm polly! What's the output of magic_function of 3?\")\n",
    "            ]\n",
    "        },\n",
    "        config,\n",
    "    )[\"messages\"][-1].content\n",
    ")\n",
    "print(\"---\")\n",
    "print(\n",
    "    langgraph_agent_executor.invoke(\n",
    "        {\"messages\": [(\"user\", \"Remember my name?\")]}, config\n",
    "    )[\"messages\"][-1].content\n",
    ")\n",
    "print(\"---\")\n",
    "print(\n",
    "    langgraph_agent_executor.invoke(\n",
    "        {\"messages\": [(\"user\", \"what was that output again?\")]}, config\n",
    "    )[\"messages\"][-1].content\n",
    ")"
   ]
  }
 ],
 "metadata": {
  "kernelspec": {
   "display_name": "Python (oreilly-agents)",
   "language": "python",
   "name": "oreilly-agents"
  },
  "language_info": {
   "codemirror_mode": {
    "name": "ipython",
    "version": 3
   },
   "file_extension": ".py",
   "mimetype": "text/x-python",
   "name": "python",
   "nbconvert_exporter": "python",
   "pygments_lexer": "ipython3",
   "version": "3.11.11"
  }
 },
 "nbformat": 4,
 "nbformat_minor": 2
}
