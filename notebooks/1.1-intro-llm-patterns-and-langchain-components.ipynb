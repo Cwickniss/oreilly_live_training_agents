{
 "cells": [
  {
   "cell_type": "markdown",
   "metadata": {},
   "source": [
    "This notebook was inspired by this Anthropic's blog post:\n",
    "- https://www.anthropic.com/research/building-effective-agents\n",
    "\n",
    "and this source code:\n",
    "- https://github.com/anthropics/anthropic-cookbook/blob/main/patterns/agents/basic_workflows.ipynb"
   ]
  },
  {
   "cell_type": "markdown",
   "metadata": {},
   "source": [
    "In this notebook we will implement the essential patterns for working with LLMs that serve as a great introduction to LangChain components!"
   ]
  },
  {
   "cell_type": "code",
   "execution_count": null,
   "metadata": {},
   "outputs": [],
   "source": [
    "%pip install openai>1.50.0 langchain>0.3.0 langgraph langchainhub langchain-openai langchain-community langchain-cli langchain_ollama tavily-python>=0.5.0 langchain_nomic nomic[local] langserve faiss-cpu tiktoken pypdf chroma jira google-search-results numexpr beautifulsoup4 scikit-learn"
   ]
  },
  {
   "cell_type": "code",
   "execution_count": 1,
   "metadata": {},
   "outputs": [],
   "source": [
    "from openai import OpenAI\n",
    "client = OpenAI()"
   ]
  },
  {
   "cell_type": "markdown",
   "metadata": {},
   "source": [
    "# Chain Pattern"
   ]
  },
  {
   "cell_type": "code",
   "execution_count": 2,
   "metadata": {},
   "outputs": [],
   "source": [
    "def llm_call(prompt_question):\n",
    "    response = client.chat.completions.create(\n",
    "        model=\"gpt-4o-mini\",\n",
    "        messages=[{\"role\": \"system\", \"content\": \"You are a helpful assistant.\"},\n",
    "                  {\"role\": \"user\", \"content\": prompt_question}]\n",
    "    )\n",
    "    \n",
    "    return response.choices[0].message.content\n",
    "\n",
    "def chain(input, prompts):\n",
    "    result = input\n",
    "    for i, prompt in prompts:\n",
    "        print(f\"Step: {i}\")\n",
    "        result = llm_call(f\"{prompt}: \\n\\n{result}\")\n",
    "        print(result)\n",
    "    \n",
    "    return result"
   ]
  },
  {
   "cell_type": "code",
   "execution_count": 3,
   "metadata": {},
   "outputs": [
    {
     "name": "stdout",
     "output_type": "stream",
     "text": [
      "Running analysis chain...\n",
      "Step: 1\n",
      "The text presents several main themes and topics regarding the impact of artificial intelligence (AI) across various sectors. Here are the key themes identified:\n",
      "\n",
      "1. **Impact of Artificial Intelligence**: The text emphasizes the transformative effects of AI across multiple industries over the past decade.\n",
      "\n",
      "2. **Improvements in Healthcare**: It highlights specific benefits of AI in healthcare, particularly in enhancing diagnosis accuracy and treatment planning.\n",
      "\n",
      "3. **Efficiency in Manufacturing**: The text mentions efficiency gains in manufacturing, focusing on predictive maintenance and automated quality control processes.\n",
      "\n",
      "4. **Ethical Considerations**: The text raises important ethical questions associated with the rise of AI, including:\n",
      "   - **Privacy**: Concerns related to data privacy and the handling of personal information by AI systems.\n",
      "   - **Job Displacement**: The potential impact of automation on employment and the workforce.\n",
      "   - **Human Decision-Making**: The role of humans in decision-making processes within an increasingly automated environment.\n",
      "\n",
      "Overall, the text presents a balanced view of AI's benefits and challenges, underscoring the need for thoughtful consideration of ethical implications as AI continues to evolve and integrate into various industries.\n",
      "Step: 2\n",
      "Here are specific examples that correspond with the themes identified from the text on the impact of artificial intelligence:\n",
      "\n",
      "1. **Impact of Artificial Intelligence**:\n",
      "   - The text notes that AI has revolutionized various industries such as finance, where automated trading systems have significantly changed investment strategies and outcomes. For instance, machine learning algorithms analyze market trends at speeds that human traders cannot match, enabling more informed decision-making.\n",
      "\n",
      "2. **Improvements in Healthcare**:\n",
      "   - An example provided highlights how AI-powered imaging tools have improved the accuracy of diagnoses, such as in radiology, where algorithms can now detect tumors in medical scans with higher precision than traditional methods. Additionally, AI systems assist in personalizing treatment plans based on patient data, leading to better health outcomes.\n",
      "\n",
      "3. **Efficiency in Manufacturing**:\n",
      "   - The text cites the implementation of predictive maintenance systems in factories, where AI predicts equipment failures before they occur, thus reducing downtime and maintenance costs. Furthermore, automated quality control processes using AI vision systems allow manufacturers to detect defects in products more quickly and accurately, streamlining production and ensuring higher quality outputs.\n",
      "\n",
      "4. **Ethical Considerations**:\n",
      "   - **Privacy**: The text discusses concerns surrounding AI surveillance systems that monitor personal behaviors and track data without explicit consent, raising alarms about privacy violations.\n",
      "   - **Job Displacement**: It illustrates the concern that many low-skilled jobs may become obsolete as AI and automation take over tasks traditionally performed by humans, leading to significant unemployment in certain sectors.\n",
      "   - **Human Decision-Making**: The text emphasizes the dilemma of relying on AI for critical decisions, such as in autonomous vehicles or judicial systems, where the potential for algorithmic bias could lead to unfair outcomes, questioning the extent to which humans should delegate decision-making to machines.\n",
      "\n",
      "Overall, these examples highlight both the transformative potential of AI and the critical ethical considerations that need to be addressed as its presence in various fields expands.\n",
      "Step: 3\n",
      "The discussion on the impact of artificial intelligence (AI) reveals a dual narrative: the transformative advancements across industries and the pressing ethical dilemmas that arise from its integration.\n",
      "\n",
      "Firstly, AI is shown to have a profound impact on various sectors. In finance, automated trading systems leverage machine learning algorithms to analyze market trends far beyond human capabilities, resulting in more precise investment strategies. Similarly, in healthcare, AI-powered imaging tools enhance diagnostic accuracy, particularly in radiology, where they can identify tumors more effectively than traditional methods. Personalized treatment plans based on patient data further illustrate AI’s potential to improve health outcomes. In manufacturing, predictive maintenance systems anticipate equipment failures, thereby reducing downtime and costs, while AI-enabled quality control processes improve the efficiency and accuracy of defect detection.\n",
      "\n",
      "However, the expansion of AI raises significant ethical considerations. Concerns about privacy emerge, particularly with AI surveillance systems that collect and track personal data without consent, leading to potential violations of individual privacy rights. Additionally, the risk of job displacement looms large as automation replaces many low-skilled positions, posing challenges to employment stability in various sectors. Furthermore, the reliance on AI for critical decision-making — such as in autonomous vehicles or legal contexts — can introduce algorithmic bias, prompting questions about fairness and the appropriateness of delegating important choices to machines.\n",
      "\n",
      "In summary, while AI holds the promise of revolutionizing industries through improvements in efficiency, accuracy, and personalization, it also necessitates a careful examination of the ethical implications surrounding privacy, employment, and decision-making to ensure that its benefits do not come at an unacceptable cost.\n",
      "Step: 4\n",
      "Here are three discussion questions based on the analysis provided:\n",
      "\n",
      "1. **Balancing Innovation and Ethics**: Given the transformative potential of AI in sectors like finance and healthcare, how can we create frameworks that promote the responsible use of AI while addressing the ethical dilemmas related to privacy and decision-making? What role should governments and organizations play in this?\n",
      "\n",
      "2. **Job Displacement and Workforce Adaptation**: With the impending job displacement caused by AI automation, what strategies can be implemented at both the corporate and governmental levels to support employees transitioning from low-skilled positions to new roles? How can we ensure that the workforce is equipped with the necessary skills to thrive in an AI-driven economy?\n",
      "\n",
      "3. **Algorithmic Accountability**: As AI systems become integral to critical decision-making processes, what measures can be taken to mitigate algorithmic bias and ensure fairness in AI applications? How can we assess the accountability of AI systems, especially in high-stakes areas such as healthcare and law, where biased decision-making could have severe consequences?\n",
      "Here are three discussion questions based on the analysis provided:\n",
      "\n",
      "1. **Balancing Innovation and Ethics**: Given the transformative potential of AI in sectors like finance and healthcare, how can we create frameworks that promote the responsible use of AI while addressing the ethical dilemmas related to privacy and decision-making? What role should governments and organizations play in this?\n",
      "\n",
      "2. **Job Displacement and Workforce Adaptation**: With the impending job displacement caused by AI automation, what strategies can be implemented at both the corporate and governmental levels to support employees transitioning from low-skilled positions to new roles? How can we ensure that the workforce is equipped with the necessary skills to thrive in an AI-driven economy?\n",
      "\n",
      "3. **Algorithmic Accountability**: As AI systems become integral to critical decision-making processes, what measures can be taken to mitigate algorithmic bias and ensure fairness in AI applications? How can we assess the accountability of AI systems, especially in high-stakes areas such as healthcare and law, where biased decision-making could have severe consequences?\n"
     ]
    }
   ],
   "source": [
    "# Example prompts for a multi-step analysis chain\n",
    "analysis_prompts = [\n",
    "    (1, \"Analyze this text and identify the main themes and topics\"),\n",
    "    (2, \"For each theme identified, provide specific examples from the text\"),\n",
    "    (3, \"Synthesize the themes and examples into a coherent summary\"),\n",
    "    (4, \"Generate 3 discussion questions based on the analysis\")\n",
    "]\n",
    "\n",
    "# Sample input text\n",
    "sample_text = \"\"\"\n",
    "The rise of artificial intelligence has transformed multiple industries in the past decade. \n",
    "Healthcare has seen improvements in diagnosis accuracy and treatment planning. \n",
    "Manufacturing has become more efficient with predictive maintenance and automated quality control.\n",
    "However, these advancements also raise important ethical questions about privacy, job displacement, \n",
    "and the role of human decision-making in an increasingly automated world.\n",
    "\"\"\"\n",
    "\n",
    "# Run the chain\n",
    "print(\"Running analysis chain...\")\n",
    "final_result = chain(sample_text, analysis_prompts)\n",
    "print(final_result)"
   ]
  },
  {
   "cell_type": "markdown",
   "metadata": {},
   "source": [
    "# Parallel Pattern"
   ]
  },
  {
   "cell_type": "code",
   "execution_count": 4,
   "metadata": {},
   "outputs": [],
   "source": [
    "from concurrent.futures import ThreadPoolExecutor"
   ]
  },
  {
   "cell_type": "code",
   "execution_count": 5,
   "metadata": {},
   "outputs": [
    {
     "data": {
      "text/plain": [
       "['Climate change is resulting in rising sea levels and more severe weather events, which threaten agriculture, infrastructure, and populations, especially in coastal and developing areas.',\n",
       " 'Quantum computers are a significant technological advancement that could revolutionize fields like cryptography and drug discovery by performing calculations much faster than classical computers and enabling new encryption methods and accurate molecular simulations.',\n",
       " 'Social media platforms have revolutionized communication and information sharing, creating global connections while also raising issues related to privacy, misinformation, and mental health, and transforming marketing and activism.']"
      ]
     },
     "execution_count": 5,
     "metadata": {},
     "output_type": "execute_result"
    }
   ],
   "source": [
    "def parallel(prompt, inputs, n_workers=3):\n",
    "    with ThreadPoolExecutor(max_workers=n_workers) as executor:\n",
    "        futures = [executor.submit(llm_call, f\"{prompt}: \\n {input}\") for input in inputs]\n",
    "    \n",
    "    return [f.result() for f in futures]\n",
    "\n",
    "\n",
    "prompt = \"Summarize this paragraph in one sentence\"\n",
    "inputs = [\n",
    "    \"\"\"\n",
    "    Climate change is causing rising sea levels and extreme weather patterns globally. \n",
    "    Scientists have observed accelerating ice melt in polar regions, leading to coastal \n",
    "    flooding in low-lying areas. Additionally, communities worldwide are experiencing \n",
    "    more frequent and severe hurricanes, droughts, and other extreme weather events. \n",
    "    These changes pose significant risks to agriculture, infrastructure, and human \n",
    "    populations, particularly in vulnerable coastal regions and developing nations.\n",
    "    \"\"\",\n",
    "    \"\"\"\n",
    "    The development of quantum computers represents a major technological breakthrough\n",
    "    with far-reaching implications. These powerful machines leverage quantum mechanical\n",
    "    properties to perform complex calculations exponentially faster than classical computers.\n",
    "    In the field of cryptography, quantum computers could break many current encryption\n",
    "    methods while enabling new unbreakable encryption protocols. For drug discovery,\n",
    "    quantum computers could simulate molecular interactions with unprecedented accuracy,\n",
    "    potentially accelerating the development of new medicines and treatments for diseases.\n",
    "    \"\"\",\n",
    "    \"\"\"\n",
    "    Social media platforms have transformed how people communicate and share information\n",
    "    in the modern digital age. Platforms like Facebook, Twitter, and Instagram have created\n",
    "    virtual communities where users can instantly connect with friends and family across the\n",
    "    globe. These platforms enable the rapid spread of news, ideas, and cultural trends,\n",
    "    while also raising concerns about privacy, misinformation, and the impact on mental\n",
    "    health. The rise of social media has also revolutionized marketing, activism, and\n",
    "    how businesses engage with their customers.\n",
    "    \"\"\"\n",
    "]\n",
    "\n",
    "parallel(prompt, inputs)"
   ]
  },
  {
   "cell_type": "markdown",
   "metadata": {},
   "source": [
    "# Router Pattern"
   ]
  },
  {
   "cell_type": "code",
   "execution_count": 6,
   "metadata": {},
   "outputs": [
    {
     "data": {
      "text/plain": [
       "'software engineer'"
      ]
     },
     "execution_count": 6,
     "metadata": {},
     "output_type": "execute_result"
    }
   ],
   "source": [
    "from enum import Enum\n",
    "from pydantic import BaseModel, Field \n",
    "from typing import List\n",
    "\n",
    "\n",
    "class ProfileRouter(BaseModel):\n",
    "    selected_profile: str = Field(description=\"You return one of 3 profiles: [hr, software engineer, product manager]\")\n",
    "    \n",
    "\n",
    "def llm_call_route(problem):\n",
    "    '''Selects which profile to use to analyse the input.'''\n",
    "    response = client.beta.chat.completions.parse(\n",
    "        model='gpt-4o-mini',\n",
    "        messages=[{'role': 'system', 'content': \"\"\"\n",
    "                   You select which of the following profiles should be used to solve a problem given as input:\n",
    "                   1. hr\n",
    "                   2. software engineer\n",
    "                   3. product manager\n",
    "                   Your output is solely the choosen profile string.\n",
    "                   \"\"\"},\n",
    "                  {'role': 'user', 'content': f\"We had this problem: \\n {problem}. Output the appropriate profile to solve it:\\n\"}],\n",
    "        response_format=ProfileRouter\n",
    "    )\n",
    "    return response.choices[0].message.parsed.selected_profile\n",
    "    \n",
    "\n",
    "llm_call_route(\"I need to fix this bug in our codebase\")"
   ]
  },
  {
   "cell_type": "code",
   "execution_count": 8,
   "metadata": {},
   "outputs": [],
   "source": [
    "from typing import Dict\n",
    "\n",
    "\n",
    "def router(input, routes: Dict[str, str]):\n",
    "    \n",
    "    route_response = llm_call_route(input)\n",
    "    \n",
    "    selected_prompt = routes[route_response]\n",
    "    \n",
    "    return llm_call(selected_prompt + f\"Input: {input}\")       "
   ]
  },
  {
   "cell_type": "code",
   "execution_count": 9,
   "metadata": {},
   "outputs": [
    {
     "name": "stdout",
     "output_type": "stream",
     "text": [
      "\n",
      "Problem: We need to improve our onboarding process for new employees to increase retention\n",
      "Response: Improving the onboarding process is a crucial step in enhancing employee retention. Here are several best practices and strategies you can implement to revamp your onboarding process effectively:\n",
      "\n",
      "### 1. **Pre-Onboarding Engagement:**\n",
      "   - **Welcome Kits:** Send a welcome email with essential information and a welcome kit that includes company swag, an employee handbook, and any necessary forms to complete.\n",
      "   - **Connect Before Day One:** Assign a mentor or buddy to new hires before they start. This can help to foster relationships and ease first-day anxiety.\n",
      "\n",
      "### 2. **Structured Onboarding Program:**\n",
      "   - **Create a Comprehensive Onboarding Timeline:** Develop a structured program that spans at least 90 days. Include milestones for the first week, first month, and first three months.\n",
      "   - **Clear Curriculum:** Ensure that the onboarding includes training on company culture, policies, job-specific training, and introductions to key personnel.\n",
      "\n",
      "### 3. **Incorporate Company Culture:**\n",
      "   - **Cultural Integration:** Integrate sessions about company values, mission, and vision into the onboarding process. Help new employees understand how they fit into the overall company context.\n",
      "   - **Team Involvement:** Arrange meet-and-greet sessions with different teams to help new hires feel a part of the larger organization.\n",
      "\n",
      "### 4. **Technology Utilization:**\n",
      "   - **Onboarding Software:** Consider using onboarding software that allows for a more streamlined process, tracking progress and providing resources in one location.\n",
      "   - **E-Learning Modules:** Use e-learning for training modules that new hires can complete at their own pace, along with in-person training sessions for crucial aspects.\n",
      "\n",
      "### 5. **Feedback Mechanism:**\n",
      "   - **Regular Check-Ins:** Schedule regular one-on-one meetings with the new employee and their manager, as well as HR check-ins to discuss their onboarding experience and any issues they may encounter.\n",
      "   - **Surveys and Feedback:** Implement a survey at the end of the onboarding period to gather feedback on the process, and make the necessary adjustments based on responses.\n",
      "\n",
      "### 6. **Focus on Immediate Impact and Long-term Goals:**\n",
      "   - **Set Short-term Goals:** Help new hires establish clear, achievable goals for the first 30, 60, and 90 days. This gives them a sense of purpose and direction.\n",
      "   - **Discuss Career Pathing Early:** Introduce the concept of career development early in the onboarding process to help new employees see a future with the organization.\n",
      "\n",
      "### 7. **Foster Relationships:**\n",
      "   - **Team-building Activities:** Include team-building activities in the first week to help new hires build relationships with their coworkers and foster a sense of belonging.\n",
      "   - **Encourage Networking:** Provide opportunities for new hires to network with others in the organization, such as lunch-and-learn sessions or informal coffee meetings.\n",
      "\n",
      "### 8. **Compliance and Policies Training:**\n",
      "   - **Ensure Understanding of Policies:** Clearly communicate important policies (i.e., attendance, performance expectations, code of conduct) during onboarding, and ensure new hires understand them thoroughly.\n",
      "   - **Provide Resources:** Give them access to a digital resource library or an employee portal where they can find information on policies and procedures anytime.\n",
      "\n",
      "### 9. **Establish an Assessment Framework:**\n",
      "   - **Measure Success:** Track metrics associated with new hire performance, retention rates, and engagement levels to determine the effectiveness of your onboarding process.\n",
      "   - **Continuous Improvement:** Regularly evaluate and refine the onboarding process based on employee feedback and changing organizational needs.\n",
      "\n",
      "By focusing on these areas, you can create a more effective and engaging onboarding experience that not only helps new employees acclimate to their roles but also increases overall retention rates. Each step should be tailored to your organization’s specific culture and needs, ensuring that the onboarding process aligns with your business objectives to foster long-term employee success.\n",
      "\n",
      "Problem: The authentication service is throwing intermittent 500 errors in production\n",
      "Response: Intermittent 500 errors in a production authentication service can be quite challenging to diagnose and resolve. Here’s a structured approach, focusing on technical analysis and potential solutions:\n",
      "\n",
      "### Steps to Diagnose the Issue\n",
      "\n",
      "1. **Review Logs:**\n",
      "   - Check application logs for entries around the time the 500 errors occur. Look for stack traces, error messages, or other indicators of failure.\n",
      "   - If logging is insufficient, you might want to add more debug information, such as request IDs, to trace specific requests through the system.\n",
      "\n",
      "2. **Monitor System Metrics:**\n",
      "   - Utilize monitoring tools (e.g., Prometheus, Grafana, ELK stack) to review CPU usage, memory consumption, network traffic, and any unusual spikes around the time of the errors.\n",
      "   - Check for rate limiting, resource exhaustion, or contention issues that could lead to system instability.\n",
      "\n",
      "3. **Check Dependencies:**\n",
      "   - Inspect the health of any external services the authentication service depends on (e.g., databases, third-party authentication providers).\n",
      "   - Look at the latency and availability of these dependencies, as any issues could bubble up and cause 500 errors.\n",
      "\n",
      "4. **Concurrency Issues:**\n",
      "   - Investigate if there are race conditions or deadlocks, especially if the service uses shared resources or global states.\n",
      "   - Consider implementing extensive concurrency testing and analysis (e.g., using tools like Thread Sanitizer).\n",
      "\n",
      "5. **Configuration Issues:**\n",
      "   - Review any configuration settings that could affect the stability of the service, including environment variables, database connections, and system configurations.\n",
      "   - Ensure that the configurations are consistent between environments (e.g., staging vs. production).\n",
      "\n",
      "6. **Code Review:**\n",
      "   - Conduct a thorough code review of recent changes to the authentication service.\n",
      "   - Look for unhandled exceptions, improper error handling, or any code paths that could return failures under specific conditions.\n",
      "\n",
      "### Potential Solutions\n",
      "\n",
      "1. **Implement Robust Error Handling:**\n",
      "   - Ensure that the application gracefully handles exceptions. Implement try-catch blocks around critical operations and return meaningful error responses to the client.\n",
      "   - Consider a circuit breaker pattern to prevent cascading failures during downtime of dependencies.\n",
      "\n",
      "2. **Service Load Balancing and Scaling:**\n",
      "   - Analyze if the service is under heavy load and consider scaling vertically (more powerful servers) or horizontally (more instances).\n",
      "   - Review your load balancing strategy to ensure traffic is distributed evenly between service instances.\n",
      "\n",
      "3. **Database Optimization:**\n",
      "   - Check the database for performance issues, such as locked transactions or slow queries that could result in timeouts.\n",
      "   - Utilize connection pooling to manage database connections efficiently.\n",
      "\n",
      "4. **Caching Strategies:**\n",
      "   - Implement caching mechanisms (e.g., Redis) to reduce the load on the authentication service for frequently requested data.\n",
      "   - Cache results of authentication checks where appropriate to reduce redundant processing.\n",
      "\n",
      "5. **Testing and Staging Environment:**\n",
      "   - Conduct thorough testing in a staging environment that closely resembles production. Focus on load testing, stress testing, and failover scenarios.\n",
      "   - Consider deploying features gradually (feature flags) to isolate issues before full rollout.\n",
      "\n",
      "6. **Incident Response Plan:**\n",
      "   - Develop an incident response strategy to manage and troubleshoot these types of errors more effectively.\n",
      "   - Train the team to identify and react to errors quickly to minimize downtime and user impact.\n",
      "\n",
      "7. **Implement Health Checks:**\n",
      "   - Ensure the service has proper health checks to monitor the health of the authentication service and its dependencies.\n",
      "   - Use these health checks with your orchestration tools (like Kubernetes) to facilitate automatic restarts if the service is unhealthy.\n",
      "\n",
      "### Conclusion\n",
      "\n",
      "Intermittent 500 errors require a multi-faceted approach to diagnose and fix. By analyzing logs, reviewing system metrics, and ensuring proper error handling and load management, you can mitigate the issues in the authentication service. Following best practices in software development and system architecture will help ensure a more stable and resilient production environment.\n",
      "\n",
      "Problem: Our user engagement metrics have dropped 20% since the last release\n",
      "Response: Given that your user engagement metrics have dropped by 20% since the last release, it's crucial to strategically analyze the potential causes of this decline and implement effective solutions. Here’s a structured approach to tackle the situation:\n",
      "\n",
      "### Analysis of Potential Causes\n",
      "\n",
      "1. **Feature Changes**: Determine if any new features or changes made in the last release could have negatively impacted user experience. Are there features that users find confusing, unnecessary, or burdensome?\n",
      "\n",
      "2. **Bugs or Performance Issues**: Assess whether there are any bugs or performance issues introduced in the release that could lead to frustration or abandonment.\n",
      "\n",
      "3. **User Feedback**: Gather qualitative data through user feedback, surveys, or interviews since the release. Understand users' sentiments about what they liked or disliked in the new version.\n",
      "\n",
      "4. **User Behavior Analysis**: Analyze user behavior data (clickstream analysis, heat maps, etc.) to identify where users are dropping off and which areas of the application are seeing less interaction.\n",
      "\n",
      "5. **Competitor Action**: Research if competitors have released any new features or updates that may have drawn your users away.\n",
      "\n",
      "### Strategic Recommendations\n",
      "\n",
      "1. **Conduct a Usability Audit**:\n",
      "   - Perform a thorough audit of the new features introduced in the release. Conduct usability testing with real users to pinpoint pain points.\n",
      "   - Leverage A/B testing to compare new features with previous ones.\n",
      "\n",
      "2. **Engage with Users**:\n",
      "   - Implement a feedback loop with users to gather their thoughts on the latest release. Consider tools like in-app surveys or user forums.\n",
      "   - Address user concerns directly through follow-up communications or support.\n",
      "\n",
      "3. **Prioritize Bug Fixes and Performance Enhancements**:\n",
      "   - Immediately identify and prioritize fixes for any critical bugs or performance issues revealed in the analysis. A hotfix may be necessary in the short term to regain user trust.\n",
      "\n",
      "4. **Feature Rollback and Iteration**:\n",
      "   - If certain features are proving to be detrimental, consider temporarily rolling them back while you refine them based on user feedback.\n",
      "   - Use an iterative approach to reintroducing features with improved versions that enhance user experience.\n",
      "\n",
      "5. **Enhance Onboarding and Education**:\n",
      "   - If new features have added complexity, enhance the onboarding process or provide user education (tutorials, guides, FAQs) to help users adjust.\n",
      "\n",
      "6. **Data-driven Decision-making**:\n",
      "   - Continue to monitor user engagement metrics closely post-implementation of any changes. Use analytics to make informed decisions about future feature prioritization.\n",
      "\n",
      "7. **Stakeholder Communication**:\n",
      "   - Keep stakeholders informed about the engagement drop and the measures you are taking to address it. This will maintain alignment and support for necessary changes.\n",
      "\n",
      "8. **Benchmarking**: \n",
      "   - Set up regular benchmarking against industry standards and competitor activity to gauge user engagement regularly and be proactive in addressing potential declines.\n",
      "\n",
      "### Conclusion\n",
      "\n",
      "Addressing the 20% drop in user engagement requires a multi-faceted approach, incorporating both qualitative and quantitative feedback. By focusing on user experience, performance, and engagement strategies, you can work to identify the roots of the issue and implement tailored solutions. Ultimately, aligning your product roadmap with user needs and maintaining agile iterations will help mitigate further declines and foster positive engagement moving forward.\n"
     ]
    }
   ],
   "source": [
    "routes_profiles = {\n",
    "    'hr': \"\"\"You are an experienced HR professional focused on employee relations, recruitment, and workplace policies.\n",
    "    Your expertise includes conflict resolution, talent acquisition, performance management, and ensuring compliance with labor laws.\n",
    "    Analyze the input from an HR perspective and provide appropriate guidance.\"\"\",\n",
    "    \n",
    "    'software engineer': \"\"\"You are a senior software engineer with deep technical expertise in software development, architecture, and best practices.\n",
    "    Your skills include debugging, code optimization, system design, and technical problem-solving.\n",
    "    Analyze the input from an engineering perspective and provide technical solutions.\"\"\",\n",
    "    \n",
    "    'product manager': \"\"\"You are a seasoned product manager skilled in product strategy, user experience, and market analysis.\n",
    "    Your expertise includes feature prioritization, roadmap planning, stakeholder management, and data-driven decision making.\n",
    "    Analyze the input from a product perspective and provide strategic recommendations.\"\"\"\n",
    "}\n",
    "\n",
    "problems = [\n",
    "    \"We need to improve our onboarding process for new employees to increase retention\",\n",
    "    \"The authentication service is throwing intermittent 500 errors in production\",\n",
    "    \"Our user engagement metrics have dropped 20% since the last release\"\n",
    "]\n",
    "\n",
    "# Test the router with each problem\n",
    "for problem in problems:\n",
    "    print(f\"\\nProblem: {problem}\")\n",
    "    print(f\"Response: {router(problem, routes_profiles)}\")"
   ]
  },
  {
   "cell_type": "markdown",
   "metadata": {},
   "source": [
    "Now, that've learned these 3 basic patterns let's look at them implemented with LangChain to understand what LangChain tries to introduce with it's framework."
   ]
  },
  {
   "cell_type": "markdown",
   "metadata": {},
   "source": [
    "# Chains in LangChain"
   ]
  },
  {
   "cell_type": "markdown",
   "metadata": {},
   "source": [
    "Now, first thing to note before reproducing the chain pattern in langchain is nomenclature, in LangChain, they define chain\n",
    "as a composable building block built on top of a specialized interface named: [`Runnable Interface`](https://python.langchain.com/docs/concepts/runnables/), so instead of it being this action of chaining things together, it's the chainable thing itself!"
   ]
  },
  {
   "cell_type": "markdown",
   "metadata": {},
   "source": [
    "Now, the concept remains the same:\n",
    "\n",
    "- Composing calls to an LLM\n",
    "\n",
    "Let's see how that would be done with LangChain."
   ]
  },
  {
   "cell_type": "markdown",
   "metadata": {},
   "source": [
    "Before we wrote:"
   ]
  },
  {
   "cell_type": "code",
   "execution_count": null,
   "metadata": {},
   "outputs": [],
   "source": [
    "def llm_call(prompt_question):\n",
    "    response = client.chat.completions.create(\n",
    "        model=\"gpt-4o-mini\",\n",
    "        messages=[{\"role\": \"system\", \"content\": \"You are a helpful assistant.\"},\n",
    "                  {\"role\": \"user\", \"content\": prompt_question}]\n",
    "    )\n",
    "    \n",
    "    return response.choices[0].message.content\n",
    "\n",
    "def chain(input, prompts):\n",
    "    result = input\n",
    "    for i, prompt in prompts:\n",
    "        print(f\"Step: {i}\")\n",
    "        result = llm_call(f\"{prompt}: \\n\\n{result}\")\n",
    "        print(result)\n",
    "    \n",
    "    return result"
   ]
  },
  {
   "cell_type": "markdown",
   "metadata": {},
   "source": [
    "- The `llm_call()` function calls the LLM simply.\n",
    "- The `chain` function takes in an input and a list of prompts and runs all the prompts on that input in sequence."
   ]
  },
  {
   "cell_type": "markdown",
   "metadata": {},
   "source": [
    "<!-- This approach means that if we wanted each prompt for example to be used with a different LLM, that would require rewriting the implementations.\n",
    "\n",
    "LangChain assumes this flexibility from the start! -->"
   ]
  },
  {
   "cell_type": "code",
   "execution_count": 4,
   "metadata": {},
   "outputs": [],
   "source": [
    "import os\n",
    "# os.environ[\"LANGCHAIN_API_KEY\"] =\n",
    "os.environ[\"LANGCHAIN_TRACING_V2\"] = \"true\" \n",
    "os.environ[\"LANGCHAIN_ENDPOINT\"] = \"https://api.smith.langchain.com\"\n",
    "os.environ[\"LANGCHAIN_PROJECT\"]=\"default\"  # if not specified, "
   ]
  },
  {
   "cell_type": "code",
   "execution_count": 10,
   "metadata": {},
   "outputs": [
    {
     "data": {
      "text/plain": [
       "'Hello! How can I assist you today?'"
      ]
     },
     "execution_count": 10,
     "metadata": {},
     "output_type": "execute_result"
    }
   ],
   "source": [
    "from langchain_core.prompts import ChatPromptTemplate\n",
    "from langchain_openai import ChatOpenAI\n",
    "\n",
    "def llm_call(prompt):\n",
    "    return ChatOpenAI(model=\"gpt-4o-mini\").invoke(prompt).content\n",
    "\n",
    "llm_call(\"hi\")"
   ]
  },
  {
   "cell_type": "code",
   "execution_count": 11,
   "metadata": {},
   "outputs": [
    {
     "data": {
      "text/plain": [
       "AIMessage(content='Here are three discussion questions based on the analysis of the transformative impact of AI and its accompanying ethical concerns:\\n\\n1. **Balancing Innovation and Ethics**: How can industries leverage the benefits of AI, such as improved efficiency and accuracy, while simultaneously addressing the ethical concerns related to privacy and job displacement? What frameworks or guidelines could be implemented to ensure responsible AI integration?\\n\\n2. **Human vs. Machine Decision-Making**: In what ways can organizations maintain a balance between human judgment and AI-driven automation in decision-making processes? What are the potential risks of over-relying on AI in critical sectors, such as healthcare and manufacturing?\\n\\n3. **Future Workforce and AI Integration**: As AI continues to evolve and automate tasks, what strategies should be adopted to prepare the workforce for the changing job landscape? How can educational institutions and businesses collaborate to upskill employees and mitigate the impact of job displacement caused by AI technologies?', additional_kwargs={'refusal': None}, response_metadata={'token_usage': {'completion_tokens': 184, 'prompt_tokens': 512, 'total_tokens': 696, 'completion_tokens_details': {'audio_tokens': 0, 'reasoning_tokens': 0, 'accepted_prediction_tokens': 0, 'rejected_prediction_tokens': 0}, 'prompt_tokens_details': {'audio_tokens': 0, 'cached_tokens': 0}}, 'model_name': 'gpt-4o-mini-2024-07-18', 'system_fingerprint': 'fp_72ed7ab54c', 'finish_reason': 'stop', 'logprobs': None}, id='run-86b9dac7-4e83-4d74-8d28-bd0708400b9d-0', usage_metadata={'input_tokens': 512, 'output_tokens': 184, 'total_tokens': 696, 'input_token_details': {'audio': 0, 'cache_read': 0}, 'output_token_details': {'audio': 0, 'reasoning': 0}})"
      ]
     },
     "execution_count": 11,
     "metadata": {},
     "output_type": "execute_result"
    }
   ],
   "source": [
    "analysis_prompts = [\n",
    "    (1, \"Analyze this text and identify the main themes and topics\"),\n",
    "    (2, \"For each theme identified, provide specific examples from the text\"),\n",
    "    (3, \"Synthesize the themes and examples into a coherent summary\"),\n",
    "    (4, \"Generate 3 discussion questions based on the analysis\")\n",
    "]\n",
    "\n",
    "# Sample input text\n",
    "sample_text = \"\"\"\n",
    "The rise of artificial intelligence has transformed multiple industries in the past decade. \n",
    "Healthcare has seen improvements in diagnosis accuracy and treatment planning. \n",
    "Manufacturing has become more efficient with predictive maintenance and automated quality control.\n",
    "However, these advancements also raise important ethical questions about privacy, job displacement, \n",
    "and the role of human decision-making in an increasingly automated world.\n",
    "\"\"\"\n",
    "\n",
    "prompt1 = ChatPromptTemplate.from_template(\"Analyze this text and identify the main themes and topics: {input}\")\n",
    "llm = ChatOpenAI(model=\"gpt-4o-mini\")\n",
    "chain1 = prompt1 | llm\n",
    "\n",
    "prompt2 = ChatPromptTemplate.from_template(\"For each theme identified, provide specific examples from the text: {input}\")\n",
    "chain2 = prompt2 | llm\n",
    "\n",
    "prompt3 = ChatPromptTemplate.from_template(\"Synthesize the themes and examples into a coherent summary: {input}\")\n",
    "chain3 = prompt3 | llm\n",
    "\n",
    "prompt4 = ChatPromptTemplate.from_template(\"Generate 3 discussion questions based on the analysis: {input}\")\n",
    "chain4 = prompt4 | llm\n",
    "\n",
    "final_chain = chain1 | chain2 | chain3 | chain4\n",
    "\n",
    "output = final_chain.invoke({\"input\": sample_text})\n",
    "output"
   ]
  },
  {
   "cell_type": "markdown",
   "metadata": {},
   "source": [
    "We could simplify this by writing a function to abstract the creation of each chain block (runnable)."
   ]
  },
  {
   "cell_type": "code",
   "execution_count": 12,
   "metadata": {},
   "outputs": [],
   "source": [
    "from langchain_core.runnables import RunnableSequence\n",
    "\n",
    "def create_runnable_chain(prompt):\n",
    "    return ChatPromptTemplate.from_template(prompt) | llm"
   ]
  },
  {
   "cell_type": "code",
   "execution_count": 20,
   "metadata": {},
   "outputs": [
    {
     "name": "stdout",
     "output_type": "stream",
     "text": [
      "content='Here are three discussion questions based on the analysis of the impact of artificial intelligence (AI):\\n\\n1. **Transformation of Industries**: How do you envision the ongoing transformation of industries by AI will shape the workforce in the next decade? What skills do you think will become essential for workers in sectors heavily influenced by AI, such as healthcare and manufacturing?\\n\\n2. **Ethical Considerations**: In light of the ethical challenges posed by AI, particularly regarding privacy and job displacement, what measures should organizations and governments take to ensure that the benefits of AI are distributed equitably while minimizing harm to individuals and communities?\\n\\n3. **Human Decision-Making**: As AI systems become increasingly integrated into decision-making processes, what safeguards can be implemented to maintain human oversight and accountability? How can we ensure that human judgment is not entirely supplanted by automated systems, especially in critical areas like healthcare and public policy?' additional_kwargs={'refusal': None} response_metadata={'token_usage': {'completion_tokens': 181, 'prompt_tokens': 592, 'total_tokens': 773, 'completion_tokens_details': {'audio_tokens': 0, 'reasoning_tokens': 0, 'accepted_prediction_tokens': 0, 'rejected_prediction_tokens': 0}, 'prompt_tokens_details': {'audio_tokens': 0, 'cached_tokens': 0}}, 'model_name': 'gpt-4o-mini-2024-07-18', 'system_fingerprint': 'fp_72ed7ab54c', 'finish_reason': 'stop', 'logprobs': None} id='run-7260cb80-3474-43ae-997f-81d30a17fd55-0' usage_metadata={'input_tokens': 592, 'output_tokens': 181, 'total_tokens': 773, 'input_token_details': {'audio': 0, 'cache_read': 0}, 'output_token_details': {'audio': 0, 'reasoning': 0}}\n"
     ]
    }
   ],
   "source": [
    "# Example usage of create_runnable_chain\n",
    "prompts = [\n",
    "    \"Analyze this text and identify the main themes and topics: {input}\",\n",
    "    \"For each theme identified, provide specific examples from the text: {input}\",\n",
    "    \"Synthesize the themes and examples into a coherent summary: {input}\",\n",
    "    \"Generate 3 discussion questions based on the analysis: {input}\"\n",
    "]\n",
    "\n",
    "# Create individual chains\n",
    "chains = [create_runnable_chain(prompt) for prompt in prompts]\n",
    "\n",
    "# Combine chains into a sequence\n",
    "# Below is equivalent to: final_chain = chain1 | chain2 | ...\n",
    "final_chain = RunnableSequence(*chains)\n",
    "\n",
    "# Sample input text\n",
    "sample_text = \"\"\"\n",
    "The rise of artificial intelligence has transformed multiple industries in the past decade.\n",
    "Healthcare has seen improvements in diagnosis accuracy and treatment planning.\n",
    "Manufacturing has become more efficient with predictive maintenance and automated quality control.\n",
    "However, these advancements also raise important ethical questions about privacy, job displacement,\n",
    "and the role of human decision-making in an increasingly automated world.\n",
    "\"\"\"\n",
    "\n",
    "# Run the chain\n",
    "output = final_chain.invoke({\"input\": sample_text})\n",
    "print(output)"
   ]
  },
  {
   "cell_type": "markdown",
   "metadata": {},
   "source": [
    "Another option would be to use the convenient `@chain` decorator."
   ]
  },
  {
   "cell_type": "code",
   "execution_count": 5,
   "metadata": {},
   "outputs": [],
   "source": [
    "from langchain_core.runnables import chain\n",
    "\n",
    "@chain\n",
    "def custom_chain(text):\n",
    "    # Analyze themes\n",
    "    analyze_chain = ChatPromptTemplate.from_template(\"Analyze this text and identify the main themes and topics: {input}\") | llm\n",
    "    themes = analyze_chain.invoke({\"input\": text})\n",
    "    \n",
    "    # Get examples\n",
    "    examples_chain = ChatPromptTemplate.from_template(\"For each theme identified, provide specific examples from the text: {input}\") | llm\n",
    "    examples = examples_chain.invoke({\"input\": themes.content})\n",
    "    \n",
    "    # Synthesize\n",
    "    synthesis_chain = ChatPromptTemplate.from_template(\"Synthesize the themes and examples into a coherent summary: {input}\") | llm\n",
    "    synthesis = synthesis_chain.invoke({\"input\": examples.content})\n",
    "    \n",
    "    # Generate questions\n",
    "    questions_chain = ChatPromptTemplate.from_template(\"Generate 3 discussion questions based on the analysis: {input}\") | llm\n",
    "    return questions_chain.invoke({\"input\": synthesis.content})"
   ]
  },
  {
   "cell_type": "code",
   "execution_count": 7,
   "metadata": {},
   "outputs": [
    {
     "data": {
      "text/plain": [
       "AIMessage(content='Here are three discussion questions based on the analysis of the themes surrounding the rise of artificial intelligence (AI):\\n\\n1. **Balancing Innovation and Ethics**: Considering the transformative impact of AI across industries such as healthcare and manufacturing, how can organizations implement AI technologies while prioritizing ethical considerations, particularly in relation to privacy and potential job displacement? What frameworks or guidelines could be established to ensure responsible use of AI?\\n\\n2. **Human Oversight in AI Applications**: In light of the potential biases in AI algorithms that could lead to harmful outcomes, especially in critical areas like criminal justice and healthcare, what measures should be taken to ensure that human decision-making remains central in the deployment of AI systems? How can organizations effectively integrate human oversight without undermining the efficiency that AI offers?\\n\\n3. **Workforce Adaptation to AI Integration**: As AI continues to reshape various sectors and potentially displace jobs, what strategies can be employed to facilitate workforce retraining and development? How can educational institutions, businesses, and governments collaborate to prepare the workforce for an AI-driven economy, and what skills should be prioritized in this transition?', additional_kwargs={'refusal': None}, response_metadata={'token_usage': {'completion_tokens': 223, 'prompt_tokens': 376, 'total_tokens': 599, 'completion_tokens_details': {'audio_tokens': 0, 'reasoning_tokens': 0, 'accepted_prediction_tokens': 0, 'rejected_prediction_tokens': 0}, 'prompt_tokens_details': {'audio_tokens': 0, 'cached_tokens': 0}}, 'model_name': 'gpt-4o-mini-2024-07-18', 'system_fingerprint': 'fp_72ed7ab54c', 'finish_reason': 'stop', 'logprobs': None}, id='run-8ef47664-2f12-4a16-a2e5-c360ca0ce947-0', usage_metadata={'input_tokens': 376, 'output_tokens': 223, 'total_tokens': 599, 'input_token_details': {'audio': 0, 'cache_read': 0}, 'output_token_details': {'audio': 0, 'reasoning': 0}})"
      ]
     },
     "execution_count": 7,
     "metadata": {},
     "output_type": "execute_result"
    }
   ],
   "source": [
    "sample_text = \"\"\"\n",
    "The rise of artificial intelligence has transformed multiple industries in the past decade.\n",
    "Healthcare has seen improvements in diagnosis accuracy and treatment planning.\n",
    "Manufacturing has become more efficient with predictive maintenance and automated quality control.\n",
    "However, these advancements also raise important ethical questions about privacy, job displacement,\n",
    "and the role of human decision-making in an increasingly automated world.\n",
    "\"\"\"\n",
    "llm = ChatOpenAI(model='gpt-4o-mini')\n",
    "custom_chain.invoke(sample_text)"
   ]
  },
  {
   "cell_type": "markdown",
   "metadata": {},
   "source": [
    "# Parallel"
   ]
  },
  {
   "cell_type": "markdown",
   "metadata": {},
   "source": [
    "Our previous implementation:"
   ]
  },
  {
   "cell_type": "code",
   "execution_count": null,
   "metadata": {},
   "outputs": [],
   "source": [
    "def parallel(prompt, inputs, n_workers=3):\n",
    "    with ThreadPoolExecutor(max_workers=n_workers) as executor:\n",
    "        futures = [executor.submit(llm_call, f\"{prompt}: \\n {input}\") for input in inputs]\n",
    "    \n",
    "    return [f.result() for f in futures]"
   ]
  },
  {
   "cell_type": "markdown",
   "metadata": {},
   "source": [
    "Now with langchain:"
   ]
  },
  {
   "cell_type": "code",
   "execution_count": 13,
   "metadata": {},
   "outputs": [
    {
     "data": {
      "text/plain": [
       "[AIMessage(content='Climate change is resulting in rising sea levels and more severe weather events, threatening agriculture, infrastructure, and vulnerable populations, especially in low-lying and developing areas.', additional_kwargs={'refusal': None}, response_metadata={'token_usage': {'completion_tokens': 33, 'prompt_tokens': 106, 'total_tokens': 139, 'completion_tokens_details': {'audio_tokens': 0, 'reasoning_tokens': 0, 'accepted_prediction_tokens': 0, 'rejected_prediction_tokens': 0}, 'prompt_tokens_details': {'audio_tokens': 0, 'cached_tokens': 0}}, 'model_name': 'gpt-4o-mini-2024-07-18', 'system_fingerprint': 'fp_bd83329f63', 'finish_reason': 'stop', 'logprobs': None}, id='run-5aff0776-2f6f-4888-80ce-28baaebaf503-0', usage_metadata={'input_tokens': 106, 'output_tokens': 33, 'total_tokens': 139, 'input_token_details': {'audio': 0, 'cache_read': 0}, 'output_token_details': {'audio': 0, 'reasoning': 0}}),\n",
       " AIMessage(content='Quantum computers signify a significant technological advancement that could revolutionize fields like cryptography and drug discovery by performing computations much faster than classical computers and enabling both the breaking of existing encryption methods and the creation of new, unbreakable ones.', additional_kwargs={'refusal': None}, response_metadata={'token_usage': {'completion_tokens': 47, 'prompt_tokens': 110, 'total_tokens': 157, 'completion_tokens_details': {'audio_tokens': 0, 'reasoning_tokens': 0, 'accepted_prediction_tokens': 0, 'rejected_prediction_tokens': 0}, 'prompt_tokens_details': {'audio_tokens': 0, 'cached_tokens': 0}}, 'model_name': 'gpt-4o-mini-2024-07-18', 'system_fingerprint': 'fp_72ed7ab54c', 'finish_reason': 'stop', 'logprobs': None}, id='run-24b4732c-492b-4241-9016-2bb4caaccee3-0', usage_metadata={'input_tokens': 110, 'output_tokens': 47, 'total_tokens': 157, 'input_token_details': {'audio': 0, 'cache_read': 0}, 'output_token_details': {'audio': 0, 'reasoning': 0}}),\n",
       " AIMessage(content='Social media platforms have revolutionized communication and information sharing, fostering global connections while also raising concerns about privacy, misinformation, and mental health, and transforming marketing and activism.', additional_kwargs={'refusal': None}, response_metadata={'token_usage': {'completion_tokens': 34, 'prompt_tokens': 124, 'total_tokens': 158, 'completion_tokens_details': {'audio_tokens': 0, 'reasoning_tokens': 0, 'accepted_prediction_tokens': 0, 'rejected_prediction_tokens': 0}, 'prompt_tokens_details': {'audio_tokens': 0, 'cached_tokens': 0}}, 'model_name': 'gpt-4o-mini-2024-07-18', 'system_fingerprint': 'fp_bd83329f63', 'finish_reason': 'stop', 'logprobs': None}, id='run-96fef5db-f344-48ed-a9c2-37ed051f36a8-0', usage_metadata={'input_tokens': 124, 'output_tokens': 34, 'total_tokens': 158, 'input_token_details': {'audio': 0, 'cache_read': 0}, 'output_token_details': {'audio': 0, 'reasoning': 0}})]"
      ]
     },
     "execution_count": 13,
     "metadata": {},
     "output_type": "execute_result"
    }
   ],
   "source": [
    "from langchain_core.runnables import RunnableParallel\n",
    "\n",
    "prompt_template = \"Summarize this paragraph in one sentence: {input}\"\n",
    "inputs = [\n",
    "    \"\"\"\n",
    "    Climate change is causing rising sea levels and extreme weather patterns globally. \n",
    "    Scientists have observed accelerating ice melt in polar regions, leading to coastal \n",
    "    flooding in low-lying areas. Additionally, communities worldwide are experiencing \n",
    "    more frequent and severe hurricanes, droughts, and other extreme weather events. \n",
    "    These changes pose significant risks to agriculture, infrastructure, and human \n",
    "    populations, particularly in vulnerable coastal regions and developing nations.\n",
    "    \"\"\",\n",
    "    \"\"\"\n",
    "    The development of quantum computers represents a major technological breakthrough\n",
    "    with far-reaching implications. These powerful machines leverage quantum mechanical\n",
    "    properties to perform complex calculations exponentially faster than classical computers.\n",
    "    In the field of cryptography, quantum computers could break many current encryption\n",
    "    methods while enabling new unbreakable encryption protocols. For drug discovery,\n",
    "    quantum computers could simulate molecular interactions with unprecedented accuracy,\n",
    "    potentially accelerating the development of new medicines and treatments for diseases.\n",
    "    \"\"\",\n",
    "    \"\"\"\n",
    "    Social media platforms have transformed how people communicate and share information\n",
    "    in the modern digital age. Platforms like Facebook, Twitter, and Instagram have created\n",
    "    virtual communities where users can instantly connect with friends and family across the\n",
    "    globe. These platforms enable the rapid spread of news, ideas, and cultural trends,\n",
    "    while also raising concerns about privacy, misinformation, and the impact on mental\n",
    "    health. The rise of social media has also revolutionized marketing, activism, and\n",
    "    how businesses engage with their customers.\n",
    "    \"\"\"\n",
    "]\n",
    "\n",
    "prompt = ChatPromptTemplate.from_template(prompt_template)\n",
    "\n",
    "chain = prompt | llm \n",
    "\n",
    "chain.batch([{\"input\":input} for input in inputs])"
   ]
  },
  {
   "cell_type": "markdown",
   "metadata": {},
   "source": [
    "# Router Pattern"
   ]
  },
  {
   "cell_type": "code",
   "execution_count": 14,
   "metadata": {},
   "outputs": [
    {
     "name": "stdout",
     "output_type": "stream",
     "text": [
      "Classified as HR.\n",
      "Problem: We need to improve our onboarding process for new employees to increase retention\n",
      "Solution: content=\"Improving the onboarding process is crucial for enhancing employee retention, as a well-structured onboarding program can significantly impact new hires' engagement, satisfaction, and overall integration into the company culture. Here are several strategic recommendations to enhance your onboarding process from an HR perspective:\\n\\n### 1. **Pre-Onboarding Preparation**\\n   - **Clear Communication:** Send a welcome email before the start date that outlines what new hires can expect on their first day, including schedules, dress codes, and required documentation.\\n   - **Resource Access:** Provide access to digital resources (e.g., employee handbooks, organizational charts, and training materials) before their first day to allow new hires to familiarize themselves with the company.\\n\\n### 2. **Structured Onboarding Program**\\n   - **Comprehensive Orientation:** Develop a structured orientation program that covers company culture, values, policies, and procedures. Include an overview of the organizational structure and key personnel.\\n   - **Role-Specific Training:** Tailor training sessions to specific roles, ensuring that new employees receive the necessary skills and knowledge that align with their job responsibilities.\\n\\n### 3. **Mentorship and Buddy System**\\n   - **Assign a Mentor or Buddy:** Pair new hires with experienced employees who can guide them through the onboarding process, answer questions, and help them navigate the workplace culture.\\n   - **Regular Check-Ins:** Encourage mentors to check in frequently during the first few months to provide ongoing support and feedback.\\n\\n### 4. **Engagement and Integration Activities**\\n   - **Team Introductions:** Facilitate introductions to team members and key stakeholders, allowing new hires to build relationships early on.\\n   - **Social Events:** Organize informal gatherings or team-building activities to foster camaraderie and help new employees feel more connected.\\n\\n### 5. **Feedback Mechanism**\\n   - **Surveys and Feedback Loops:** Implement surveys to gather feedback from new hires about their onboarding experience. Use this data to identify areas for improvement.\\n   - **Regular Performance Check-Ins:** Schedule performance check-ins at 30, 60, and 90 days to assess new employee integration and address any concerns.\\n\\n### 6. **Continuous Improvement**\\n   - **Evaluate and Adapt:** Regularly review and update the onboarding program based on feedback and changing organizational needs. Stay informed about best practices in onboarding to ensure your process is competitive and effective.\\n\\n### 7. **Compliance and Documentation**\\n   - **Legal Compliance:** Ensure all onboarding materials comply with labor laws and regulations. Provide necessary training on workplace policies, including diversity and inclusion, sexual harassment prevention, and compliance guidelines.\\n\\n### 8. **Long-Term Development Focus**\\n   - **Career Development Pathways:** Introduce new hires to potential career paths within the organization, emphasizing ongoing training and development opportunities from the start.\\n\\n### Conclusion\\nBy implementing these strategies, you can create a more engaging and effective onboarding process that not only helps new employees acclimate to their roles but also fosters a sense of belonging and commitment to the organization. This investment in onboarding can lead to improved retention rates, increased employee satisfaction, and a more positive workplace culture overall.\" additional_kwargs={'refusal': None} response_metadata={'token_usage': {'completion_tokens': 626, 'prompt_tokens': 73, 'total_tokens': 699, 'completion_tokens_details': {'audio_tokens': 0, 'reasoning_tokens': 0, 'accepted_prediction_tokens': 0, 'rejected_prediction_tokens': 0}, 'prompt_tokens_details': {'audio_tokens': 0, 'cached_tokens': 0}}, 'model_name': 'gpt-4o-mini-2024-07-18', 'system_fingerprint': 'fp_72ed7ab54c', 'finish_reason': 'stop', 'logprobs': None} id='run-d3335a1c-6616-47ca-b368-c44144a2d690-0' usage_metadata={'input_tokens': 73, 'output_tokens': 626, 'total_tokens': 699, 'input_token_details': {'audio': 0, 'cache_read': 0}, 'output_token_details': {'audio': 0, 'reasoning': 0}}\n",
      "--------------------------------------------------\n",
      "Classified as Software Engineer.\n",
      "Problem: The authentication service is throwing intermittent 500 errors in production\n",
      "Solution: content='To address the intermittent 500 errors being thrown by the authentication service in production, we need to follow a structured approach to identify the root cause and implement a robust solution. Here’s a detailed analysis and potential solutions:\\n\\n### Step 1: Gather Information\\n\\n1. **Logs Analysis**:\\n   - Review application logs around the time of the errors. Look for stack traces, error messages, and any patterns in the logs.\\n   - Check if there are any rate limiting errors or timeouts being logged.\\n\\n2. **Monitoring Metrics**:\\n   - Examine system metrics (CPU, memory, disk I/O) to see if resource exhaustion correlates with the error occurrences.\\n   - Look at response times and throughput metrics to identify any spikes in traffic or latency.\\n\\n3. **Error Tracking**:\\n   - If using an error tracking tool (e.g., Sentry, Rollbar), analyze the frequency and context of the errors.\\n   - Determine if the errors are related to specific user actions or APIs.\\n\\n### Step 2: Potential Root Causes\\n\\n1. **Resource Exhaustion**:\\n   - High traffic could lead to resource exhaustion (CPU, memory, database connections).\\n   - Consider if there are memory leaks or inefficient algorithms consuming excessive resources.\\n\\n2. **Database Issues**:\\n   - Investigate if there are slow queries or locks causing delays in authentication.\\n   - Check the connection pool settings and see if they are sufficient for the current load.\\n\\n3. **Third-party Services**:\\n   - If the authentication service relies on external services (e.g., OAuth providers), intermittent failures could propagate errors.\\n   - Check network stability and response times from these services.\\n\\n4. **Concurrency Issues**:\\n   - Analyze if there are race conditions or deadlocks in the code that handles authentication.\\n   - Review how sessions are managed, especially in a distributed environment.\\n\\n5. **Code Bugs**:\\n   - Look for unhandled exceptions or edge cases in the authentication logic.\\n   - Ensure that all possible error cases are accounted for and handled gracefully.\\n\\n### Step 3: Debugging and Testing\\n\\n1. **Replicate the Issue**:\\n   - If possible, replicate the issue in a staging environment under similar load conditions.\\n   - Use stress testing tools (e.g., JMeter, Gatling) to simulate traffic and identify weaknesses.\\n\\n2. **Increase Logging**:\\n   - Temporarily increase the logging level to debug for the authentication service.\\n   - Log additional context around requests that fail to identify common attributes.\\n\\n3. **Code Review**:\\n   - Conduct a peer review of the authentication code with a focus on error handling and resource management.\\n\\n### Step 4: Solutions\\n\\n1. **Implement Circuit Breaker Pattern**:\\n   - Use a circuit breaker pattern to prevent the service from being overwhelmed by repeated failed requests to external services.\\n\\n2. **Optimize Database Queries**:\\n   - Analyze and optimize any slow queries or add appropriate indexing to the database.\\n   - Consider caching frequently used data.\\n\\n3. **Load Balancing**:\\n   - If not already implemented, consider load balancing techniques to distribute requests evenly across instances of the authentication service.\\n\\n4. **Rate Limiting**:\\n   - Implement rate limiting to prevent abuse and to mitigate the risk of service overload.\\n\\n5. **Improve Resource Allocation**:\\n   - Scale the service vertically (more powerful machines) or horizontally (more instances) based on traffic patterns.\\n   - Adjust connection pool settings based on load testing results.\\n\\n6. **Refactor Code**:\\n   - If specific parts of the code are identified as problematic, refactor them to improve performance and reliability.\\n   - Ensure that exceptions are handled properly and return meaningful error messages to the client.\\n\\n7. **Deploy Health Checks**:\\n   - Implement health checks to monitor the service’s operational state and trigger alerts proactively.\\n\\n### Step 5: Monitor After Changes\\n\\n1. **Post-Deployment Monitoring**:\\n   - After implementing the changes, closely monitor the service for any signs of recurrence of the errors.\\n   - Set up alerts for any abnormal behaviors or error spikes.\\n\\n2. **Conduct a Post-Mortem**:\\n   - After the issue is resolved, conduct a post-mortem analysis to document the findings, solutions implemented, and lessons learned to prevent similar issues in the future.\\n\\n### Conclusion\\n\\nBy following these steps, you can systematically identify and resolve the root causes of the intermittent 500 errors in the authentication service. Continuous monitoring and proactive performance tuning will help maintain the reliability and availability of the service in the future.' additional_kwargs={'refusal': None} response_metadata={'token_usage': {'completion_tokens': 917, 'prompt_tokens': 71, 'total_tokens': 988, 'completion_tokens_details': {'audio_tokens': 0, 'reasoning_tokens': 0, 'accepted_prediction_tokens': 0, 'rejected_prediction_tokens': 0}, 'prompt_tokens_details': {'audio_tokens': 0, 'cached_tokens': 0}}, 'model_name': 'gpt-4o-mini-2024-07-18', 'system_fingerprint': 'fp_bd83329f63', 'finish_reason': 'stop', 'logprobs': None} id='run-64cadeb9-f77b-4f60-ba0e-85952c52bac7-0' usage_metadata={'input_tokens': 71, 'output_tokens': 917, 'total_tokens': 988, 'input_token_details': {'audio': 0, 'cache_read': 0}, 'output_token_details': {'audio': 0, 'reasoning': 0}}\n",
      "--------------------------------------------------\n",
      "Classified as Product Manager.\n",
      "Problem: Our user engagement metrics have dropped 20% since the last release\n",
      "Solution: content='When faced with a 20% drop in user engagement metrics post-release, it is crucial to conduct a thorough analysis to identify the root causes and implement strategic recommendations. Here’s a structured approach to address the issue from a product management perspective:\\n\\n### 1. Analyze User Engagement Data\\n- **Metrics Breakdown**: Analyze specific engagement metrics (session duration, frequency of use, active users, etc.) to determine which areas have been most affected.\\n- **Segment Users**: Identify if certain user segments (e.g., new vs. returning users, different demographics, or user personas) are more affected than others.\\n- **Behavioral Analysis**: Use tools like heatmaps and user recordings to understand how users are interacting with the product post-release.\\n\\n### 2. Conduct User Research\\n- **Surveys and Feedback**: Deploy surveys or feedback forms to gather qualitative data about user experience and perceived value.\\n- **Usability Testing**: Conduct usability tests to observe users navigating the product after the release and identify pain points.\\n- **Customer Support Insights**: Review customer support tickets and feedback to identify common complaints or issues raised by users.\\n\\n### 3. Evaluate the Recent Release\\n- **Feature Impact Assessment**: Analyze the features released in the last update. Determine if any new features negatively impacted existing functionality or user workflows.\\n- **Performance Issues**: Check for any performance degradation (load times, bugs, etc.) introduced in the release that could be affecting user experience.\\n\\n### 4. Reassess Product Roadmap\\n- **Prioritize Fixes**: Based on the insights gathered, prioritize the most critical issues affecting user engagement for immediate resolution.\\n- **Feature Prioritization**: If new features are not resonating with users, consider deprioritizing or revisiting them. Focus on enhancements that drive user engagement.\\n\\n### 5. Stakeholder Collaboration\\n- **Cross-Functional Alignment**: Collaborate with development, design, marketing, and customer support teams to ensure a unified approach to addressing engagement issues.\\n- **Regular Check-Ins**: Establish regular meetings with stakeholders to discuss progress on addressing engagement metrics and gather insights from various perspectives.\\n\\n### 6. Implement Changes and Monitor\\n- **Iterative Improvements**: Implement changes based on user feedback and data analysis. This could involve rolling back problematic features or making adjustments to enhance usability.\\n- **A/B Testing**: Consider A/B testing any proposed changes to validate their impact on user engagement metrics before a full rollout.\\n- **Continuous Monitoring**: Post-implementation, continuously monitor user engagement metrics and collect feedback to ensure that the changes are effective.\\n\\n### 7. Communicate with Users\\n- **Transparency**: Communicate with users about the issues identified and the steps being taken to address them. This helps build trust and shows that their feedback is valued.\\n- **Promote Improvements**: Once improvements are made, actively promote them to users to encourage re-engagement.\\n\\n### Conclusion\\nA 20% drop in user engagement is significant and warrants immediate attention. By employing a data-driven approach, engaging with users directly, and collaborating with stakeholders, you can identify the underlying issues and implement targeted solutions. Continuous monitoring and iteration will be crucial in restoring and enhancing user engagement over time.' additional_kwargs={'refusal': None} response_metadata={'token_usage': {'completion_tokens': 658, 'prompt_tokens': 74, 'total_tokens': 732, 'completion_tokens_details': {'audio_tokens': 0, 'reasoning_tokens': 0, 'accepted_prediction_tokens': 0, 'rejected_prediction_tokens': 0}, 'prompt_tokens_details': {'audio_tokens': 0, 'cached_tokens': 0}}, 'model_name': 'gpt-4o-mini-2024-07-18', 'system_fingerprint': 'fp_72ed7ab54c', 'finish_reason': 'stop', 'logprobs': None} id='run-637202e9-b4ff-41f1-b020-8eb6b93b37c3-0' usage_metadata={'input_tokens': 74, 'output_tokens': 658, 'total_tokens': 732, 'input_token_details': {'audio': 0, 'cache_read': 0}, 'output_token_details': {'audio': 0, 'reasoning': 0}}\n",
      "--------------------------------------------------\n"
     ]
    }
   ],
   "source": [
    "from langchain_openai import ChatOpenAI\n",
    "from langchain_core.output_parsers import StrOutputParser\n",
    "from langchain_core.prompts import PromptTemplate\n",
    "from langchain_core.runnables import RunnableLambda\n",
    "\n",
    "# Define classification chain\n",
    "classification_chain = (\n",
    "    PromptTemplate.from_template(\n",
    "        \"\"\"Given the user problem below, classify it as either `HR`, `Software Engineer`, or `Product Manager`.\n",
    "\n",
    "Do not respond with more than one word.\n",
    "\n",
    "<problem>\n",
    "{problem}\n",
    "</problem>\n",
    "\n",
    "Classification:\"\"\"\n",
    "    )\n",
    "    | ChatOpenAI(model_name=\"gpt-4o-mini\")\n",
    "    | StrOutputParser()\n",
    ")\n",
    "\n",
    "# Define sub-chains\n",
    "hr_chain = PromptTemplate.from_template(\n",
    "    \"\"\"You are an experienced HR professional focused on employee relations, recruitment, and workplace policies.\n",
    "Your expertise includes conflict resolution, talent acquisition, performance management, and ensuring compliance with labor laws.\n",
    "Analyze the input from an HR perspective and provide appropriate guidance.\n",
    "\n",
    "Problem: {problem}\n",
    "Solution:\"\"\"\n",
    ") | ChatOpenAI(model_name=\"gpt-4o-mini\")\n",
    "\n",
    "software_engineer_chain = PromptTemplate.from_template(\n",
    "    \"\"\"You are a senior software engineer with deep technical expertise in software development, architecture, and best practices.\n",
    "Your skills include debugging, code optimization, system design, and technical problem-solving.\n",
    "Analyze the input from an engineering perspective and provide technical solutions.\n",
    "\n",
    "Problem: {problem}\n",
    "Solution:\"\"\"\n",
    ") | ChatOpenAI(model_name=\"gpt-4o-mini\")\n",
    "\n",
    "product_manager_chain = PromptTemplate.from_template(\n",
    "    \"\"\"You are a seasoned product manager skilled in product strategy, user experience, and market analysis.\n",
    "Your expertise includes feature prioritization, roadmap planning, stakeholder management, and data-driven decision-making.\n",
    "Analyze the input from a product perspective and provide strategic recommendations.\n",
    "\n",
    "Problem: {problem}\n",
    "Solution:\"\"\"\n",
    ") | ChatOpenAI(model_name=\"gpt-4o-mini\")\n",
    "\n",
    "# Define routing function\n",
    "def route(info):\n",
    "    if \"hr\" in info[\"category\"].lower():\n",
    "        print(\"Classified as HR.\")\n",
    "        return hr_chain\n",
    "    elif \"software engineer\" in info[\"category\"].lower():\n",
    "        print(\"Classified as Software Engineer.\")\n",
    "        return software_engineer_chain\n",
    "    elif \"product manager\" in info[\"category\"].lower():\n",
    "        print(\"Classified as Product Manager.\")\n",
    "        return product_manager_chain\n",
    "    else:\n",
    "        return product_manager_chain  # Default fallback\n",
    "\n",
    "# Create runnable pipeline\n",
    "full_chain = {\"category\": classification_chain, \"problem\": lambda x: x[\"problem\"]} | RunnableLambda(route)\n",
    "\n",
    "# Example problems\n",
    "problems = [\n",
    "    \"We need to improve our onboarding process for new employees to increase retention\",\n",
    "    \"The authentication service is throwing intermittent 500 errors in production\",\n",
    "    \"Our user engagement metrics have dropped 20% since the last release\"\n",
    "]\n",
    "\n",
    "# Invoke the chain for each problem\n",
    "for problem in problems:\n",
    "    response = full_chain.invoke({\"problem\": problem})\n",
    "    print(f\"Problem: {problem}\\nSolution: {response}\\n{'-' * 50}\")\n"
   ]
  },
  {
   "cell_type": "markdown",
   "metadata": {},
   "source": [
    "The only new concept here is that we used:\n",
    "[`RunnableLambda`](https://arc.net/l/quote/ovwpozka)\n",
    "to setup our custom logic."
   ]
  },
  {
   "cell_type": "code",
   "execution_count": 15,
   "metadata": {},
   "outputs": [
    {
     "data": {
      "text/plain": [
       "AIMessage(content='When faced with a 20% drop in user engagement metrics post-release, it is crucial to conduct a thorough analysis to identify the root causes and implement strategic recommendations. Here’s a structured approach to address the issue from a product management perspective:\\n\\n### 1. Analyze User Engagement Data\\n- **Metrics Breakdown**: Analyze specific engagement metrics (session duration, frequency of use, active users, etc.) to determine which areas have been most affected.\\n- **Segment Users**: Identify if certain user segments (e.g., new vs. returning users, different demographics, or user personas) are more affected than others.\\n- **Behavioral Analysis**: Use tools like heatmaps and user recordings to understand how users are interacting with the product post-release.\\n\\n### 2. Conduct User Research\\n- **Surveys and Feedback**: Deploy surveys or feedback forms to gather qualitative data about user experience and perceived value.\\n- **Usability Testing**: Conduct usability tests to observe users navigating the product after the release and identify pain points.\\n- **Customer Support Insights**: Review customer support tickets and feedback to identify common complaints or issues raised by users.\\n\\n### 3. Evaluate the Recent Release\\n- **Feature Impact Assessment**: Analyze the features released in the last update. Determine if any new features negatively impacted existing functionality or user workflows.\\n- **Performance Issues**: Check for any performance degradation (load times, bugs, etc.) introduced in the release that could be affecting user experience.\\n\\n### 4. Reassess Product Roadmap\\n- **Prioritize Fixes**: Based on the insights gathered, prioritize the most critical issues affecting user engagement for immediate resolution.\\n- **Feature Prioritization**: If new features are not resonating with users, consider deprioritizing or revisiting them. Focus on enhancements that drive user engagement.\\n\\n### 5. Stakeholder Collaboration\\n- **Cross-Functional Alignment**: Collaborate with development, design, marketing, and customer support teams to ensure a unified approach to addressing engagement issues.\\n- **Regular Check-Ins**: Establish regular meetings with stakeholders to discuss progress on addressing engagement metrics and gather insights from various perspectives.\\n\\n### 6. Implement Changes and Monitor\\n- **Iterative Improvements**: Implement changes based on user feedback and data analysis. This could involve rolling back problematic features or making adjustments to enhance usability.\\n- **A/B Testing**: Consider A/B testing any proposed changes to validate their impact on user engagement metrics before a full rollout.\\n- **Continuous Monitoring**: Post-implementation, continuously monitor user engagement metrics and collect feedback to ensure that the changes are effective.\\n\\n### 7. Communicate with Users\\n- **Transparency**: Communicate with users about the issues identified and the steps being taken to address them. This helps build trust and shows that their feedback is valued.\\n- **Promote Improvements**: Once improvements are made, actively promote them to users to encourage re-engagement.\\n\\n### Conclusion\\nA 20% drop in user engagement is significant and warrants immediate attention. By employing a data-driven approach, engaging with users directly, and collaborating with stakeholders, you can identify the underlying issues and implement targeted solutions. Continuous monitoring and iteration will be crucial in restoring and enhancing user engagement over time.', additional_kwargs={'refusal': None}, response_metadata={'token_usage': {'completion_tokens': 658, 'prompt_tokens': 74, 'total_tokens': 732, 'completion_tokens_details': {'audio_tokens': 0, 'reasoning_tokens': 0, 'accepted_prediction_tokens': 0, 'rejected_prediction_tokens': 0}, 'prompt_tokens_details': {'audio_tokens': 0, 'cached_tokens': 0}}, 'model_name': 'gpt-4o-mini-2024-07-18', 'system_fingerprint': 'fp_72ed7ab54c', 'finish_reason': 'stop', 'logprobs': None}, id='run-637202e9-b4ff-41f1-b020-8eb6b93b37c3-0', usage_metadata={'input_tokens': 74, 'output_tokens': 658, 'total_tokens': 732, 'input_token_details': {'audio': 0, 'cache_read': 0}, 'output_token_details': {'audio': 0, 'reasoning': 0}})"
      ]
     },
     "execution_count": 15,
     "metadata": {},
     "output_type": "execute_result"
    }
   ],
   "source": [
    "response"
   ]
  }
 ],
 "metadata": {
  "kernelspec": {
   "display_name": "oreilly-langchain",
   "language": "python",
   "name": "oreilly-langchain"
  },
  "language_info": {
   "codemirror_mode": {
    "name": "ipython",
    "version": 3
   },
   "file_extension": ".py",
   "mimetype": "text/x-python",
   "name": "python",
   "nbconvert_exporter": "python",
   "pygments_lexer": "ipython3",
   "version": "3.11.9"
  }
 },
 "nbformat": 4,
 "nbformat_minor": 2
}
