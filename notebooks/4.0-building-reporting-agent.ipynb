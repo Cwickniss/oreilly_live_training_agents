{
 "cells": [
  {
   "cell_type": "markdown",
   "metadata": {},
   "source": [
    "# Building a research Agent with LangChain"
   ]
  },
  {
   "cell_type": "code",
   "execution_count": 1,
   "metadata": {},
   "outputs": [],
   "source": [
    "from langchain_openai.chat_models import ChatOpenAI"
   ]
  },
  {
   "cell_type": "code",
   "execution_count": 2,
   "metadata": {},
   "outputs": [],
   "source": [
    "llm_chat = ChatOpenAI(temperature=0)"
   ]
  },
  {
   "cell_type": "code",
   "execution_count": 6,
   "metadata": {},
   "outputs": [
    {
     "data": {
      "text/plain": [
       "['https://en.wikipedia.org/wiki/Artificial_intelligence',\n",
       " 'https://www.ibm.com/topics/artificial-intelligence',\n",
       " 'https://www.techtarget.com/searchenterpriseai/definition/AI-Artificial-Intelligence',\n",
       " 'https://builtin.com/artificial-intelligence',\n",
       " 'https://cloud.google.com/learn/what-is-artificial-intelligence',\n",
       " 'https://www.investopedia.com/terms/a/artificial-intelligence-ai.asp']"
      ]
     },
     "execution_count": 6,
     "metadata": {},
     "output_type": "execute_result"
    }
   ],
   "source": [
    "from langchain.utilities import SerpAPIWrapper\n",
    "from langchain.tools import tool\n",
    "\n",
    "search = SerpAPIWrapper()\n",
    "\n",
    "@tool\n",
    "def web_search(query: str):\n",
    "    \"\"\"Searches the web given a user query and returns the most relevant links\"\"\"\n",
    "    output = search.results(query)\n",
    "    results = output[\"organic_results\"]\n",
    "    return [r[\"link\"] for r in results]\n",
    "\n",
    "web_search(\"Artificial Intelligence\")"
   ]
  },
  {
   "cell_type": "code",
   "execution_count": null,
   "metadata": {},
   "outputs": [
    {
     "data": {
      "text/plain": [
       "ChatPromptTemplate(input_variables=['agent_scratchpad', 'input'], input_types={'chat_history': typing.List[typing.Union[langchain_core.messages.ai.AIMessage, langchain_core.messages.human.HumanMessage, langchain_core.messages.chat.ChatMessage, langchain_core.messages.system.SystemMessage, langchain_core.messages.function.FunctionMessage, langchain_core.messages.tool.ToolMessage]], 'agent_scratchpad': typing.List[typing.Union[langchain_core.messages.ai.AIMessage, langchain_core.messages.human.HumanMessage, langchain_core.messages.chat.ChatMessage, langchain_core.messages.system.SystemMessage, langchain_core.messages.function.FunctionMessage, langchain_core.messages.tool.ToolMessage]]}, messages=[SystemMessagePromptTemplate(prompt=PromptTemplate(input_variables=[], template='You are a helpful assistant')), MessagesPlaceholder(variable_name='chat_history', optional=True), HumanMessagePromptTemplate(prompt=PromptTemplate(input_variables=['input'], template='{input}')), MessagesPlaceholder(variable_name='agent_scratchpad')])"
      ]
     },
     "metadata": {},
     "output_type": "display_data"
    }
   ],
   "source": [
    "from langchain import hub\n",
    "\n",
    "prompt = hub.pull(\"hwchase17/openai-functions-agent\")\n",
    "\n",
    "prompt"
   ]
  },
  {
   "cell_type": "code",
   "execution_count": null,
   "metadata": {},
   "outputs": [
    {
     "data": {
      "text/plain": [
       "['agent_scratchpad', 'input']"
      ]
     },
     "metadata": {},
     "output_type": "display_data"
    }
   ],
   "source": [
    "prompt.input_variables"
   ]
  },
  {
   "cell_type": "code",
   "execution_count": null,
   "metadata": {},
   "outputs": [
    {
     "data": {
      "text/plain": [
       "{'chat_history': typing.List[typing.Union[langchain_core.messages.ai.AIMessage, langchain_core.messages.human.HumanMessage, langchain_core.messages.chat.ChatMessage, langchain_core.messages.system.SystemMessage, langchain_core.messages.function.FunctionMessage, langchain_core.messages.tool.ToolMessage]],\n",
       " 'agent_scratchpad': typing.List[typing.Union[langchain_core.messages.ai.AIMessage, langchain_core.messages.human.HumanMessage, langchain_core.messages.chat.ChatMessage, langchain_core.messages.system.SystemMessage, langchain_core.messages.function.FunctionMessage, langchain_core.messages.tool.ToolMessage]]}"
      ]
     },
     "metadata": {},
     "output_type": "display_data"
    }
   ],
   "source": [
    "prompt.input_types"
   ]
  },
  {
   "cell_type": "code",
   "execution_count": null,
   "metadata": {},
   "outputs": [
    {
     "data": {
      "text/plain": [
       "{'name': None,\n",
       " 'input_variables': ['agent_scratchpad', 'input'],\n",
       " 'input_types': {'chat_history': typing.List[typing.Union[langchain_core.messages.ai.AIMessage, langchain_core.messages.human.HumanMessage, langchain_core.messages.chat.ChatMessage, langchain_core.messages.system.SystemMessage, langchain_core.messages.function.FunctionMessage, langchain_core.messages.tool.ToolMessage]],\n",
       "  'agent_scratchpad': typing.List[typing.Union[langchain_core.messages.ai.AIMessage, langchain_core.messages.human.HumanMessage, langchain_core.messages.chat.ChatMessage, langchain_core.messages.system.SystemMessage, langchain_core.messages.function.FunctionMessage, langchain_core.messages.tool.ToolMessage]]},\n",
       " 'output_parser': None,\n",
       " 'partial_variables': {},\n",
       " 'messages': [SystemMessagePromptTemplate(prompt=PromptTemplate(input_variables=[], template='You are a helpful assistant')),\n",
       "  MessagesPlaceholder(variable_name='chat_history', optional=True),\n",
       "  HumanMessagePromptTemplate(prompt=PromptTemplate(input_variables=['input'], template='{input}')),\n",
       "  MessagesPlaceholder(variable_name='agent_scratchpad')],\n",
       " 'validate_template': False}"
      ]
     },
     "metadata": {},
     "output_type": "display_data"
    }
   ],
   "source": [
    "prompt.__dict__"
   ]
  },
  {
   "cell_type": "code",
   "execution_count": 36,
   "metadata": {},
   "outputs": [],
   "source": [
    "from langchain.prompts import ChatPromptTemplate\n",
    "\n",
    "\n",
    "template = \"\"\"\n",
    "{agent_scratchpad}.\n",
    "You are a helpful research assistant.\n",
    "Given a query you will use the available tools or your own knowledge to \n",
    "answer the question by providing a comprehensive report on the matter.\n",
    "Here is the user query:\\n\\n'''{query}'''.\n",
    "\"\"\"\n",
    "prompt = ChatPromptTemplate.from_template(template)"
   ]
  },
  {
   "cell_type": "code",
   "execution_count": 40,
   "metadata": {},
   "outputs": [
    {
     "data": {
      "text/plain": [
       "\"Human: \\n[].\\nYou are a helpful research assistant.\\nGiven a query you will use the available tools or your own knowledge to \\nanswer the question by providing a comprehensive report on the matter.\\nHere is the user query:\\n\\n'''What is the best way to learn a new language?'''.\\n\""
      ]
     },
     "execution_count": 40,
     "metadata": {},
     "output_type": "execute_result"
    }
   ],
   "source": [
    "prompt.format(query=\"What is the best way to learn a new language?\", agent_scratchpad=[])"
   ]
  },
  {
   "cell_type": "markdown",
   "metadata": {},
   "source": [
    "To build an agent I need to do 2 essential things:\n",
    "\n",
    "1. Connect a model to tools\n",
    "2. Set up a loop in which the model continuously tries to solve the problem by either just calling the llm or calling a tool, observing the result and repeating until finished."
   ]
  },
  {
   "cell_type": "code",
   "execution_count": 41,
   "metadata": {},
   "outputs": [
    {
     "data": {
      "text/plain": [
       "ChatPromptTemplate(input_variables=['agent_scratchpad', 'query'], messages=[HumanMessagePromptTemplate(prompt=PromptTemplate(input_variables=['agent_scratchpad', 'query'], template=\"\\n{agent_scratchpad}.\\nYou are a helpful research assistant.\\nGiven a query you will use the available tools or your own knowledge to \\nanswer the question by providing a comprehensive report on the matter.\\nHere is the user query:\\n\\n'''{query}'''.\\n\"))])"
      ]
     },
     "execution_count": 41,
     "metadata": {},
     "output_type": "execute_result"
    }
   ],
   "source": [
    "prompt"
   ]
  },
  {
   "cell_type": "code",
   "execution_count": 42,
   "metadata": {},
   "outputs": [],
   "source": [
    "from langchain.agents import create_openai_tools_agent\n",
    "\n",
    "tools = [web_search]\n",
    "\n",
    "react_agent = create_openai_tools_agent(llm_chat, tools, prompt)"
   ]
  },
  {
   "cell_type": "code",
   "execution_count": 43,
   "metadata": {},
   "outputs": [],
   "source": [
    "from langchain.agents import AgentExecutor\n",
    "\n",
    "\n",
    "react_agent_executor = AgentExecutor(agent=react_agent, tools=tools, verbose=True)"
   ]
  },
  {
   "cell_type": "code",
   "execution_count": 44,
   "metadata": {},
   "outputs": [
    {
     "name": "stdout",
     "output_type": "stream",
     "text": [
      "\n",
      "\n",
      "\u001b[1m> Entering new AgentExecutor chain...\u001b[0m\n",
      "\u001b[32;1m\u001b[1;3mTo learn a new language effectively, there are several strategies and techniques that can be helpful. Here are some of the best ways to learn a new language:\n",
      "\n",
      "1. Immerse Yourself in the Language: One of the most effective ways to learn a new language is to immerse yourself in it as much as possible. This can be done by living in a country where the language is spoken, or by surrounding yourself with native speakers of the language. Immersion helps you to pick up the language naturally and develop your listening and speaking skills.\n",
      "\n",
      "2. Take Language Classes: Taking language classes can provide you with a structured learning environment and guidance from a qualified teacher. Language classes can help you learn the grammar, vocabulary, and pronunciation of the language. Look for classes that focus on conversation practice to improve your speaking skills.\n",
      "\n",
      "3. Practice Regularly: Consistency is key when learning a new language. Set aside regular time each day or week to practice the language. This can include activities such as reading books or articles in the language, watching movies or TV shows in the language, or practicing with language learning apps or websites.\n",
      "\n",
      "4. Use Language Learning Apps and Websites: There are many language learning apps and websites available that can supplement your learning. These platforms often provide interactive exercises, vocabulary lists, and pronunciation practice. Some popular language learning apps include Duolingo, Babbel, and Rosetta Stone.\n",
      "\n",
      "5. Find a Language Exchange Partner: Language exchange partners are native speakers of the language you are learning who are also interested in learning your native language. This can be a great way to practice speaking and listening skills. You can find language exchange partners through online platforms or language exchange meetups in your area.\n",
      "\n",
      "6. Immerse Yourself in Language Resources: Surround yourself with resources in the language you are learning. This can include books, movies, music, podcasts, and online articles. Consuming media in the language will help you become familiar with the culture and improve your language skills.\n",
      "\n",
      "7. Travel to a Country Where the Language is Spoken: If possible, travel to a country where the language is spoken. This will give you the opportunity to practice your language skills in real-life situations and immerse yourself in the culture. Language immersion programs or study abroad opportunities can provide a structured learning experience while abroad.\n",
      "\n",
      "8. Practice Speaking with Native Speakers: Speaking with native speakers is crucial for improving your language skills. Look for opportunities to practice speaking with native speakers, such as language exchange meetups, conversation groups, or online language communities.\n",
      "\n",
      "9. Set Realistic Goals: Set realistic goals for your language learning journey. Break down your goals into smaller, achievable tasks. This will help you stay motivated and track your progress.\n",
      "\n",
      "10. Be Patient and Persistent: Learning a new language takes time and effort. Be patient with yourself and celebrate small victories along the way. Stay persistent and keep practicing, even when it feels challenging.\n",
      "\n",
      "Remember, everyone learns languages differently, so it's important to find the methods that work best for you. Experiment with different strategies and techniques to find what helps you learn and retain the language most effectively.\u001b[0m\n",
      "\n",
      "\u001b[1m> Finished chain.\u001b[0m\n"
     ]
    },
    {
     "data": {
      "text/plain": [
       "{'query': 'What is the best way to learn a new language?',\n",
       " 'agent_scratchpad': [],\n",
       " 'output': \"To learn a new language effectively, there are several strategies and techniques that can be helpful. Here are some of the best ways to learn a new language:\\n\\n1. Immerse Yourself in the Language: One of the most effective ways to learn a new language is to immerse yourself in it as much as possible. This can be done by living in a country where the language is spoken, or by surrounding yourself with native speakers of the language. Immersion helps you to pick up the language naturally and develop your listening and speaking skills.\\n\\n2. Take Language Classes: Taking language classes can provide you with a structured learning environment and guidance from a qualified teacher. Language classes can help you learn the grammar, vocabulary, and pronunciation of the language. Look for classes that focus on conversation practice to improve your speaking skills.\\n\\n3. Practice Regularly: Consistency is key when learning a new language. Set aside regular time each day or week to practice the language. This can include activities such as reading books or articles in the language, watching movies or TV shows in the language, or practicing with language learning apps or websites.\\n\\n4. Use Language Learning Apps and Websites: There are many language learning apps and websites available that can supplement your learning. These platforms often provide interactive exercises, vocabulary lists, and pronunciation practice. Some popular language learning apps include Duolingo, Babbel, and Rosetta Stone.\\n\\n5. Find a Language Exchange Partner: Language exchange partners are native speakers of the language you are learning who are also interested in learning your native language. This can be a great way to practice speaking and listening skills. You can find language exchange partners through online platforms or language exchange meetups in your area.\\n\\n6. Immerse Yourself in Language Resources: Surround yourself with resources in the language you are learning. This can include books, movies, music, podcasts, and online articles. Consuming media in the language will help you become familiar with the culture and improve your language skills.\\n\\n7. Travel to a Country Where the Language is Spoken: If possible, travel to a country where the language is spoken. This will give you the opportunity to practice your language skills in real-life situations and immerse yourself in the culture. Language immersion programs or study abroad opportunities can provide a structured learning experience while abroad.\\n\\n8. Practice Speaking with Native Speakers: Speaking with native speakers is crucial for improving your language skills. Look for opportunities to practice speaking with native speakers, such as language exchange meetups, conversation groups, or online language communities.\\n\\n9. Set Realistic Goals: Set realistic goals for your language learning journey. Break down your goals into smaller, achievable tasks. This will help you stay motivated and track your progress.\\n\\n10. Be Patient and Persistent: Learning a new language takes time and effort. Be patient with yourself and celebrate small victories along the way. Stay persistent and keep practicing, even when it feels challenging.\\n\\nRemember, everyone learns languages differently, so it's important to find the methods that work best for you. Experiment with different strategies and techniques to find what helps you learn and retain the language most effectively.\"}"
      ]
     },
     "execution_count": 44,
     "metadata": {},
     "output_type": "execute_result"
    }
   ],
   "source": [
    "react_agent_executor.invoke({\"query\": \"What is the best way to learn a new language?\",\n",
    "                             \"agent_scratchpad\": []})"
   ]
  },
  {
   "cell_type": "code",
   "execution_count": 45,
   "metadata": {},
   "outputs": [
    {
     "name": "stdout",
     "output_type": "stream",
     "text": [
      "\n",
      "\n",
      "\u001b[1m> Entering new AgentExecutor chain...\u001b[0m\n",
      "\u001b[32;1m\u001b[1;3mTo learn good programming practices, there are several approaches you can take. Here are some of the best ways to learn and improve your programming skills:\n",
      "\n",
      "1. Read Books and Online Resources: There are many books and online resources available that cover programming best practices. Some popular books include \"Clean Code\" by Robert C. Martin and \"The Pragmatic Programmer\" by Andrew Hunt and David Thomas. These resources provide valuable insights and guidelines on writing clean, maintainable, and efficient code.\n",
      "\n",
      "2. Take Online Courses: Online learning platforms like Coursera, Udemy, and edX offer a wide range of programming courses that cover best practices. Look for courses that focus on software engineering principles, code quality, and design patterns. These courses often include practical exercises and assignments to help you apply what you've learned.\n",
      "\n",
      "3. Practice Regularly: The more you practice programming, the better you will become. Set aside dedicated time each day or week to work on coding projects. Practice writing clean and efficient code, and challenge yourself to refactor and improve your existing code.\n",
      "\n",
      "4. Join Coding Communities: Engaging with other programmers and joining coding communities can provide valuable insights and feedback on your code. Participate in online forums, discussion boards, and coding communities like Stack Overflow and GitHub. Collaborating with others and reviewing their code can also help you learn from different programming styles and practices.\n",
      "\n",
      "5. Learn from Open Source Projects: Open source projects are a great way to learn from experienced developers and see how they apply best practices. Explore popular open source projects on platforms like GitHub and contribute to them. Reading and understanding well-written code can help you improve your own coding practices.\n",
      "\n",
      "6. Code Reviews: Seek feedback from experienced programmers by asking for code reviews. Code reviews can help identify areas for improvement and provide suggestions for better coding practices. You can ask for code reviews from colleagues, mentors, or online coding communities.\n",
      "\n",
      "7. Stay Updated: Programming languages and best practices evolve over time. Stay updated with the latest trends, tools, and frameworks in the programming community. Follow programming blogs, subscribe to newsletters, and attend conferences or meetups to stay informed about new techniques and best practices.\n",
      "\n",
      "Remember, learning good programming practices is an ongoing process. Continuously strive to improve your skills, seek feedback, and stay updated with the latest industry standards.\u001b[0m\n",
      "\n",
      "\u001b[1m> Finished chain.\u001b[0m\n"
     ]
    },
    {
     "data": {
      "text/plain": [
       "{'query': 'What is the best way to learn good programming practices?',\n",
       " 'agent_scratchpad': [],\n",
       " 'output': 'To learn good programming practices, there are several approaches you can take. Here are some of the best ways to learn and improve your programming skills:\\n\\n1. Read Books and Online Resources: There are many books and online resources available that cover programming best practices. Some popular books include \"Clean Code\" by Robert C. Martin and \"The Pragmatic Programmer\" by Andrew Hunt and David Thomas. These resources provide valuable insights and guidelines on writing clean, maintainable, and efficient code.\\n\\n2. Take Online Courses: Online learning platforms like Coursera, Udemy, and edX offer a wide range of programming courses that cover best practices. Look for courses that focus on software engineering principles, code quality, and design patterns. These courses often include practical exercises and assignments to help you apply what you\\'ve learned.\\n\\n3. Practice Regularly: The more you practice programming, the better you will become. Set aside dedicated time each day or week to work on coding projects. Practice writing clean and efficient code, and challenge yourself to refactor and improve your existing code.\\n\\n4. Join Coding Communities: Engaging with other programmers and joining coding communities can provide valuable insights and feedback on your code. Participate in online forums, discussion boards, and coding communities like Stack Overflow and GitHub. Collaborating with others and reviewing their code can also help you learn from different programming styles and practices.\\n\\n5. Learn from Open Source Projects: Open source projects are a great way to learn from experienced developers and see how they apply best practices. Explore popular open source projects on platforms like GitHub and contribute to them. Reading and understanding well-written code can help you improve your own coding practices.\\n\\n6. Code Reviews: Seek feedback from experienced programmers by asking for code reviews. Code reviews can help identify areas for improvement and provide suggestions for better coding practices. You can ask for code reviews from colleagues, mentors, or online coding communities.\\n\\n7. Stay Updated: Programming languages and best practices evolve over time. Stay updated with the latest trends, tools, and frameworks in the programming community. Follow programming blogs, subscribe to newsletters, and attend conferences or meetups to stay informed about new techniques and best practices.\\n\\nRemember, learning good programming practices is an ongoing process. Continuously strive to improve your skills, seek feedback, and stay updated with the latest industry standards.'}"
      ]
     },
     "execution_count": 45,
     "metadata": {},
     "output_type": "execute_result"
    }
   ],
   "source": [
    "react_agent_executor.invoke({\"query\": \"What is the best way to learn good programming practices?\",\n",
    "                             \"agent_scratchpad\": []})"
   ]
  },
  {
   "cell_type": "code",
   "execution_count": 47,
   "metadata": {},
   "outputs": [
    {
     "name": "stdout",
     "output_type": "stream",
     "text": [
      "\n",
      "\n",
      "\u001b[1m> Entering new AgentExecutor chain...\u001b[0m\n",
      "\u001b[32;1m\u001b[1;3m\n",
      "Invoking: `web_search` with `{'query': 'current most popular open source frameworks to build llm-based agents in Python'}`\n",
      "\n",
      "\n",
      "\u001b[0m\u001b[36;1m\u001b[1;3m['https://github.com/Hannibal046/Awesome-LLM', 'https://www.simform.com/blog/open-source-llm/', 'https://odsc.medium.com/9-open-source-llms-and-agents-to-watch-728049d77060', 'https://www.unite.ai/best-open-source-llms/', 'https://neptune.ai/blog/best-open-source-mlops-tools', 'https://www.reddit.com/r/LocalLLaMA/comments/17m2lql/best_framework_for_llm_based_applications_in/', 'https://www.taskade.com/blog/top-autonomous-agents/', 'https://www.marktechpost.com/2024/01/03/10-open-source-tools-for-llm-applications-development/', 'https://www.datacamp.com/blog/top-open-source-llms', 'https://eng-shamsan.medium.com/large-language-model-evaluation-tools-2023-open-source-and-commercial-567525c57f82']\u001b[0m\u001b[32;1m\u001b[1;3mI have found some relevant URLs for you to explore:\n",
      "\n",
      "1. [Awesome-LLM](https://github.com/Hannibal046/Awesome-LLM)\n",
      "2. [Open Source LLM](https://www.simform.com/blog/open-source-llm/)\n",
      "3. [9 Open Source LLMs and Agents to Watch](https://odsc.medium.com/9-open-source-llms-and-agents-to-watch-728049d77060)\n",
      "4. [Best Open Source LLMs](https://www.unite.ai/best-open-source-llms/)\n",
      "5. [Best Open Source MLOps Tools](https://neptune.ai/blog/best-open-source-mlops-tools)\n",
      "\n",
      "You can visit these URLs to learn more about the current most popular open source frameworks to build LLM-based agents in Python.\u001b[0m\n",
      "\n",
      "\u001b[1m> Finished chain.\u001b[0m\n"
     ]
    },
    {
     "data": {
      "text/plain": [
       "{'query': 'Research the current most popular open source frameworks to build llm-based agents in Python and return 5 releavnt urls.',\n",
       " 'agent_scratchpad': [],\n",
       " 'output': 'I have found some relevant URLs for you to explore:\\n\\n1. [Awesome-LLM](https://github.com/Hannibal046/Awesome-LLM)\\n2. [Open Source LLM](https://www.simform.com/blog/open-source-llm/)\\n3. [9 Open Source LLMs and Agents to Watch](https://odsc.medium.com/9-open-source-llms-and-agents-to-watch-728049d77060)\\n4. [Best Open Source LLMs](https://www.unite.ai/best-open-source-llms/)\\n5. [Best Open Source MLOps Tools](https://neptune.ai/blog/best-open-source-mlops-tools)\\n\\nYou can visit these URLs to learn more about the current most popular open source frameworks to build LLM-based agents in Python.'}"
      ]
     },
     "execution_count": 47,
     "metadata": {},
     "output_type": "execute_result"
    }
   ],
   "source": [
    "react_agent_executor.invoke({\"query\": \"Research the current most popular open source frameworks to build llm-based agents in Python and return 5 releavnt urls.\",\n",
    "                             \"agent_scratchpad\": []})"
   ]
  },
  {
   "cell_type": "markdown",
   "metadata": {},
   "source": [
    "Now let's build this same agent but using a more in depth approach going one level down in the abstraction layers."
   ]
  },
  {
   "cell_type": "code",
   "execution_count": null,
   "metadata": {},
   "outputs": [],
   "source": []
  },
  {
   "cell_type": "code",
   "execution_count": null,
   "metadata": {},
   "outputs": [],
   "source": []
  },
  {
   "cell_type": "markdown",
   "metadata": {},
   "source": []
  }
 ],
 "metadata": {
  "kernelspec": {
   "display_name": "oreilly-langchain",
   "language": "python",
   "name": "oreilly-langchain"
  },
  "language_info": {
   "codemirror_mode": {
    "name": "ipython",
    "version": 3
   },
   "file_extension": ".py",
   "mimetype": "text/x-python",
   "name": "python",
   "nbconvert_exporter": "python",
   "pygments_lexer": "ipython3",
   "version": "3.11.5"
  }
 },
 "nbformat": 4,
 "nbformat_minor": 2
}
