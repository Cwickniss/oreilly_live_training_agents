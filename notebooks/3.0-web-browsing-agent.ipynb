{
 "cells": [
  {
   "cell_type": "markdown",
   "metadata": {},
   "source": [
    " # Building A Web Browsing Agent to Manage my Letterboxd Account\n",
    "\n",
    " Let's build a cool simple agent that can perform all sorts of tasks related to movie and cinema in the letterboxd website."
   ]
  },
  {
   "cell_type": "markdown",
   "metadata": {},
   "source": [
    "The tools of this agent will be:\n",
    "\n",
    "- Searching movies\n",
    "- Searching movie lists\n",
    "- Add movies to my watch list\n",
    "- Removing movies from my watchlist\n",
    "- Marking when I've already seen a movie from my watchlist\n",
    "- Writing movie reviews based on my impressions"
   ]
  },
  {
   "cell_type": "markdown",
   "metadata": {},
   "source": [
    "For each of these actions we'll define a tool just like we've worked on before and from there we'll setup our agent with different capabilities and test it. "
   ]
  },
  {
   "cell_type": "markdown",
   "metadata": {},
   "source": [
    "Let's start with the login to the account."
   ]
  },
  {
   "cell_type": "markdown",
   "metadata": {},
   "source": [
    "```python\n",
    "\n",
    "```"
   ]
  },
  {
   "cell_type": "markdown",
   "metadata": {},
   "source": [
    "Now, let's create specified tools."
   ]
  },
  {
   "cell_type": "code",
   "execution_count": null,
   "metadata": {},
   "outputs": [],
   "source": []
  },
  {
   "cell_type": "code",
   "execution_count": null,
   "metadata": {},
   "outputs": [],
   "source": [
    "from playwright.sync_api import sync_playwright\n",
    "from pynput import mouse\n",
    "import pyautogui\n",
    "import time\n",
    "import os\n",
    "import sys\n",
    "import time\n",
    "import pyautogui\n",
    "\n",
    "def add_movie_to_letterboxd_watchlist(username, password, movie_to_add_to_watchlist,consent_location):\n",
    "    with sync_playwright() as playwright:\n",
    "        browser = playwright.chromium.launch(headless=False)\n",
    "        context = browser.new_context()\n",
    "        page = context.new_page()\n",
    "\n",
    "        # Go to the login page\n",
    "        page.goto('https://letterboxd.com/')\n",
    "        \n",
    "        time.sleep(2)\n",
    "        # trying clicking on the following coordinates:\n",
    "        pyautogui.click(x=consent_location[0], y=consent_location[1])\n",
    "        time.sleep(1)\n",
    "        # Click on the consent button\n",
    "        page.click('text=Sign in')\n",
    "        page.wait_for_load_state()\n",
    "        # Fill in the username and password fields\n",
    "        page.fill('input[name=\"username\"]', username)\n",
    "        page.fill('input[name=\"password\"]', password)\n",
    "\n",
    "        # Click the login button and wait for navigation\n",
    "        # press tab twice and then enter\n",
    "        page.keyboard.press('Tab')\n",
    "        page.keyboard.press('Tab')\n",
    "        page.keyboard.press('Enter')\n",
    "        \n",
    "        time.sleep(1)\n",
    "        \n",
    "        # click in the search bar and type in a movie (input in this function)\n",
    "        # click in search bar by looking at xpath\n",
    "        page.click('//*[@id=\"header\"]/section/div[1]/div/nav/ul/li[7]/a')\n",
    "        page.fill('input[name=\"q\"]', movie_to_add_to_watchlist)\n",
    "        # click enter\n",
    "        page.keyboard.press('Enter')\n",
    "        \n",
    "        # click on this xpath\n",
    "        page.click('//*[@id=\"content\"]/div/div/section/ul/li[1]/div[2]/h2/span')\n",
    "        \n",
    "        page.wait_for_load_state()\n",
    "        \n",
    "        page.click('//*[@id=\"userpanel\"]/ul/li[1]/span[4]')\n",
    "        \n",
    "        time.sleep(3)\n",
    "        # Close the browser\n",
    "        context.close()\n",
    "        browser.close()\n",
    "\n",
    "\n",
    "def record_click_position():\n",
    "    click_position = None  # Variable to store the click position\n",
    "\n",
    "    def on_click(x, y, button, pressed):\n",
    "        nonlocal click_position  # Refer to the non-local variable\n",
    "        if pressed:\n",
    "            click_position = pyautogui.position()\n",
    "            return False  # Stop the listener\n",
    "\n",
    "    with mouse.Listener(on_click=on_click) as listener:\n",
    "        listener.join()\n",
    "\n",
    "    return click_position\n",
    "\n",
    "def reset_consent_location():\n",
    "    with sync_playwright() as playwright:\n",
    "        browser = playwright.chromium.launch(headless=False)\n",
    "        context = browser.new_context()\n",
    "        page = context.new_page()\n",
    "\n",
    "        # Go to the login page\n",
    "        page.goto('https://letterboxd.com/')\n",
    "        consent_location = record_click_position()\n",
    "    \n",
    "    return consent_location\n",
    "\n",
    "\n",
    "\n",
    "letterboxd_user = os.environ[\"LETTERBOXD_USER\"]\n",
    "letterboxd_pwd = os.environ[\"LETTERBOXD_PWD\"]\n",
    "movie = sys.argv[1]\n",
    "try:\n",
    "    add_movie_to_letterboxd_watchlist(letterboxd_user, letterboxd_pwd, movie, consent_location=(776, 673))\n",
    "except Exception as e:\n",
    "    print(\"You had this error: \", e)\n",
    "    reset_loc = input(\"Would you like to reset the consent location? (y/n)\")\n",
    "    if reset_loc == \"y\":\n",
    "        consent_location = reset_consent_location()\n",
    "        print(\"Your new consent button location is: \")\n",
    "        print(consent_location)\n",
    "        run_again = input(\"Would you like to run the script again? (y/n)\")\n",
    "        if run_again == \"y\":\n",
    "            add_movie_to_letterboxd_watchlist(letterboxd_user, letterboxd_pwd, movie, consent_location=consent_location)\n",
    "        else:\n",
    "            print(\"Ok, bye!\")"
   ]
  }
 ],
 "metadata": {
  "kernelspec": {
   "display_name": "oreilly-agents",
   "language": "python",
   "name": "oreilly-agents"
  },
  "language_info": {
   "codemirror_mode": {
    "name": "ipython",
    "version": 3
   },
   "file_extension": ".py",
   "mimetype": "text/x-python",
   "name": "python",
   "nbconvert_exporter": "python",
   "pygments_lexer": "ipython3",
   "version": "3.11.5"
  }
 },
 "nbformat": 4,
 "nbformat_minor": 2
}
