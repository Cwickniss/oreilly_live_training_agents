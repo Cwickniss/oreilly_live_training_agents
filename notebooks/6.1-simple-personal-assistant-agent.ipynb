{
 "cells": [
  {
   "cell_type": "code",
   "execution_count": null,
   "metadata": {},
   "outputs": [],
   "source": [
    "# !pip install langchain\n",
    "# !pip install langchain-community\n",
    "# !pip install langchain-openai"
   ]
  },
  {
   "cell_type": "code",
   "execution_count": null,
   "metadata": {},
   "outputs": [],
   "source": [
    "# uncomment this if running locally\n",
    "# from dotenv import load_dotenv\n",
    "\n",
    "# load_dotenv()\n",
    "\n",
    "# FILEPATH: /Users/greatmaster/Desktop/projects/oreilly-live-trainings/oreilly_live_training_agents/notebooks/1.3-intro-agents-with-langchain.ipynb\n",
    "# SET YOUR API KEYS FOR LANGSMITH AND TAVILY TO RUN THIS NOTEBOOK!\n",
    "# langsmith: https://docs.smith.langchain.com/#:~:text=install%20-U%20langsmith-,Create%20an%20API%20key,click%20Create%20API%20Key.,-Setup%20your%20environment\n",
    "# tavily: https://app.tavily.com/sign-in\n",
    "# openai: https://platform.openai.com/docs/quickstart\n",
    "# import os\n",
    "# os.environ[\"LANGCHAIN_TRACING_V2\"] = \"true\"\n",
    "# os.environ[\"LANGCHAIN_API_KEY\"] = \"your-api-key\"\n",
    "# os.environ[\"TAVILY_API_KEY\"] = \"your-api-key\"\n",
    "# os.environ[\"OPENAI_API_KEY\"] = 'your-api-key'"
   ]
  },
  {
   "cell_type": "markdown",
   "metadata": {},
   "source": [
    "Personal Assistant Agent\n",
    "- Accees to emails\n",
    "- acceess to my terminal for controlling different things like creating files etc...\n",
    "- Have the assistant create our tasks for us"
   ]
  },
  {
   "cell_type": "code",
   "execution_count": 1,
   "metadata": {},
   "outputs": [],
   "source": [
    "from langchain.agents import create_tool_calling_agent\n",
    "from langchain_openai import ChatOpenAI\n",
    "from langchain import hub\n",
    "from langchain.tools import tool\n",
    "from langchain.agents import AgentExecutor\n",
    "from langchain_community.document_loaders import PyPDFLoader\n",
    "import subprocess\n",
    "import os\n",
    "import smtplib\n",
    "from email.mime.multipart import MIMEMultipart\n",
    "from email.mime.text import MIMEText\n",
    "import subprocess"
   ]
  },
  {
   "cell_type": "code",
   "execution_count": 2,
   "metadata": {},
   "outputs": [],
   "source": [
    "@tool\n",
    "def send_email(destination_email, message_content, subject_content):\n",
    "    \"This function takes in destination email and the contents and sends out an email.\"\n",
    "    # Sender email address\n",
    "    sender_email = \"lucasenkrateia@gmail.com\"\n",
    "\n",
    "    # Email Subject\n",
    "    subject = subject_content\n",
    "\n",
    "    # Email body\n",
    "    body = message_content\n",
    "\n",
    "    # SMTP server credentials\n",
    "    smtp_server = \"smtp.gmail.com\"\n",
    "    smtp_port = 587  # For starttls\n",
    "    smtp_user = sender_email\n",
    "    smtp_password = os.environ[\"GMAIL_PWD\"]\n",
    "\n",
    "    # Create a multipart message and set headers\n",
    "    message = MIMEMultipart()\n",
    "    message[\"From\"] = sender_email\n",
    "    message[\"To\"] = destination_email\n",
    "    message[\"Subject\"] = subject\n",
    "\n",
    "    # Add body to email\n",
    "    message.attach(MIMEText(body, \"plain\"))\n",
    "\n",
    "    # Convert message to string for sending\n",
    "    text = message.as_string()\n",
    "\n",
    "    # Send email\n",
    "    try:\n",
    "        # Connect to the server\n",
    "        server = smtplib.SMTP(smtp_server, smtp_port)\n",
    "        server.starttls()  # Secure the connection\n",
    "        server.login(smtp_user, smtp_password)\n",
    "        \n",
    "        # Send the email\n",
    "        server.sendmail(sender_email, destination_email, text)\n",
    "        print(\"Email sent successfully\")\n",
    "    except Exception as e:\n",
    "        # Print any error messages to stdout\n",
    "        print(f\"Error: {e}\")\n",
    "    finally:\n",
    "        server.quit()\n",
    "\n",
    "\n",
    "@tool\n",
    "def execute_bash_command(command):\n",
    "    \"\"\"Executes a bash command.\"\"\"\n",
    "    result = subprocess.run(command, shell=True)\n",
    "    output = result.stdout\n",
    "    return output\n",
    "\n",
    "@tool\n",
    "def read_txt_tool(file_path):\n",
    "    \"\"\"Reads contents of a .txt file.\"\"\"\n",
    "    with open(file_path, \"r\") as f:\n",
    "        contents = f.read()\n",
    "    \n",
    "    return contents\n",
    "\n",
    "@tool\n",
    "def summarize_pdf(pdfpath):\n",
    "    \"\"\"Summarizes the contents of a pdf\"\"\"\n",
    "    loader = PyPDFLoader(pdfpath)\n",
    "    documents = loader.load()\n",
    "    contents = \"\"\n",
    "    for doc in documents:\n",
    "        contents += doc.page_content + \"\\n\"\n",
    "    \n",
    "    summary = ChatOpenAI(temperature=0, model=\"gpt-4o\").invoke(f\"Summarize this content into simplified bullet points: {contents}\")\n",
    "    \n",
    "    return summary.content\n",
    "    \n",
    "tools = [execute_bash_command, send_email, read_txt_tool, summarize_pdf]"
   ]
  },
  {
   "cell_type": "code",
   "execution_count": 3,
   "metadata": {},
   "outputs": [
    {
     "data": {
      "text/plain": [
       "ChatPromptTemplate(input_variables=['agent_scratchpad', 'input'], input_types={'chat_history': typing.List[typing.Union[langchain_core.messages.ai.AIMessage, langchain_core.messages.human.HumanMessage, langchain_core.messages.chat.ChatMessage, langchain_core.messages.system.SystemMessage, langchain_core.messages.function.FunctionMessage, langchain_core.messages.tool.ToolMessage]], 'agent_scratchpad': typing.List[typing.Union[langchain_core.messages.ai.AIMessage, langchain_core.messages.human.HumanMessage, langchain_core.messages.chat.ChatMessage, langchain_core.messages.system.SystemMessage, langchain_core.messages.function.FunctionMessage, langchain_core.messages.tool.ToolMessage]]}, metadata={'lc_hub_owner': 'hwchase17', 'lc_hub_repo': 'openai-tools-agent', 'lc_hub_commit_hash': 'c18672812789a3b9697656dd539edf0120285dcae36396d0b548ae42a4ed66f5'}, messages=[SystemMessagePromptTemplate(prompt=PromptTemplate(input_variables=[], template='You are a helpful assistant')), MessagesPlaceholder(variable_name='chat_history', optional=True), HumanMessagePromptTemplate(prompt=PromptTemplate(input_variables=['input'], template='{input}')), MessagesPlaceholder(variable_name='agent_scratchpad')])"
      ]
     },
     "execution_count": 3,
     "metadata": {},
     "output_type": "execute_result"
    }
   ],
   "source": [
    "prompt = hub.pull(\"hwchase17/openai-tools-agent\")\n",
    "\n",
    "prompt"
   ]
  },
  {
   "cell_type": "code",
   "execution_count": 4,
   "metadata": {},
   "outputs": [],
   "source": [
    "llm = ChatOpenAI(model=\"gpt-4o\")"
   ]
  },
  {
   "cell_type": "code",
   "execution_count": 5,
   "metadata": {},
   "outputs": [],
   "source": [
    "agent = create_tool_calling_agent(llm, tools, prompt)"
   ]
  },
  {
   "cell_type": "code",
   "execution_count": 6,
   "metadata": {},
   "outputs": [],
   "source": [
    "agent_executor = AgentExecutor(agent=agent, tools=tools, verbose=True)"
   ]
  },
  {
   "cell_type": "code",
   "execution_count": 7,
   "metadata": {},
   "outputs": [
    {
     "name": "stdout",
     "output_type": "stream",
     "text": [
      "\n",
      "\n",
      "\u001b[1m> Entering new AgentExecutor chain...\u001b[0m\n",
      "\u001b[32;1m\u001b[1;3m\n",
      "Invoking: `execute_bash_command` with `{'command': \"echo '1. Automate data entry in spreadsheets\\n2. Set up automated email responses\\n3. Automate backups of important files\\n4. Schedule social media posts\\n5. Automate invoice generation\\n6. Monitor website uptime and send alerts\\n7. Automate data scraping from websites\\n8. Schedule system cleanups\\n9. Automate sending out customer surveys\\n10. Automate report generation from databases' > tasks-for-lucas.txt\"}`\n",
      "\n",
      "\n",
      "\u001b[0m\u001b[36;1m\u001b[1;3mNone\u001b[0m\u001b[32;1m\u001b[1;3m\n",
      "Invoking: `read_txt_tool` with `{'file_path': 'tasks-for-lucas.txt'}`\n",
      "\n",
      "\n",
      "\u001b[0m\u001b[38;5;200m\u001b[1;3m1. Automate data entry in spreadsheets\n",
      "2. Set up automated email responses\n",
      "3. Automate backups of important files\n",
      "4. Schedule social media posts\n",
      "5. Automate invoice generation\n",
      "6. Monitor website uptime and send alerts\n",
      "7. Automate data scraping from websites\n",
      "8. Schedule system cleanups\n",
      "9. Automate sending out customer surveys\n",
      "10. Automate report generation from databases\n",
      "\u001b[0m\u001b[32;1m\u001b[1;3m\n",
      "Invoking: `send_email` with `{'destination_email': 'lucasbnsoares@hotmail.com', 'subject_content': 'Top 3 Automation Tasks', 'message_content': 'Hi Lucas,\\n\\nHere are the top 3 automation tasks from the list:\\n\\n1. Automate data entry in spreadsheets\\n2. Set up automated email responses\\n3. Automate backups of important files\\n\\nBest regards,\\n[Your Name]'}`\n",
      "\n",
      "\n",
      "\u001b[0mEmail sent successfully\n",
      "\u001b[33;1m\u001b[1;3mNone\u001b[0m\u001b[32;1m\u001b[1;3mThe file `tasks-for-lucas.txt` has been created with 10 interesting automation tasks, and an email with the top 3 tasks has been sent to lucasbnsoares@hotmail.com.\u001b[0m\n",
      "\n",
      "\u001b[1m> Finished chain.\u001b[0m\n"
     ]
    },
    {
     "data": {
      "text/plain": [
       "{'input': \"1. Create a file named tasks-for-lucas.txt containing 10 automation tasks you find interesting. 2. Send email to '''lucasbnsoares@hotmail.com''' with the top 3 tasks from that file.\",\n",
       " 'agent_scratchpad': [],\n",
       " 'output': 'The file `tasks-for-lucas.txt` has been created with 10 interesting automation tasks, and an email with the top 3 tasks has been sent to lucasbnsoares@hotmail.com.'}"
      ]
     },
     "execution_count": 7,
     "metadata": {},
     "output_type": "execute_result"
    }
   ],
   "source": [
    "agent_executor.invoke({\"input\": \"1. Create a file named tasks-for-lucas.txt containing 10 automation tasks you find interesting. 2. Send email to '''lucasbnsoares@hotmail.com''' with the top 3 tasks from that file.\",\n",
    "                       \"agent_scratchpad\": []})"
   ]
  },
  {
   "cell_type": "code",
   "execution_count": 8,
   "metadata": {},
   "outputs": [
    {
     "name": "stdout",
     "output_type": "stream",
     "text": [
      "1. Automate the summarization of PDF documents for quick review.\n",
      "2. Automate the process of converting speech to text for meeting notes.\n",
      "3. Create a bot that automatically responds to specific emails based on predefined criteria.\n",
      "4. Develop a system that automatically backs up important files to the cloud at scheduled intervals.\n",
      "5. Implement a tool that tracks and reports on changes to specific websites or web pages.\n",
      "6. Create a script that automatically organizes files in a folder based on their type or content.\n",
      "7. Develop a program that can automatically edit videos based on user-defined parameters.\n",
      "8. Automate the process of data entry from scanned documents into a database.\n",
      "9. Create a bot that can automatically post content to social media platforms based on a schedule.\n",
      "10. Implement an AI-driven assistant that can help manage and prioritize emails.\n"
     ]
    }
   ],
   "source": [
    "!cat tasks-for-lucas.txt"
   ]
  },
  {
   "cell_type": "markdown",
   "metadata": {},
   "source": [
    "![agent-email-automations-top-3](assets-resources/agent-email-automations-top-3.png)"
   ]
  },
  {
   "cell_type": "code",
   "execution_count": 9,
   "metadata": {},
   "outputs": [
    {
     "name": "stdout",
     "output_type": "stream",
     "text": [
      "\n",
      "\n",
      "\u001b[1m> Entering new AgentExecutor chain...\u001b[0m\n",
      "\u001b[32;1m\u001b[1;3m\n",
      "Invoking: `execute_bash_command` with `{'command': \"mkdir -p lucas-test && echo 'The unexamined life is not worth living. - Socrates' > lucas-test/lucas-test.txt && cat lucas-test/lucas-test.txt\"}`\n",
      "\n",
      "\n",
      "\u001b[0mThe unexamined life is not worth living. - Socrates\n",
      "\u001b[36;1m\u001b[1;3mNone\u001b[0m\u001b[32;1m\u001b[1;3m\n",
      "Invoking: `read_txt_tool` with `{'file_path': 'lucas-test/lucas-test.txt'}`\n",
      "\n",
      "\n",
      "\u001b[0m\u001b[38;5;200m\u001b[1;3mThe unexamined life is not worth living. - Socrates\n",
      "\u001b[0m\u001b[32;1m\u001b[1;3m\n",
      "Invoking: `send_email` with `{'destination_email': 'lucasbnsoares@hotmail.com', 'message_content': 'The unexamined life is not worth living. - Socrates', 'subject_content': 'Philosophical Quote'}`\n",
      "\n",
      "\n",
      "\u001b[0mEmail sent successfully\n",
      "\u001b[33;1m\u001b[1;3mNone\u001b[0m\u001b[32;1m\u001b[1;3mThe folder `lucas-test` has been created with a file named `lucas-test.txt` containing the quote \"The unexamined life is not worth living. - Socrates\". An email with this quote has also been sent to `lucasbnsoares@hotmail.com`.\u001b[0m\n",
      "\n",
      "\u001b[1m> Finished chain.\u001b[0m\n"
     ]
    },
    {
     "data": {
      "text/plain": [
       "{'input': \"Create a folder named `lucas-test`. Inside that folder create a file named lucas-test.txt containing a random quote from a famous philosopher. Send an email to '''lucasbnsoares@hotmail.com''' with that quote.\",\n",
       " 'agent_scratchpad': [],\n",
       " 'output': 'The folder `lucas-test` has been created with a file named `lucas-test.txt` containing the quote \"The unexamined life is not worth living. - Socrates\". An email with this quote has also been sent to `lucasbnsoares@hotmail.com`.'}"
      ]
     },
     "execution_count": 9,
     "metadata": {},
     "output_type": "execute_result"
    }
   ],
   "source": [
    "agent_executor.invoke({\"input\": \"Create a folder named `lucas-test`. Inside that folder create a file named lucas-test.txt containing a random quote from a famous philosopher. Send an email to '''lucasbnsoares@hotmail.com''' with that quote.\",\n",
    "                             \"agent_scratchpad\": []})"
   ]
  },
  {
   "cell_type": "markdown",
   "metadata": {},
   "source": [
    "![quote-socrates](assets-resources/quote-proof.png)"
   ]
  },
  {
   "cell_type": "code",
   "execution_count": 11,
   "metadata": {},
   "outputs": [
    {
     "name": "stdout",
     "output_type": "stream",
     "text": [
      "\n",
      "\n",
      "\u001b[1m> Entering new AgentExecutor chain...\u001b[0m\n",
      "\u001b[32;1m\u001b[1;3m\n",
      "Invoking: `summarize_pdf` with `{'pdfpath': './assets-resources/tree-of-thoughts.pdf'}`\n",
      "\n",
      "\n",
      "\u001b[0m\u001b[36;1m\u001b[1;3m**Tree of Thoughts: Deliberate Problem Solving with Large Language Models**\n",
      "\n",
      "- **Problem**: Current language models (LMs) like GPT-4 are limited by token-level, left-to-right decision-making, which hinders their performance in tasks requiring strategic planning or exploration.\n",
      "- **Solution**: Introduce \"Tree of Thoughts\" (ToT) framework to enhance LMs by enabling exploration over coherent units of text (\"thoughts\") and allowing deliberate decision-making.\n",
      "- **Key Features of ToT**:\n",
      "  - **Thought Decomposition**: Break down the problem-solving process into intermediate steps or \"thoughts\".\n",
      "  - **Thought Generation**: Generate multiple potential thoughts for each step.\n",
      "  - **State Evaluation**: Evaluate the progress of each state towards solving the problem.\n",
      "  - **Search Algorithms**: Use search algorithms like breadth-first search (BFS) or depth-first search (DFS) to explore the tree of thoughts.\n",
      "- **Experiments**:\n",
      "  - **Game of 24**: ToT significantly outperformed standard methods, achieving a 74% success rate compared to 4% with chain-of-thought (CoT) prompting.\n",
      "  - **Creative Writing**: ToT generated more coherent passages than IO and CoT prompting, as evaluated by both GPT-4 and human judges.\n",
      "  - **Mini Crosswords**: ToT achieved a 60% word-level success rate, significantly higher than IO and CoT methods.\n",
      "- **Benefits of ToT**:\n",
      "  - **Generality**: Can be applied to various problem-solving tasks.\n",
      "  - **Modularity**: Components like thought generation and evaluation can be independently varied.\n",
      "  - **Adaptability**: Can be customized based on problem properties and resource constraints.\n",
      "  - **Convenience**: No extra training required, just a pre-trained LM.\n",
      "- **Future Directions**:\n",
      "  - Explore more complex tasks and better heuristics for state evaluation.\n",
      "  - Fine-tune LMs using ToT-style high-level decision-making.\n",
      "- **Broader Impact**: ToT improves interpretability and alignment of model decisions but also raises potential risks in real-world applications.\n",
      "\n",
      "**Conclusion**: ToT framework augments LMs' associative \"System 1\" with a deliberate \"System 2\" for better problem-solving, combining classical AI insights with modern LMs.\u001b[0m\u001b[32;1m\u001b[1;3m\n",
      "Invoking: `send_email` with `{'destination_email': 'lucasbnsoares@hotmail.com', 'message_content': '**Tree of Thoughts: Deliberate Problem Solving with Large Language Models**\\n\\n- **Problem**: Current language models (LMs) like GPT-4 are limited by token-level, left-to-right decision-making, which hinders their performance in tasks requiring strategic planning or exploration.\\n- **Solution**: Introduce \"Tree of Thoughts\" (ToT) framework to enhance LMs by enabling exploration over coherent units of text (\"thoughts\") and allowing deliberate decision-making.\\n- **Key Features of ToT**:\\n  - **Thought Decomposition**: Break down the problem-solving process into intermediate steps or \"thoughts\".\\n  - **Thought Generation**: Generate multiple potential thoughts for each step.\\n  - **State Evaluation**: Evaluate the progress of each state towards solving the problem.\\n  - **Search Algorithms**: Use search algorithms like breadth-first search (BFS) or depth-first search (DFS) to explore the tree of thoughts.\\n- **Experiments**:\\n  - **Game of 24**: ToT significantly outperformed standard methods, achieving a 74% success rate compared to 4% with chain-of-thought (CoT) prompting.\\n  - **Creative Writing**: ToT generated more coherent passages than IO and CoT prompting, as evaluated by both GPT-4 and human judges.\\n  - **Mini Crosswords**: ToT achieved a 60% word-level success rate, significantly higher than IO and CoT methods.\\n- **Benefits of ToT**:\\n  - **Generality**: Can be applied to various problem-solving tasks.\\n  - **Modularity**: Components like thought generation and evaluation can be independently varied.\\n  - **Adaptability**: Can be customized based on problem properties and resource constraints.\\n  - **Convenience**: No extra training required, just a pre-trained LM.\\n- **Future Directions**:\\n  - Explore more complex tasks and better heuristics for state evaluation.\\n  - Fine-tune LMs using ToT-style high-level decision-making.\\n- **Broader Impact**: ToT improves interpretability and alignment of model decisions but also raises potential risks in real-world applications.\\n\\n**Conclusion**: ToT framework augments LMs\\' associative \"System 1\" with a deliberate \"System 2\" for better problem-solving, combining classical AI insights with modern LMs.', 'subject_content': 'Summary of Tree of Thoughts: Deliberate Problem Solving with Large Language Models'}`\n",
      "\n",
      "\n",
      "\u001b[0mEmail sent successfully\n",
      "\u001b[33;1m\u001b[1;3mNone\u001b[0m\u001b[32;1m\u001b[1;3mThe contents of the PDF have been summarized and sent to lucasbnsoares@hotmail.com. If you need any further assistance, feel free to ask!\u001b[0m\n",
      "\n",
      "\u001b[1m> Finished chain.\u001b[0m\n"
     ]
    },
    {
     "data": {
      "text/plain": [
       "{'input': \"1. Read the contents of this pdf: located in ./assets-resources/tree-of-thoughts.pdf 2.Send a summary to '''lucasbnsoares@hotmail.com'''\",\n",
       " 'agent_scratchpad': [],\n",
       " 'output': 'The contents of the PDF have been summarized and sent to lucasbnsoares@hotmail.com. If you need any further assistance, feel free to ask!'}"
      ]
     },
     "execution_count": 11,
     "metadata": {},
     "output_type": "execute_result"
    }
   ],
   "source": [
    "agent_executor.invoke({\"input\": \"\"\"1. Read the contents of this pdf: located in ./assets-resources/tree-of-thoughts.pdf 2.Send a summary to '''lucasbnsoares@hotmail.com'''\"\"\",\n",
    "                                \"agent_scratchpad\": []})"
   ]
  },
  {
   "cell_type": "markdown",
   "metadata": {},
   "source": [
    "![summary-email](./assets-resources/summary-email.png)"
   ]
  }
 ],
 "metadata": {
  "kernelspec": {
   "display_name": "oreilly-agents",
   "language": "python",
   "name": "oreilly-agents"
  },
  "language_info": {
   "codemirror_mode": {
    "name": "ipython",
    "version": 3
   },
   "file_extension": ".py",
   "mimetype": "text/x-python",
   "name": "python",
   "nbconvert_exporter": "python",
   "pygments_lexer": "ipython3",
   "version": "3.11.9"
  }
 },
 "nbformat": 4,
 "nbformat_minor": 2
}
