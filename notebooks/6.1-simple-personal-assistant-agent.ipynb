{
 "cells": [
  {
   "cell_type": "code",
   "execution_count": null,
   "metadata": {},
   "outputs": [],
   "source": [
    "!pip install langchain\n",
    "!pip install langchain-community\n",
    "!pip install langchain-openai"
   ]
  },
  {
   "cell_type": "code",
   "execution_count": null,
   "metadata": {},
   "outputs": [],
   "source": [
    "# uncomment this if running locally\n",
    "# from dotenv import load_dotenv\n",
    "\n",
    "# load_dotenv()\n",
    "\n",
    "# FILEPATH: /Users/greatmaster/Desktop/projects/oreilly-live-trainings/oreilly_live_training_agents/notebooks/1.3-intro-agents-with-langchain.ipynb\n",
    "# SET YOUR API KEYS FOR LANGSMITH AND TAVILY TO RUN THIS NOTEBOOK!\n",
    "# langsmith: https://docs.smith.langchain.com/#:~:text=install%20-U%20langsmith-,Create%20an%20API%20key,click%20Create%20API%20Key.,-Setup%20your%20environment\n",
    "# tavily: https://app.tavily.com/sign-in\n",
    "# openai: https://platform.openai.com/docs/quickstart\n",
    "import os\n",
    "os.environ[\"LANGCHAIN_TRACING_V2\"] = \"true\"\n",
    "os.environ[\"LANGCHAIN_API_KEY\"] = \"your-api-key\"\n",
    "os.environ[\"TAVILY_API_KEY\"] = \"your-api-key\"\n",
    "os.environ[\"OPENAI_API_KEY\"] = 'your-api-key'"
   ]
  },
  {
   "cell_type": "markdown",
   "metadata": {},
   "source": [
    "Personal Assistant Agent\n",
    "- Accees to emails\n",
    "- acceess to my terminal for controlling different things like creating files etc...\n",
    "- Have the assistant create our tasks for us"
   ]
  },
  {
   "cell_type": "code",
   "execution_count": 1,
   "metadata": {},
   "outputs": [],
   "source": [
    "from langchain.agents import create_openai_tools_agent\n",
    "from langchain_openai import ChatOpenAI\n",
    "from langchain import hub\n",
    "from langchain.tools import tool\n",
    "from langchain.agents import AgentExecutor\n",
    "from langchain_community.document_loaders import PyPDFLoader\n",
    "import subprocess\n",
    "import os\n",
    "import smtplib\n",
    "from email.mime.multipart import MIMEMultipart\n",
    "from email.mime.text import MIMEText\n",
    "import subprocess\n",
    "import shlex"
   ]
  },
  {
   "cell_type": "code",
   "execution_count": 2,
   "metadata": {},
   "outputs": [],
   "source": [
    "@tool\n",
    "def send_email(destination_email, message_content, subject_content):\n",
    "    \"This function takes in destination email and the contents and sends out an email.\"\n",
    "    # Sender email address\n",
    "    sender_email = \"lucasenkrateia@gmail.com\"\n",
    "\n",
    "    # Email Subject\n",
    "    subject = subject_content\n",
    "\n",
    "    # Email body\n",
    "    body = message_content\n",
    "\n",
    "    # SMTP server credentials\n",
    "    smtp_server = \"smtp.gmail.com\"\n",
    "    smtp_port = 587  # For starttls\n",
    "    smtp_user = sender_email\n",
    "    smtp_password = os.environ[\"GMAIL_PWD\"]\n",
    "\n",
    "    # Create a multipart message and set headers\n",
    "    message = MIMEMultipart()\n",
    "    message[\"From\"] = sender_email\n",
    "    message[\"To\"] = destination_email\n",
    "    message[\"Subject\"] = subject\n",
    "\n",
    "    # Add body to email\n",
    "    message.attach(MIMEText(body, \"plain\"))\n",
    "\n",
    "    # Convert message to string for sending\n",
    "    text = message.as_string()\n",
    "\n",
    "    # Send email\n",
    "    try:\n",
    "        # Connect to the server\n",
    "        server = smtplib.SMTP(smtp_server, smtp_port)\n",
    "        server.starttls()  # Secure the connection\n",
    "        server.login(smtp_user, smtp_password)\n",
    "        \n",
    "        # Send the email\n",
    "        server.sendmail(sender_email, destination_email, text)\n",
    "        print(\"Email sent successfully\")\n",
    "    except Exception as e:\n",
    "        # Print any error messages to stdout\n",
    "        print(f\"Error: {e}\")\n",
    "    finally:\n",
    "        server.quit()\n",
    "\n",
    "\n",
    "@tool\n",
    "def execute_bash_command(command):\n",
    "    \"\"\"Executes a bash command.\"\"\"\n",
    "    result = subprocess.run(command, shell=True)\n",
    "    output = result.stdout\n",
    "    return output\n",
    "\n",
    "@tool\n",
    "def read_txt_tool(file_path):\n",
    "    \"\"\"Reads contents of a .txt file.\"\"\"\n",
    "    with open(file_path, \"r\") as f:\n",
    "        contents = f.read()\n",
    "    \n",
    "    return contents\n",
    "\n",
    "@tool\n",
    "def summarize_pdf(pdfpath):\n",
    "    \"\"\"Summarizes the contents of a pdf\"\"\"\n",
    "    loader = PyPDFLoader(pdfpath)\n",
    "    documents = loader.load()\n",
    "    contents = \"\"\n",
    "    for doc in documents:\n",
    "        contents += doc.page_content + \"\\n\"\n",
    "    \n",
    "    summary = ChatOpenAI(temperature=0, model=\"gpt-3.5-turbo-0125\").invoke(f\"Summarize this content into simplified bullet points: {contents}\")\n",
    "    \n",
    "    return summary.content\n",
    "    \n",
    "tools = [execute_bash_command, send_email, read_txt_tool, summarize_pdf]"
   ]
  },
  {
   "cell_type": "code",
   "execution_count": 3,
   "metadata": {},
   "outputs": [
    {
     "data": {
      "text/plain": [
       "ChatPromptTemplate(input_variables=['agent_scratchpad', 'input'], input_types={'chat_history': typing.List[typing.Union[langchain_core.messages.ai.AIMessage, langchain_core.messages.human.HumanMessage, langchain_core.messages.chat.ChatMessage, langchain_core.messages.system.SystemMessage, langchain_core.messages.function.FunctionMessage, langchain_core.messages.tool.ToolMessage]], 'agent_scratchpad': typing.List[typing.Union[langchain_core.messages.ai.AIMessage, langchain_core.messages.human.HumanMessage, langchain_core.messages.chat.ChatMessage, langchain_core.messages.system.SystemMessage, langchain_core.messages.function.FunctionMessage, langchain_core.messages.tool.ToolMessage]]}, messages=[SystemMessagePromptTemplate(prompt=PromptTemplate(input_variables=[], template='You are a helpful assistant')), MessagesPlaceholder(variable_name='chat_history', optional=True), HumanMessagePromptTemplate(prompt=PromptTemplate(input_variables=['input'], template='{input}')), MessagesPlaceholder(variable_name='agent_scratchpad')])"
      ]
     },
     "execution_count": 3,
     "metadata": {},
     "output_type": "execute_result"
    }
   ],
   "source": [
    "prompt = hub.pull(\"hwchase17/openai-functions-agent\")\n",
    "\n",
    "prompt"
   ]
  },
  {
   "cell_type": "code",
   "execution_count": 4,
   "metadata": {},
   "outputs": [],
   "source": [
    "llm = ChatOpenAI(model=\"gpt-4-0125-preview\")"
   ]
  },
  {
   "cell_type": "code",
   "execution_count": 5,
   "metadata": {},
   "outputs": [],
   "source": [
    "agent = create_openai_tools_agent(llm, tools, prompt)"
   ]
  },
  {
   "cell_type": "code",
   "execution_count": 6,
   "metadata": {},
   "outputs": [],
   "source": [
    "agent_executor = AgentExecutor(agent=agent, tools=tools, verbose=True)"
   ]
  },
  {
   "cell_type": "code",
   "execution_count": 7,
   "metadata": {},
   "outputs": [
    {
     "name": "stdout",
     "output_type": "stream",
     "text": [
      "\n",
      "\n",
      "\u001b[1m> Entering new AgentExecutor chain...\u001b[0m\n",
      "\u001b[32;1m\u001b[1;3m\n",
      "Invoking: `execute_bash_command` with `{'command': 'echo \"1. Automate the summarization of PDF documents for quick review.\\n2. Automate the process of converting speech to text for meeting notes.\\n3. Create a bot that automatically responds to specific emails based on predefined criteria.\\n4. Develop a system that automatically backs up important files to the cloud at scheduled intervals.\\n5. Implement a tool that tracks and reports on changes to specific websites or web pages.\\n6. Create a script that automatically organizes files in a folder based on their type or content.\\n7. Develop a program that can automatically edit videos based on user-defined parameters.\\n8. Automate the process of data entry from scanned documents into a database.\\n9. Create a bot that can automatically post content to social media platforms based on a schedule.\\n10. Implement an AI-driven assistant that can help manage and prioritize emails.\" > tasks-for-lucas.txt'}`\n",
      "\n",
      "\n",
      "\u001b[0m\u001b[36;1m\u001b[1;3mNone\u001b[0m\u001b[32;1m\u001b[1;3m\n",
      "Invoking: `read_txt_tool` with `{'file_path': 'tasks-for-lucas.txt'}`\n",
      "\n",
      "\n",
      "\u001b[0m\u001b[38;5;200m\u001b[1;3m1. Automate the summarization of PDF documents for quick review.\n",
      "2. Automate the process of converting speech to text for meeting notes.\n",
      "3. Create a bot that automatically responds to specific emails based on predefined criteria.\n",
      "4. Develop a system that automatically backs up important files to the cloud at scheduled intervals.\n",
      "5. Implement a tool that tracks and reports on changes to specific websites or web pages.\n",
      "6. Create a script that automatically organizes files in a folder based on their type or content.\n",
      "7. Develop a program that can automatically edit videos based on user-defined parameters.\n",
      "8. Automate the process of data entry from scanned documents into a database.\n",
      "9. Create a bot that can automatically post content to social media platforms based on a schedule.\n",
      "10. Implement an AI-driven assistant that can help manage and prioritize emails.\n",
      "\u001b[0m\u001b[32;1m\u001b[1;3m\n",
      "Invoking: `send_email` with `{'destination_email': 'lucasbnsoares@hotmail.com', 'message_content': \"Here are the top 3 automation tasks I find interesting:\\n\\n1. Automate the summarization of PDF documents for quick review.\\n2. Automate the process of converting speech to text for meeting notes.\\n3. Create a bot that automatically responds to specific emails based on predefined criteria.\\n\\nThese tasks could significantly enhance productivity and efficiency in various workflows. Let me know your thoughts on these or if there's any specific task you're interested in exploring further.\", 'subject_content': 'Top 3 Interesting Automation Tasks'}`\n",
      "\n",
      "\n",
      "\u001b[0mEmail sent successfully\n",
      "\u001b[33;1m\u001b[1;3mNone\u001b[0m\u001b[32;1m\u001b[1;3mI've successfully created a file named `tasks-for-lucas.txt` containing 10 interesting automation tasks and sent an email to `lucasbnsoares@hotmail.com` with the top 3 tasks from that file.\u001b[0m\n",
      "\n",
      "\u001b[1m> Finished chain.\u001b[0m\n"
     ]
    },
    {
     "data": {
      "text/plain": [
       "{'input': \"1. Create a file named tasks-for-lucas.txt containing 10 automation tasks you find interesting. 2. Send email to '''lucasbnsoares@hotmail.com''' with the top 3 tasks from that file.\",\n",
       " 'agent_scratchpad': [],\n",
       " 'output': \"I've successfully created a file named `tasks-for-lucas.txt` containing 10 interesting automation tasks and sent an email to `lucasbnsoares@hotmail.com` with the top 3 tasks from that file.\"}"
      ]
     },
     "execution_count": 7,
     "metadata": {},
     "output_type": "execute_result"
    }
   ],
   "source": [
    "agent_executor.invoke({\"input\": \"1. Create a file named tasks-for-lucas.txt containing 10 automation tasks you find interesting. 2. Send email to '''lucasbnsoares@hotmail.com''' with the top 3 tasks from that file.\",\n",
    "                             \"agent_scratchpad\": []})"
   ]
  },
  {
   "cell_type": "code",
   "execution_count": 8,
   "metadata": {},
   "outputs": [
    {
     "name": "stdout",
     "output_type": "stream",
     "text": [
      "1. Automate the summarization of PDF documents for quick review.\n",
      "2. Automate the process of converting speech to text for meeting notes.\n",
      "3. Create a bot that automatically responds to specific emails based on predefined criteria.\n",
      "4. Develop a system that automatically backs up important files to the cloud at scheduled intervals.\n",
      "5. Implement a tool that tracks and reports on changes to specific websites or web pages.\n",
      "6. Create a script that automatically organizes files in a folder based on their type or content.\n",
      "7. Develop a program that can automatically edit videos based on user-defined parameters.\n",
      "8. Automate the process of data entry from scanned documents into a database.\n",
      "9. Create a bot that can automatically post content to social media platforms based on a schedule.\n",
      "10. Implement an AI-driven assistant that can help manage and prioritize emails.\n"
     ]
    }
   ],
   "source": [
    "!cat tasks-for-lucas.txt"
   ]
  },
  {
   "cell_type": "markdown",
   "metadata": {},
   "source": [
    "![](2024-03-14-19-26-00.png)"
   ]
  },
  {
   "cell_type": "code",
   "execution_count": null,
   "metadata": {},
   "outputs": [],
   "source": [
    "agent_executor.invoke({\"input\": \"Create a folder named `lucas-test`. Inside that folder create a file named lucas-test.txt containing a random quote from a famous philosopher. Send an email to '''lucasbnsoares@hotmail.com''' with that quote.\",\n",
    "                             \"agent_scratchpad\": []})\n",
    "\n",
    "agent_executor.invoke({\"input\": \"\"\"1. Read the contents of this pdf: research report located in /Users/greatmaster/Desktop/projects/research_reports/prompt_engineering_techniques.pdf and save it to ./paper-output.txt. 2. Read the contents of the .txt file. 3. Send the output '''lucasbnsoares@hotmail.com'''\"\"\",\n",
    "                                \"agent_scratchpad\": []})"
   ]
  },
  {
   "cell_type": "code",
   "execution_count": null,
   "metadata": {},
   "outputs": [],
   "source": [
    "# Let's add a summary to this pipeline.\n",
    "\n",
    "# Starts making mistakes when I add just summarization to the prompt, and the error is not even at that level.\n",
    "# So just saying summarize makes the model produce errors in other parts of the pipeline that were working fine previously.\n",
    "agent_executor.invoke({\"input\": \"\"\"1. Summarize this pdf: /Users/greatmaster/Desktop/projects/research_reports/prompt_engineering_techniques.pdf contents to a concise instructive paragraph. 2. Send the output to '''lucasbnsoares@hotmail.com'''\"\"\",\n",
    "                                \"agent_scratchpad\": []})"
   ]
  }
 ],
 "metadata": {
  "kernelspec": {
   "display_name": "oreilly-agents",
   "language": "python",
   "name": "oreilly-agents"
  },
  "language_info": {
   "codemirror_mode": {
    "name": "ipython",
    "version": 3
   },
   "file_extension": ".py",
   "mimetype": "text/x-python",
   "name": "python",
   "nbconvert_exporter": "python",
   "pygments_lexer": "ipython3",
   "version": "3.11.5"
  }
 },
 "nbformat": 4,
 "nbformat_minor": 2
}
