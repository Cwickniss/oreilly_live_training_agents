{
 "cells": [
  {
   "cell_type": "code",
   "execution_count": 16,
   "metadata": {},
   "outputs": [],
   "source": [
    "import os\n",
    "\n",
    "os.environ[\"LANGCHAIN_TRACING_V2\"] = \"true\"\n",
    "os.environ[\"LANGCHAIN_ENDPOINT\"] = \"https://api.smith.langchain.com\"\n",
    "# os.environ[\"LANGCHAIN_API_KEY\"] = \"<your-api-key>\"\n",
    "# os.environ[\"LANGCHAIN_PROJECT\"] = \"langchain-agents-course\""
   ]
  },
  {
   "cell_type": "code",
   "execution_count": 17,
   "metadata": {},
   "outputs": [
    {
     "data": {
      "text/plain": [
       "[{'url': 'https://www.weatherapi.com/',\n",
       "  'content': \"{'location': {'name': 'San Francisco', 'region': 'California', 'country': 'United States of America', 'lat': 37.775, 'lon': -122.4183, 'tz_id': 'America/Los_Angeles', 'localtime_epoch': 1729868097, 'localtime': '2024-10-25 07:54'}, 'current': {'last_updated_epoch': 1729867500, 'last_updated': '2024-10-25 07:45', 'temp_c': 15.1, 'temp_f': 59.1, 'is_day': 1, 'condition': {'text': 'Clear', 'icon': '//cdn.weatherapi.com/weather/64x64/day/113.png', 'code': 1000}, 'wind_mph': 2.2, 'wind_kph': 3.6, 'wind_degree': 53, 'wind_dir': 'NE', 'pressure_mb': 1014.0, 'pressure_in': 29.93, 'precip_mm': 0.0, 'precip_in': 0.0, 'humidity': 54, 'cloud': 5, 'feelslike_c': 15.1, 'feelslike_f': 59.2, 'windchill_c': 15.1, 'windchill_f': 59.2, 'heatindex_c': 15.1, 'heatindex_f': 59.1, 'dewpoint_c': 6.0, 'dewpoint_f': 42.8, 'vis_km': 10.0, 'vis_miles': 6.0, 'uv': 1.0, 'gust_mph': 3.6, 'gust_kph': 5.8}}\"},\n",
       " {'url': 'https://www.msn.com/en-us/weather/topstories/october-25-2024-san-francisco-bay-area-weather-forecast/vi-AA1sUYWX',\n",
       "  'content': 'October 25, 2024 San Francisco Bay Area weather forecast. Posted: October 25, 2024 | Last updated: October 25, 2024 ... October 25, 2024. KRON4 Meteorologist Dave Spahr has the latest check on the'},\n",
       " {'url': 'https://www.weathertab.com/en/c/e/10/united-states/california/san-francisco/',\n",
       "  'content': 'Temperature Forecast Normal. Avg High Temps 60 to 75 °F. Avg Low Temps 50 to 60 °F. Explore comprehensive October 2024 weather forecasts for San Francisco, including daily high and low temperatures, precipitation risks, and monthly temperature trends. Featuring detailed day-by-day forecasts, dynamic graphs of daily rain probabilities, and'},\n",
       " {'url': 'https://world-weather.info/forecast/usa/san_francisco/october-2024/',\n",
       "  'content': 'Hourly Week 10-Day 14-Day 30-Day Year. Detailed ⚡ San Francisco Weather Forecast for October 2024 - day/night 🌡️ temperatures, precipitations - World-Weather.info.'},\n",
       " {'url': 'https://weather.com/weather/monthly/l/69bedc6a5b6e977993fb3e5344e3c06d8bc36a1fb6754c3ddfb5310a3c6d6c87',\n",
       "  'content': 'Weather.com brings you the most accurate monthly weather forecast for San Francisco, ... Monthly Weather-San Francisco, CA. As of 5:28 am PDT ... 25 69 ° 47 ° 26. 66 ° 54 °'}]"
      ]
     },
     "execution_count": 17,
     "metadata": {},
     "output_type": "execute_result"
    }
   ],
   "source": [
    "from langchain_community.tools.tavily_search import TavilySearchResults\n",
    "from langchain_openai import ChatOpenAI\n",
    "\n",
    "search = TavilySearchResults()\n",
    "\n",
    "search.invoke(\"what is the weather in SF\")"
   ]
  },
  {
   "cell_type": "code",
   "execution_count": 18,
   "metadata": {},
   "outputs": [
    {
     "data": {
      "text/plain": [
       "{'input': 'what is the weather in Lisbon right now?',\n",
       " 'output': 'The current weather in Lisbon is 16.2°C (61.2°F) with light rain. The wind speed is 23.5 mph from the north, humidity is at 63%, and the weather conditions are mostly cloudy.'}"
      ]
     },
     "execution_count": 18,
     "metadata": {},
     "output_type": "execute_result"
    }
   ],
   "source": [
    "from langchain import hub\n",
    "from langchain_openai import ChatOpenAI\n",
    "from langchain.agents import AgentExecutor, create_react_agent\n",
    "\n",
    "prompt = hub.pull(\"hwchase17/react\")\n",
    "model = ChatOpenAI(model='gpt-4o-mini')\n",
    "tools = [search]\n",
    "agent = create_react_agent(model, tools, prompt)\n",
    "agent_executor = AgentExecutor(agent=agent, tools=tools)\n",
    "agent_executor.invoke({\"input\": \"what is the weather in Lisbon right now?\"})"
   ]
  },
  {
   "cell_type": "code",
   "execution_count": null,
   "metadata": {},
   "outputs": [],
   "source": []
  },
  {
   "cell_type": "code",
   "execution_count": null,
   "metadata": {},
   "outputs": [],
   "source": []
  },
  {
   "cell_type": "code",
   "execution_count": null,
   "metadata": {},
   "outputs": [],
   "source": []
  },
  {
   "cell_type": "code",
   "execution_count": null,
   "metadata": {},
   "outputs": [],
   "source": []
  }
 ],
 "metadata": {
  "kernelspec": {
   "display_name": "oreilly-langchain",
   "language": "python",
   "name": "oreilly-langchain"
  },
  "language_info": {
   "codemirror_mode": {
    "name": "ipython",
    "version": 3
   },
   "file_extension": ".py",
   "mimetype": "text/x-python",
   "name": "python",
   "nbconvert_exporter": "python",
   "pygments_lexer": "ipython3",
   "version": "3.11.9"
  }
 },
 "nbformat": 4,
 "nbformat_minor": 2
}
