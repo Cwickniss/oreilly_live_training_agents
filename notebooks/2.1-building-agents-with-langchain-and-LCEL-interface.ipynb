{
 "cells": [
  {
   "cell_type": "code",
   "execution_count": 4,
   "metadata": {},
   "outputs": [],
   "source": [
    "# !pip install google-search-results\n",
    "# !pip install numexpr\n",
    "# !pip install \"langchain[all]\""
   ]
  },
  {
   "cell_type": "markdown",
   "metadata": {},
   "source": [
    "Let's take a look at a simple example:"
   ]
  },
  {
   "cell_type": "code",
   "execution_count": 5,
   "metadata": {},
   "outputs": [],
   "source": [
    "from dotenv import load_dotenv\n",
    "\n",
    "load_dotenv()\n",
    "\n",
    "# Or if you are in Colab, uncoment below and add your api key\n",
    "import os\n",
    "# os.environ[\"OPENAI_API_KEY\"] = \"your-api-key\""
   ]
  },
  {
   "cell_type": "code",
   "execution_count": 6,
   "metadata": {},
   "outputs": [
    {
     "name": "stdout",
     "output_type": "stream",
     "text": [
      "\n",
      "\n",
      "\u001b[1m> Entering new AgentExecutor chain...\u001b[0m\n",
      "\u001b[32;1m\u001b[1;3mI need to find out who Leo DiCaprio's girlfriend is and then calculate her current age raised to the 0.43 power.\n",
      "Action: Search\n",
      "Action Input: \"Leo DiCaprio girlfriend\"\u001b[0m\u001b[36;1m\u001b[1;3mEver since Vittoria Ceretti was first romantically linked to Leonardo DiCaprio in 2023, public interest in the model has soared. Ceretti, 25, isn't new to the modeling scene, and she has had a successful career on the runway for more than a decade. Here's everything to know about Ceretti.\u001b[0m\u001b[32;1m\u001b[1;3mNow I need to find out Vittoria Ceretti's current age.\n",
      "Action: Calculator\n",
      "Action Input: 25^0.43\u001b[0m\u001b[33;1m\u001b[1;3mAnswer: 3.991298452658078\u001b[0m\u001b[32;1m\u001b[1;3mI now know the final answer.\n",
      "Final Answer: 3.99\u001b[0m\n",
      "\n",
      "\u001b[1m> Finished chain.\u001b[0m\n"
     ]
    },
    {
     "data": {
      "text/plain": [
       "{'input': \"Who is Leo DiCaprio's girlfriend? What is her current age raised to the 0.43 power?\",\n",
       " 'output': '3.99'}"
      ]
     },
     "execution_count": 6,
     "metadata": {},
     "output_type": "execute_result"
    }
   ],
   "source": [
    "from langchain import hub\n",
    "from langchain.agents.format_scratchpad import format_log_to_str\n",
    "from langchain.agents.output_parsers import ReActSingleInputOutputParser\n",
    "from langchain.tools.render import render_text_description\n",
    "from langchain.chat_models import ChatOpenAI\n",
    "from langchain.agents import load_tools, AgentExecutor\n",
    "\n",
    "llm = ChatOpenAI(temperature=0)\n",
    "# you need to set up your SERP_API_KEY in your environment variables\n",
    "tools = load_tools([\"serpapi\", \"llm-math\"], llm=llm)\n",
    "\n",
    "prompt = hub.pull(\"hwchase17/react\")\n",
    "\n",
    "prompt = prompt.partial(\n",
    "    tools=render_text_description(tools),\n",
    "    tool_names=\", \".join([t.name for t in tools]),\n",
    ")\n",
    "\n",
    "llm_with_stop = llm.bind(stop=[\"\\nObservation\"])\n",
    "\n",
    "agent = (\n",
    "    {\n",
    "        \"input\": lambda x: x[\"input\"],\n",
    "        \"agent_scratchpad\": lambda x: format_log_to_str(x[\"intermediate_steps\"]),\n",
    "    }\n",
    "    | prompt\n",
    "    | llm_with_stop\n",
    "    | ReActSingleInputOutputParser()\n",
    ")\n",
    "\n",
    "agent_executor = AgentExecutor(agent=agent, tools=tools, verbose=True)\n",
    "\n",
    "agent_executor.invoke(\n",
    "    {\n",
    "        \"input\": \"Who is Leo DiCaprio's girlfriend? What is her current age raised to the 0.43 power?\"\n",
    "    }\n",
    ")"
   ]
  },
  {
   "cell_type": "markdown",
   "metadata": {},
   "source": [
    "• ```llm = ChatOpenAI(temperature=0)```: Create an instance of the ChatOpenAI language model with a temperature of 0.\n",
    "\n",
    "• ```tools = load_tools([\"serpapi\", \"llm-math\"], llm=llm)```: Load the tools \"serpapi\" and \"llm-math\" with the specified language model.\n",
    "\n",
    "• ```prompt = hub.pull(\"hwchase17/react\")```: Retrieve the prompt from the hub with the name \"hwchase17/react\".\n",
    "\n",
    "• ```prompt = prompt.partial(tools=render_text_description(tools), tool_names=\", \".join([t.name for t in tools]))```: Modify the prompt by rendering the text description of the tools and joining their names.\n",
    "\n",
    "• ```llm_with_stop = llm.bind(stop=[\"\\nObservation\"])```: Bind the language model with a stop condition set to the token \"\\nObservation\".\n",
    "\n",
    "• ```agent = (...)```: Define the agent using a series of steps, including input mapping, prompt, language model with stop condition, and output parsing.\n",
    "\n",
    "• ```agent_executor = AgentExecutor(agent=agent, tools=tools, verbose=True)```: Create an instance of the AgentExecutor with the defined agent and tools.\n",
    "\n",
    "• ```agent_executor.invoke(...)```: Invoke the agent by passing an input to it and execute its chain of actions and tools."
   ]
  }
 ],
 "metadata": {
  "kernelspec": {
   "display_name": "oreilly-agents-test-env",
   "language": "python",
   "name": "oreilly-agents-test-env"
  },
  "language_info": {
   "codemirror_mode": {
    "name": "ipython",
    "version": 3
   },
   "file_extension": ".py",
   "mimetype": "text/x-python",
   "name": "python",
   "nbconvert_exporter": "python",
   "pygments_lexer": "ipython3",
   "version": "3.10.13"
  }
 },
 "nbformat": 4,
 "nbformat_minor": 2
}
