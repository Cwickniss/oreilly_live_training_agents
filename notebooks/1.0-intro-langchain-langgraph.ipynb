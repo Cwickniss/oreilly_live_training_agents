{
 "cells": [
  {
   "cell_type": "code",
   "execution_count": null,
   "metadata": {},
   "outputs": [],
   "source": [
    "# !pip install -qU \"langchain[openai]\""
   ]
  },
  {
   "cell_type": "markdown",
   "metadata": {},
   "source": []
  },
  {
   "cell_type": "markdown",
   "metadata": {},
   "source": []
  },
  {
   "cell_type": "code",
   "execution_count": null,
   "metadata": {},
   "outputs": [
    {
     "ename": "",
     "evalue": "",
     "output_type": "error",
     "traceback": [
      "\u001b[1;31mFailed to start the Kernel 'oreilly-agents (Python 3.11.11)'. \n",
      "\u001b[1;31mView Jupyter <a href='command:jupyter.viewOutput'>log</a> for further details. WebSocket is not defined"
     ]
    }
   ],
   "source": [
    "import os\n",
    "import getpass\n",
    "\n",
    "def _set_env(var: str):\n",
    "    if not os.environ.get(var):\n",
    "        os.environ[var] = getpass.getpass(f\"var: \")\n",
    "\n",
    "_set_env(\"OPENAI_API_KEY\")"
   ]
  },
  {
   "cell_type": "code",
   "execution_count": 1,
   "metadata": {},
   "outputs": [
    {
     "data": {
      "text/plain": [
       "AIMessage(content='Hello! How can I assist you today?', additional_kwargs={'refusal': None}, response_metadata={'token_usage': {'completion_tokens': 10, 'prompt_tokens': 9, 'total_tokens': 19, 'completion_tokens_details': {'accepted_prediction_tokens': 0, 'audio_tokens': 0, 'reasoning_tokens': 0, 'rejected_prediction_tokens': 0}, 'prompt_tokens_details': {'audio_tokens': 0, 'cached_tokens': 0}}, 'model_name': 'gpt-4o-mini-2024-07-18', 'system_fingerprint': 'fp_f7d56a8a2c', 'id': 'chatcmpl-BNLapCQQDcrzdvJWlGmIFaurIicnX', 'finish_reason': 'stop', 'logprobs': None}, id='run-4129e4de-952d-40ad-a870-69ee49d8356c-0', usage_metadata={'input_tokens': 9, 'output_tokens': 10, 'total_tokens': 19, 'input_token_details': {'audio': 0, 'cache_read': 0}, 'output_token_details': {'audio': 0, 'reasoning': 0}})"
      ]
     },
     "execution_count": 1,
     "metadata": {},
     "output_type": "execute_result"
    }
   ],
   "source": [
    "from langchain_openai import ChatOpenAI\n",
    "\n",
    "llm = ChatOpenAI(model=\"gpt-4o-mini\")\n",
    "\n",
    "llm.invoke(\"HI!\")"
   ]
  },
  {
   "cell_type": "code",
   "execution_count": 4,
   "metadata": {},
   "outputs": [
    {
     "data": {
      "text/plain": [
       "AIMessage(content=\"I’m based on OpenAI's GPT-3 model. How can I assist you today?\", additional_kwargs={'refusal': None}, response_metadata={'token_usage': {'completion_tokens': 20, 'prompt_tokens': 14, 'total_tokens': 34, 'completion_tokens_details': {'accepted_prediction_tokens': 0, 'audio_tokens': 0, 'reasoning_tokens': 0, 'rejected_prediction_tokens': 0}, 'prompt_tokens_details': {'audio_tokens': 0, 'cached_tokens': 0}}, 'model_name': 'gpt-4o-mini-2024-07-18', 'system_fingerprint': 'fp_dbaca60df0', 'id': 'chatcmpl-BNLc4yJF8B6dQQJLID0HZk2g946AT', 'finish_reason': 'stop', 'logprobs': None}, id='run-28e0e5ca-789b-42f6-b165-9cac9f05188d-0', usage_metadata={'input_tokens': 14, 'output_tokens': 20, 'total_tokens': 34, 'input_token_details': {'audio': 0, 'cache_read': 0}, 'output_token_details': {'audio': 0, 'reasoning': 0}})"
      ]
     },
     "execution_count": 4,
     "metadata": {},
     "output_type": "execute_result"
    }
   ],
   "source": [
    "from langchain.chat_models import init_chat_model\n",
    "\n",
    "model = init_chat_model(\n",
    "    \"gpt-4o-mini\", \n",
    "    model_provider=\"openai\")\n",
    "\n",
    "model.invoke(\"Hi what is your model name?\")"
   ]
  },
  {
   "cell_type": "code",
   "execution_count": 3,
   "metadata": {},
   "outputs": [
    {
     "data": {
      "text/plain": [
       "AIMessage(content=\"I'm an AI assistant created by Anthropic to be helpful, harmless, and honest. I don't have a specific name or model name that I go by.\", additional_kwargs={}, response_metadata={'id': 'msg_01H9AgX4HxR91AHsYH56gEpZ', 'model': 'claude-3-5-sonnet-20240620', 'stop_reason': 'end_turn', 'stop_sequence': None, 'usage': {'cache_creation_input_tokens': 0, 'cache_read_input_tokens': 0, 'input_tokens': 18, 'output_tokens': 38}, 'model_name': 'claude-3-5-sonnet-20240620'}, id='run-a0f52b2e-c540-4bdb-9192-10f7ebd74db0-0', usage_metadata={'input_tokens': 18, 'output_tokens': 38, 'total_tokens': 56, 'input_token_details': {'cache_read': 0, 'cache_creation': 0}})"
      ]
     },
     "execution_count": 3,
     "metadata": {},
     "output_type": "execute_result"
    }
   ],
   "source": [
    "model = init_chat_model(\"claude-3-5-sonnet-20240620\", model_provider=\"anthropic\")\n",
    "\n",
    "model.invoke(\"Hi what is your name? Like the model name?\")"
   ]
  },
  {
   "cell_type": "markdown",
   "metadata": {},
   "source": [
    "# Full LLM App in LangChain"
   ]
  },
  {
   "cell_type": "code",
   "execution_count": 3,
   "metadata": {},
   "outputs": [
    {
     "name": "stdout",
     "output_type": "stream",
     "text": [
      "Enter your LangSmith API key (optional):  ········\n",
      "Enter your LangSmith Project Name (default = \"default\"):  ········\n"
     ]
    }
   ],
   "source": [
    "import getpass\n",
    "import os\n",
    "\n",
    "try:\n",
    "    # load environment variables from .env file (requires `python-dotenv`)\n",
    "    from dotenv import load_dotenv\n",
    "\n",
    "    load_dotenv()\n",
    "except ImportError:\n",
    "    pass\n",
    "\n",
    "os.environ[\"LANGSMITH_TRACING\"] = \"true\"\n",
    "if \"LANGSMITH_API_KEY\" not in os.environ:\n",
    "    os.environ[\"LANGSMITH_API_KEY\"] = getpass.getpass(\n",
    "        prompt=\"Enter your LangSmith API key (optional): \"\n",
    "    )\n",
    "if \"LANGSMITH_PROJECT\" not in os.environ:\n",
    "    os.environ[\"LANGSMITH_PROJECT\"] = getpass.getpass(\n",
    "        prompt='Enter your LangSmith Project Name (default = \"default\"): '\n",
    "    )\n",
    "    if not os.environ.get(\"LANGSMITH_PROJECT\"):\n",
    "        os.environ[\"LANGSMITH_PROJECT\"] = \"default\"\n",
    "if \"OPENAI_API_KEY\" not in os.environ:\n",
    "    os.environ[\"OPENAI_API_KEY\"] = getpass.getpass(\n",
    "        prompt=\"Enter your OpenAI API key (required if using OpenAI): \"\n",
    "    )"
   ]
  },
  {
   "cell_type": "code",
   "execution_count": 5,
   "metadata": {},
   "outputs": [
    {
     "data": {
      "text/plain": [
       "AIMessage(content='Hello! How can I assist you today?', additional_kwargs={'refusal': None}, response_metadata={'token_usage': {'completion_tokens': 10, 'prompt_tokens': 8, 'total_tokens': 18, 'completion_tokens_details': {'accepted_prediction_tokens': 0, 'audio_tokens': 0, 'reasoning_tokens': 0, 'rejected_prediction_tokens': 0}, 'prompt_tokens_details': {'audio_tokens': 0, 'cached_tokens': 0}}, 'model_name': 'gpt-4o-mini-2024-07-18', 'system_fingerprint': 'fp_0392822090', 'id': 'chatcmpl-BNLdUhNVqjm7sGbQ9JYJNKMKHgkC3', 'finish_reason': 'stop', 'logprobs': None}, id='run-e3fc2102-dc7e-4dcf-be31-586bfe12c8c6-0', usage_metadata={'input_tokens': 8, 'output_tokens': 10, 'total_tokens': 18, 'input_token_details': {'audio': 0, 'cache_read': 0}, 'output_token_details': {'audio': 0, 'reasoning': 0}})"
      ]
     },
     "execution_count": 5,
     "metadata": {},
     "output_type": "execute_result"
    }
   ],
   "source": [
    "from langchain.chat_models import init_chat_model\n",
    "\n",
    "model = init_chat_model(\n",
    "    \"gpt-4o-mini\",\n",
    "    model_provider=\"openai\"\n",
    ")\n",
    "\n",
    "model.invoke(\"Hi\")"
   ]
  },
  {
   "cell_type": "code",
   "execution_count": 6,
   "metadata": {},
   "outputs": [
    {
     "data": {
      "text/plain": [
       "AIMessage(content='Ciao! Impariamo sui modelli di linguaggio di grandi dimensioni!', additional_kwargs={'refusal': None}, response_metadata={'token_usage': {'completion_tokens': 18, 'prompt_tokens': 27, 'total_tokens': 45, 'completion_tokens_details': {'accepted_prediction_tokens': 0, 'audio_tokens': 0, 'reasoning_tokens': 0, 'rejected_prediction_tokens': 0}, 'prompt_tokens_details': {'audio_tokens': 0, 'cached_tokens': 0}}, 'model_name': 'gpt-4o-mini-2024-07-18', 'system_fingerprint': 'fp_0392822090', 'id': 'chatcmpl-BNLfsge85D1KImWZUyHLkPOgBFM7Q', 'finish_reason': 'stop', 'logprobs': None}, id='run-660acc99-5f72-401e-8d89-4e3c6292ea98-0', usage_metadata={'input_tokens': 27, 'output_tokens': 18, 'total_tokens': 45, 'input_token_details': {'audio': 0, 'cache_read': 0}, 'output_token_details': {'audio': 0, 'reasoning': 0}})"
      ]
     },
     "execution_count": 6,
     "metadata": {},
     "output_type": "execute_result"
    }
   ],
   "source": [
    "from langchain_core.messages import HumanMessage, SystemMessage\n",
    "\n",
    "messages = [\n",
    "    SystemMessage(\"Translate the following from English into Italian\"),\n",
    "    HumanMessage(\"Hi! Let's learn about large language models!\"),\n",
    "]\n",
    "\n",
    "model.invoke(messages)"
   ]
  },
  {
   "cell_type": "code",
   "execution_count": 7,
   "metadata": {},
   "outputs": [
    {
     "data": {
      "text/plain": [
       "AIMessage(content=\"I'm just a computer program, so I don't have feelings, but I'm here and ready to help you! How can I assist you today?\", additional_kwargs={'refusal': None}, response_metadata={'token_usage': {'completion_tokens': 29, 'prompt_tokens': 11, 'total_tokens': 40, 'completion_tokens_details': {'accepted_prediction_tokens': 0, 'audio_tokens': 0, 'reasoning_tokens': 0, 'rejected_prediction_tokens': 0}, 'prompt_tokens_details': {'audio_tokens': 0, 'cached_tokens': 0}}, 'model_name': 'gpt-4o-mini-2024-07-18', 'system_fingerprint': 'fp_0392822090', 'id': 'chatcmpl-BNLgdz4YaipOcVjTZzucczXS7qOMa', 'finish_reason': 'stop', 'logprobs': None}, id='run-5dc518f3-bd1b-4c64-bfff-0ed67a14d70f-0', usage_metadata={'input_tokens': 11, 'output_tokens': 29, 'total_tokens': 40, 'input_token_details': {'audio': 0, 'cache_read': 0}, 'output_token_details': {'audio': 0, 'reasoning': 0}})"
      ]
     },
     "execution_count": 7,
     "metadata": {},
     "output_type": "execute_result"
    }
   ],
   "source": [
    "model.invoke([{\"role\": \"user\", \"content\": \"How are ya?\"}])"
   ]
  },
  {
   "cell_type": "code",
   "execution_count": 12,
   "metadata": {},
   "outputs": [
    {
     "name": "stdout",
     "output_type": "stream",
     "text": [
      "|Sure|!| Here| are| three| jokes| that| might| give| you| a| chuck|le|:\n",
      "\n",
      "|1|.| **|Why| don|’t| scientists| trust| atoms|?|**\n",
      "|  | Because| they| make| up| everything|!\n",
      "\n",
      "|2|.| **|Why| did| the| scare|crow| win| an| award|?|**\n",
      "|  | Because| he| was| outstanding| in| his| field|!\n",
      "\n",
      "|3|.| **|I| told| my| wife| she| was| drawing| her| eyebrows| too| high|.|**\n",
      "|  | She| looked| surprised|!\n",
      "\n",
      "|I| hope| one| of| these| brings| a| smile| to| your| face|!||"
     ]
    }
   ],
   "source": [
    "for token in model.stream(\"Tell me the 3 funniest jokes you know\"):\n",
    "    print(token.content, end=\"|\")"
   ]
  },
  {
   "cell_type": "code",
   "execution_count": 13,
   "metadata": {},
   "outputs": [
    {
     "data": {
      "text/plain": [
       "'System: Translate the following from English into French\\nHuman: I love programming in Python'"
      ]
     },
     "execution_count": 13,
     "metadata": {},
     "output_type": "execute_result"
    }
   ],
   "source": [
    "from langchain_core.prompts import ChatPromptTemplate\n",
    "\n",
    "system_template = \"Translate the following from {language_source} into {language_target}\"\n",
    "\n",
    "prompt_template = ChatPromptTemplate.from_messages(\n",
    "    [(\"system\", system_template), (\"human\", \"{input_sentence}\")]\n",
    ")\n",
    "\n",
    "prompt_template.format(language_source=\"English\", language_target=\"French\", input_sentence=\"I love programming in Python\")"
   ]
  },
  {
   "cell_type": "code",
   "execution_count": 14,
   "metadata": {},
   "outputs": [
    {
     "data": {
      "text/plain": [
       "AIMessage(content=\"J'adore programmer en Python.\", additional_kwargs={'refusal': None}, response_metadata={'token_usage': {'completion_tokens': 7, 'prompt_tokens': 23, 'total_tokens': 30, 'completion_tokens_details': {'accepted_prediction_tokens': 0, 'audio_tokens': 0, 'reasoning_tokens': 0, 'rejected_prediction_tokens': 0}, 'prompt_tokens_details': {'audio_tokens': 0, 'cached_tokens': 0}}, 'model_name': 'gpt-4o-mini-2024-07-18', 'system_fingerprint': 'fp_0392822090', 'id': 'chatcmpl-BNLleREclnRbIkMfVOf5WA40UVC3D', 'finish_reason': 'stop', 'logprobs': None}, id='run-f29bd84b-3dd0-425e-a32d-32febfdf4ef4-0', usage_metadata={'input_tokens': 23, 'output_tokens': 7, 'total_tokens': 30, 'input_token_details': {'audio': 0, 'cache_read': 0}, 'output_token_details': {'audio': 0, 'reasoning': 0}})"
      ]
     },
     "execution_count": 14,
     "metadata": {},
     "output_type": "execute_result"
    }
   ],
   "source": [
    "prompt = prompt_template.invoke({\"language_source\": \"English\", \"language_target\": \"French\", \"input_sentence\": \"I love programming in Python\"})\n",
    "response = model.invoke(prompt)\n",
    "response"
   ]
  },
  {
   "cell_type": "code",
   "execution_count": 15,
   "metadata": {},
   "outputs": [
    {
     "data": {
      "text/plain": [
       "\"J'adore programmer en Python.\""
      ]
     },
     "execution_count": 15,
     "metadata": {},
     "output_type": "execute_result"
    }
   ],
   "source": [
    "response.content"
   ]
  },
  {
   "cell_type": "code",
   "execution_count": 16,
   "metadata": {},
   "outputs": [],
   "source": [
    "chain = prompt_template | model\n",
    "\n",
    "response = chain.invoke({\"language_source\": \"English\", \"language_target\": \"Italian\", \"input_sentence\": \"Lucas is a gorgeous bald teacher.\"})"
   ]
  },
  {
   "cell_type": "code",
   "execution_count": 17,
   "metadata": {},
   "outputs": [
    {
     "data": {
      "text/plain": [
       "'Lucas è un bellissimo insegnante calvo.'"
      ]
     },
     "execution_count": 17,
     "metadata": {},
     "output_type": "execute_result"
    }
   ],
   "source": [
    "response.content"
   ]
  },
  {
   "cell_type": "markdown",
   "metadata": {},
   "source": [
    "# Structured Outputs"
   ]
  },
  {
   "cell_type": "code",
   "execution_count": 18,
   "metadata": {},
   "outputs": [
    {
     "data": {
      "text/plain": [
       "ParsedChatCompletion[ElementsOfLiveCourse](id='chatcmpl-BNLt735W3OJ6UgQBQGvEEmFqXzK35', choices=[ParsedChoice[ElementsOfLiveCourse](finish_reason='stop', index=0, logprobs=None, message=ParsedChatCompletionMessage[ElementsOfLiveCourse](content='{\"title\":\"Model Context Protocol (MCP) Introduction\",\"topic\":\"Connecting AI Systems with Data Sources\",\"example_lesson\":\"Understanding the Architecture of the Model Context Protocol: This lesson covers how to set up your first MCP server, the importance of a standard protocol in AI development, and walkthroughs of pre-built MCP servers for platforms like Google Drive and Slack.\"}', refusal=None, role='assistant', annotations=[], audio=None, function_call=None, tool_calls=None, parsed=ElementsOfLiveCourse(title='Model Context Protocol (MCP) Introduction', topic='Connecting AI Systems with Data Sources', example_lesson='Understanding the Architecture of the Model Context Protocol: This lesson covers how to set up your first MCP server, the importance of a standard protocol in AI development, and walkthroughs of pre-built MCP servers for platforms like Google Drive and Slack.')))], created=1744905381, model='gpt-4o-mini-2024-07-18', object='chat.completion', service_tier='default', system_fingerprint='fp_f7d56a8a2c', usage=CompletionUsage(completion_tokens=74, prompt_tokens=1125, total_tokens=1199, completion_tokens_details=CompletionTokensDetails(accepted_prediction_tokens=0, audio_tokens=0, reasoning_tokens=0, rejected_prediction_tokens=0), prompt_tokens_details=PromptTokensDetails(audio_tokens=0, cached_tokens=0)))"
      ]
     },
     "execution_count": 18,
     "metadata": {},
     "output_type": "execute_result"
    }
   ],
   "source": [
    "from pydantic import BaseModel, Field\n",
    "from openai import OpenAI\n",
    "\n",
    "class ElementsOfLiveCourse(BaseModel):\n",
    "    title: str = Field(description=\"The title of the live course\")\n",
    "    topic: str = Field(description=\"The core topic of the live course\")\n",
    "    example_lesson: str = Field(description=\"An example lesson from the live course\")\n",
    "\n",
    "with open(\"./mcp_course_example.txt\", \"r\") as f:\n",
    "    prompt_raw_course = f.read()\n",
    "\n",
    "client = OpenAI()\n",
    "\n",
    "response = client.beta.chat.completions.parse(\n",
    "    model=\"gpt-4o-mini\",\n",
    "    messages=[\n",
    "        {\"role\": \"system\", \"content\": \"You take in raw information for a course and\\\n",
    "            you output the structured objects with information about that course\"},\n",
    "        {\"role\": \"user\", \"content\": prompt_raw_course}\n",
    "    ],\n",
    "    response_format=ElementsOfLiveCourse\n",
    ")\n",
    "\n",
    "response"
   ]
  },
  {
   "cell_type": "code",
   "execution_count": 23,
   "metadata": {},
   "outputs": [
    {
     "data": {
      "text/plain": [
       "ElementsOfLiveCourse(title='Model Context Protocol (MCP) Introduction', topic='Connecting AI Systems with Data Sources', example_lesson='Understanding the Architecture of the Model Context Protocol: This lesson covers how to set up your first MCP server, the importance of a standard protocol in AI development, and walkthroughs of pre-built MCP servers for platforms like Google Drive and Slack.')"
      ]
     },
     "execution_count": 23,
     "metadata": {},
     "output_type": "execute_result"
    }
   ],
   "source": [
    "response.choices[0].message.parsed"
   ]
  },
  {
   "cell_type": "code",
   "execution_count": 24,
   "metadata": {},
   "outputs": [
    {
     "data": {
      "text/markdown": [
       "\n",
       "# Model Context Protocol (MCP) Introduction\n",
       "\n",
       "- *Topic*: Connecting AI Systems with Data Sources\n",
       "- *Example Lesson*: Understanding the Architecture of the Model Context Protocol: This lesson covers how to set up your first MCP server, the importance of a standard protocol in AI development, and walkthroughs of pre-built MCP servers for platforms like Google Drive and Slack.\n"
      ],
      "text/plain": [
       "<IPython.core.display.Markdown object>"
      ]
     },
     "execution_count": 24,
     "metadata": {},
     "output_type": "execute_result"
    }
   ],
   "source": [
    "from IPython.display import Markdown\n",
    "\n",
    "str_output = f\"\"\"\n",
    "# {response.choices[0].message.parsed.title}\n",
    "\n",
    "- *Topic*: {response.choices[0].message.parsed.topic}\n",
    "- *Example Lesson*: {response.choices[0].message.parsed.example_lesson}\n",
    "\"\"\"\n",
    "Markdown(str_output)"
   ]
  },
  {
   "cell_type": "code",
   "execution_count": 25,
   "metadata": {},
   "outputs": [
    {
     "data": {
      "text/plain": [
       "AIMessage(content='A screenplay is a blueprint for a film or television show, and it typically contains several key elements that help convey the story, character development, and visual storytelling. Here are the main elements of a screenplay:\\n\\n1. **Title Page**: This includes the title of the screenplay, the writer\\'s name, and contact information.\\n\\n2. **Act Structure**: Most screenplays follow a three-act structure:\\n   - **Act One**: Sets up the story, introduces the characters, and establishes the setting and conflict.\\n   - **Act Two**: The main part of the story where tension builds, complications arise, and characters face challenges.\\n   - **Act Three**: Resolution where conflicts are resolved, and the story concludes.\\n\\n3. **Scene Headings (Slug Lines)**: These indicate the location and time of day for each scene, usually formatted in all caps (e.g., \"EXT. PARK - DAY\").\\n\\n4. **Action Lines**: Descriptive text that conveys what is happening in the scene. It should be clear and concise, written in the present tense.\\n\\n5. **Dialogue**: The lines spoken by characters. Dialogue is centered on the page, with the character\\'s name above their lines.\\n\\n6. **Character Names**: When a character first appears in the action lines, their name is usually capitalized for emphasis. Dialogue follows the character\\'s name.\\n\\n7. **Parentheticals**: Brief directions for how a line should be delivered, placed beneath a character\\'s name (e.g., (whispering)).\\n\\n8. **Transitions**: Indicate changes between scenes, such as \"CUT TO:\", \"DISSOLVE TO:\", or \"FADE OUT:\" to guide the pacing of the film.\\n\\n9. **Flashbacks/Flashforwards**: If used, these indicate shifts in time and may require specific formatting.\\n\\n10. **Subplots**: Secondary storylines that add depth to the main plot and develop secondary characters.\\n\\n11. **Themes and Motifs**: While not explicitly stated, they underlie the narrative and character arcs, often manifesting through elements like dialogue and action.\\n\\n12. **Visual Elements**: Screenplays often indicate visual storytelling techniques that enhance the narrative (e.g., specific camera angles or movements, though these are typically minimized to keep focus on the story).\\n\\n13. **Notes and Format**: Screenplays adhere to strict formatting standards, including font (usually 12-point Courier), margins, and line spacing, which facilitate readability and production usability.\\n\\nEach element serves a function in the storytelling process, and together they create a cohesive narrative that can be interpreted and brought to life on screen.', additional_kwargs={'refusal': None}, response_metadata={'token_usage': {'completion_tokens': 538, 'prompt_tokens': 16, 'total_tokens': 554, 'completion_tokens_details': {'accepted_prediction_tokens': 0, 'audio_tokens': 0, 'reasoning_tokens': 0, 'rejected_prediction_tokens': 0}, 'prompt_tokens_details': {'audio_tokens': 0, 'cached_tokens': 0}}, 'model_name': 'gpt-4o-mini-2024-07-18', 'system_fingerprint': 'fp_f7d56a8a2c', 'id': 'chatcmpl-BNLufngXhGWjymtKk5lhOhSXu8uTv', 'finish_reason': 'stop', 'logprobs': None}, id='run-015dc958-b7dd-4236-8b19-0af662b36e31-0', usage_metadata={'input_tokens': 16, 'output_tokens': 538, 'total_tokens': 554, 'input_token_details': {'audio': 0, 'cache_read': 0}, 'output_token_details': {'audio': 0, 'reasoning': 0}})"
      ]
     },
     "execution_count": 25,
     "metadata": {},
     "output_type": "execute_result"
    }
   ],
   "source": [
    "llm = init_chat_model(\"gpt-4o-mini\", model_provider=\"openai\")\n",
    "\n",
    "llm.invoke(\"What are the elements of a Screenplay?\")"
   ]
  },
  {
   "cell_type": "markdown",
   "metadata": {},
   "source": [
    "## Pydantic Class"
   ]
  },
  {
   "cell_type": "code",
   "execution_count": 26,
   "metadata": {},
   "outputs": [],
   "source": [
    "from typing import Optional\n",
    "from pydantic import BaseModel, Field\n",
    "\n",
    "\n",
    "# Pydantic\n",
    "class ElementsOfScreenplay(BaseModel):\n",
    "    \"\"\"Elements of a Screenplay.\"\"\"\n",
    "    \n",
    "    title: str = Field(description=\"The title of the screenplay\")\n",
    "    genre: str = Field(description=\"The genre of the screenplay\")\n",
    "    protagonist: str = Field(description=\"The protagonist of the screenplay\")\n",
    "    antagonist: str = Field(description=\"The antagonist of the screenplay\")\n",
    "    setting: str = Field(description=\"The setting of the screenplay\")\n",
    "    plot: str = Field(description=\"The plot of the screenplay\")\n",
    "\n",
    "\n",
    "structured_llm = llm.with_structured_output(ElementsOfScreenplay)\n",
    "\n",
    "screenplay_structured = structured_llm.invoke(\"Structure a Screenplay about characters afraid of becoming outdated.\")"
   ]
  },
  {
   "cell_type": "code",
   "execution_count": 27,
   "metadata": {},
   "outputs": [
    {
     "data": {
      "text/markdown": [
       "\n",
       "# Timeless\n",
       "\n",
       "- *Genre*: Drama/Sci-Fi\n",
       "- *Protagonist*: Ella, a talented but obsolete tech designer\n",
       "- *Antagonist*\n",
       "- *Setting*: A near-future city where advanced technology dictates lifestyle and careers\n",
       "\n",
       "### Plot\n",
       "\n",
       "In a world where rapid technological changes leave many in the dust, Ella, a talented but outdated tech designer, struggles with the fear of becoming irrelevant. As she tries to adapt her skills to new advancements, she stumbles upon a group of like-minded individuals, each dealing with their own obsolescence. Together, they form a support network to confront their fears, share their experiences, and ultimately create a unique product that blends their old skills with the new technology. They must overcome their insecurities and societal pressure to prove that being 'outdated' doesn't mean being irrelevant, but rather it offers a unique perspective that can innovate the future.\n"
      ],
      "text/plain": [
       "<IPython.core.display.Markdown object>"
      ]
     },
     "execution_count": 27,
     "metadata": {},
     "output_type": "execute_result"
    }
   ],
   "source": [
    "from IPython.display import Markdown\n",
    "\n",
    "str_output = f\"\"\"\n",
    "# {screenplay_structured.title}\n",
    "\n",
    "- *Genre*: {screenplay_structured.genre}\n",
    "- *Protagonist*: {screenplay_structured.protagonist}\n",
    "- *Antagonist*\n",
    "- *Setting*: {screenplay_structured.setting}\n",
    "\n",
    "### Plot\n",
    "\n",
    "{screenplay_structured.plot}\n",
    "\"\"\"\n",
    "Markdown(str_output)"
   ]
  },
  {
   "cell_type": "markdown",
   "metadata": {},
   "source": [
    "# Model + Tools"
   ]
  },
  {
   "cell_type": "code",
   "execution_count": 18,
   "metadata": {},
   "outputs": [
    {
     "data": {
      "text/plain": [
       "AIMessage(content='', additional_kwargs={'tool_calls': [{'id': 'call_ly2eaQ52W3F9AdEsDxFN45AZ', 'function': {'arguments': '{\"query\":\"NBA playoffs standings 2024\"}', 'name': 'tavily_search_results_json'}, 'type': 'function'}], 'refusal': None}, response_metadata={'token_usage': {'completion_tokens': 24, 'prompt_tokens': 86, 'total_tokens': 110, 'completion_tokens_details': {'accepted_prediction_tokens': 0, 'audio_tokens': 0, 'reasoning_tokens': 0, 'rejected_prediction_tokens': 0}, 'prompt_tokens_details': {'audio_tokens': 0, 'cached_tokens': 0}}, 'model_name': 'gpt-4o-mini-2024-07-18', 'system_fingerprint': 'fp_dbaca60df0', 'id': 'chatcmpl-BNJTNmMn4XSStmOW2lCqRtoh1YjPJ', 'finish_reason': 'tool_calls', 'logprobs': None}, id='run-8d186d28-4811-4390-9ce9-1e09e8b82d78-0', tool_calls=[{'name': 'tavily_search_results_json', 'args': {'query': 'NBA playoffs standings 2024'}, 'id': 'call_ly2eaQ52W3F9AdEsDxFN45AZ', 'type': 'tool_call'}], usage_metadata={'input_tokens': 86, 'output_tokens': 24, 'total_tokens': 110, 'input_token_details': {'audio': 0, 'cache_read': 0}, 'output_token_details': {'audio': 0, 'reasoning': 0}})"
      ]
     },
     "execution_count": 18,
     "metadata": {},
     "output_type": "execute_result"
    }
   ],
   "source": [
    "from langchain_community.tools.tavily_search import TavilySearchResults\n",
    "\n",
    "model = init_chat_model(\"gpt-4o-mini\", model_provider=\"openai\")\n",
    "search = TavilySearchResults(max_results=2)\n",
    "tools = [search]\n",
    "\n",
    "model_with_tools = model.bind_tools(tools)\n",
    "\n",
    "model_with_tools.invoke(\"Who is in the NBA playoffs?\")"
   ]
  },
  {
   "cell_type": "markdown",
   "metadata": {},
   "source": [
    "The output we get here is something called a \"tool call\" which means, prepared arguments for a pre-defined function (in this case\n",
    "web search with the tavily API) to gather the required information."
   ]
  },
  {
   "cell_type": "markdown",
   "metadata": {},
   "source": [
    "Now let's look at a full agent."
   ]
  },
  {
   "cell_type": "code",
   "execution_count": 19,
   "metadata": {},
   "outputs": [
    {
     "data": {
      "image/png": "[encoded data removed]",
      "text/plain": [
       "<langgraph.graph.state.CompiledStateGraph object at 0x11b7f4410>"
      ]
     },
     "execution_count": 19,
     "metadata": {},
     "output_type": "execute_result"
    }
   ],
   "source": [
    "# Import relevant functionality\n",
    "from langchain_community.tools.tavily_search import TavilySearchResults\n",
    "from langchain_core.messages import HumanMessage\n",
    "from langgraph.checkpoint.memory import MemorySaver\n",
    "from langgraph.prebuilt import create_react_agent\n",
    "\n",
    "# Create the agent\n",
    "memory = MemorySaver()\n",
    "model = init_chat_model(\"gpt-4o-mini\", model_provider=\"openai\")\n",
    "search = TavilySearchResults(max_results=2)\n",
    "tools = [search]\n",
    "agent_executor = create_react_agent(model, tools, checkpointer=memory)\n",
    "\n",
    "agent_executor"
   ]
  },
  {
   "cell_type": "markdown",
   "metadata": {},
   "source": [
    "Agent Executor is a graph!"
   ]
  },
  {
   "cell_type": "code",
   "execution_count": 20,
   "metadata": {},
   "outputs": [
    {
     "data": {
      "text/plain": [
       "{'messages': [HumanMessage(content='What is the capital of Brazil?', additional_kwargs={}, response_metadata={}, id='fb5ac64a-1673-4fc8-beb3-cc0c4d9f3537'),\n",
       "  AIMessage(content='The capital of Brazil is Brasília.', additional_kwargs={'refusal': None}, response_metadata={'token_usage': {'completion_tokens': 9, 'prompt_tokens': 86, 'total_tokens': 95, 'completion_tokens_details': {'accepted_prediction_tokens': 0, 'audio_tokens': 0, 'reasoning_tokens': 0, 'rejected_prediction_tokens': 0}, 'prompt_tokens_details': {'audio_tokens': 0, 'cached_tokens': 0}}, 'model_name': 'gpt-4o-mini-2024-07-18', 'system_fingerprint': 'fp_dbaca60df0', 'id': 'chatcmpl-BNJTURD4jrzdaywXh0GN9bajA0SJT', 'finish_reason': 'stop', 'logprobs': None}, id='run-14562f84-daa1-4f0b-9c53-9437d8da8396-0', usage_metadata={'input_tokens': 86, 'output_tokens': 9, 'total_tokens': 95, 'input_token_details': {'audio': 0, 'cache_read': 0}, 'output_token_details': {'audio': 0, 'reasoning': 0}})]}"
      ]
     },
     "execution_count": 20,
     "metadata": {},
     "output_type": "execute_result"
    }
   ],
   "source": [
    "# We pass config because this agent has memory so we need to pass a thread_id\n",
    "config = {\"configurable\": {\"thread_id\": \"abc123\"}}\n",
    "# Below we can't just invoke on \"input\" we use \"messages\" because the agent expects a list of messages (this info is hidden in the create_react_agent function)\n",
    "agent_executor.invoke({\"messages\": [HumanMessage(\"What is the capital of Brazil?\")]}, config=config)"
   ]
  },
  {
   "cell_type": "code",
   "execution_count": 21,
   "metadata": {},
   "outputs": [
    {
     "name": "stdout",
     "output_type": "stream",
     "text": [
      "================================\u001b[1m Human Message \u001b[0m=================================\n",
      "\n",
      "whats the weather in sf?\n",
      "==================================\u001b[1m Ai Message \u001b[0m==================================\n",
      "Tool Calls:\n",
      "  tavily_search_results_json (call_84H6hzlRl7jbrWO5Ijv5A3QN)\n",
      " Call ID: call_84H6hzlRl7jbrWO5Ijv5A3QN\n",
      "  Args:\n",
      "    query: San Francisco weather\n",
      "=================================\u001b[1m Tool Message \u001b[0m=================================\n",
      "Name: tavily_search_results_json\n",
      "\n",
      "[{\"title\": \"Weather in San Francisco\", \"url\": \"https://www.weatherapi.com/\", \"content\": \"{'location': {'name': 'San Francisco', 'region': 'California', 'country': 'United States of America', 'lat': 37.775, 'lon': -122.4183, 'tz_id': 'America/Los_Angeles', 'localtime_epoch': 1744895853, 'localtime': '2025-04-17 06:17'}, 'current': {'last_updated_epoch': 1744895700, 'last_updated': '2025-04-17 06:15', 'temp_c': 11.7, 'temp_f': 53.1, 'is_day': 0, 'condition': {'text': 'Light rain', 'icon': '//cdn.weatherapi.com/weather/64x64/night/296.png', 'code': 1183}, 'wind_mph': 6.7, 'wind_kph': 10.8, 'wind_degree': 183, 'wind_dir': 'S', 'pressure_mb': 1014.0, 'pressure_in': 29.94, 'precip_mm': 0.0, 'precip_in': 0.0, 'humidity': 93, 'cloud': 100, 'feelslike_c': 10.5, 'feelslike_f': 51.0, 'windchill_c': 10.3, 'windchill_f': 50.5, 'heatindex_c': 11.0, 'heatindex_f': 51.7, 'dewpoint_c': 10.5, 'dewpoint_f': 50.9, 'vis_km': 6.4, 'vis_miles': 3.0, 'uv': 0.0, 'gust_mph': 9.5, 'gust_kph': 15.3}}\", \"score\": 0.9747216}, {\"title\": \"Thursday, April 17, 2025. San Francisco, CA - Weather Forecast\", \"url\": \"https://weathershogun.com/weather/usa/ca/san-francisco/480/april/2025-04-17\", \"content\": \"San Francisco, California Weather: Thursday, April 17, 2025. Cloudy weather, overcast skies with clouds. Day 64°. Night 55°. Precipitation 0 %.\", \"score\": 0.9638107}]\n",
      "==================================\u001b[1m Ai Message \u001b[0m==================================\n",
      "\n",
      "The current weather in San Francisco is about 53.1°F (11.7°C) with light rain. The humidity is at 93%, and the wind is blowing from the south at 6.7 mph. It feels slightly cooler, around 51°F (10.5°C). \n",
      "\n",
      "For more detailed updates, you can check the weather [here](https://www.weatherapi.com/).\n"
     ]
    }
   ],
   "source": [
    "for step in agent_executor.stream(\n",
    "    {\"messages\": [HumanMessage(content=\"whats the weather in sf?\")]},\n",
    "    stream_mode=\"values\",\n",
    "    config=config\n",
    "):\n",
    "    step[\"messages\"][-1].pretty_print()"
   ]
  },
  {
   "cell_type": "code",
   "execution_count": 22,
   "metadata": {},
   "outputs": [
    {
     "data": {
      "text/plain": [
       "AIMessage(content='The capital of Brazil is Brasília.', additional_kwargs={}, response_metadata={'model': 'mistral-small3.1', 'created_at': '2025-04-17T13:21:57.316434Z', 'done': True, 'done_reason': 'stop', 'total_duration': 5757739125, 'load_duration': 3368140834, 'prompt_eval_count': 365, 'prompt_eval_duration': 2024199334, 'eval_count': 9, 'eval_duration': 352367625, 'model_name': 'mistral-small3.1'}, id='run-eb9c26a4-c4b1-467a-b867-0bc678697adf-0', usage_metadata={'input_tokens': 365, 'output_tokens': 9, 'total_tokens': 374})"
      ]
     },
     "execution_count": 22,
     "metadata": {},
     "output_type": "execute_result"
    }
   ],
   "source": [
    "# !pip install langchain-ollama\n",
    "\n",
    "from langchain.chat_models import init_chat_model\n",
    "\n",
    "local_llm = init_chat_model(\"mistral-small3.1\", model_provider=\"ollama\")\n",
    "\n",
    "local_llm.invoke(\"What is the capital of Brazil?\")"
   ]
  },
  {
   "cell_type": "code",
   "execution_count": 23,
   "metadata": {},
   "outputs": [],
   "source": [
    "search = TavilySearchResults(max_results=2)\n",
    "tools = [search]\n",
    "agent_executor = create_react_agent(local_llm, tools)"
   ]
  },
  {
   "cell_type": "code",
   "execution_count": 24,
   "metadata": {},
   "outputs": [
    {
     "data": {
      "text/plain": [
       "{'messages': [HumanMessage(content='Which teams are officialy on the playoffs in the NBA right now?', additional_kwargs={}, response_metadata={}, id='da3f4b02-7526-4f53-a124-5642a418a144'),\n",
       "  AIMessage(content='', additional_kwargs={}, response_metadata={'model': 'mistral-small3.1', 'created_at': '2025-04-17T13:21:59.119554Z', 'done': True, 'done_reason': 'stop', 'total_duration': 1780826416, 'load_duration': 15985291, 'prompt_eval_count': 457, 'prompt_eval_duration': 574323292, 'eval_count': 28, 'eval_duration': 1188992625, 'model_name': 'mistral-small3.1'}, id='run-609a43b6-8a0d-4ad1-898f-d396b22313c3-0', tool_calls=[{'name': 'tavily_search_results_json', 'args': {'query': 'NBA playoff teams 2024'}, 'id': '1cef9b20-853c-4297-8c84-7f587f64eb12', 'type': 'tool_call'}], usage_metadata={'input_tokens': 457, 'output_tokens': 28, 'total_tokens': 485}),\n",
       "  ToolMessage(content='[{\"title\": \"2024 NBA Playoffs | Official Bracket, Schedule and Series Matchups\", \"url\": \"https://www.nba.com/playoffs/2024\", \"content\": \"Draft Kings DFS NBA Finals ### Chasing History: Celtics clinch banner 18 (Ep. 25) Jayson Tatum and Finals MVP Jaylen Brown close out Dallas in Game 5 to secure Boston\\'s NBA-record 18th championship. WE DID ITTTT!\\' Jayson Tatum walkoff interview after Celtics defeat Mavericks in Game 5 of 2024 NBA Finals, clinching title with a 4-1 series win. ### Horford finally champ after key sacrifice Al Horford, who played the most playoff games in NBA history before winning his 1st title, crosses the plateau in his 17th season. 30:13 ### Best of the 2024 NBA Finals 17:47 ### Best of Boston Celtics from the 2024 NBA Finals\", \"score\": 0.98557}, {\"title\": \"2024 NBA Playoffs Bracket\", \"url\": \"https://www.nba.com/playoffs/2024/bracket\", \"content\": \"1 Celtics 8 Heat BOS WINS 4-1 4 Cavaliers 5 Magic CLE WINS 4-3 3 Bucks 6 Pacers IND WINS 4-2 2 Knicks 7 76ers NYK WINS 4-2\", \"score\": 0.98227}]', name='tavily_search_results_json', id='3069b275-941c-4df3-adf6-643f424da800', tool_call_id='1cef9b20-853c-4297-8c84-7f587f64eb12', artifact={'query': 'NBA playoff teams 2024', 'follow_up_questions': None, 'answer': None, 'images': [], 'results': [{'url': 'https://www.nba.com/playoffs/2024', 'title': '2024 NBA Playoffs | Official Bracket, Schedule and Series Matchups', 'content': \"Draft Kings DFS NBA Finals ### Chasing History: Celtics clinch banner 18 (Ep. 25) Jayson Tatum and Finals MVP Jaylen Brown close out Dallas in Game 5 to secure Boston's NBA-record 18th championship. WE DID ITTTT!' Jayson Tatum walkoff interview after Celtics defeat Mavericks in Game 5 of 2024 NBA Finals, clinching title with a 4-1 series win. ### Horford finally champ after key sacrifice Al Horford, who played the most playoff games in NBA history before winning his 1st title, crosses the plateau in his 17th season. 30:13 ### Best of the 2024 NBA Finals 17:47 ### Best of Boston Celtics from the 2024 NBA Finals\", 'score': 0.98557, 'raw_content': None}, {'url': 'https://www.nba.com/playoffs/2024/bracket', 'title': '2024 NBA Playoffs Bracket', 'content': '1 Celtics 8 Heat BOS WINS 4-1 4 Cavaliers 5 Magic CLE WINS 4-3 3 Bucks 6 Pacers IND WINS 4-2 2 Knicks 7 76ers NYK WINS 4-2', 'score': 0.98227, 'raw_content': None}], 'response_time': 1.18}),\n",
       "  AIMessage(content='The official teams in the NBA playoffs as of right now are:\\n\\n**Eastern Conference:**\\n\\n* 1. Celtics\\n* 4. Cavaliers\\n* 3. Bucks\\n* 2. Knicks\\n\\n**Western Conference:**\\n\\n* 8. Heat\\n* 5. Magic\\n* 6. Pacers\\n* 7. 76ers', additional_kwargs={}, response_metadata={'model': 'mistral-small3.1', 'created_at': '2025-04-17T13:22:06.218936Z', 'done': True, 'done_reason': 'stop', 'total_duration': 5354772542, 'load_duration': 44090334, 'prompt_eval_count': 750, 'prompt_eval_duration': 2031751750, 'eval_count': 74, 'eval_duration': 3271475250, 'model_name': 'mistral-small3.1'}, id='run-e3158205-ad7e-4063-be0a-8d63e9b76f5c-0', usage_metadata={'input_tokens': 750, 'output_tokens': 74, 'total_tokens': 824})]}"
      ]
     },
     "execution_count": 24,
     "metadata": {},
     "output_type": "execute_result"
    }
   ],
   "source": [
    "agent_executor.invoke({\"messages\": [HumanMessage(\"Which teams are officialy on the playoffs in the NBA right now?\")]})"
   ]
  }
 ],
 "metadata": {
  "kernelspec": {
   "display_name": "oreilly-agents",
   "language": "python",
   "name": "python3"
  },
  "language_info": {
   "codemirror_mode": {
    "name": "ipython",
    "version": 3
   },
   "file_extension": ".py",
   "mimetype": "text/x-python",
   "name": "python",
   "nbconvert_exporter": "python",
   "pygments_lexer": "ipython3",
   "version": "3.11.11"
  }
 },
 "nbformat": 4,
 "nbformat_minor": 4
}
