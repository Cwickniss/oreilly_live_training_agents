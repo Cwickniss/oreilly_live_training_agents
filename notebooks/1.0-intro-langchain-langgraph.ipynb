{
 "cells": [
  {
   "cell_type": "code",
   "execution_count": null,
   "metadata": {},
   "outputs": [],
   "source": [
    "# !pip install -qU \"langchain[openai]\""
   ]
  },
  {
   "cell_type": "code",
   "execution_count": 1,
   "metadata": {},
   "outputs": [],
   "source": [
    "import os\n",
    "import getpass\n",
    "\n",
    "def _set_env(var: str):\n",
    "    if not os.environ.get(var):\n",
    "        os.environ[var] = getpass.getpass(f\"var: \")\n",
    "\n",
    "_set_env(\"OPENAI_API_KEY\")"
   ]
  },
  {
   "cell_type": "code",
   "execution_count": 2,
   "metadata": {},
   "outputs": [
    {
     "data": {
      "text/plain": [
       "AIMessage(content='Hello! How can I assist you today?', additional_kwargs={'refusal': None}, response_metadata={'token_usage': {'completion_tokens': 10, 'prompt_tokens': 8, 'total_tokens': 18, 'completion_tokens_details': {'accepted_prediction_tokens': 0, 'audio_tokens': 0, 'reasoning_tokens': 0, 'rejected_prediction_tokens': 0}, 'prompt_tokens_details': {'audio_tokens': 0, 'cached_tokens': 0}}, 'model_name': 'gpt-4o-mini-2024-07-18', 'system_fingerprint': 'fp_80cf447eee', 'finish_reason': 'stop', 'logprobs': None}, id='run-afb3cd7e-5cb5-41d3-ac21-42a89843feb1-0', usage_metadata={'input_tokens': 8, 'output_tokens': 10, 'total_tokens': 18, 'input_token_details': {'audio': 0, 'cache_read': 0}, 'output_token_details': {'audio': 0, 'reasoning': 0}})"
      ]
     },
     "execution_count": 2,
     "metadata": {},
     "output_type": "execute_result"
    }
   ],
   "source": [
    "from langchain.chat_models import init_chat_model\n",
    "\n",
    "model = init_chat_model(\n",
    "    \"gpt-4o-mini\", \n",
    "    model_provider=\"openai\")\n",
    "\n",
    "model.invoke(\"Hi\")"
   ]
  },
  {
   "cell_type": "markdown",
   "metadata": {},
   "source": [
    "# Full LLM App in LangChain"
   ]
  },
  {
   "cell_type": "code",
   "execution_count": 3,
   "metadata": {},
   "outputs": [],
   "source": [
    "import getpass\n",
    "import os\n",
    "\n",
    "try:\n",
    "    # load environment variables from .env file (requires `python-dotenv`)\n",
    "    from dotenv import load_dotenv\n",
    "\n",
    "    load_dotenv()\n",
    "except ImportError:\n",
    "    pass\n",
    "\n",
    "os.environ[\"LANGSMITH_TRACING\"] = \"true\"\n",
    "if \"LANGSMITH_API_KEY\" not in os.environ:\n",
    "    os.environ[\"LANGSMITH_API_KEY\"] = getpass.getpass(\n",
    "        prompt=\"Enter your LangSmith API key (optional): \"\n",
    "    )\n",
    "if \"LANGSMITH_PROJECT\" not in os.environ:\n",
    "    os.environ[\"LANGSMITH_PROJECT\"] = getpass.getpass(\n",
    "        prompt='Enter your LangSmith Project Name (default = \"default\"): '\n",
    "    )\n",
    "    if not os.environ.get(\"LANGSMITH_PROJECT\"):\n",
    "        os.environ[\"LANGSMITH_PROJECT\"] = \"default\"\n",
    "if \"OPENAI_API_KEY\" not in os.environ:\n",
    "    os.environ[\"OPENAI_API_KEY\"] = getpass.getpass(\n",
    "        prompt=\"Enter your OpenAI API key (required if using OpenAI): \"\n",
    "    )"
   ]
  },
  {
   "cell_type": "code",
   "execution_count": 8,
   "metadata": {},
   "outputs": [
    {
     "data": {
      "text/plain": [
       "AIMessage(content='Hello! How can I assist you today?', additional_kwargs={'refusal': None}, response_metadata={'token_usage': {'completion_tokens': 10, 'prompt_tokens': 8, 'total_tokens': 18, 'completion_tokens_details': {'accepted_prediction_tokens': 0, 'audio_tokens': 0, 'reasoning_tokens': 0, 'rejected_prediction_tokens': 0}, 'prompt_tokens_details': {'audio_tokens': 0, 'cached_tokens': 0}}, 'model_name': 'gpt-4o-mini-2024-07-18', 'system_fingerprint': 'fp_80cf447eee', 'finish_reason': 'stop', 'logprobs': None}, id='run-6f4260e7-2cab-48a9-993b-8fa7cb0d07c8-0', usage_metadata={'input_tokens': 8, 'output_tokens': 10, 'total_tokens': 18, 'input_token_details': {'audio': 0, 'cache_read': 0}, 'output_token_details': {'audio': 0, 'reasoning': 0}})"
      ]
     },
     "execution_count": 8,
     "metadata": {},
     "output_type": "execute_result"
    }
   ],
   "source": [
    "from langchain.chat_models import init_chat_model\n",
    "\n",
    "model = init_chat_model(\n",
    "    \"gpt-4o-mini\",\n",
    "    model_provider=\"openai\"\n",
    ")\n",
    "\n",
    "model.invoke(\"Hi\")"
   ]
  },
  {
   "cell_type": "code",
   "execution_count": 9,
   "metadata": {},
   "outputs": [
    {
     "data": {
      "text/plain": [
       "AIMessage(content='Ciao! Impariamo sui modelli di linguaggio di grandi dimensioni!', additional_kwargs={'refusal': None}, response_metadata={'token_usage': {'completion_tokens': 18, 'prompt_tokens': 27, 'total_tokens': 45, 'completion_tokens_details': {'accepted_prediction_tokens': 0, 'audio_tokens': 0, 'reasoning_tokens': 0, 'rejected_prediction_tokens': 0}, 'prompt_tokens_details': {'audio_tokens': 0, 'cached_tokens': 0}}, 'model_name': 'gpt-4o-mini-2024-07-18', 'system_fingerprint': 'fp_80cf447eee', 'finish_reason': 'stop', 'logprobs': None}, id='run-62b6fced-de60-46f1-bcbb-84dcfb55ac7e-0', usage_metadata={'input_tokens': 27, 'output_tokens': 18, 'total_tokens': 45, 'input_token_details': {'audio': 0, 'cache_read': 0}, 'output_token_details': {'audio': 0, 'reasoning': 0}})"
      ]
     },
     "execution_count": 9,
     "metadata": {},
     "output_type": "execute_result"
    }
   ],
   "source": [
    "from langchain_core.messages import HumanMessage, SystemMessage\n",
    "\n",
    "messages = [\n",
    "    SystemMessage(\"Translate the following from English into Italian\"),\n",
    "    HumanMessage(\"Hi! Let's learn about large language models!\"),\n",
    "]\n",
    "\n",
    "model.invoke(messages)"
   ]
  },
  {
   "cell_type": "code",
   "execution_count": 10,
   "metadata": {},
   "outputs": [
    {
     "data": {
      "text/plain": [
       "AIMessage(content=\"I'm doing well, thank you! How about you? How can I assist you today?\", additional_kwargs={'refusal': None}, response_metadata={'token_usage': {'completion_tokens': 19, 'prompt_tokens': 12, 'total_tokens': 31, 'completion_tokens_details': {'accepted_prediction_tokens': 0, 'audio_tokens': 0, 'reasoning_tokens': 0, 'rejected_prediction_tokens': 0}, 'prompt_tokens_details': {'audio_tokens': 0, 'cached_tokens': 0}}, 'model_name': 'gpt-4o-mini-2024-07-18', 'system_fingerprint': 'fp_80cf447eee', 'finish_reason': 'stop', 'logprobs': None}, id='run-1f42cd81-de35-4803-8670-5ac27f612aad-0', usage_metadata={'input_tokens': 12, 'output_tokens': 19, 'total_tokens': 31, 'input_token_details': {'audio': 0, 'cache_read': 0}, 'output_token_details': {'audio': 0, 'reasoning': 0}})"
      ]
     },
     "execution_count": 10,
     "metadata": {},
     "output_type": "execute_result"
    }
   ],
   "source": [
    "model.invoke(\"Hi\")\n",
    "\n",
    "model.invoke([{\"role\": \"user\", \"content\": \"How are ya?\"}])\n",
    "\n",
    "model.invoke([HumanMessage(\"How's it going?\")])"
   ]
  },
  {
   "cell_type": "code",
   "execution_count": 12,
   "metadata": {},
   "outputs": [
    {
     "name": "stdout",
     "output_type": "stream",
     "text": [
      "|Sure|!| Here| are| three| funny| jokes| for| you|:\n",
      "\n",
      "|1|.| **|Why| don|’t| scientists| trust| atoms|?|**|  \n",
      "|  | Because| they| make| up| everything|!\n",
      "\n",
      "|2|.| **|What| do| you| call| fake| spaghetti|?|**|  \n",
      "|  | An| imp|asta|!\n",
      "\n",
      "|3|.| **|Why| did| the| scare|crow| win| an| award|?|**|  \n",
      "|  | Because| he| was| outstanding| in| his| field|!\n",
      "\n",
      "|I| hope| these| brought| a| smile| to| your| face|!||"
     ]
    }
   ],
   "source": [
    "for token in model.stream(\"Tell me the 3 funniest jokes you know\"):\n",
    "    print(token.content, end=\"|\")"
   ]
  },
  {
   "cell_type": "code",
   "execution_count": 13,
   "metadata": {},
   "outputs": [
    {
     "data": {
      "text/plain": [
       "'System: Translate the following from English into French\\nHuman: I love programming in Python'"
      ]
     },
     "execution_count": 13,
     "metadata": {},
     "output_type": "execute_result"
    }
   ],
   "source": [
    "from langchain_core.prompts import ChatPromptTemplate\n",
    "\n",
    "system_template = \"Translate the following from {language_source} into {language_target}\"\n",
    "\n",
    "prompt_template = ChatPromptTemplate.from_messages(\n",
    "    [(\"system\", system_template), (\"human\", \"{input_sentence}\")]\n",
    ")\n",
    "\n",
    "prompt_template.format(language_source=\"English\", language_target=\"French\", input_sentence=\"I love programming in Python\")"
   ]
  },
  {
   "cell_type": "code",
   "execution_count": 16,
   "metadata": {},
   "outputs": [
    {
     "data": {
      "text/plain": [
       "AIMessage(content=\"J'adore programmer en Python.\", additional_kwargs={'refusal': None}, response_metadata={'token_usage': {'completion_tokens': 7, 'prompt_tokens': 23, 'total_tokens': 30, 'completion_tokens_details': {'accepted_prediction_tokens': 0, 'audio_tokens': 0, 'reasoning_tokens': 0, 'rejected_prediction_tokens': 0}, 'prompt_tokens_details': {'audio_tokens': 0, 'cached_tokens': 0}}, 'model_name': 'gpt-4o-mini-2024-07-18', 'system_fingerprint': 'fp_80cf447eee', 'finish_reason': 'stop', 'logprobs': None}, id='run-df0145d3-1d22-44f5-9181-1c0cf14b876e-0', usage_metadata={'input_tokens': 23, 'output_tokens': 7, 'total_tokens': 30, 'input_token_details': {'audio': 0, 'cache_read': 0}, 'output_token_details': {'audio': 0, 'reasoning': 0}})"
      ]
     },
     "execution_count": 16,
     "metadata": {},
     "output_type": "execute_result"
    }
   ],
   "source": [
    "prompt = prompt_template.invoke({\"language_source\": \"English\", \"language_target\": \"French\", \"input_sentence\": \"I love programming in Python\"})\n",
    "response = model.invoke(prompt)\n",
    "response"
   ]
  },
  {
   "cell_type": "code",
   "execution_count": 17,
   "metadata": {},
   "outputs": [
    {
     "data": {
      "text/plain": [
       "AIMessage(content=\"J'adore programmer en Python.\", additional_kwargs={'refusal': None}, response_metadata={'token_usage': {'completion_tokens': 7, 'prompt_tokens': 23, 'total_tokens': 30, 'completion_tokens_details': {'accepted_prediction_tokens': 0, 'audio_tokens': 0, 'reasoning_tokens': 0, 'rejected_prediction_tokens': 0}, 'prompt_tokens_details': {'audio_tokens': 0, 'cached_tokens': 0}}, 'model_name': 'gpt-4o-mini-2024-07-18', 'system_fingerprint': 'fp_80cf447eee', 'finish_reason': 'stop', 'logprobs': None}, id='run-6842b825-0098-44a4-83dd-2546a97c2afd-0', usage_metadata={'input_tokens': 23, 'output_tokens': 7, 'total_tokens': 30, 'input_token_details': {'audio': 0, 'cache_read': 0}, 'output_token_details': {'audio': 0, 'reasoning': 0}})"
      ]
     },
     "execution_count": 17,
     "metadata": {},
     "output_type": "execute_result"
    }
   ],
   "source": [
    "chain = prompt_template | model\n",
    "\n",
    "chain.invoke({\"language_source\": \"English\", \"language_target\": \"French\", \"input_sentence\": \"I love programming in Python\"})"
   ]
  },
  {
   "cell_type": "markdown",
   "metadata": {},
   "source": [
    "# Structured Outputs"
   ]
  },
  {
   "cell_type": "code",
   "execution_count": 30,
   "metadata": {},
   "outputs": [
    {
     "data": {
      "text/plain": [
       "AIMessage(content=\"A screenplay is a structured document that outlines a story intended for film or television. Here are the key elements that typically make up a screenplay:\\n\\n1. **Title Page**: This includes the title of the screenplay, the writer's name, and contact information, along with any relevant copyright notes.\\n\\n2. **Logline**: A brief summary of the story (usually one sentence) that includes the main character, their goal, and the conflict they face.\\n\\n3. **Synopsis**: A more detailed summary of the story, outlining the main plot points and character arcs. This may be one to two pages long.\\n\\n4. **Act Structure**: Most screenplays follow a three-act structure:\\n   - **Act 1 (Setup)**: Introduces characters, setting, and the primary conflict.\\n   - **Act 2 (Confrontation)**: Develops the conflict; characters face obstacles and challenges.\\n   - **Act 3 (Resolution)**: Concludes the story, resolving conflicts and character arcs.\\n\\n5. **Scenes**: Screenplays are divided into scenes, each with a heading (scene heading) indicating whether it takes place inside (INT.) or outside (EXT.), the location, and time of day.\\n\\n6. **Action Lines**: Describes what is happening in the scene, including character actions, settings, and important visual information. These lines should be concise and written in the present tense.\\n\\n7. **Dialogue**: The spoken words of the characters. Each character's dialogue is centered on the page, and their name is capitalized above their lines.\\n\\n8. **Character Descriptions**: Introduces characters when they first appear, usually including their name and a brief description of their personality or physical traits.\\n\\n9. **Parentheticals**: Brief notes within dialogue that indicate how a character should say a line or provide context, usually placed in parentheses. These should be used sparingly.\\n\\n10. **Transitions**: Directions for how one scene transitions to another, such as “CUT TO:” or “DISSOLVE TO:”. These are typically used less frequently in modern screenplays.\\n\\n11. **Subplots**: Secondary storylines that complement or contrast with the main plot, helping to develop characters and themes.\\n\\n12. **Themes**: Underlying messages or central ideas that are explored throughout the screenplay, which can provide depth and resonance.\\n\\n13. **Visual & Stylistic Elements**: Elements related to the visual storytelling such as motifs, colors, and symbols that enhance the narrative.\\n\\nThe overall format of a screenplay is also essential, as it adheres to industry standards regarding font (usually Courier 12-point) and margins. This ensures readability and helps with timing, as one page typically equates to one minute of screen time. A well-structured screenplay effectively balances all these elements to create a compelling story for film or television.\", additional_kwargs={'refusal': None}, response_metadata={'token_usage': {'completion_tokens': 581, 'prompt_tokens': 16, 'total_tokens': 597, 'completion_tokens_details': {'accepted_prediction_tokens': 0, 'audio_tokens': 0, 'reasoning_tokens': 0, 'rejected_prediction_tokens': 0}, 'prompt_tokens_details': {'audio_tokens': 0, 'cached_tokens': 0}}, 'model_name': 'gpt-4o-mini-2024-07-18', 'system_fingerprint': 'fp_f7d56a8a2c', 'finish_reason': 'stop', 'logprobs': None}, id='run-f6230951-a9d2-4983-81e4-d82043016a26-0', usage_metadata={'input_tokens': 16, 'output_tokens': 581, 'total_tokens': 597, 'input_token_details': {'audio': 0, 'cache_read': 0}, 'output_token_details': {'audio': 0, 'reasoning': 0}})"
      ]
     },
     "execution_count": 30,
     "metadata": {},
     "output_type": "execute_result"
    }
   ],
   "source": [
    "llm = init_chat_model(\"gpt-4o-mini\", model_provider=\"openai\")\n",
    "\n",
    "llm.invoke(\"What are the elements of a Screenplay?\")"
   ]
  },
  {
   "cell_type": "markdown",
   "metadata": {},
   "source": [
    "## Pydantic Class"
   ]
  },
  {
   "cell_type": "code",
   "execution_count": 31,
   "metadata": {},
   "outputs": [
    {
     "data": {
      "text/plain": [
       "ElementsOfScreenplay(title='Beyond Obsolescence', genre='Drama/Sci-Fi', protagonist='Emma Reyes', antagonist='The Tech Company (represented by CEO Adrian Cole)', setting='A near-future city dominated by rapid technological advancements', plot=\"In a world where a new technology renders skills and knowledge obsolete every few months, Emma Reyes, a talented but aging teacher, faces the threat of being replaced by a new digital education system. As she fights to maintain her relevance and connection with her students, she uncovers a company conspiracy led by the charismatic yet ruthless CEO Adrian Cole, who seeks to monopolize education through automation. Emma teams up with a group of fellow educators and students to expose the truth, grapple with their fears of obsolescence, and redefine what it means to be 'useful' in a world that values efficiency over human connection.\")"
      ]
     },
     "execution_count": 31,
     "metadata": {},
     "output_type": "execute_result"
    }
   ],
   "source": [
    "from typing import Optional\n",
    "from pydantic import BaseModel, Field\n",
    "\n",
    "\n",
    "# Pydantic\n",
    "class ElementsOfScreenplay(BaseModel):\n",
    "    \"\"\"Elements of a Screenplay.\"\"\"\n",
    "    \n",
    "    title: str = Field(description=\"The title of the screenplay\")\n",
    "    genre: str = Field(description=\"The genre of the screenplay\")\n",
    "    protagonist: str = Field(description=\"The protagonist of the screenplay\")\n",
    "    antagonist: str = Field(description=\"The antagonist of the screenplay\")\n",
    "    setting: str = Field(description=\"The setting of the screenplay\")\n",
    "    plot: str = Field(description=\"The plot of the screenplay\")\n",
    "\n",
    "\n",
    "structured_llm = llm.with_structured_output(ElementsOfScreenplay)\n",
    "\n",
    "structured_llm.invoke(\"Structure a Screenplay about characters afraid of becoming outdated.\")"
   ]
  },
  {
   "cell_type": "markdown",
   "metadata": {},
   "source": [
    "# Model + Tools"
   ]
  },
  {
   "cell_type": "code",
   "execution_count": 26,
   "metadata": {},
   "outputs": [
    {
     "data": {
      "text/plain": [
       "AIMessage(content='', additional_kwargs={'tool_calls': [{'id': 'call_CNhLCM36j0jV60631c46QiSL', 'function': {'arguments': '{\"query\":\"NBA playoffs 2024\"}', 'name': 'tavily_search_results_json'}, 'type': 'function'}], 'refusal': None}, response_metadata={'token_usage': {'completion_tokens': 23, 'prompt_tokens': 86, 'total_tokens': 109, 'completion_tokens_details': {'accepted_prediction_tokens': 0, 'audio_tokens': 0, 'reasoning_tokens': 0, 'rejected_prediction_tokens': 0}, 'prompt_tokens_details': {'audio_tokens': 0, 'cached_tokens': 0}}, 'model_name': 'gpt-4o-mini-2024-07-18', 'system_fingerprint': 'fp_44added55e', 'finish_reason': 'tool_calls', 'logprobs': None}, id='run-da2d514b-2b23-4169-be4a-32aa00a63412-0', tool_calls=[{'name': 'tavily_search_results_json', 'args': {'query': 'NBA playoffs 2024'}, 'id': 'call_CNhLCM36j0jV60631c46QiSL', 'type': 'tool_call'}], usage_metadata={'input_tokens': 86, 'output_tokens': 23, 'total_tokens': 109, 'input_token_details': {'audio': 0, 'cache_read': 0}, 'output_token_details': {'audio': 0, 'reasoning': 0}})"
      ]
     },
     "execution_count": 26,
     "metadata": {},
     "output_type": "execute_result"
    }
   ],
   "source": [
    "model = init_chat_model(\"gpt-4o-mini\", model_provider=\"openai\")\n",
    "search = TavilySearchResults(max_results=2)\n",
    "tools = [search]\n",
    "\n",
    "model_with_tools = model.bind_tools(tools)\n",
    "\n",
    "model_with_tools.invoke(\"Who is in the NBA playoffs?\")"
   ]
  },
  {
   "cell_type": "markdown",
   "metadata": {},
   "source": [
    "The output we get here is something called a \"tool call\" which means, prepared arguments for a pre-defined function (in this case\n",
    "web search with the tavily API) to gather the required information."
   ]
  },
  {
   "cell_type": "markdown",
   "metadata": {},
   "source": [
    "Now let's look at a full agent."
   ]
  },
  {
   "cell_type": "code",
   "execution_count": 23,
   "metadata": {},
   "outputs": [
    {
     "data": {
      "image/png": "[encoded data removed]",
      "text/plain": [
       "<langgraph.graph.state.CompiledStateGraph object at 0x13189b150>"
      ]
     },
     "execution_count": 23,
     "metadata": {},
     "output_type": "execute_result"
    }
   ],
   "source": [
    "# Import relevant functionality\n",
    "from langchain_community.tools.tavily_search import TavilySearchResults\n",
    "from langchain_core.messages import HumanMessage\n",
    "from langgraph.checkpoint.memory import MemorySaver\n",
    "from langgraph.prebuilt import create_react_agent\n",
    "\n",
    "# Create the agent\n",
    "memory = MemorySaver()\n",
    "model = init_chat_model(\"gpt-4o-mini\", model_provider=\"openai\")\n",
    "search = TavilySearchResults(max_results=2)\n",
    "tools = [search]\n",
    "agent_executor = create_react_agent(model, tools, checkpointer=memory)\n",
    "\n",
    "agent_executor"
   ]
  },
  {
   "cell_type": "markdown",
   "metadata": {},
   "source": [
    "Agent Executor is a graph!"
   ]
  },
  {
   "cell_type": "code",
   "execution_count": null,
   "metadata": {},
   "outputs": [],
   "source": [
    "# We pass config because this agent has memory so we need to pass a thread_id\n",
    "config = {\"configurable\": {\"thread_id\": \"abc123\"}}\n",
    "# Below we can't just invoke on \"input\" we use \"messages\" because the agent expects a list of messages (this info is hidden in the create_react_agent function)\n",
    "agent_executor.invoke({\"messages\": [HumanMessage(\"What is the capital of Brazil?\")]}, config=config)"
   ]
  },
  {
   "cell_type": "code",
   "execution_count": 29,
   "metadata": {},
   "outputs": [
    {
     "name": "stdout",
     "output_type": "stream",
     "text": [
      "================================\u001b[1m Human Message \u001b[0m=================================\n",
      "\n",
      "whats the weather in sf?\n",
      "==================================\u001b[1m Ai Message \u001b[0m==================================\n",
      "Tool Calls:\n",
      "  tavily_search_results_json (call_IaRy6kwWmPZrKc98IOPUQMnf)\n",
      " Call ID: call_IaRy6kwWmPZrKc98IOPUQMnf\n",
      "  Args:\n",
      "    query: San Francisco weather\n",
      "=================================\u001b[1m Tool Message \u001b[0m=================================\n",
      "Name: tavily_search_results_json\n",
      "\n",
      "[{\"url\": \"https://weathershogun.com/weather/usa/ca/san-francisco/480/april/2025-04-16\", \"content\": \"San Francisco, California Weather: Wednesday, April 16, 2025. Cloudy weather, overcast skies with clouds. Day 66°. Night 54°.\"}, {\"url\": \"https://www.metcheck.com/WEATHER/dayforecast.asp?location=San%20Francisco&locationID=1547119&lat=9.528060&lon=125.485560&dateFor=11/01/2025\", \"content\": \"Weather Forecast for San Francisco for Wednesday 16 April · Wet Only · Dry Only · Dry & Wet. Wednesday 16 April☀ △ 5:27 17:47 ▽ ☼. 1:00\"}]\n",
      "==================================\u001b[1m Ai Message \u001b[0m==================================\n",
      "\n",
      "The current weather in San Francisco shows that it is cloudy with overcast skies. The daytime temperature is around 66°F, while the nighttime temperature is expected to drop to 54°F. \n",
      "\n",
      "For more detailed weather forecasts, you can check out these links:\n",
      "- [Weather Shogun](https://weathershogun.com/weather/usa/ca/san-francisco/480/april/2025-04-16)\n",
      "- [Metcheck](https://www.metcheck.com/WEATHER/dayforecast.asp?location=San%20Francisco&locationID=1547119&lat=9.528060&lon=125.485560&dateFor=11/01/2025)\n"
     ]
    }
   ],
   "source": [
    "for step in agent_executor.stream(\n",
    "    {\"messages\": [HumanMessage(content=\"whats the weather in sf?\")]},\n",
    "    stream_mode=\"values\",\n",
    "    config=config\n",
    "):\n",
    "    step[\"messages\"][-1].pretty_print()"
   ]
  },
  {
   "cell_type": "code",
   "execution_count": 42,
   "metadata": {},
   "outputs": [
    {
     "data": {
      "text/plain": [
       "AIMessage(content='The capital of Brazil is Brasília.', additional_kwargs={}, response_metadata={'model': 'mistral-small3.1', 'created_at': '2025-04-16T13:27:24.703366Z', 'done': True, 'done_reason': 'stop', 'total_duration': 950713042, 'load_duration': 40667000, 'prompt_eval_count': 365, 'prompt_eval_duration': 561708042, 'eval_count': 9, 'eval_duration': 347052125, 'message': Message(role='assistant', content='', images=None, tool_calls=None)}, id='run-169166df-e450-432c-b447-c24d8091f79a-0', usage_metadata={'input_tokens': 365, 'output_tokens': 9, 'total_tokens': 374})"
      ]
     },
     "execution_count": 42,
     "metadata": {},
     "output_type": "execute_result"
    }
   ],
   "source": [
    "# !pip install langchain-ollama\n",
    "\n",
    "from langchain.chat_models import init_chat_model\n",
    "\n",
    "local_llm = init_chat_model(\"mistral-small3.1\", model_provider=\"ollama\")\n",
    "\n",
    "local_llm.invoke(\"What is the capital of Brazil?\")"
   ]
  },
  {
   "cell_type": "code",
   "execution_count": 43,
   "metadata": {},
   "outputs": [],
   "source": [
    "search = TavilySearchResults(max_results=2)\n",
    "tools = [search]\n",
    "agent_executor = create_react_agent(local_llm, tools)"
   ]
  },
  {
   "cell_type": "code",
   "execution_count": 44,
   "metadata": {},
   "outputs": [
    {
     "data": {
      "text/plain": [
       "{'messages': [HumanMessage(content='Which teams are officialy on the playoffs in the NBA right now?', additional_kwargs={}, response_metadata={}, id='e6543185-e304-4312-b024-5aa0cc2b3a63'),\n",
       "  AIMessage(content='', additional_kwargs={}, response_metadata={'model': 'mistral-small3.1', 'created_at': '2025-04-16T13:27:49.558566Z', 'done': True, 'done_reason': 'stop', 'total_duration': 2027579625, 'load_duration': 39010792, 'prompt_eval_count': 457, 'prompt_eval_duration': 894519541, 'eval_count': 26, 'eval_duration': 1092469375, 'message': Message(role='assistant', content='', images=None, tool_calls=None)}, id='run-b67cf614-4a0d-429f-803a-22d185d9d319-0', tool_calls=[{'name': 'tavily_search_results_json', 'args': {'query': 'NBA teams currently in the playoffs'}, 'id': 'f847cd26-e7aa-49ee-a42e-b184c3d18a19', 'type': 'tool_call'}], usage_metadata={'input_tokens': 457, 'output_tokens': 26, 'total_tokens': 483}),\n",
       "  ToolMessage(content='[{\"url\": \"https://www.foxsports.com/stories/nba/nba-playoff-picture-bracket\", \"content\": \"in this topic\\\\n National Basketball Association\\\\n Los Angeles Lakers\\\\n Milwaukee Bucks\\\\n Boston Celtics\\\\n Philadelphia 76ers\\\\n Brooklyn Nets\\\\n Cleveland Cavaliers\\\\n New York Knicks\\\\n Miami Heat\\\\n Atlanta Hawks\\\\n Toronto Raptors\\\\n Washington Wizards\\\\n Chicago Bulls\\\\n Indiana Pacers\\\\n Orlando Magic\\\\n Charlotte Hornets\\\\n Detroit Pistons\\\\n Denver Nuggets\\\\n Sacramento Kings\\\\n Memphis Grizzlies\\\\n Golden State Warriors\\\\n Phoenix Suns\\\\n Dallas Mavericks\\\\n Minnesota Timberwolves\\\\n LA Clippers\\\\n New Orleans Pelicans [...] Atlanta Hawks Boston Celtics Brooklyn Nets Charlotte Hornets Chicago Bulls Cleveland Cavaliers Dallas Mavericks Denver Nuggets Detroit Pistons Golden State Warriors Houston Rockets Indiana Pacers LA Clippers Los Angeles Lakers Memphis Grizzlies Miami Heat Milwaukee Bucks Minnesota Timberwolves New Orleans Pelicans New York Knicks Oklahoma City Thunder Orlando Magic Philadelphia 76ers Phoenix Suns Portland Trail Blazers Sacramento Kings San Antonio Spurs Toronto Raptors Utah Jazz Washington [...] Oklahoma City Thunder\\\\nMemphis Grizzlies\\\\nDenver Nuggets\\\\nHouston Rockets\\\\nLos Angeles Lakers\\\\nLA Clippers\\\\nMinnesota Timberwolves\\\\nDallas Mavericks\\\\nSacramento Kings\\\\nGolden State Warriors\\\\n\\\\nWestern Conference Bracket\\\\n\\\\n(1) Thunder vs. (8) Winner of play-in\\\\n(2) Grizzlies vs. (7) Winner of play-in\\\\n(3) Nuggets vs. (6) Clippers\\\\n(4) Rockets vs. (5) Lakers\\\\n\\\\nNBA Play-In Tournament Bracket\\\\nEastern Conference\\\\n\\\\n(7) Orlando Magic vs. (8) Atlanta Hawks\\\\n(9) Miami Heat vs. (10) Chicago Bulls\\\\n\\\\nWestern Conference\"}, {\"url\": \"http://www.espn.com/nba/playoffs/matchups\", \"content\": \"Current NBA Playoff Matchups\\\\nCome back each day to see what\\'s on the menu for the NBA Playoffs:\\\\nEastern Conference\\\\nCURRENT MATCHUP\\\\n(1) Cleveland (44-10)\\\\n\\\\nGames remaining: 28 (12 Home, 16 Away)\\\\nvs. +.500: 14, vs. East: 16\\\\nCURRENT MATCHUP\\\\n(2) Boston (39-16)\\\\n\\\\nGames remaining: 27 (14 Home, 13 Away)\\\\nvs. +.500: 9, vs. East: 15\\\\nCURRENT MATCHUP\\\\n(3) New York Knicks (36-18)\\\\n\\\\nGames remaining: 28 (12 Home, 16 Away)\\\\nvs. +.500: 15, vs. East: 16\\\\n(6) Detroit (29-26)\"}]', name='tavily_search_results_json', id='2cbfa8e0-2ab9-4b92-9cce-953168249b00', tool_call_id='f847cd26-e7aa-49ee-a42e-b184c3d18a19', artifact={'query': 'NBA teams currently in the playoffs', 'follow_up_questions': None, 'answer': None, 'images': [], 'results': [{'url': 'https://www.foxsports.com/stories/nba/nba-playoff-picture-bracket', 'title': '2025 NBA playoff bracket, picture: Final updated standings', 'content': 'in this topic\\n National Basketball Association\\n Los Angeles Lakers\\n Milwaukee Bucks\\n Boston Celtics\\n Philadelphia 76ers\\n Brooklyn Nets\\n Cleveland Cavaliers\\n New York Knicks\\n Miami Heat\\n Atlanta Hawks\\n Toronto Raptors\\n Washington Wizards\\n Chicago Bulls\\n Indiana Pacers\\n Orlando Magic\\n Charlotte Hornets\\n Detroit Pistons\\n Denver Nuggets\\n Sacramento Kings\\n Memphis Grizzlies\\n Golden State Warriors\\n Phoenix Suns\\n Dallas Mavericks\\n Minnesota Timberwolves\\n LA Clippers\\n New Orleans Pelicans [...] Atlanta Hawks Boston Celtics Brooklyn Nets Charlotte Hornets Chicago Bulls Cleveland Cavaliers Dallas Mavericks Denver Nuggets Detroit Pistons Golden State Warriors Houston Rockets Indiana Pacers LA Clippers Los Angeles Lakers Memphis Grizzlies Miami Heat Milwaukee Bucks Minnesota Timberwolves New Orleans Pelicans New York Knicks Oklahoma City Thunder Orlando Magic Philadelphia 76ers Phoenix Suns Portland Trail Blazers Sacramento Kings San Antonio Spurs Toronto Raptors Utah Jazz Washington [...] Oklahoma City Thunder\\nMemphis Grizzlies\\nDenver Nuggets\\nHouston Rockets\\nLos Angeles Lakers\\nLA Clippers\\nMinnesota Timberwolves\\nDallas Mavericks\\nSacramento Kings\\nGolden State Warriors\\n\\nWestern Conference Bracket\\n\\n(1) Thunder vs. (8) Winner of play-in\\n(2) Grizzlies vs. (7) Winner of play-in\\n(3) Nuggets vs. (6) Clippers\\n(4) Rockets vs. (5) Lakers\\n\\nNBA Play-In Tournament Bracket\\nEastern Conference\\n\\n(7) Orlando Magic vs. (8) Atlanta Hawks\\n(9) Miami Heat vs. (10) Chicago Bulls\\n\\nWestern Conference', 'score': 0.8252664, 'raw_content': None}, {'url': 'http://www.espn.com/nba/playoffs/matchups', 'title': '2025 NBA Playoff Matchups - National Basketball Association - ESPN', 'content': \"Current NBA Playoff Matchups\\nCome back each day to see what's on the menu for the NBA Playoffs:\\nEastern Conference\\nCURRENT MATCHUP\\n(1) Cleveland (44-10)\\n\\nGames remaining: 28 (12 Home, 16 Away)\\nvs. +.500: 14, vs. East: 16\\nCURRENT MATCHUP\\n(2) Boston (39-16)\\n\\nGames remaining: 27 (14 Home, 13 Away)\\nvs. +.500: 9, vs. East: 15\\nCURRENT MATCHUP\\n(3) New York Knicks (36-18)\\n\\nGames remaining: 28 (12 Home, 16 Away)\\nvs. +.500: 15, vs. East: 16\\n(6) Detroit (29-26)\", 'score': 0.8106142, 'raw_content': None}], 'response_time': 1.34}),\n",
       "  AIMessage(content='Currently, the NBA playoffs are ongoing, and the following teams have officially secured spots in the playoffs:\\n\\n**Eastern Conference:**\\n\\n1. Cleveland Cavaliers\\n2. Boston Celtics\\n3. New York Knicks\\n4. Philadelphia 76ers\\n5. Brooklyn Nets\\n6. Miami Heat\\n\\n**Western Conference:**\\n\\n1. Denver Nuggets\\n2. Los Angeles Lakers\\n3. Memphis Grizzlies\\n4. Sacramento Kings\\n5. Los Angeles Clippers\\n6. Golden State Warriors\\n7. Minnesota Timberwolves\\n8. Dallas Mavericks\\n\\nFor the most up-to-date information, you can check the official NBA website or sports news outlets.', additional_kwargs={}, response_metadata={'model': 'mistral-small3.1', 'created_at': '2025-04-16T13:28:00.812729Z', 'done': True, 'done_reason': 'stop', 'total_duration': 9486421125, 'load_duration': 41799416, 'prompt_eval_count': 1006, 'prompt_eval_duration': 3284150667, 'eval_count': 134, 'eval_duration': 6152613125, 'message': Message(role='assistant', content='Currently, the NBA playoffs are ongoing, and the following teams have officially secured spots in the playoffs:\\n\\n**Eastern Conference:**\\n\\n1. Cleveland Cavaliers\\n2. Boston Celtics\\n3. New York Knicks\\n4. Philadelphia 76ers\\n5. Brooklyn Nets\\n6. Miami Heat\\n\\n**Western Conference:**\\n\\n1. Denver Nuggets\\n2. Los Angeles Lakers\\n3. Memphis Grizzlies\\n4. Sacramento Kings\\n5. Los Angeles Clippers\\n6. Golden State Warriors\\n7. Minnesota Timberwolves\\n8. Dallas Mavericks\\n\\nFor the most up-to-date information, you can check the official NBA website or sports news outlets.', images=None, tool_calls=None)}, id='run-ed38fe8e-8506-40c4-a88c-e76895c8a08e-0', usage_metadata={'input_tokens': 1006, 'output_tokens': 134, 'total_tokens': 1140})]}"
      ]
     },
     "execution_count": 44,
     "metadata": {},
     "output_type": "execute_result"
    }
   ],
   "source": [
    "agent_executor.invoke({\"messages\": [HumanMessage(\"Which teams are officialy on the playoffs in the NBA right now?\")]})"
   ]
  },
  {
   "cell_type": "code",
   "execution_count": null,
   "metadata": {},
   "outputs": [],
   "source": []
  }
 ],
 "metadata": {
  "kernelspec": {
   "display_name": "oreilly-agents",
   "language": "python",
   "name": "oreilly-agents"
  },
  "language_info": {
   "codemirror_mode": {
    "name": "ipython",
    "version": 3
   },
   "file_extension": ".py",
   "mimetype": "text/x-python",
   "name": "python",
   "nbconvert_exporter": "python",
   "pygments_lexer": "ipython3",
   "version": "3.11.9"
  }
 },
 "nbformat": 4,
 "nbformat_minor": 2
}
