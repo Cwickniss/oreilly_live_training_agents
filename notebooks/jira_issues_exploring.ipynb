{
 "cells": [
  {
   "cell_type": "code",
   "execution_count": 6,
   "metadata": {},
   "outputs": [],
   "source": [
    "%load_ext autoreload\n",
    "%autoreload 2"
   ]
  },
  {
   "cell_type": "code",
   "execution_count": 7,
   "metadata": {},
   "outputs": [],
   "source": [
    "from jira import JIRA\n",
    "import os\n",
    "import argparse"
   ]
  },
  {
   "cell_type": "code",
   "execution_count": 4,
   "metadata": {},
   "outputs": [],
   "source": [
    "JIRA_USERNAME = \"lucas.soares@biometrid.com\"\n",
    "JIRA_TOKEN = \"\""
   ]
  },
  {
   "cell_type": "code",
   "execution_count": 5,
   "metadata": {},
   "outputs": [],
   "source": [
    "# Create JIRA instance\n",
    "jira = JIRA(basic_auth=(JIRA_USERNAME, JIRA_TOKEN), server='https://biometrid.atlassian.net/')"
   ]
  },
  {
   "cell_type": "code",
   "execution_count": 8,
   "metadata": {},
   "outputs": [],
   "source": [
    "# summary = \"Test Summary\"\n",
    "# description = \"Test Description\"\n",
    "# issue_type = \"Task\"\n",
    "\n",
    "# issue_dict = {\n",
    "#         'project': {'key': 'ML'},\n",
    "#         'summary': summary,\n",
    "#         'description': description,\n",
    "#         'issuetype': {'name': issue_type},\n",
    "#     }\n",
    "\n",
    "\n",
    "# new_issue = jira.create_issue(fields=issue_dict)\n",
    "# print(f'New issue created with key: {new_issue.key}')"
   ]
  },
  {
   "cell_type": "code",
   "execution_count": null,
   "metadata": {},
   "outputs": [],
   "source": [
    "# issue = jira.issue(\"ML-289\")\n",
    "# issue.fields.status\n",
    "\n",
    "# issue_key = \"ML-289\"\n",
    "\n",
    "# todo_transition_id = None\n",
    "# for transition in transitions:\n",
    "#     if transition['name'].lower() == 'to do':\n",
    "#         todo_transition_id = transition['id']\n",
    "#         break"
   ]
  },
  {
   "cell_type": "code",
   "execution_count": 12,
   "metadata": {},
   "outputs": [],
   "source": []
  },
  {
   "cell_type": "code",
   "execution_count": null,
   "metadata": {},
   "outputs": [],
   "source": []
  },
  {
   "cell_type": "code",
   "execution_count": null,
   "metadata": {},
   "outputs": [],
   "source": []
  },
  {
   "cell_type": "code",
   "execution_count": null,
   "metadata": {},
   "outputs": [],
   "source": []
  },
  {
   "cell_type": "code",
   "execution_count": null,
   "metadata": {},
   "outputs": [],
   "source": []
  },
  {
   "cell_type": "code",
   "execution_count": null,
   "metadata": {},
   "outputs": [],
   "source": []
  },
  {
   "cell_type": "code",
   "execution_count": null,
   "metadata": {},
   "outputs": [],
   "source": []
  },
  {
   "cell_type": "code",
   "execution_count": null,
   "metadata": {},
   "outputs": [],
   "source": []
  },
  {
   "cell_type": "code",
   "execution_count": null,
   "metadata": {},
   "outputs": [],
   "source": []
  },
  {
   "cell_type": "code",
   "execution_count": null,
   "metadata": {},
   "outputs": [],
   "source": []
  },
  {
   "cell_type": "code",
   "execution_count": null,
   "metadata": {},
   "outputs": [],
   "source": []
  }
 ],
 "metadata": {
  "kernelspec": {
   "display_name": "biom-auth",
   "language": "python",
   "name": "biom-auth"
  },
  "language_info": {
   "codemirror_mode": {
    "name": "ipython",
    "version": 3
   },
   "file_extension": ".py",
   "mimetype": "text/x-python",
   "name": "python",
   "nbconvert_exporter": "python",
   "pygments_lexer": "ipython3",
   "version": "3.11.5"
  }
 },
 "nbformat": 4,
 "nbformat_minor": 2
}
