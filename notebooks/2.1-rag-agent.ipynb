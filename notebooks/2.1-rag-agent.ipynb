{
 "cells": [
  {
   "cell_type": "code",
   "execution_count": null,
   "metadata": {},
   "outputs": [],
   "source": [
    "%pip install --upgrade --quiet  langchain langchain-community langchainhub langchain-openai faiss-cpu"
   ]
  },
  {
   "cell_type": "code",
   "execution_count": 2,
   "metadata": {},
   "outputs": [],
   "source": [
    "from langchain_community.document_loaders import PyPDFLoader\n",
    "\n",
    "loader = PyPDFLoader(\"./assets-resources/tree-of-thoughts.pdf\")\n",
    "documents = loader.load()"
   ]
  },
  {
   "cell_type": "code",
   "execution_count": 4,
   "metadata": {},
   "outputs": [
    {
     "data": {
      "text/plain": [
       "'The Tree of Thoughts technique is a framework for language model inference that allows models to perform deliberate decision-making by considering multiple reasoning paths and self-evaluating choices to decide the next course of action. It generalizes over the popular \"Chain of Thought\" approach and enables exploration over coherent units of text (\"thoughts\") that serve as intermediate steps toward problem-solving. The Tree of Thoughts framework allows language models to explore multiple reasoning paths over thoughts, framing any problem as a search over a tree where each node represents a partial solution with the input and the sequence of thoughts so far.\\n\\nThis technique addresses the shortcomings of existing approaches by incorporating exploration of different continuations within a thought process locally and incorporating planning, lookahead, or backtracking globally to evaluate different options. By decomposing the intermediate process into thought steps, generating potential thoughts from each state, heuristically evaluating states, and using different search algorithms, the Tree of Thoughts technique enhances language models\\' problem-solving abilities on tasks requiring non-trivial planning or search.\\n\\nThe experiments conducted with the Tree of Thoughts technique showed significant improvements in problem-solving abilities on tasks such as the Game of 24, Creative Writing, and Mini Crosswords. For example, in the Game of 24, the success rate increased from 4% with the Chain of Thought prompting to 74% with the Tree of Thoughts technique. This framework empowers language models to make decisions and solve problems more autonomously and intelligently, paving the way for enhanced problem-solving capabilities in various tasks.'"
      ]
     },
     "execution_count": 4,
     "metadata": {},
     "output_type": "execute_result"
    }
   ],
   "source": [
    "from langchain_community.vectorstores import FAISS\n",
    "from langchain_openai import OpenAIEmbeddings\n",
    "from langchain_text_splitters import CharacterTextSplitter\n",
    "\n",
    "text_splitter = CharacterTextSplitter(chunk_size=1000, chunk_overlap=0)\n",
    "texts = text_splitter.split_documents(documents)\n",
    "embeddings = OpenAIEmbeddings()\n",
    "db = FAISS.from_documents(texts, embeddings)\n",
    "\n",
    "retriever = db.as_retriever()\n",
    "\n",
    "from langchain.tools.retriever import create_retriever_tool\n",
    "\n",
    "tool = create_retriever_tool(\n",
    "    retriever,\n",
    "    \"tree_of_thoughts\",\n",
    "    \"Searches and returns excerpts from the tree of thoughts paper.\",\n",
    ")\n",
    "tools = [tool]\n",
    "\n",
    "from langchain import hub\n",
    "\n",
    "prompt = hub.pull(\"hwchase17/openai-tools-agent\")\n",
    "prompt.messages\n",
    "\n",
    "from langchain_openai import ChatOpenAI\n",
    "\n",
    "llm = ChatOpenAI(temperature=0)\n",
    "\n",
    "from langchain.agents import AgentExecutor, create_openai_tools_agent\n",
    "\n",
    "agent = create_openai_tools_agent(llm, tools, prompt)\n",
    "agent_executor = AgentExecutor(agent=agent, tools=tools)\n",
    "\n",
    "result = agent_executor.invoke({\"input\": \"hi, im bob\"})\n",
    "\n",
    "result[\"output\"]\n",
    "\n",
    "\n",
    "result = agent_executor.invoke(\n",
    "    {\n",
    "        \"input\": \"what is the tree of thoughts technique?\"\n",
    "    }\n",
    ")\n",
    "\n",
    "result[\"output\"]"
   ]
  },
  {
   "cell_type": "code",
   "execution_count": 5,
   "metadata": {},
   "outputs": [],
   "source": [
    "result = agent_executor.invoke(\n",
    "    {\"input\": \"How did they evaluated the performance of the technique?\"}\n",
    ")"
   ]
  },
  {
   "cell_type": "code",
   "execution_count": 6,
   "metadata": {},
   "outputs": [
    {
     "data": {
      "text/plain": [
       "'The performance of the technique was evaluated through various tasks such as the Game of 24, Creative Writing, and Mini Crosswords. The Tree of Thoughts (ToT) framework was used for problem-solving with language models. The ToT framework actively maintains a tree of thoughts, where each thought is a coherent language sequence serving as an intermediate step towards problem-solving. The LM self-evaluates the progress of different intermediate thoughts through a deliberate reasoning process instantiated in language. By combining language-based capability to generate and evaluate diverse thoughts with search algorithms like breadth-first search (BFS) or depth-first search (DFS), systematic exploration of the tree of thoughts with lookahead and backtracking was achieved. The ToT framework showed superior results in all three tasks compared to existing LM inference methods, even with the state-of-the-art language model, GPT-4. The tasks required deductive, mathematical, commonsense, and lexical reasoning abilities, along with systematic planning or search. The ToT framework demonstrated its generality and flexibility in supporting different levels of thoughts, ways to generate and evaluate thoughts, and different search algorithms tailored to the nature of different problems.'"
      ]
     },
     "execution_count": 6,
     "metadata": {},
     "output_type": "execute_result"
    }
   ],
   "source": [
    "result[\"output\"]"
   ]
  }
 ],
 "metadata": {
  "kernelspec": {
   "display_name": "oreilly-agents",
   "language": "python",
   "name": "oreilly-agents"
  },
  "language_info": {
   "codemirror_mode": {
    "name": "ipython",
    "version": 3
   },
   "file_extension": ".py",
   "mimetype": "text/x-python",
   "name": "python",
   "nbconvert_exporter": "python",
   "pygments_lexer": "ipython3",
   "version": "3.11.9"
  }
 },
 "nbformat": 4,
 "nbformat_minor": 2
}
