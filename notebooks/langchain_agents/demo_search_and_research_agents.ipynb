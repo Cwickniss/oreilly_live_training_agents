{
 "cells": [
  {
   "cell_type": "markdown",
   "metadata": {},
   "source": [
    "# Building a Custom Agents with Langchain\n",
    "\n",
    "Let's look at how to build a custom agents using langchain."
   ]
  },
  {
   "cell_type": "code",
   "execution_count": null,
   "metadata": {},
   "outputs": [],
   "source": [
    "#!pip install openai\n",
    "#!pip install langchain\n",
    "#!pip install python-dotenv"
   ]
  },
  {
   "cell_type": "code",
   "execution_count": null,
   "metadata": {},
   "outputs": [],
   "source": [
    "import tiktoken\n",
    "def get_num_tokens(prompt, model=\"gpt-3.5-turbo\"):\n",
    "    \"\"\"Calculates the number of tokens in a text prompt\"\"\"    \n",
    "\n",
    "    enc = tiktoken.encoding_for_model(\"gpt-3.5-turbo\")\n",
    "\n",
    "    return len(enc.encode(prompt))"
   ]
  },
  {
   "cell_type": "code",
   "execution_count": null,
   "metadata": {},
   "outputs": [],
   "source": [
    "import os\n",
    "from langchain import PromptTemplate\n",
    "from langchain.agents import initialize_agent, Tool\n",
    "from langchain.agents import AgentType\n",
    "from langchain.chat_models import ChatOpenAI\n",
    "from langchain.prompts import MessagesPlaceholder\n",
    "from langchain.memory import ConversationSummaryBufferMemory\n",
    "from langchain.text_splitter import RecursiveCharacterTextSplitter\n",
    "from langchain.chains.summarize import load_summarize_chain\n",
    "from langchain.tools import BaseTool\n",
    "from pydantic import BaseModel, Field\n",
    "from typing import Type\n",
    "from bs4 import BeautifulSoup\n",
    "import requests\n",
    "import json\n",
    "from langchain.schema import SystemMessage"
   ]
  },
  {
   "cell_type": "code",
   "execution_count": null,
   "metadata": {},
   "outputs": [],
   "source": [
    "#!pip install fastapi\n",
    "from fastapi import FastAPI "
   ]
  },
  {
   "cell_type": "code",
   "execution_count": null,
   "metadata": {},
   "outputs": [],
   "source": [
    "#!pip install openai\n",
    "import openai"
   ]
  },
  {
   "cell_type": "code",
   "execution_count": null,
   "metadata": {},
   "outputs": [],
   "source": [
    "from dotenv import load_dotenv\n",
    "load_dotenv()\n",
    "brwoserless_api_key = os.getenv(\"BROWSERLESS_API_KEY\")\n",
    "serper_api_key = os.getenv(\"SERP_API_KEY\")\n",
    "openai.api_key = os.getenv(\"OPENAI_API_KEY\")"
   ]
  },
  {
   "cell_type": "code",
   "execution_count": null,
   "metadata": {},
   "outputs": [],
   "source": [
    "#!pip install tiktoken"
   ]
  },
  {
   "cell_type": "markdown",
   "metadata": {},
   "source": []
  },
  {
   "cell_type": "code",
   "execution_count": null,
   "metadata": {},
   "outputs": [],
   "source": [
    "# 1. Tool for search\n",
    "\n",
    "\n",
    "def search(query):\n",
    "    url = \"https://google.serper.dev/search\"\n",
    "\n",
    "    payload = json.dumps({\n",
    "        \"q\": query\n",
    "    })\n",
    "\n",
    "    headers = {\n",
    "        'X-API-KEY': serper_api_key,\n",
    "        'Content-Type': 'application/json'\n",
    "    }\n",
    "\n",
    "    response = requests.request(\"POST\", url, headers=headers, data=payload)\n",
    "\n",
    "    print(response.text)\n",
    "\n",
    "    return response.text\n",
    "\n",
    "\n",
    "# 2. Tool for scraping\n",
    "def scrape_website(objective: str, url: str):\n",
    "    # scrape website, and also will summarize the content based on objective if the content is too large\n",
    "    # objective is the original objective & task that user give to the agent, url is the url of the website to be scraped\n",
    "\n",
    "    print(\"Scraping website...\")\n",
    "    # Define the headers for the request\n",
    "    headers = {\n",
    "        'Cache-Control': 'no-cache',\n",
    "        'Content-Type': 'application/json',\n",
    "    }\n",
    "\n",
    "    # Define the data to be sent in the request\n",
    "    data = {\n",
    "        \"url\": url\n",
    "    }\n",
    "\n",
    "    # Convert Python object to JSON string\n",
    "    data_json = json.dumps(data)\n",
    "\n",
    "    # Send the POST request\n",
    "    post_url = f\"https://chrome.browserless.io/content?token={brwoserless_api_key}\"\n",
    "    response = requests.post(post_url, headers=headers, data=data_json)\n",
    "\n",
    "    # Check the response status code\n",
    "    if response.status_code == 200:\n",
    "        soup = BeautifulSoup(response.content, \"html.parser\")\n",
    "        text = soup.get_text()\n",
    "        print(\"CONTENTTTTTT:\", text)\n",
    "\n",
    "        if len(text) > 10000:\n",
    "            output = summary(objective, text)\n",
    "            return output\n",
    "        else:\n",
    "            return text\n",
    "    else:\n",
    "        print(f\"HTTP request failed with status code {response.status_code}\")\n",
    "\n",
    "\n",
    "def summary(objective, content):\n",
    "    llm = ChatOpenAI(temperature=0, model=\"gpt-3.5-turbo-16k-0613\")\n",
    "\n",
    "    text_splitter = RecursiveCharacterTextSplitter(\n",
    "        separators=[\"\\n\\n\", \"\\n\"], chunk_size=10000, chunk_overlap=500)\n",
    "    docs = text_splitter.create_documents([content])\n",
    "    map_prompt = \"\"\"\n",
    "    Write a summary of the following text for {objective}:\n",
    "    \"{text}\"\n",
    "    SUMMARY:\n",
    "    \"\"\"\n",
    "    map_prompt_template = PromptTemplate(\n",
    "        template=map_prompt, input_variables=[\"text\", \"objective\"])\n",
    "\n",
    "    summary_chain = load_summarize_chain(\n",
    "        llm=llm,\n",
    "        chain_type='map_reduce',\n",
    "        map_prompt=map_prompt_template,\n",
    "        combine_prompt=map_prompt_template,\n",
    "        verbose=True\n",
    "    )\n",
    "\n",
    "    output = summary_chain.run(input_documents=docs, objective=objective)\n",
    "\n",
    "    return output\n",
    "\n",
    "\n",
    "class ScrapeWebsiteInput(BaseModel):\n",
    "    \"\"\"Inputs for scrape_website\"\"\"\n",
    "    objective: str = Field(\n",
    "        description=\"The objective & task that users give to the agent\")\n",
    "    url: str = Field(description=\"The url of the website to be scraped\")\n",
    "\n",
    "\n",
    "class ScrapeWebsiteTool(BaseTool):\n",
    "    name = \"scrape_website\"\n",
    "    description = \"useful when you need to get data from a website url, passing both url and objective to the function; DO NOT make up any url, the url should only be from the search results\"\n",
    "    args_schema: Type[BaseModel] = ScrapeWebsiteInput\n",
    "\n",
    "    def _run(self, objective: str, url: str):\n",
    "        return scrape_website(objective, url)\n",
    "\n",
    "    def _arun(self, url: str):\n",
    "        raise NotImplementedError(\"error here\")\n",
    "\n",
    "\n",
    "# 3. Create langchain agent with the tools above\n",
    "tools = [\n",
    "    Tool(\n",
    "        name=\"Search\",\n",
    "        func=search,\n",
    "        description=\"useful for when you need to answer questions about current events, data. You should ask targeted questions\"\n",
    "    ),\n",
    "    ScrapeWebsiteTool(),\n",
    "]\n",
    "\n",
    "system_message = SystemMessage(\n",
    "    content=\"\"\"You are a world class researcher, who can do detailed research on any topic and produce facts based results; \n",
    "            you do not make things up, you will try as hard as possible to gather facts & data to back up the research\n",
    "            \n",
    "            Please make sure you complete the objective above with the following rules:\n",
    "            1/ You should do enough research to gather as much information as possible about the objective\n",
    "            2/ If there are url of relevant links & articles, you will scrape it to gather more information\n",
    "            3/ After scraping & search, you should think \"is there any new things i should search & scraping based on the data I collected to increase research quality?\" If answer is yes, continue; But don't do this more than 3 iteratins\n",
    "            4/ You should not make things up, you should only write facts & data that you have gathered\n",
    "            5/ In the final output, You should include all reference data & links to back up your research; You should include all reference data & links to back up your research\n",
    "            6/ In the final output, You should include all reference data & links to back up your research; You should include all reference data & links to back up your research\"\"\"\n",
    ")\n",
    "\n",
    "agent_kwargs = {\n",
    "    \"extra_prompt_messages\": [MessagesPlaceholder(variable_name=\"memory\")],\n",
    "    \"system_message\": system_message,\n",
    "}\n",
    "\n",
    "llm = ChatOpenAI(temperature=0, model=\"gpt-3.5-turbo-16k-0613\")\n",
    "memory = ConversationSummaryBufferMemory(\n",
    "    memory_key=\"memory\", return_messages=True, llm=llm, max_token_limit=1000)\n",
    "\n",
    "agent = initialize_agent(\n",
    "    tools,\n",
    "    llm,\n",
    "    agent=AgentType.OPENAI_FUNCTIONS,\n",
    "    verbose=True,\n",
    "    agent_kwargs=agent_kwargs,\n",
    "    memory=memory,\n",
    ")\n",
    "\n",
    "query = \"What are detailed steps to run Lamma 2-chat model locally?\"\n",
    "content = agent({\"input\": query})\n",
    "actual_content = content['output']\n",
    "print(actual_content)"
   ]
  },
  {
   "cell_type": "code",
   "execution_count": null,
   "metadata": {},
   "outputs": [],
   "source": [
    "query = \"Steps to setup clear ML for an image classifier development locally\"\n",
    "content = agent({\"input\": query})\n",
    "actual_content = content['output']\n",
    "print(actual_content)"
   ]
  },
  {
   "cell_type": "markdown",
   "metadata": {},
   "source": [
    "# Option 2 for a researcher agent"
   ]
  },
  {
   "cell_type": "code",
   "execution_count": null,
   "metadata": {},
   "outputs": [],
   "source": [
    "import os\n",
    "import openai\n",
    "from dotenv import load_dotenv\n",
    "load_dotenv()\n",
    "from langchain.agents import Tool, AgentExecutor, LLMSingleActionAgent, AgentOutputParser\n",
    "from langchain.prompts import StringPromptTemplate\n",
    "from langchain import OpenAI, SerpAPIWrapper, LLMChain\n",
    "from typing import List, Union\n",
    "from langchain.schema import AgentAction, AgentFinish, OutputParserException\n",
    "import re\n",
    "\n",
    "\n",
    "brwoserless_api_key = os.getenv(\"BROWSERLESS_API_KEY\")\n",
    "serper_api_key = os.getenv(\"SERPER_API_KEY\")\n",
    "openai.api_key = os.getenv(\"OPENAI_API_KEY\")\n",
    "serpapi_api_key = os.getenv(\"SERPAPI_API_KEY\")"
   ]
  },
  {
   "cell_type": "code",
   "execution_count": null,
   "metadata": {},
   "outputs": [],
   "source": [
    "#!pip install google-search-results\n",
    "# Define which tools the agent can use to answer user queries\n",
    "search = SerpAPIWrapper()\n",
    "tools = [\n",
    "    Tool(\n",
    "        name = \"Search\",\n",
    "        func=search.run,\n",
    "        description=\"useful for when you need to answer questions about current events\"\n",
    "    )\n",
    "]"
   ]
  },
  {
   "cell_type": "code",
   "execution_count": 5,
   "metadata": {},
   "outputs": [],
   "source": [
    "# Set up the base template\n",
    "template = \"\"\"Answer the following questions as best you can, but speaking as a pirate might speak. You have access to the following tools:\n",
    "\n",
    "{tools}\n",
    "\n",
    "Use the following format:\n",
    "\n",
    "Question: the input question you must answer\n",
    "Thought: you should always think about what to do\n",
    "Action: the action to take, should be one of [{tool_names}]\n",
    "Action Input: the input to the action\n",
    "Observation: the result of the action\n",
    "... (this Thought/Action/Action Input/Observation can repeat N times)\n",
    "Thought: I now know the final answer\n",
    "Final Answer: the final answer to the original input question\n",
    "\n",
    "Begin! Remember to speak as a pirate when giving your final answer. Use lots of \"Arg\"s\n",
    "\n",
    "Question: {input}\n",
    "{agent_scratchpad}\"\"\""
   ]
  },
  {
   "cell_type": "code",
   "execution_count": 6,
   "metadata": {},
   "outputs": [],
   "source": [
    "# Set up a prompt template\n",
    "class CustomPromptTemplate(StringPromptTemplate):\n",
    "    # The template to use\n",
    "    template: str\n",
    "    # The list of tools available\n",
    "    tools: List[Tool]\n",
    "\n",
    "    def format(self, **kwargs) -> str:\n",
    "        # Get the intermediate steps (AgentAction, Observation tuples)\n",
    "        # Format them in a particular way\n",
    "        intermediate_steps = kwargs.pop(\"intermediate_steps\")\n",
    "        thoughts = \"\"\n",
    "        for action, observation in intermediate_steps:\n",
    "            thoughts += action.log\n",
    "            thoughts += f\"\\nObservation: {observation}\\nThought: \"\n",
    "        # Set the agent_scratchpad variable to that value\n",
    "        kwargs[\"agent_scratchpad\"] = thoughts\n",
    "        # Create a tools variable from the list of tools provided\n",
    "        kwargs[\"tools\"] = \"\\n\".join([f\"{tool.name}: {tool.description}\" for tool in self.tools])\n",
    "        # Create a list of tool names for the tools provided\n",
    "        kwargs[\"tool_names\"] = \", \".join([tool.name for tool in self.tools])\n",
    "        return self.template.format(**kwargs)"
   ]
  },
  {
   "cell_type": "code",
   "execution_count": 7,
   "metadata": {},
   "outputs": [],
   "source": [
    "prompt = CustomPromptTemplate(\n",
    "    template=template,\n",
    "    tools=tools,\n",
    "    # This omits the `agent_scratchpad`, `tools`, and `tool_names` variables because those are generated dynamically\n",
    "    # This includes the `intermediate_steps` variable because that is needed\n",
    "    input_variables=[\"input\", \"intermediate_steps\"]\n",
    ")"
   ]
  },
  {
   "cell_type": "code",
   "execution_count": 8,
   "metadata": {},
   "outputs": [],
   "source": [
    "class CustomOutputParser(AgentOutputParser):\n",
    "\n",
    "    def parse(self, llm_output: str) -> Union[AgentAction, AgentFinish]:\n",
    "        # Check if agent should finish\n",
    "        if \"Final Answer:\" in llm_output:\n",
    "            return AgentFinish(\n",
    "                # Return values is generally always a dictionary with a single `output` key\n",
    "                # It is not recommended to try anything else at the moment :)\n",
    "                return_values={\"output\": llm_output.split(\"Final Answer:\")[-1].strip()},\n",
    "                log=llm_output,\n",
    "            )\n",
    "        # Parse out the action and action input\n",
    "        regex = r\"Action\\s*\\d*\\s*:(.*?)\\nAction\\s*\\d*\\s*Input\\s*\\d*\\s*:[\\s]*(.*)\"\n",
    "        match = re.search(regex, llm_output, re.DOTALL)\n",
    "        if not match:\n",
    "            raise OutputParserException(f\"Could not parse LLM output: `{llm_output}`\")\n",
    "        action = match.group(1).strip()\n",
    "        action_input = match.group(2)\n",
    "        # Return the action and action input\n",
    "        return AgentAction(tool=action, tool_input=action_input.strip(\" \").strip('\"'), log=llm_output)"
   ]
  },
  {
   "cell_type": "code",
   "execution_count": 9,
   "metadata": {},
   "outputs": [],
   "source": [
    "output_parser = CustomOutputParser()"
   ]
  },
  {
   "cell_type": "code",
   "execution_count": 10,
   "metadata": {},
   "outputs": [],
   "source": [
    "llm = OpenAI(temperature=0)"
   ]
  },
  {
   "cell_type": "code",
   "execution_count": 11,
   "metadata": {},
   "outputs": [],
   "source": [
    "# LLM chain consisting of the LLM and a prompt\n",
    "llm_chain = LLMChain(llm=llm, prompt=prompt)"
   ]
  },
  {
   "cell_type": "code",
   "execution_count": 12,
   "metadata": {},
   "outputs": [],
   "source": [
    "tool_names = [tool.name for tool in tools]\n",
    "agent = LLMSingleActionAgent(\n",
    "    llm_chain=llm_chain,\n",
    "    output_parser=output_parser,\n",
    "    stop=[\"\\nObservation:\"],\n",
    "    allowed_tools=tool_names\n",
    ")"
   ]
  },
  {
   "cell_type": "code",
   "execution_count": 13,
   "metadata": {},
   "outputs": [],
   "source": [
    "agent_executor = AgentExecutor.from_agent_and_tools(agent=agent, tools=tools, verbose=True)"
   ]
  },
  {
   "cell_type": "code",
   "execution_count": 14,
   "metadata": {},
   "outputs": [
    {
     "name": "stdout",
     "output_type": "stream",
     "text": [
      "\n",
      "\n",
      "\u001b[1m> Entering new AgentExecutor chain...\u001b[0m\n",
      "\u001b[32;1m\u001b[1;3mThought: I need to find out the population of Canada in 2023\n",
      "Action: Search\n",
      "Action Input: Population of Canada in 2023\u001b[0m\n",
      "\n",
      "Observation:\u001b[36;1m\u001b[1;3m38,781,291\u001b[0m\n",
      "\u001b[32;1m\u001b[1;3m I now know the final answer\n",
      "Final Answer: Arrr, Canada be havin' 38,781,291 people livin' there in 2023!\u001b[0m\n",
      "\n",
      "\u001b[1m> Finished chain.\u001b[0m\n"
     ]
    },
    {
     "data": {
      "text/plain": [
       "\"Arrr, Canada be havin' 38,781,291 people livin' there in 2023!\""
      ]
     },
     "execution_count": 14,
     "metadata": {},
     "output_type": "execute_result"
    }
   ],
   "source": [
    "agent_executor.run(\"How many people live in canada as of 2023?\")"
   ]
  },
  {
   "cell_type": "code",
   "execution_count": 15,
   "metadata": {},
   "outputs": [
    {
     "name": "stdout",
     "output_type": "stream",
     "text": [
      "\n",
      "\n",
      "\u001b[1m> Entering new AgentExecutor chain...\u001b[0m\n",
      "\u001b[32;1m\u001b[1;3mThought: I need to find out how to run the lamma 2 chat model locally\n",
      "Action: Search\n",
      "Action Input: \"How to run the lamma 2 chat model locally\"\u001b[0m\n",
      "\n",
      "Observation:\u001b[36;1m\u001b[1;3m[\"We've been talking a lot about how to run and fine-tune Llama 2 on Replicate. But you can also run Llama locally on your M1/M2 Mac, ...\"]\u001b[0m\n",
      "\u001b[32;1m\u001b[1;3m I need to find out the steps to run the model locally\n",
      "Action: Search\n",
      "Action Input: \"Steps to run the lamma 2 chat model locally\"\u001b[0m\n",
      "\n",
      "Observation:\u001b[36;1m\u001b[1;3m[\"We've been talking a lot about how to run and fine-tune Llama 2 on Replicate. But you can also run Llama locally on your M1/M2 Mac, ...\"]\u001b[0m\n",
      "\u001b[32;1m\u001b[1;3m I now know the steps to run the model locally\n",
      "Final Answer: Arrr, ye can run the lamma 2 chat model locally by followin' the steps found in the search results.\u001b[0m\n",
      "\n",
      "\u001b[1m> Finished chain.\u001b[0m\n"
     ]
    },
    {
     "data": {
      "text/plain": [
       "\"Arrr, ye can run the lamma 2 chat model locally by followin' the steps found in the search results.\""
      ]
     },
     "execution_count": 15,
     "metadata": {},
     "output_type": "execute_result"
    }
   ],
   "source": [
    "agent_executor.run(\"What is the simplest way to run the lamma 2 chat model locally?\")"
   ]
  },
  {
   "cell_type": "code",
   "execution_count": null,
   "metadata": {},
   "outputs": [],
   "source": [
    " "
   ]
  },
  {
   "cell_type": "markdown",
   "metadata": {},
   "source": [
    "# Deployment\n"
   ]
  },
  {
   "cell_type": "code",
   "execution_count": null,
   "metadata": {},
   "outputs": [],
   "source": [
    "# 4. Use streamlit to create a web app\n",
    "# def main():\n",
    "#     st.set_page_config(page_title=\"AI research agent\", page_icon=\":bird:\")\n",
    "\n",
    "#     st.header(\"AI research agent :bird:\")\n",
    "#     query = st.text_input(\"Research goal\")\n",
    "\n",
    "#     if query:\n",
    "#         st.write(\"Doing research for \", query)\n",
    "\n",
    "#         result = agent({\"input\": query})\n",
    "\n",
    "#         st.info(result['output'])\n",
    "\n",
    "\n",
    "# if __name__ == '__main__':\n",
    "#     main()\n",
    "\n",
    "\n",
    "# 5. Set this as an API endpoint via FastAPI\n",
    "app = FastAPI()\n",
    "\n",
    "\n",
    "class Query(BaseModel):\n",
    "    query: str\n",
    "\n",
    "\n",
    "@app.post(\"/\")\n",
    "def researchAgent(query: Query):\n",
    "    query = query.query\n",
    "    content = agent({\"input\": query})\n",
    "    actual_content = content['output']\n",
    "    return actual_content\n"
   ]
  }
 ],
 "metadata": {
  "kernelspec": {
   "display_name": "langchain_agents",
   "language": "python",
   "name": "langchain_agents"
  },
  "language_info": {
   "codemirror_mode": {
    "name": "ipython",
    "version": 3
   },
   "file_extension": ".py",
   "mimetype": "text/x-python",
   "name": "python",
   "nbconvert_exporter": "python",
   "pygments_lexer": "ipython3",
   "version": "3.9.6"
  },
  "orig_nbformat": 4
 },
 "nbformat": 4,
 "nbformat_minor": 2
}
