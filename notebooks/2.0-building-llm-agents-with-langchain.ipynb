{
 "cells": [
  {
   "cell_type": "code",
   "execution_count": 1,
   "metadata": {
    "execution": {
     "iopub.execute_input": "2024-07-18T12:06:34.318758Z",
     "iopub.status.busy": "2024-07-18T12:06:34.318495Z",
     "iopub.status.idle": "2024-07-18T12:06:34.322962Z",
     "shell.execute_reply": "2024-07-18T12:06:34.322554Z"
    }
   },
   "outputs": [],
   "source": [
    "!pip install langchain\n",
    "!pip install langchain-openai\n",
    "!pip install langchainhub"
   ]
  },
  {
   "cell_type": "code",
   "execution_count": 2,
   "metadata": {
    "execution": {
     "iopub.execute_input": "2024-07-18T12:06:34.325344Z",
     "iopub.status.busy": "2024-07-18T12:06:34.325171Z",
     "iopub.status.idle": "2024-07-18T12:06:34.327274Z",
     "shell.execute_reply": "2024-07-18T12:06:34.326998Z"
    }
   },
   "outputs": [],
   "source": [
    "# uncomment this if running locally\n",
    "# from dotenv import load_dotenv\n",
    "\n",
    "# load_dotenv()\n",
    "\n",
    "# Or if you are in Colab, uncoment below and add your api key\n",
    "import os\n",
    "os.environ[\"OPENAI_API_KEY\"] = \"your-api-key\""
   ]
  },
  {
   "cell_type": "markdown",
   "metadata": {},
   "source": [
    "# Agents"
   ]
  },
  {
   "cell_type": "markdown",
   "metadata": {},
   "source": [
    "Ok, this is awesome, we can now use openai functions connected to the ChatGPT API endpoint to allow it to perform actions in the real world, and the calling of said functions is made easier by leveraging the json schema which structures how the model would call the function. \n",
    "\n",
    "This is a great setup and tool but more complex tasks, we want to have more control over the process these potential agents will go through in order to make them as reliable as possible. We want to control things like:\n",
    "\n",
    "- What goes in and out of prompts\n",
    "- What goes in and out of each thought and action pair stage the agent goes through when doing something in the real-world\n",
    "- A convenient interface to compose agents with useful building blocks (also leverage open source LLMs if we want to)\n",
    "\n",
    "I could go on but this is enough for now.\n",
    "\n",
    "For scenarios like these where just connecting a model to some tools won't cut it, a really great framework that has had a lot of sucess recently is [LangChain](https://python.langchain.com/docs/get_started/introduction).\n",
    "\n",
    "LangChain is a framework that allows for building LLM-powered applications by giging developers the ability to build and compose building blocks like prompts, models, tools and so on to develop complex and interesting applications.\n",
    "\n",
    "Here are the steps for building custom agents with Langchain:\n",
    "\n",
    "1. Setup the LLM\n",
    "2. Define the tool or list of tools\n",
    "3. Set up a prompt template\n",
    "4. Bind the llm with the tools\n",
    "5. Define the agent as a dictionary with keys: input, and agent scratchpad\n",
    "6. Use LCEL to connect agent, prompt and the LLM binded with tools\n",
    "7. Create the agent loop\n",
    "8. Wrap everything under `AgentExecutor`\n",
    "9. Invoke the agent with some query input\n",
    "\n",
    "Let's take a look below at a LangChain implementation of our simple agent that can create directories:"
   ]
  },
  {
   "cell_type": "code",
   "execution_count": 16,
   "metadata": {
    "execution": {
     "iopub.execute_input": "2024-07-18T12:06:34.329391Z",
     "iopub.status.busy": "2024-07-18T12:06:34.329140Z",
     "iopub.status.idle": "2024-07-18T12:06:34.798473Z",
     "shell.execute_reply": "2024-07-18T12:06:34.797888Z"
    }
   },
   "outputs": [],
   "source": [
    "from langchain.agents import create_openai_tools_agent\n",
    "from langchain_openai import ChatOpenAI\n",
    "from langchain import hub\n",
    "from langchain.tools import tool\n",
    "from langchain.agents import AgentExecutor\n",
    "import subprocess\n",
    "\n",
    "@tool\n",
    "def create_directory(directory_name):\n",
    "    \"\"\"Function that creates a directory with the given name.\"\"\"\n",
    "    subprocess.run([\"mkdir\", directory_name])"
   ]
  },
  {
   "cell_type": "code",
   "execution_count": 17,
   "metadata": {
    "execution": {
     "iopub.execute_input": "2024-07-18T12:06:34.823603Z",
     "iopub.status.busy": "2024-07-18T12:06:34.823299Z",
     "iopub.status.idle": "2024-07-18T12:06:35.410894Z",
     "shell.execute_reply": "2024-07-18T12:06:35.410495Z"
    }
   },
   "outputs": [],
   "source": [
    "prompt = hub.pull(\"hwchase17/openai-tools-agent\")"
   ]
  },
  {
   "cell_type": "code",
   "execution_count": 23,
   "metadata": {},
   "outputs": [
    {
     "data": {
      "text/plain": [
       "ChatPromptTemplate(input_variables=['agent_scratchpad', 'input'], input_types={'chat_history': typing.List[typing.Union[langchain_core.messages.ai.AIMessage, langchain_core.messages.human.HumanMessage, langchain_core.messages.chat.ChatMessage, langchain_core.messages.system.SystemMessage, langchain_core.messages.function.FunctionMessage, langchain_core.messages.tool.ToolMessage]], 'agent_scratchpad': typing.List[typing.Union[langchain_core.messages.ai.AIMessage, langchain_core.messages.human.HumanMessage, langchain_core.messages.chat.ChatMessage, langchain_core.messages.system.SystemMessage, langchain_core.messages.function.FunctionMessage, langchain_core.messages.tool.ToolMessage]]}, metadata={'lc_hub_owner': 'hwchase17', 'lc_hub_repo': 'openai-tools-agent', 'lc_hub_commit_hash': 'c18672812789a3b9697656dd539edf0120285dcae36396d0b548ae42a4ed66f5'}, messages=[SystemMessagePromptTemplate(prompt=PromptTemplate(input_variables=[], template='You are a helpful assistant')), MessagesPlaceholder(variable_name='chat_history', optional=True), HumanMessagePromptTemplate(prompt=PromptTemplate(input_variables=['input'], template='{input}')), MessagesPlaceholder(variable_name='agent_scratchpad')])"
      ]
     },
     "execution_count": 23,
     "metadata": {},
     "output_type": "execute_result"
    }
   ],
   "source": [
    "prompt"
   ]
  },
  {
   "cell_type": "code",
   "execution_count": 24,
   "metadata": {
    "execution": {
     "iopub.execute_input": "2024-07-18T12:06:35.412606Z",
     "iopub.status.busy": "2024-07-18T12:06:35.412530Z",
     "iopub.status.idle": "2024-07-18T12:06:35.439893Z",
     "shell.execute_reply": "2024-07-18T12:06:35.439617Z"
    }
   },
   "outputs": [],
   "source": [
    "llm = ChatOpenAI(model=\"gpt-4o\")"
   ]
  },
  {
   "cell_type": "code",
   "execution_count": 25,
   "metadata": {
    "execution": {
     "iopub.execute_input": "2024-07-18T12:06:35.441283Z",
     "iopub.status.busy": "2024-07-18T12:06:35.441211Z",
     "iopub.status.idle": "2024-07-18T12:06:35.442779Z",
     "shell.execute_reply": "2024-07-18T12:06:35.442559Z"
    }
   },
   "outputs": [],
   "source": [
    "tools = [create_directory]"
   ]
  },
  {
   "cell_type": "code",
   "execution_count": 26,
   "metadata": {
    "execution": {
     "iopub.execute_input": "2024-07-18T12:06:35.443936Z",
     "iopub.status.busy": "2024-07-18T12:06:35.443876Z",
     "iopub.status.idle": "2024-07-18T12:06:35.445796Z",
     "shell.execute_reply": "2024-07-18T12:06:35.445600Z"
    }
   },
   "outputs": [],
   "source": [
    "agent = create_openai_tools_agent(llm, tools, prompt)"
   ]
  },
  {
   "cell_type": "code",
   "execution_count": 27,
   "metadata": {
    "execution": {
     "iopub.execute_input": "2024-07-18T12:06:35.446923Z",
     "iopub.status.busy": "2024-07-18T12:06:35.446851Z",
     "iopub.status.idle": "2024-07-18T12:06:35.449825Z",
     "shell.execute_reply": "2024-07-18T12:06:35.449643Z"
    }
   },
   "outputs": [
    {
     "data": {
      "text/plain": [
       "RunnableAssign(mapper={\n",
       "  agent_scratchpad: RunnableLambda(lambda x: format_to_openai_tool_messages(x['intermediate_steps']))\n",
       "})\n",
       "| ChatPromptTemplate(input_variables=['agent_scratchpad', 'input'], input_types={'chat_history': typing.List[typing.Union[langchain_core.messages.ai.AIMessage, langchain_core.messages.human.HumanMessage, langchain_core.messages.chat.ChatMessage, langchain_core.messages.system.SystemMessage, langchain_core.messages.function.FunctionMessage, langchain_core.messages.tool.ToolMessage]], 'agent_scratchpad': typing.List[typing.Union[langchain_core.messages.ai.AIMessage, langchain_core.messages.human.HumanMessage, langchain_core.messages.chat.ChatMessage, langchain_core.messages.system.SystemMessage, langchain_core.messages.function.FunctionMessage, langchain_core.messages.tool.ToolMessage]]}, metadata={'lc_hub_owner': 'hwchase17', 'lc_hub_repo': 'openai-tools-agent', 'lc_hub_commit_hash': 'c18672812789a3b9697656dd539edf0120285dcae36396d0b548ae42a4ed66f5'}, messages=[SystemMessagePromptTemplate(prompt=PromptTemplate(input_variables=[], template='You are a helpful assistant')), MessagesPlaceholder(variable_name='chat_history', optional=True), HumanMessagePromptTemplate(prompt=PromptTemplate(input_variables=['input'], template='{input}')), MessagesPlaceholder(variable_name='agent_scratchpad')])\n",
       "| RunnableBinding(bound=ChatOpenAI(client=<openai.resources.chat.completions.Completions object at 0x136a8a590>, async_client=<openai.resources.chat.completions.AsyncCompletions object at 0x127b82b50>, model_name='gpt-4o', openai_api_key=SecretStr('**********'), openai_api_base='https://api.openai.com/v1', openai_proxy=''), kwargs={'tools': [{'type': 'function', 'function': {'name': 'create_directory', 'description': 'create_directory(directory_name) - Function that creates a directory with the given name.', 'parameters': {'type': 'object', 'properties': {'directory_name': {}}, 'required': ['directory_name']}}}]})\n",
       "| OpenAIToolsAgentOutputParser()"
      ]
     },
     "execution_count": 27,
     "metadata": {},
     "output_type": "execute_result"
    }
   ],
   "source": [
    "agent"
   ]
  },
  {
   "cell_type": "code",
   "execution_count": 28,
   "metadata": {
    "execution": {
     "iopub.execute_input": "2024-07-18T12:06:35.464098Z",
     "iopub.status.busy": "2024-07-18T12:06:35.464024Z",
     "iopub.status.idle": "2024-07-18T12:06:35.465569Z",
     "shell.execute_reply": "2024-07-18T12:06:35.465366Z"
    }
   },
   "outputs": [],
   "source": [
    "agent_executor = AgentExecutor(agent=agent, tools=tools, verbose=True)"
   ]
  },
  {
   "cell_type": "code",
   "execution_count": 29,
   "metadata": {
    "execution": {
     "iopub.execute_input": "2024-07-18T12:06:35.466693Z",
     "iopub.status.busy": "2024-07-18T12:06:35.466628Z",
     "iopub.status.idle": "2024-07-18T12:06:35.468972Z",
     "shell.execute_reply": "2024-07-18T12:06:35.468806Z"
    }
   },
   "outputs": [
    {
     "data": {
      "text/plain": [
       "AgentExecutor(verbose=True, agent=RunnableMultiActionAgent(runnable=RunnableAssign(mapper={\n",
       "  agent_scratchpad: RunnableLambda(lambda x: format_to_openai_tool_messages(x['intermediate_steps']))\n",
       "})\n",
       "| ChatPromptTemplate(input_variables=['agent_scratchpad', 'input'], input_types={'chat_history': typing.List[typing.Union[langchain_core.messages.ai.AIMessage, langchain_core.messages.human.HumanMessage, langchain_core.messages.chat.ChatMessage, langchain_core.messages.system.SystemMessage, langchain_core.messages.function.FunctionMessage, langchain_core.messages.tool.ToolMessage]], 'agent_scratchpad': typing.List[typing.Union[langchain_core.messages.ai.AIMessage, langchain_core.messages.human.HumanMessage, langchain_core.messages.chat.ChatMessage, langchain_core.messages.system.SystemMessage, langchain_core.messages.function.FunctionMessage, langchain_core.messages.tool.ToolMessage]]}, metadata={'lc_hub_owner': 'hwchase17', 'lc_hub_repo': 'openai-tools-agent', 'lc_hub_commit_hash': 'c18672812789a3b9697656dd539edf0120285dcae36396d0b548ae42a4ed66f5'}, messages=[SystemMessagePromptTemplate(prompt=PromptTemplate(input_variables=[], template='You are a helpful assistant')), MessagesPlaceholder(variable_name='chat_history', optional=True), HumanMessagePromptTemplate(prompt=PromptTemplate(input_variables=['input'], template='{input}')), MessagesPlaceholder(variable_name='agent_scratchpad')])\n",
       "| RunnableBinding(bound=ChatOpenAI(client=<openai.resources.chat.completions.Completions object at 0x136a8a590>, async_client=<openai.resources.chat.completions.AsyncCompletions object at 0x127b82b50>, model_name='gpt-4o', openai_api_key=SecretStr('**********'), openai_api_base='https://api.openai.com/v1', openai_proxy=''), kwargs={'tools': [{'type': 'function', 'function': {'name': 'create_directory', 'description': 'create_directory(directory_name) - Function that creates a directory with the given name.', 'parameters': {'type': 'object', 'properties': {'directory_name': {}}, 'required': ['directory_name']}}}]})\n",
       "| OpenAIToolsAgentOutputParser(), input_keys_arg=[], return_keys_arg=[], stream_runnable=True), tools=[StructuredTool(name='create_directory', description='create_directory(directory_name) - Function that creates a directory with the given name.', args_schema=<class 'pydantic.v1.main.create_directorySchema'>, func=<function create_directory at 0x1264e6a20>)])"
      ]
     },
     "execution_count": 29,
     "metadata": {},
     "output_type": "execute_result"
    }
   ],
   "source": [
    "agent_executor"
   ]
  },
  {
   "cell_type": "code",
   "execution_count": 30,
   "metadata": {
    "execution": {
     "iopub.execute_input": "2024-07-18T12:06:35.470072Z",
     "iopub.status.busy": "2024-07-18T12:06:35.470006Z",
     "iopub.status.idle": "2024-07-18T12:06:37.306092Z",
     "shell.execute_reply": "2024-07-18T12:06:37.305298Z"
    }
   },
   "outputs": [
    {
     "name": "stdout",
     "output_type": "stream",
     "text": [
      "\n",
      "\n",
      "\u001b[1m> Entering new AgentExecutor chain...\u001b[0m\n",
      "\u001b[32;1m\u001b[1;3m\n",
      "Invoking: `create_directory` with `{'directory_name': 'lucas-agent-007-the-return-of-pancake-man'}`\n",
      "\n",
      "\n",
      "\u001b[0m\u001b[36;1m\u001b[1;3mNone\u001b[0m"
     ]
    },
    {
     "name": "stderr",
     "output_type": "stream",
     "text": [
      "mkdir: lucas-agent-007-the-return-of-pancake-man: File exists\n"
     ]
    },
    {
     "name": "stdout",
     "output_type": "stream",
     "text": [
      "\u001b[32;1m\u001b[1;3mThe folder 'lucas-agent-007-the-return-of-pancake-man' has been created successfully.\u001b[0m\n",
      "\n",
      "\u001b[1m> Finished chain.\u001b[0m\n"
     ]
    },
    {
     "data": {
      "text/plain": [
       "{'input': \"Create a folder called 'lucas-agent-007-the-return-of-pancake-man'.\",\n",
       " 'output': \"The folder 'lucas-agent-007-the-return-of-pancake-man' has been created successfully.\"}"
      ]
     },
     "execution_count": 30,
     "metadata": {},
     "output_type": "execute_result"
    }
   ],
   "source": [
    "agent_executor.invoke({\"input\": \"Create a folder called 'lucas-agent-007-the-return-of-pancake-man'.\"})"
   ]
  },
  {
   "cell_type": "code",
   "execution_count": 12,
   "metadata": {
    "execution": {
     "iopub.execute_input": "2024-07-18T12:06:37.310720Z",
     "iopub.status.busy": "2024-07-18T12:06:37.310280Z",
     "iopub.status.idle": "2024-07-18T12:06:37.440919Z",
     "shell.execute_reply": "2024-07-18T12:06:37.439759Z"
    }
   },
   "outputs": [
    {
     "name": "stdout",
     "output_type": "stream",
     "text": [
      "\u001b[1m\u001b[36magent-deploy/\u001b[m\u001b[m\r\n",
      "\u001b[1m\u001b[36massets-resources/\u001b[m\u001b[m\r\n",
      "\u001b[1m\u001b[36mlucas-agent-007-the-return-of-pancake-man/\u001b[m\u001b[m\r\n",
      "\u001b[1m\u001b[36mlucas-agent-007/\u001b[m\u001b[m\r\n",
      "\u001b[1m\u001b[36mlucas-loves-pancakes/\u001b[m\u001b[m\r\n",
      "\u001b[1m\u001b[36mlucas-still-loves-pancakes/\u001b[m\u001b[m\r\n",
      "\u001b[1m\u001b[36mlucas-test/\u001b[m\u001b[m\r\n",
      "\u001b[1m\u001b[36mlucas-the-agent-master/\u001b[m\u001b[m\r\n",
      "\u001b[1m\u001b[36mpancakes-are-better-than-waffles/\u001b[m\u001b[m\r\n",
      "\u001b[1m\u001b[36mpancakes-rule/\u001b[m\u001b[m\r\n",
      "\u001b[1m\u001b[36mtest/\u001b[m\u001b[m\r\n"
     ]
    }
   ],
   "source": [
    "!ls -d */"
   ]
  },
  {
   "cell_type": "code",
   "execution_count": 31,
   "metadata": {
    "execution": {
     "iopub.execute_input": "2024-07-18T12:06:37.445239Z",
     "iopub.status.busy": "2024-07-18T12:06:37.444977Z",
     "iopub.status.idle": "2024-07-18T12:06:37.490598Z",
     "shell.execute_reply": "2024-07-18T12:06:37.490339Z"
    }
   },
   "outputs": [],
   "source": [
    "import subprocess\n",
    "from langchain.tools import tool\n",
    "from langchain_openai.chat_models import ChatOpenAI\n",
    "from langchain.agents import AgentExecutor\n",
    "from langchain.prompts import ChatPromptTemplate, MessagesPlaceholder\n",
    "from langchain.agents.format_scratchpad.openai_tools import (\n",
    "    format_to_openai_tool_messages,\n",
    ")\n",
    "from langchain.agents.output_parsers.openai_tools import OpenAIToolsAgentOutputParser\n",
    "import json\n",
    "import os\n",
    "\n",
    "@tool\n",
    "def create_directory(directory_name):\n",
    "    \"\"\"Function that creates a directory given a directory name.\"\"\"\"\"\n",
    "    os.makedirs(directory_name, exist_ok=True)\n",
    "    return json.dumps({\"directory_name\": directory_name})\n",
    "    \n",
    "\n",
    "tools = [create_directory]\n",
    "\n",
    "llm_chat = ChatOpenAI(temperature=0)\n",
    "\n",
    "prompt = ChatPromptTemplate.from_messages(\n",
    "[\n",
    "    (\"system\",\"You are very powerful assistant that helps\\\n",
    "                users perform tasks in the terminal.\"),\n",
    "    (\"user\", \"{input}\"),\n",
    "    MessagesPlaceholder(variable_name=\"agent_scratchpad\"),\n",
    "])\n",
    "\n",
    "llm_with_tools = llm.bind_tools(tools)\n",
    "\n",
    "agent = (\n",
    "{\n",
    "    \"input\": lambda x: x[\"input\"],\n",
    "    \"agent_scratchpad\": lambda x: format_to_openai_tool_messages(\n",
    "        x[\"intermediate_steps\"]\n",
    "    ),\n",
    "}\n",
    "| prompt\n",
    "| llm_with_tools\n",
    "| OpenAIToolsAgentOutputParser())"
   ]
  },
  {
   "cell_type": "code",
   "execution_count": 32,
   "metadata": {
    "execution": {
     "iopub.execute_input": "2024-07-18T12:06:37.492102Z",
     "iopub.status.busy": "2024-07-18T12:06:37.492029Z",
     "iopub.status.idle": "2024-07-18T12:06:37.494601Z",
     "shell.execute_reply": "2024-07-18T12:06:37.494388Z"
    }
   },
   "outputs": [
    {
     "data": {
      "text/plain": [
       "{\n",
       "  input: RunnableLambda(...),\n",
       "  agent_scratchpad: RunnableLambda(...)\n",
       "}\n",
       "| ChatPromptTemplate(input_variables=['agent_scratchpad', 'input'], input_types={'agent_scratchpad': typing.List[typing.Union[langchain_core.messages.ai.AIMessage, langchain_core.messages.human.HumanMessage, langchain_core.messages.chat.ChatMessage, langchain_core.messages.system.SystemMessage, langchain_core.messages.function.FunctionMessage, langchain_core.messages.tool.ToolMessage]]}, messages=[SystemMessagePromptTemplate(prompt=PromptTemplate(input_variables=[], template='You are very powerful assistant that helps                users perform tasks in the terminal.')), HumanMessagePromptTemplate(prompt=PromptTemplate(input_variables=['input'], template='{input}')), MessagesPlaceholder(variable_name='agent_scratchpad')])\n",
       "| RunnableBinding(bound=ChatOpenAI(client=<openai.resources.chat.completions.Completions object at 0x136a8a590>, async_client=<openai.resources.chat.completions.AsyncCompletions object at 0x127b82b50>, model_name='gpt-4o', openai_api_key=SecretStr('**********'), openai_api_base='https://api.openai.com/v1', openai_proxy=''), kwargs={'tools': [{'type': 'function', 'function': {'name': 'create_directory', 'description': 'create_directory(directory_name) - Function that creates a directory given a directory name.', 'parameters': {'type': 'object', 'properties': {'directory_name': {}}, 'required': ['directory_name']}}}]})\n",
       "| OpenAIToolsAgentOutputParser()"
      ]
     },
     "execution_count": 32,
     "metadata": {},
     "output_type": "execute_result"
    }
   ],
   "source": [
    "agent"
   ]
  },
  {
   "cell_type": "code",
   "execution_count": 33,
   "metadata": {
    "execution": {
     "iopub.execute_input": "2024-07-18T12:06:37.495998Z",
     "iopub.status.busy": "2024-07-18T12:06:37.495909Z",
     "iopub.status.idle": "2024-07-18T12:06:37.497580Z",
     "shell.execute_reply": "2024-07-18T12:06:37.497358Z"
    }
   },
   "outputs": [],
   "source": [
    "agent_executor = AgentExecutor(agent=agent, tools=tools, verbose=True)"
   ]
  },
  {
   "cell_type": "code",
   "execution_count": 34,
   "metadata": {
    "execution": {
     "iopub.execute_input": "2024-07-18T12:06:37.498868Z",
     "iopub.status.busy": "2024-07-18T12:06:37.498791Z",
     "iopub.status.idle": "2024-07-18T12:06:37.501176Z",
     "shell.execute_reply": "2024-07-18T12:06:37.500987Z"
    }
   },
   "outputs": [
    {
     "data": {
      "text/plain": [
       "AgentExecutor(verbose=True, agent=RunnableMultiActionAgent(runnable={\n",
       "  input: RunnableLambda(...),\n",
       "  agent_scratchpad: RunnableLambda(...)\n",
       "}\n",
       "| ChatPromptTemplate(input_variables=['agent_scratchpad', 'input'], input_types={'agent_scratchpad': typing.List[typing.Union[langchain_core.messages.ai.AIMessage, langchain_core.messages.human.HumanMessage, langchain_core.messages.chat.ChatMessage, langchain_core.messages.system.SystemMessage, langchain_core.messages.function.FunctionMessage, langchain_core.messages.tool.ToolMessage]]}, messages=[SystemMessagePromptTemplate(prompt=PromptTemplate(input_variables=[], template='You are very powerful assistant that helps                users perform tasks in the terminal.')), HumanMessagePromptTemplate(prompt=PromptTemplate(input_variables=['input'], template='{input}')), MessagesPlaceholder(variable_name='agent_scratchpad')])\n",
       "| RunnableBinding(bound=ChatOpenAI(client=<openai.resources.chat.completions.Completions object at 0x136a8a590>, async_client=<openai.resources.chat.completions.AsyncCompletions object at 0x127b82b50>, model_name='gpt-4o', openai_api_key=SecretStr('**********'), openai_api_base='https://api.openai.com/v1', openai_proxy=''), kwargs={'tools': [{'type': 'function', 'function': {'name': 'create_directory', 'description': 'create_directory(directory_name) - Function that creates a directory given a directory name.', 'parameters': {'type': 'object', 'properties': {'directory_name': {}}, 'required': ['directory_name']}}}]})\n",
       "| OpenAIToolsAgentOutputParser(), input_keys_arg=[], return_keys_arg=[], stream_runnable=True), tools=[StructuredTool(name='create_directory', description='create_directory(directory_name) - Function that creates a directory given a directory name.', args_schema=<class 'pydantic.v1.main.create_directorySchema'>, func=<function create_directory at 0x136b2c680>)])"
      ]
     },
     "execution_count": 34,
     "metadata": {},
     "output_type": "execute_result"
    }
   ],
   "source": [
    "agent_executor"
   ]
  },
  {
   "cell_type": "code",
   "execution_count": 35,
   "metadata": {
    "execution": {
     "iopub.execute_input": "2024-07-18T12:06:37.502414Z",
     "iopub.status.busy": "2024-07-18T12:06:37.502339Z",
     "iopub.status.idle": "2024-07-18T12:06:39.034131Z",
     "shell.execute_reply": "2024-07-18T12:06:39.033260Z"
    }
   },
   "outputs": [
    {
     "name": "stdout",
     "output_type": "stream",
     "text": [
      "\n",
      "\n",
      "\u001b[1m> Entering new AgentExecutor chain...\u001b[0m\n",
      "\u001b[32;1m\u001b[1;3m\n",
      "Invoking: `create_directory` with `{'directory_name': 'lucas-still-loves-pancakes'}`\n",
      "\n",
      "\n",
      "\u001b[0m\u001b[36;1m\u001b[1;3m{\"directory_name\": \"lucas-still-loves-pancakes\"}\u001b[0m\u001b[32;1m\u001b[1;3mThe directory 'lucas-still-loves-pancakes' has been created successfully.\u001b[0m\n",
      "\n",
      "\u001b[1m> Finished chain.\u001b[0m\n"
     ]
    },
    {
     "data": {
      "text/plain": [
       "{'input': \"Create a folder called 'lucas-still-loves-pancakes'.\",\n",
       " 'output': \"The directory 'lucas-still-loves-pancakes' has been created successfully.\"}"
      ]
     },
     "execution_count": 35,
     "metadata": {},
     "output_type": "execute_result"
    }
   ],
   "source": [
    "action_input = \"Create a folder called 'lucas-still-loves-pancakes'.\"\n",
    "\n",
    "agent_executor.invoke({\"input\": action_input})"
   ]
  },
  {
   "cell_type": "markdown",
   "metadata": {},
   "source": [
    "When we use an agent we want that agent to have access to its previous outputs and decision-making process in order for it to make more informed decisions. Therefore, LangChain allows you to set all that up yourself so you have ultimate control over what is going on."
   ]
  },
  {
   "cell_type": "markdown",
   "metadata": {},
   "source": [
    "On the next notebook we'll dive into the basics of LangChain for building Agents. "
   ]
  },
  {
   "cell_type": "markdown",
   "metadata": {},
   "source": [
    "# References\n",
    "\n",
    "- [HuggingGPT](https://github.com/microsoft/JARVIS)\n",
    "- [Gen Agents](https://arxiv.org/pdf/2304.03442.pdf)\n",
    "- [WebGPT](https://www.semanticscholar.org/paper/WebGPT%3A-Browser-assisted-question-answering-with-Nakano-Hilton/2f3efe44083af91cef562c1a3451eee2f8601d22)\n",
    "- [LangChain](https://python.langchain.com/docs/get_started/introduction)\n",
    "- [OpenAI](https://openai.com/)\n",
    "- [OpenAI Function Calling](https://platform.openai.com/docs/guides/function-calling)\n",
    "- [AutoGPT](https://github.com/Significant-Gravitas/AutoGPT)\n",
    "- [GPT-Engineer](https://github.com/gpt-engineer-org/gpt-engineer)\n",
    "- [BabyAGI](https://github.com/yoheinakajima/babyagi)\n",
    "- [Karpathy on Agents](https://www.youtube.com/watch?v=fqVLjtvWgq8)\n",
    "- [ReACT Paper](https://arxiv.org/abs/2210.03629)"
   ]
  }
 ],
 "metadata": {
  "kernelspec": {
   "display_name": "oreilly-agents",
   "language": "python",
   "name": "oreilly-agents"
  },
  "language_info": {
   "codemirror_mode": {
    "name": "ipython",
    "version": 3
   },
   "file_extension": ".py",
   "mimetype": "text/x-python",
   "name": "python",
   "nbconvert_exporter": "python",
   "pygments_lexer": "ipython3",
   "version": "3.11.9"
  }
 },
 "nbformat": 4,
 "nbformat_minor": 2
}
