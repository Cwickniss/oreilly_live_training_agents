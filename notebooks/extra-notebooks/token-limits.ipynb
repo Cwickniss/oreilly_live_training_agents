{
 "cells": [
  {
   "cell_type": "code",
   "execution_count": 1,
   "metadata": {
    "execution": {
     "iopub.execute_input": "2024-07-18T12:06:30.070989Z",
     "iopub.status.busy": "2024-07-18T12:06:30.070731Z",
     "iopub.status.idle": "2024-07-18T12:06:30.095234Z",
     "shell.execute_reply": "2024-07-18T12:06:30.094732Z"
    }
   },
   "outputs": [],
   "source": [
    "import tiktoken\n",
    "\n",
    "def get_num_tokens(prompt, model=\"gpt-3.5-turbo\"):\n",
    "    \"\"\"Calculates the number of tokens in a text prompt\"\"\"\n",
    "    enc = tiktoken.encoding_for_model(\"gpt-3.5-turbo\")\n",
    "    return len(enc.encode(prompt))"
   ]
  },
  {
   "cell_type": "code",
   "execution_count": 2,
   "metadata": {
    "execution": {
     "iopub.execute_input": "2024-07-18T12:06:30.098898Z",
     "iopub.status.busy": "2024-07-18T12:06:30.098530Z",
     "iopub.status.idle": "2024-07-18T12:06:30.230059Z",
     "shell.execute_reply": "2024-07-18T12:06:30.229814Z"
    }
   },
   "outputs": [
    {
     "data": {
      "text/plain": [
       "4"
      ]
     },
     "execution_count": 2,
     "metadata": {},
     "output_type": "execute_result"
    }
   ],
   "source": [
    "get_num_tokens(\"Hello, world!\")"
   ]
  },
  {
   "cell_type": "code",
   "execution_count": 3,
   "metadata": {
    "execution": {
     "iopub.execute_input": "2024-07-18T12:06:30.245013Z",
     "iopub.status.busy": "2024-07-18T12:06:30.244889Z",
     "iopub.status.idle": "2024-07-18T12:06:30.246504Z",
     "shell.execute_reply": "2024-07-18T12:06:30.246290Z"
    }
   },
   "outputs": [],
   "source": [
    "prompt_agent = \"Write a summary about the topic of LLMs\""
   ]
  },
  {
   "cell_type": "code",
   "execution_count": 4,
   "metadata": {
    "execution": {
     "iopub.execute_input": "2024-07-18T12:06:30.247766Z",
     "iopub.status.busy": "2024-07-18T12:06:30.247683Z",
     "iopub.status.idle": "2024-07-18T12:06:30.249608Z",
     "shell.execute_reply": "2024-07-18T12:06:30.249435Z"
    }
   },
   "outputs": [
    {
     "data": {
      "text/plain": [
       "10"
      ]
     },
     "execution_count": 4,
     "metadata": {},
     "output_type": "execute_result"
    }
   ],
   "source": [
    "get_num_tokens(prompt_agent)"
   ]
  },
  {
   "cell_type": "code",
   "execution_count": 5,
   "metadata": {
    "execution": {
     "iopub.execute_input": "2024-07-18T12:06:30.250852Z",
     "iopub.status.busy": "2024-07-18T12:06:30.250774Z",
     "iopub.status.idle": "2024-07-18T12:06:30.532432Z",
     "shell.execute_reply": "2024-07-18T12:06:30.532130Z"
    }
   },
   "outputs": [],
   "source": [
    "from langchain_openai import ChatOpenAI"
   ]
  },
  {
   "cell_type": "code",
   "execution_count": 6,
   "metadata": {
    "execution": {
     "iopub.execute_input": "2024-07-18T12:06:30.534120Z",
     "iopub.status.busy": "2024-07-18T12:06:30.534033Z",
     "iopub.status.idle": "2024-07-18T12:06:30.562829Z",
     "shell.execute_reply": "2024-07-18T12:06:30.562502Z"
    }
   },
   "outputs": [],
   "source": [
    "llm = ChatOpenAI(max_tokens=100)"
   ]
  },
  {
   "cell_type": "code",
   "execution_count": 7,
   "metadata": {
    "execution": {
     "iopub.execute_input": "2024-07-18T12:06:30.564593Z",
     "iopub.status.busy": "2024-07-18T12:06:30.564511Z",
     "iopub.status.idle": "2024-07-18T12:06:32.976738Z",
     "shell.execute_reply": "2024-07-18T12:06:32.975707Z"
    }
   },
   "outputs": [],
   "source": [
    "output = llm.invoke(\"Explain the topic of LLMs\")"
   ]
  },
  {
   "cell_type": "code",
   "execution_count": 8,
   "metadata": {
    "execution": {
     "iopub.execute_input": "2024-07-18T12:06:32.982335Z",
     "iopub.status.busy": "2024-07-18T12:06:32.981999Z",
     "iopub.status.idle": "2024-07-18T12:06:32.989507Z",
     "shell.execute_reply": "2024-07-18T12:06:32.988777Z"
    }
   },
   "outputs": [
    {
     "data": {
      "text/plain": [
       "100"
      ]
     },
     "execution_count": 8,
     "metadata": {},
     "output_type": "execute_result"
    }
   ],
   "source": [
    "get_num_tokens(output.content)"
   ]
  }
 ],
 "metadata": {
  "kernelspec": {
   "display_name": "oreilly-agents",
   "language": "python",
   "name": "oreilly-agents"
  },
  "language_info": {
   "codemirror_mode": {
    "name": "ipython",
    "version": 3
   },
   "file_extension": ".py",
   "mimetype": "text/x-python",
   "name": "python",
   "nbconvert_exporter": "python",
   "pygments_lexer": "ipython3",
   "version": "3.11.9"
  }
 },
 "nbformat": 4,
 "nbformat_minor": 2
}
