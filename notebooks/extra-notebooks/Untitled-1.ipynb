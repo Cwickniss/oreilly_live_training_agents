{
 "cells": [
  {
   "cell_type": "markdown",
   "metadata": {},
   "source": [
    "# "
   ]
  },
  {
   "cell_type": "markdown",
   "metadata": {},
   "source": [
    "# LangChain Components\n",
    "\n",
    "What components?\n",
    "\n",
    "1. Models\n",
    "2. Prompt Template\n",
    "3. Output Parser\n",
    "4. Document Loaders, splitters, tools, retrievers, chatmessages,......"
   ]
  },
  {
   "cell_type": "code",
   "execution_count": null,
   "metadata": {},
   "outputs": [],
   "source": [
    "import os\n",
    "\n",
    "os.environ[\"OPENAI_API_KEY\"] = \"your api key here\""
   ]
  },
  {
   "cell_type": "code",
   "execution_count": 1,
   "metadata": {},
   "outputs": [
    {
     "data": {
      "text/plain": [
       "AIMessage(content='LangChain is a framework designed for building applications that leverage large language models (LLMs). It provides tools and components that facilitate the development of applications that can understand, generate, and manipulate natural language. The framework is particularly useful for creating conversational agents, chatbots, and other AI-driven applications that require natural language processing (NLP).\\n\\nKey features of LangChain include:\\n\\n1. **Modular Components**: LangChain offers modular components that can be easily combined to create customized applications. These components include tools for managing prompts, handling interactions with LLMs, and integrating with various data sources.\\n\\n2. **Prompt Management**: The framework provides utilities for managing and optimizing prompts, making it easier to interact with LLMs effectively.\\n\\n3. **Chains**: LangChain allows developers to create \"chains\" of operations, where the output of one operation can feed into the next. This is useful for building complex workflows that involve multiple steps and interactions with the LLM.\\n\\n4. **Memory Management**: LangChain offers features for maintaining context and memory over conversations, enabling applications to provide more coherent and contextually aware responses.\\n\\n5. **Integration with External Data**: The framework supports integration with various data sources, allowing applications to pull in real-time information or leverage external knowledge bases to enhance responses.\\n\\n6. **Interactivity**: LangChain is designed to support interactive applications, enabling real-time communication and engagement with users.\\n\\nOverall, LangChain simplifies the process of building sophisticated natural language applications by providing a flexible and extensible framework that can adapt to various use cases and requirements.', additional_kwargs={'refusal': None}, response_metadata={'token_usage': {'completion_tokens': 317, 'prompt_tokens': 12, 'total_tokens': 329, 'completion_tokens_details': {'audio_tokens': None, 'reasoning_tokens': 0}, 'prompt_tokens_details': {'audio_tokens': None, 'cached_tokens': 0}}, 'model_name': 'gpt-4o-mini-2024-07-18', 'system_fingerprint': 'fp_f59a81427f', 'finish_reason': 'stop', 'logprobs': None}, id='run-bb05dc0a-5426-4b4e-a623-a1c8ce2b2858-0', usage_metadata={'input_tokens': 12, 'output_tokens': 317, 'total_tokens': 329, 'input_token_details': {'cache_read': 0}, 'output_token_details': {'reasoning': 0}})"
      ]
     },
     "execution_count": 1,
     "metadata": {},
     "output_type": "execute_result"
    }
   ],
   "source": [
    "# Model\n",
    "\n",
    "from langchain_openai import ChatOpenAI\n",
    "\n",
    "model = ChatOpenAI(model=\"gpt-4o-mini\")\n",
    "\n",
    "model.invoke(\"What is LangChain?\")"
   ]
  },
  {
   "cell_type": "code",
   "execution_count": 3,
   "metadata": {},
   "outputs": [
    {
     "data": {
      "text/plain": [
       "ChatPromptValue(messages=[HumanMessage(content='What is LangChain?', additional_kwargs={}, response_metadata={})])"
      ]
     },
     "execution_count": 3,
     "metadata": {},
     "output_type": "execute_result"
    }
   ],
   "source": [
    "from langchain_core.prompts import ChatPromptTemplate\n",
    "\n",
    "prompt = ChatPromptTemplate.from_template(\"What is {ai_framework}?\")\n",
    "\n",
    "prompt.invoke({\"ai_framework\": \"LangChain\"})"
   ]
  },
  {
   "cell_type": "code",
   "execution_count": 5,
   "metadata": {},
   "outputs": [
    {
     "data": {
      "text/plain": [
       "'LangChain is an open-source framework designed to facilitate the development of applications that utilize large language models (LLMs). It provides a set of tools, components, and abstractions that help developers build and manage workflows involving LLMs, making it easier to create applications such as chatbots, virtual assistants, and other natural language processing (NLP) applications.\\n\\nKey features of LangChain include:\\n\\n1. **Modular Components**: LangChain offers various modules that can be combined in different ways to create custom workflows. This includes components for text generation, document retrieval, and more.\\n\\n2. **Integration with LLMs**: The framework supports multiple LLMs from different providers, allowing developers to switch between models or use them in tandem.\\n\\n3. **Memory Management**: LangChain includes features for managing conversational memory, enabling applications to remember previous interactions and maintain context over time.\\n\\n4. **Chains**: Developers can create \"chains\" of operations, where the output of one component can serve as the input for another, allowing for complex processing pipelines.\\n\\n5. **Agent Framework**: It supports the creation of agents that can make decisions based on user input and context, enhancing interactivity.\\n\\n6. **Document Handling**: LangChain can handle various types of documents, making it suitable for applications that need to process and retrieve information from large datasets.\\n\\n7. **Ecosystem and Extensibility**: The framework is designed to be extensible, allowing developers to create custom modules and integrate with other tools and libraries.\\n\\nOverall, LangChain aims to streamline the process of building applications that harness the power of language models, making it more accessible for developers to create sophisticated AI-driven solutions.'"
      ]
     },
     "execution_count": 5,
     "metadata": {},
     "output_type": "execute_result"
    }
   ],
   "source": [
    "chain_model_prompt = prompt | model\n",
    "\n",
    "output = chain_model_prompt.invoke({\"ai_framework\": \"LangChain\"})\n",
    "\n",
    "output.content"
   ]
  },
  {
   "cell_type": "code",
   "execution_count": 6,
   "metadata": {},
   "outputs": [
    {
     "data": {
      "text/plain": [
       "'LangChain is an open-source framework designed to facilitate the development of applications that utilize large language models (LLMs). It provides a set of tools, components, and abstractions that help developers build and manage workflows involving LLMs, making it easier to create applications such as chatbots, virtual assistants, and other natural language processing (NLP) applications.\\n\\nKey features of LangChain include:\\n\\n1. **Modular Components**: LangChain offers various modules that can be combined in different ways to create custom workflows. This includes components for text generation, document retrieval, and more.\\n\\n2. **Integration with LLMs**: The framework supports multiple LLMs from different providers, allowing developers to switch between models or use them in tandem.\\n\\n3. **Memory Management**: LangChain includes features for managing conversational memory, enabling applications to remember previous interactions and maintain context over time.\\n\\n4. **Chains**: Developers can create \"chains\" of operations, where the output of one component can serve as the input for another, allowing for complex processing pipelines.\\n\\n5. **Agent Framework**: It supports the creation of agents that can make decisions based on user input and context, enhancing interactivity.\\n\\n6. **Document Handling**: LangChain can handle various types of documents, making it suitable for applications that need to process and retrieve information from large datasets.\\n\\n7. **Ecosystem and Extensibility**: The framework is designed to be extensible, allowing developers to create custom modules and integrate with other tools and libraries.\\n\\nOverall, LangChain aims to streamline the process of building applications that harness the power of language models, making it more accessible for developers to create sophisticated AI-driven solutions.'"
      ]
     },
     "execution_count": 6,
     "metadata": {},
     "output_type": "execute_result"
    }
   ],
   "source": [
    "from langchain_core.output_parsers import StrOutputParser\n",
    "\n",
    "\n",
    "output_parser = StrOutputParser()\n",
    "\n",
    "output_parser.invoke(output)"
   ]
  },
  {
   "cell_type": "code",
   "execution_count": 7,
   "metadata": {},
   "outputs": [
    {
     "data": {
      "text/plain": [
       "'LangChain is an open-source framework designed to facilitate the development of applications using large language models (LLMs). It provides a structured way to build applications that can leverage the capabilities of LLMs for various tasks such as text generation, question answering, summarization, and more.\\n\\nKey features of LangChain include:\\n\\n1. **Modular Components**: LangChain offers modular components that can be easily integrated to create complex workflows. This includes chains, agents, and memory, allowing developers to construct applications that can perform multi-step reasoning and retain context.\\n\\n2. **Support for Multiple LLMs**: LangChain is designed to work with various LLMs, making it flexible for developers to choose the model that best fits their needs.\\n\\n3. **Integration with External Tools**: The framework can be integrated with other tools and APIs, enabling developers to enrich their applications with additional functionalities, such as database queries or web scraping.\\n\\n4. **Ease of Use**: It provides a user-friendly interface and abstractions that simplify the process of building applications, making it accessible to both experienced developers and those new to working with LLMs.\\n\\n5. **Use Cases**: LangChain can be used for a variety of applications, including chatbots, virtual assistants, content generation tools, and more, making it a versatile choice for developers in different domains.\\n\\nOverall, LangChain aims to streamline the process of developing applications powered by large language models, enabling developers to focus more on building innovative solutions rather than dealing with the underlying complexities of model integration and management.'"
      ]
     },
     "execution_count": 7,
     "metadata": {},
     "output_type": "execute_result"
    }
   ],
   "source": [
    "chain_full = prompt | model | output_parser\n",
    "\n",
    "chain_full.invoke({\"ai_framework\": \"LangChain\"})"
   ]
  },
  {
   "cell_type": "markdown",
   "metadata": {},
   "source": [
    "LangChain is implementing a Runnable Interface"
   ]
  },
  {
   "cell_type": "markdown",
   "metadata": {},
   "source": []
  },
  {
   "cell_type": "code",
   "execution_count": null,
   "metadata": {},
   "outputs": [],
   "source": []
  },
  {
   "cell_type": "code",
   "execution_count": null,
   "metadata": {},
   "outputs": [],
   "source": []
  }
 ],
 "metadata": {
  "kernelspec": {
   "display_name": "oreilly-langchain",
   "language": "python",
   "name": "oreilly-langchain"
  },
  "language_info": {
   "codemirror_mode": {
    "name": "ipython",
    "version": 3
   },
   "file_extension": ".py",
   "mimetype": "text/x-python",
   "name": "python",
   "nbconvert_exporter": "python",
   "pygments_lexer": "ipython3",
   "version": "3.11.9"
  }
 },
 "nbformat": 4,
 "nbformat_minor": 2
}
