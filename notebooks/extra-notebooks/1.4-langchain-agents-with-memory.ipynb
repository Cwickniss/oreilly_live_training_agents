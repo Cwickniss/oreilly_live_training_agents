{
 "cells": [
  {
   "cell_type": "code",
   "execution_count": 14,
   "metadata": {},
   "outputs": [],
   "source": [
    "# !pip install langchain\n",
    "# !pip install langchain-community\n",
    "# !pip install langchain-openai"
   ]
  },
  {
   "cell_type": "code",
   "execution_count": 15,
   "metadata": {},
   "outputs": [],
   "source": [
    "import os\n",
    "# FILEPATH: /Users/greatmaster/Desktop/projects/oreilly-live-trainings/oreilly_live_training_agents/notebooks/1.3-intro-agents-with-langchain.ipynb\n",
    "# SET YOUR API KEYS FOR LANGSMITH AND TAVILY TO RUN THIS NOTEBOOK!\n",
    "# langsmith: https://docs.smith.langchain.com/#:~:text=install%20-U%20langsmith-,Create%20an%20API%20key,click%20Create%20API%20Key.,-Setup%20your%20environment\n",
    "# tavily: https://app.tavily.com/sign-in\n",
    "# openai: https://platform.openai.com/docs/quickstart\n",
    "\n",
    "# os.environ[\"LANGCHAIN_TRACING_V2\"] = \"true\"\n",
    "# os.environ[\"LANGCHAIN_API_KEY\"] = \"your-api-key\"\n",
    "# os.environ[\"TAVILY_API_KEY\"] = \"your-api-key\"\n",
    "# os.environ[\"OPENAI_API_KEY\"] = 'your-api-key'"
   ]
  },
  {
   "cell_type": "markdown",
   "metadata": {},
   "source": [
    "![](2024-10-25-18-53-39.png)"
   ]
  },
  {
   "cell_type": "code",
   "execution_count": 1,
   "metadata": {},
   "outputs": [
    {
     "data": {
      "text/plain": [
       "[{'url': 'https://www.weatherapi.com/',\n",
       "  'content': \"{'location': {'name': 'San Francisco', 'region': 'California', 'country': 'United States of America', 'lat': 37.775, 'lon': -122.4183, 'tz_id': 'America/Los_Angeles', 'localtime_epoch': 1738080958, 'localtime': '2025-01-28 08:15'}, 'current': {'last_updated_epoch': 1738080900, 'last_updated': '2025-01-28 08:15', 'temp_c': 5.6, 'temp_f': 42.1, 'is_day': 1, 'condition': {'text': 'Partly cloudy', 'icon': '//cdn.weatherapi.com/weather/64x64/day/116.png', 'code': 1003}, 'wind_mph': 4.9, 'wind_kph': 7.9, 'wind_degree': 118, 'wind_dir': 'ESE', 'pressure_mb': 1021.0, 'pressure_in': 30.14, 'precip_mm': 0.0, 'precip_in': 0.0, 'humidity': 64, 'cloud': 25, 'feelslike_c': 3.9, 'feelslike_f': 38.9, 'windchill_c': 6.2, 'windchill_f': 43.1, 'heatindex_c': 6.6, 'heatindex_f': 43.9, 'dewpoint_c': 6.6, 'dewpoint_f': 43.8, 'vis_km': 16.0, 'vis_miles': 9.0, 'uv': 0.2, 'gust_mph': 8.3, 'gust_kph': 13.4}}\"},\n",
       " {'url': 'https://weathershogun.com/weather/usa/ca/san-francisco/480/january',\n",
       "  'content': 'January 2025 Weather in San Francisco, CA San Francisco, CA Today Hourly 7 days 30 days January January 2025 Weather | San Francisco, California Today 1/3 Day 57° Night 45° 100Sat 1/4 Day 57° Night 45° 3Sun 1/5 Day 59° Night 46° 3Mon 1/6 Day 57° Night 50° 1Tue 1/7 Day 64° Night 50° 0Wed 1/8 Day 64° Night 48° 0Thu 1/9 Day 63° Night 50° 0Fri 1/10 Day 63° Night 48° 0Sat 1/11 Day 63° Night 50° 0Sun 1/12 Day 61° Night 46° 0Mon 1/13 Day 63° Night 48° 0Tue 1/14 Day 59° Night 48° 0Wed 1/15 Day 57° Night 46° 0Thu 1/16 Day 59° Night 46° 25Fri 1/17 Day 61° Night 50° 25Sat 1/18 Day 57° Night 50° 25Sun 1/19 Day 57° Night 48° 25Mon 1/20 Day 55° Night 45° 25Tue 1/21 Day 57° Night 46° 25Wed 1/22 Day 59° Night 45° 25Thu 1/23 Day 61° Night 46° 25Fri 1/24 Day 61° Night 48° 25Sat 1/25 Day 61° Night 50° 25Sun 1/26 Day 57° Night 48° 25Mon 1/27 Day 61° Night 50° 25Tue 1/28 Day 63° Night 50° 25Wed 1/29 Day 61° Night 50° 25Thu 1/30 Day 63° Night 50° 25Fri 1/31 Day 63° Night 50° 25 Today 7 days 30 days'},\n",
       " {'url': 'https://weathershogun.com/weather/usa/ca/san-francisco/480/january/2025-01-28',\n",
       "  'content': 'San Francisco, California weather forecast for Tuesday, January 28, 2025. Get the latest on temperature, precipitation, wind speed, and UV. Plan your day with accurate weather updates.'},\n",
       " {'url': 'https://world-weather.info/forecast/usa/san_francisco/28-january/',\n",
       "  'content': 'Weather Weather in San Francisco Weather in San Francisco, January 28 Weather Forecast for January 28 in San Francisco, California - temperature, wind, atmospheric pressure, humidity and precipitations. Night   +43°    +43°    30.1    2.2 90% Meteorological sensitivity index    1   Weather situation is generally favorable to meteosensitive people. Meteorological sensitivity index    3   Meteosensitive people are likely to experience weather-related symptoms. Meteorological sensitivity index    1   Weather situation is generally favorable to meteosensitive people. San Francisco Weather Calendar for January More about the weather forecast Find out more about the weather in San Francisco: air temperature, precipitation, pressure and wind speed. Weather in large and nearby cities +46° +50° +48° +48° +52° +50° +55° +45° +52° +54° +50° +55° +54° +52° +50° +52° +54° +50°'},\n",
       " {'url': 'https://world-weather.info/forecast/usa/san_francisco/january-2025/',\n",
       "  'content': \"Weather in San Francisco in January 2025 (California) - Detailed Weather Forecast for a Month Weather World Weather in San Francisco Weather in San Francisco in January 2025 San Francisco Weather Forecast for January 2025, is based on previous years' statistical data. +55°+46° +54°+45° +57°+48° +55°+48° +55°+48° +55°+46° +57°+50° +59°+50° +57°+50° +59°+50° +55°+48° +57°+48° +57°+48° +57°+50° +55°+46° +55°+48° +57°+48° +57°+48° +57°+48° +55°+48° +57°+48° +55°+48° +55°+48° +55°+46° +57°+48° +57°+48° +59°+48° +59°+48° +59°+48° +59°+48° +61°+50° Extended weather forecast in San Francisco HourlyWeek10-Day14-Day30-DayYear Weather in Washington, D.C.+30° Sacramento+45° Pleasanton+50° Redwood City+54° San Leandro+54° San Mateo+54° San Rafael+50° San Ramon+48° South San Francisco+55° Vallejo+50° Palo Alto+52° Pacifica+59° Berkeley+48° Castro Valley+54° Concord+48° Daly City+55° Leona Heights+54° Centennial+54° world's temperature today day day Temperature units\"}]"
      ]
     },
     "execution_count": 1,
     "metadata": {},
     "output_type": "execute_result"
    }
   ],
   "source": [
    "from langchain_community.tools.tavily_search import TavilySearchResults\n",
    "from langchain_openai import ChatOpenAI\n",
    "\n",
    "search = TavilySearchResults()\n",
    "\n",
    "search.invoke(\"what is the weather in SF\")"
   ]
  },
  {
   "cell_type": "code",
   "execution_count": 2,
   "metadata": {},
   "outputs": [],
   "source": [
    "from langchain_core.tools import tool\n",
    "\n",
    "@tool \n",
    "def create_file(content: str, filename: str):\n",
    "    \"\"\"\n",
    "    Create a file with the given content.\n",
    "    \"\"\"\n",
    "    with open(filename, \"w\") as f:\n",
    "        f.write(content)\n"
   ]
  },
  {
   "cell_type": "code",
   "execution_count": 3,
   "metadata": {},
   "outputs": [],
   "source": [
    "create_file.invoke({\"content\": \"file content\", \"filename\": \"file.txt\"}) "
   ]
  },
  {
   "cell_type": "code",
   "execution_count": 4,
   "metadata": {},
   "outputs": [],
   "source": [
    "tools = [search, create_file]"
   ]
  },
  {
   "cell_type": "code",
   "execution_count": 5,
   "metadata": {},
   "outputs": [],
   "source": [
    "# Set up the model\n",
    "llm = ChatOpenAI(model=\"gpt-4o\", temperature=0)"
   ]
  },
  {
   "cell_type": "code",
   "execution_count": 6,
   "metadata": {},
   "outputs": [
    {
     "data": {
      "text/plain": [
       "[SystemMessagePromptTemplate(prompt=PromptTemplate(input_variables=[], input_types={}, partial_variables={}, template='You are a helpful assistant'), additional_kwargs={}),\n",
       " MessagesPlaceholder(variable_name='chat_history', optional=True),\n",
       " HumanMessagePromptTemplate(prompt=PromptTemplate(input_variables=['input'], input_types={}, partial_variables={}, template='{input}'), additional_kwargs={}),\n",
       " MessagesPlaceholder(variable_name='agent_scratchpad')]"
      ]
     },
     "execution_count": 6,
     "metadata": {},
     "output_type": "execute_result"
    }
   ],
   "source": [
    "from langchain import hub\n",
    "\n",
    "prompt = hub.pull(\"hwchase17/openai-tools-agent\")\n",
    "prompt.messages"
   ]
  },
  {
   "cell_type": "code",
   "execution_count": 7,
   "metadata": {},
   "outputs": [],
   "source": [
    "from langchain.agents import create_tool_calling_agent\n",
    "\n",
    "agent = create_tool_calling_agent(llm, tools, prompt)"
   ]
  },
  {
   "cell_type": "code",
   "execution_count": 8,
   "metadata": {},
   "outputs": [
    {
     "data": {
      "text/plain": [
       "RunnableAssign(mapper={\n",
       "  agent_scratchpad: RunnableLambda(lambda x: message_formatter(x['intermediate_steps']))\n",
       "})\n",
       "| ChatPromptTemplate(input_variables=['agent_scratchpad', 'input'], optional_variables=['chat_history'], input_types={'chat_history': list[typing.Annotated[typing.Union[typing.Annotated[langchain_core.messages.ai.AIMessage, Tag(tag='ai')], typing.Annotated[langchain_core.messages.human.HumanMessage, Tag(tag='human')], typing.Annotated[langchain_core.messages.chat.ChatMessage, Tag(tag='chat')], typing.Annotated[langchain_core.messages.system.SystemMessage, Tag(tag='system')], typing.Annotated[langchain_core.messages.function.FunctionMessage, Tag(tag='function')], typing.Annotated[langchain_core.messages.tool.ToolMessage, Tag(tag='tool')], typing.Annotated[langchain_core.messages.ai.AIMessageChunk, Tag(tag='AIMessageChunk')], typing.Annotated[langchain_core.messages.human.HumanMessageChunk, Tag(tag='HumanMessageChunk')], typing.Annotated[langchain_core.messages.chat.ChatMessageChunk, Tag(tag='ChatMessageChunk')], typing.Annotated[langchain_core.messages.system.SystemMessageChunk, Tag(tag='SystemMessageChunk')], typing.Annotated[langchain_core.messages.function.FunctionMessageChunk, Tag(tag='FunctionMessageChunk')], typing.Annotated[langchain_core.messages.tool.ToolMessageChunk, Tag(tag='ToolMessageChunk')]], FieldInfo(annotation=NoneType, required=True, discriminator=Discriminator(discriminator=<function _get_type at 0x113f9af20>, custom_error_type=None, custom_error_message=None, custom_error_context=None))]], 'agent_scratchpad': list[typing.Annotated[typing.Union[typing.Annotated[langchain_core.messages.ai.AIMessage, Tag(tag='ai')], typing.Annotated[langchain_core.messages.human.HumanMessage, Tag(tag='human')], typing.Annotated[langchain_core.messages.chat.ChatMessage, Tag(tag='chat')], typing.Annotated[langchain_core.messages.system.SystemMessage, Tag(tag='system')], typing.Annotated[langchain_core.messages.function.FunctionMessage, Tag(tag='function')], typing.Annotated[langchain_core.messages.tool.ToolMessage, Tag(tag='tool')], typing.Annotated[langchain_core.messages.ai.AIMessageChunk, Tag(tag='AIMessageChunk')], typing.Annotated[langchain_core.messages.human.HumanMessageChunk, Tag(tag='HumanMessageChunk')], typing.Annotated[langchain_core.messages.chat.ChatMessageChunk, Tag(tag='ChatMessageChunk')], typing.Annotated[langchain_core.messages.system.SystemMessageChunk, Tag(tag='SystemMessageChunk')], typing.Annotated[langchain_core.messages.function.FunctionMessageChunk, Tag(tag='FunctionMessageChunk')], typing.Annotated[langchain_core.messages.tool.ToolMessageChunk, Tag(tag='ToolMessageChunk')]], FieldInfo(annotation=NoneType, required=True, discriminator=Discriminator(discriminator=<function _get_type at 0x113f9af20>, custom_error_type=None, custom_error_message=None, custom_error_context=None))]]}, partial_variables={'chat_history': []}, metadata={'lc_hub_owner': 'hwchase17', 'lc_hub_repo': 'openai-tools-agent', 'lc_hub_commit_hash': 'c18672812789a3b9697656dd539edf0120285dcae36396d0b548ae42a4ed66f5'}, messages=[SystemMessagePromptTemplate(prompt=PromptTemplate(input_variables=[], input_types={}, partial_variables={}, template='You are a helpful assistant'), additional_kwargs={}), MessagesPlaceholder(variable_name='chat_history', optional=True), HumanMessagePromptTemplate(prompt=PromptTemplate(input_variables=['input'], input_types={}, partial_variables={}, template='{input}'), additional_kwargs={}), MessagesPlaceholder(variable_name='agent_scratchpad')])\n",
       "| RunnableBinding(bound=ChatOpenAI(client=<openai.resources.chat.completions.Completions object at 0x116062210>, async_client=<openai.resources.chat.completions.AsyncCompletions object at 0x116620510>, root_client=<openai.OpenAI object at 0x115606750>, root_async_client=<openai.AsyncOpenAI object at 0x1166189d0>, model_name='gpt-4o', temperature=0.0, model_kwargs={}, openai_api_key=SecretStr('**********'), openai_api_base='https://api.openai.com/v1'), kwargs={'tools': [{'type': 'function', 'function': {'name': 'tavily_search_results_json', 'description': 'A search engine optimized for comprehensive, accurate, and trusted results. Useful for when you need to answer questions about current events. Input should be a search query.', 'parameters': {'properties': {'query': {'description': 'search query to look up', 'type': 'string'}}, 'required': ['query'], 'type': 'object'}}}, {'type': 'function', 'function': {'name': 'create_file', 'description': 'Create a file with the given content.', 'parameters': {'properties': {'content': {'type': 'string'}, 'filename': {'type': 'string'}}, 'required': ['content', 'filename'], 'type': 'object'}}}]}, config={}, config_factories=[])\n",
       "| ToolsAgentOutputParser()"
      ]
     },
     "execution_count": 8,
     "metadata": {},
     "output_type": "execute_result"
    }
   ],
   "source": [
    "agent"
   ]
  },
  {
   "cell_type": "code",
   "execution_count": 9,
   "metadata": {},
   "outputs": [
    {
     "name": "stdout",
     "output_type": "stream",
     "text": [
      "\n",
      "\n",
      "\u001b[1m> Entering new AgentExecutor chain...\u001b[0m\n",
      "\u001b[32;1m\u001b[1;3m\n",
      "Invoking: `tavily_search_results_json` with `{'query': 'why pancakes are the best'}`\n",
      "\n",
      "\n",
      "\u001b[0m\u001b[36;1m\u001b[1;3m[{'url': 'https://cookingpro.net/why-pancakes-are-the-best-breakfast/', 'content': \"In this article, we'll explore the myriad reasons why pancakes are the best breakfast choice, diving into their history, nutritional benefits, and creative serving ideas that keep them at the forefront of breakfast choices.\"}, {'url': 'https://cookingpro.net/why-do-restaurant-pancakes-taste-better/', 'content': \"The Science of Pancake Making Before we dive into the reasons why restaurant pancakes taste better, it's essential to understand the science behind pancake making. Pancakes are a type of batter-based food, made from a mixture of flour, sugar, eggs, and milk.\"}, {'url': 'https://www.americastestkitchen.com/articles/8098-buttermilk-makes-the-best-pancakes', 'content': \"But what exactly is it about buttermilk that makes pancakes so good? Flavor is the obvious perk: The cultured dairy adds tangy complexity and nuance to an otherwise neutral batter. But there are unique textural benefits, too, that make buttermilk worth seeking out and keeping on hand if you're a pancake person.\"}, {'url': 'https://theproperkitchen.com/why-are-pancakes-better-waffles/', 'content': 'While both dishes boast a scrumptious appeal, pancakes often win over the hearts—and stomachs—of many breakfast enthusiasts. This article delves into the myriad reasons why pancakes are not just a staple breakfast food but often considered superior to their waffle counterparts.'}, {'url': 'https://www.popsugar.com/food/why-pancakes-better-than-waffles-46335811', 'content': 'Oh wait — those are the perks of PANCAKES, the actual best breakfast food of all time. Seriously though, why would anyone go to the trouble of buying a waffle maker?'}]\u001b[0m\u001b[32;1m\u001b[1;3m\n",
      "Invoking: `create_file` with `{'filename': 'pancakes.txt', 'content': \"Pancakes are often celebrated as the best breakfast choice for a variety of reasons. Here's a compilation of insights from various sources:\\n\\n1. **Versatility and Creativity**: Pancakes offer endless possibilities for creativity. You can mix in fruits, nuts, chocolate chips, or spices into the batter, and top them with anything from syrup and butter to whipped cream and fresh berries. This versatility makes them a favorite for many.\\n\\n2. **Nutritional Benefits**: Depending on the ingredients used, pancakes can be a nutritious breakfast option. Whole grain pancakes provide fiber, while adding fruits can increase their vitamin content.\\n\\n3. **Cultural and Historical Significance**: Pancakes have a rich history and are enjoyed in various forms across different cultures. From crepes in France to dosas in India, pancakes are a global phenomenon.\\n\\n4. **Comfort and Tradition**: For many, pancakes are a comfort food that brings back fond memories of family breakfasts. They are often associated with weekend brunches and special occasions.\\n\\n5. **Ease of Preparation**: Pancakes are relatively easy to make, requiring simple ingredients that are often already in the kitchen. This makes them an accessible option for a quick and satisfying meal.\\n\\n6. **Buttermilk Magic**: The use of buttermilk in pancakes adds a tangy flavor and a fluffy texture, elevating the pancake experience to a new level.\\n\\n7. **Comparison to Waffles**: While waffles have their own appeal, pancakes are often considered superior due to their soft, fluffy texture and the ability to soak up syrup and toppings more effectively.\\n\\nIn conclusion, pancakes are not just a breakfast food; they are a beloved tradition that continues to evolve and delight people around the world.\"}`\n",
      "\n",
      "\n",
      "\u001b[0m\u001b[33;1m\u001b[1;3mNone\u001b[0m\u001b[32;1m\u001b[1;3mI have created a file named \"pancakes.txt\" with updated information about why pancakes are considered the best. If you need anything else, feel free to ask!\u001b[0m\n",
      "\n",
      "\u001b[1m> Finished chain.\u001b[0m\n"
     ]
    },
    {
     "data": {
      "text/plain": [
       "{'input': 'Write a file named pancakes.txt with updated information from the web about why pancakes are the best.',\n",
       " 'output': 'I have created a file named \"pancakes.txt\" with updated information about why pancakes are considered the best. If you need anything else, feel free to ask!'}"
      ]
     },
     "execution_count": 9,
     "metadata": {},
     "output_type": "execute_result"
    }
   ],
   "source": [
    "from langchain.agents import AgentExecutor\n",
    "\n",
    "agent_executor = AgentExecutor(agent=agent, tools=tools, verbose=True)\n",
    "\n",
    "agent_executor.invoke({\"input\": \"Write a file named pancakes.txt with updated information from the web about why pancakes are the best.\"})"
   ]
  },
  {
   "cell_type": "code",
   "execution_count": 22,
   "metadata": {},
   "outputs": [],
   "source": [
    "# Adding memory"
   ]
  },
  {
   "cell_type": "code",
   "execution_count": 23,
   "metadata": {},
   "outputs": [
    {
     "name": "stdout",
     "output_type": "stream",
     "text": [
      "\n",
      "\n",
      "\u001b[1m> Entering new AgentExecutor chain...\u001b[0m\n",
      "\u001b[32;1m\u001b[1;3mYour name is Bob. How can I help you, Bob?\u001b[0m\n",
      "\n",
      "\u001b[1m> Finished chain.\u001b[0m\n"
     ]
    },
    {
     "data": {
      "text/plain": [
       "{'chat_history': [HumanMessage(content='hi! my name is bob'),\n",
       "  AIMessage(content='Hello Bob! How can I assist you today?')],\n",
       " 'input': \"what's my name?\",\n",
       " 'output': 'Your name is Bob. How can I help you, Bob?'}"
      ]
     },
     "execution_count": 23,
     "metadata": {},
     "output_type": "execute_result"
    }
   ],
   "source": [
    "from langchain_core.messages import AIMessage, HumanMessage\n",
    "\n",
    "agent_executor.invoke(\n",
    "    {\n",
    "        \"chat_history\": [\n",
    "            HumanMessage(content=\"hi! my name is bob\"),\n",
    "            AIMessage(content=\"Hello Bob! How can I assist you today?\"),\n",
    "        ],\n",
    "        \"input\": \"what's my name?\",\n",
    "    }\n",
    ")"
   ]
  },
  {
   "cell_type": "code",
   "execution_count": 24,
   "metadata": {},
   "outputs": [],
   "source": [
    "from langchain_community.chat_message_histories import ChatMessageHistory\n",
    "from langchain_core.runnables.history import RunnableWithMessageHistory\n",
    "\n",
    "message_history = ChatMessageHistory()\n",
    "\n",
    "agent_with_chat_history = RunnableWithMessageHistory(\n",
    "    agent_executor,\n",
    "    lambda session_id: message_history,\n",
    "    input_messages_key=\"input\",\n",
    "    history_messages_key=\"chat_history\",\n",
    ")"
   ]
  },
  {
   "cell_type": "code",
   "execution_count": 25,
   "metadata": {},
   "outputs": [
    {
     "name": "stdout",
     "output_type": "stream",
     "text": [
      "\n",
      "\n",
      "\u001b[1m> Entering new AgentExecutor chain...\u001b[0m\n",
      "\u001b[32;1m\u001b[1;3mHello Bob! How can I assist you today?\u001b[0m\n",
      "\n",
      "\u001b[1m> Finished chain.\u001b[0m\n"
     ]
    },
    {
     "data": {
      "text/plain": [
       "{'input': \"hi! I'm bob\",\n",
       " 'chat_history': [],\n",
       " 'output': 'Hello Bob! How can I assist you today?'}"
      ]
     },
     "execution_count": 25,
     "metadata": {},
     "output_type": "execute_result"
    }
   ],
   "source": [
    "agent_with_chat_history.invoke(\n",
    "    {\"input\": \"hi! I'm bob\"},\n",
    "    config={\"configurable\": {\"session_id\": \"<foo>\"}},\n",
    ")"
   ]
  },
  {
   "cell_type": "code",
   "execution_count": 26,
   "metadata": {},
   "outputs": [
    {
     "name": "stdout",
     "output_type": "stream",
     "text": [
      "\n",
      "\n",
      "\u001b[1m> Entering new AgentExecutor chain...\u001b[0m\n",
      "\u001b[32;1m\u001b[1;3mYour name is Bob! How can I help you, Bob?\u001b[0m\n",
      "\n",
      "\u001b[1m> Finished chain.\u001b[0m\n"
     ]
    },
    {
     "data": {
      "text/plain": [
       "{'input': \"what's my name?\",\n",
       " 'chat_history': [HumanMessage(content=\"hi! I'm bob\"),\n",
       "  AIMessage(content='Hello Bob! How can I assist you today?')],\n",
       " 'output': 'Your name is Bob! How can I help you, Bob?'}"
      ]
     },
     "execution_count": 26,
     "metadata": {},
     "output_type": "execute_result"
    }
   ],
   "source": [
    "agent_with_chat_history.invoke(\n",
    "    {\"input\": \"what's my name?\"},\n",
    "    config={\"configurable\": {\"session_id\": \"<foo>\"}},\n",
    ")"
   ]
  }
 ],
 "metadata": {
  "kernelspec": {
   "display_name": "oreilly-langchain",
   "language": "python",
   "name": "oreilly-langchain"
  },
  "language_info": {
   "codemirror_mode": {
    "name": "ipython",
    "version": 3
   },
   "file_extension": ".py",
   "mimetype": "text/x-python",
   "name": "python",
   "nbconvert_exporter": "python",
   "pygments_lexer": "ipython3",
   "version": "3.11.9"
  }
 },
 "nbformat": 4,
 "nbformat_minor": 2
}
