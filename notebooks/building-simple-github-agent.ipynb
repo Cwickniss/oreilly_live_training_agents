{
 "cells": [
  {
   "cell_type": "code",
   "execution_count": 1,
   "metadata": {},
   "outputs": [
    {
     "name": "stdout",
     "output_type": "stream",
     "text": [
      "Collecting PyGithub\n",
      "  Using cached PyGithub-2.1.1-py3-none-any.whl.metadata (2.2 kB)\n",
      "Collecting pynacl>=1.4.0 (from PyGithub)\n",
      "  Using cached PyNaCl-1.5.0-cp36-abi3-macosx_10_10_universal2.whl (349 kB)\n",
      "Requirement already satisfied: python-dateutil in /Users/greatmaster/miniconda3/envs/automations/lib/python3.11/site-packages (from PyGithub) (2.8.2)\n",
      "Requirement already satisfied: requests>=2.14.0 in /Users/greatmaster/miniconda3/envs/automations/lib/python3.11/site-packages (from PyGithub) (2.31.0)\n",
      "Requirement already satisfied: pyjwt>=2.4.0 in /Users/greatmaster/miniconda3/envs/automations/lib/python3.11/site-packages (from pyjwt[crypto]>=2.4.0->PyGithub) (2.8.0)\n",
      "Requirement already satisfied: typing-extensions>=4.0.0 in /Users/greatmaster/miniconda3/envs/automations/lib/python3.11/site-packages (from PyGithub) (4.8.0)\n",
      "Requirement already satisfied: urllib3>=1.26.0 in /Users/greatmaster/miniconda3/envs/automations/lib/python3.11/site-packages (from PyGithub) (1.26.18)\n",
      "Requirement already satisfied: Deprecated in /Users/greatmaster/miniconda3/envs/automations/lib/python3.11/site-packages (from PyGithub) (1.2.14)\n",
      "Requirement already satisfied: cryptography>=3.4.0 in /Users/greatmaster/miniconda3/envs/automations/lib/python3.11/site-packages (from pyjwt[crypto]>=2.4.0->PyGithub) (41.0.7)\n",
      "Requirement already satisfied: cffi>=1.4.1 in /Users/greatmaster/miniconda3/envs/automations/lib/python3.11/site-packages (from pynacl>=1.4.0->PyGithub) (1.16.0)\n",
      "Requirement already satisfied: charset-normalizer<4,>=2 in /Users/greatmaster/miniconda3/envs/automations/lib/python3.11/site-packages (from requests>=2.14.0->PyGithub) (3.3.2)\n",
      "Requirement already satisfied: idna<4,>=2.5 in /Users/greatmaster/miniconda3/envs/automations/lib/python3.11/site-packages (from requests>=2.14.0->PyGithub) (3.4)\n",
      "Requirement already satisfied: certifi>=2017.4.17 in /Users/greatmaster/miniconda3/envs/automations/lib/python3.11/site-packages (from requests>=2.14.0->PyGithub) (2023.7.22)\n",
      "Requirement already satisfied: wrapt<2,>=1.10 in /Users/greatmaster/miniconda3/envs/automations/lib/python3.11/site-packages (from Deprecated->PyGithub) (1.16.0)\n",
      "Requirement already satisfied: six>=1.5 in /Users/greatmaster/miniconda3/envs/automations/lib/python3.11/site-packages (from python-dateutil->PyGithub) (1.16.0)\n",
      "Requirement already satisfied: pycparser in /Users/greatmaster/miniconda3/envs/automations/lib/python3.11/site-packages (from cffi>=1.4.1->pynacl>=1.4.0->PyGithub) (2.21)\n",
      "Using cached PyGithub-2.1.1-py3-none-any.whl (302 kB)\n",
      "Installing collected packages: pynacl, PyGithub\n",
      "Successfully installed PyGithub-2.1.1 pynacl-1.5.0\n"
     ]
    }
   ],
   "source": [
    "!pip install PyGithub"
   ]
  },
  {
   "cell_type": "code",
   "execution_count": 28,
   "metadata": {},
   "outputs": [],
   "source": [
    "import os\n",
    "from github import Github\n",
    "\n",
    "github_token = os.environ.get('GITHUB_ACCESS_TOKEN')\n",
    "\n",
    "# using an access token\n",
    "g = Github(github_token)"
   ]
  },
  {
   "cell_type": "code",
   "execution_count": 29,
   "metadata": {},
   "outputs": [],
   "source": [
    "def get_repo(repo_name):\n",
    "    repo = f\"{repo_name}\"\n",
    "    print(repo)\n",
    "    repo = g.get_user().get_repo(repo)\n",
    "    print(repo)\n",
    "    return repo"
   ]
  },
  {
   "cell_type": "markdown",
   "metadata": {},
   "source": [
    "Create file, commit and push"
   ]
  },
  {
   "cell_type": "code",
   "execution_count": 30,
   "metadata": {},
   "outputs": [
    {
     "name": "stdout",
     "output_type": "stream",
     "text": [
      "oreilly_live_training_agents\n",
      "Repository(full_name=\"EnkrateiaLucca/oreilly_live_training_agents\")\n",
      "File created successfully.\n"
     ]
    }
   ],
   "source": [
    "from github import Github\n",
    "from github.GithubException import GithubException\n",
    "\n",
    "def create_or_update_file_in_repo(repo, file_path, file_contents, commit_message):\n",
    "    \"\"\"\n",
    "    Create or update a file in a GitHub repository.\n",
    "\n",
    "    Args:\n",
    "    github_token (str): Your GitHub access token.\n",
    "    repo_name (str): Name of the repository.\n",
    "    file_path (str): Path of the file in the repository.\n",
    "    file_contents (str): Contents to be written to the file.\n",
    "    commit_message (str): Commit message.\n",
    "\n",
    "    Returns:\n",
    "    None\n",
    "    \"\"\"\n",
    "\n",
    "    try:\n",
    "        # Try to get the file\n",
    "        contents = repo.get_contents(file_path)\n",
    "        # File exists, update it\n",
    "        repo.update_file(contents.path, commit_message, file_contents, contents.sha)\n",
    "        print(\"File updated successfully.\")\n",
    "    except GithubException as e:\n",
    "        if e.status == 404:\n",
    "            # File does not exist, create a new one\n",
    "            repo.create_file(file_path, commit_message, file_contents)\n",
    "            print(\"File created successfully.\")\n",
    "        else:\n",
    "            # Some other error occurred\n",
    "            print(f\"An error occurred: {e}\")\n",
    "    \n",
    "    return \"File commited\"\n",
    "\n",
    "# Create the file in the repository\n",
    "file_path = \"test_create.txt\"\n",
    "file_contents = \"testing github api\"\n",
    "commit_message = \"testing\"\n",
    "\n",
    "repo = get_repo(repo_name=\"oreilly_live_training_agents\")\n",
    "create_or_update_file_in_repo(repo, file_path, file_contents, commit_message)"
   ]
  },
  {
   "cell_type": "markdown",
   "metadata": {},
   "source": [
    "Delete file, commit and push"
   ]
  },
  {
   "cell_type": "code",
   "execution_count": 31,
   "metadata": {},
   "outputs": [
    {
     "data": {
      "text/plain": [
       "'File deleted'"
      ]
     },
     "execution_count": 31,
     "metadata": {},
     "output_type": "execute_result"
    }
   ],
   "source": [
    "\n",
    "\n",
    "def delete_file_in_repo(repo, file_path, commit_message):\n",
    "    \"\"\"\n",
    "    Delete a file in a GitHub repository.\n",
    "\n",
    "    Args:\n",
    "    github_token (str): Your GitHub access token.\n",
    "    repo_name (str): Name of the repository.\n",
    "    file_path (str): Path of the file in the repository.\n",
    "    commit_message (str): Commit message.\n",
    "\n",
    "    Returns:\n",
    "    None\n",
    "    \"\"\"\n",
    "    try:\n",
    "        # Try to get the file\n",
    "        contents = repo.get_contents(file_path)\n",
    "        # Delete the file\n",
    "        repo.delete_file(contents.path, commit_message, contents.sha)\n",
    "    except GithubException as e:\n",
    "        if e.status == 404:\n",
    "            # File does not exist\n",
    "            print(\"File does not exist\")\n",
    "        else:\n",
    "            # Some other error occurred\n",
    "            print(f\"An error occurred: {e}\")\n",
    "    \n",
    "    return \"File deleted\"\n",
    "\n",
    "\n",
    "file_path = \"test_create.txt\"\n",
    "commit_message = \"test deletion file\"\n",
    "delete_file_in_repo(repo, file_path, commit_message)"
   ]
  },
  {
   "cell_type": "code",
   "execution_count": 37,
   "metadata": {},
   "outputs": [],
   "source": [
    "import git\n",
    "\n",
    "def clone_repo(repo_host_and_name, access_token, clone_dir):\n",
    "    \"\"\"\n",
    "    Clones a repository given a GitHub URL using PyGithub and GitPython.\n",
    "\n",
    "    :param github_url: URL of the GitHub repository\n",
    "    :param access_token: GitHub Access Token for authentication\n",
    "    :param clone_dir: Directory where the repository will be cloned\n",
    "    \"\"\"\n",
    "    # Initialize GitHub instance with access token\n",
    "    g = Github(access_token)\n",
    "    \n",
    "    # Get the repository\n",
    "    repo = g.get_repo(repo_host_and_name)\n",
    "\n",
    "    # Clone the repository\n",
    "    git.Repo.clone_from(repo.clone_url, os.path.join(clone_dir, repo_host_and_name), env={\"GIT_SSL_NO_VERIFY\": \"1\"})\n",
    "\n",
    "# Example usage\n",
    "clone_repo(\"EnkrateiaLucca/AI_Learning_ToolKit\",\n",
    "           github_token, \"./\")"
   ]
  },
  {
   "cell_type": "code",
   "execution_count": 38,
   "metadata": {},
   "outputs": [
    {
     "name": "stdout",
     "output_type": "stream",
     "text": [
      "\u001b[1m\u001b[36mEnkrateiaLucca/\u001b[m\u001b[m   \u001b[1m\u001b[36mdev-notebooks/\u001b[m\u001b[m    \u001b[1m\u001b[36mtest/\u001b[m\u001b[m\n",
      "\u001b[1m\u001b[36massets-resources/\u001b[m\u001b[m \u001b[1m\u001b[36mlangchain_agents/\u001b[m\u001b[m\n"
     ]
    }
   ],
   "source": [
    "!ls -d */"
   ]
  },
  {
   "cell_type": "code",
   "execution_count": 39,
   "metadata": {},
   "outputs": [
    {
     "data": {
      "text/plain": [
       "Repository(full_name=\"EnkrateiaLucca/test_repo\")"
      ]
     },
     "execution_count": 39,
     "metadata": {},
     "output_type": "execute_result"
    }
   ],
   "source": [
    "def create_repo(repo_name, access_token):\n",
    "    \"\"\"\n",
    "    Creates a repository given a GitHub URL using PyGithub and GitPython.\n",
    "\n",
    "    :param github_url: URL of the GitHub repository\n",
    "    :param access_token: GitHub Access Token for authentication\n",
    "    :param clone_dir: Directory where the repository will be cloned\n",
    "    \"\"\"\n",
    "    # Initialize GitHub instance with access token\n",
    "    g = Github(access_token)\n",
    "    \n",
    "    # Get the repository\n",
    "    repo = g.get_user().create_repo(repo_name)\n",
    "    \n",
    "    return repo\n",
    "\n",
    "repo = create_repo(\"test_repo\", github_token)"
   ]
  },
  {
   "cell_type": "code",
   "execution_count": 46,
   "metadata": {},
   "outputs": [
    {
     "name": "stdout",
     "output_type": "stream",
     "text": [
      "File created successfully.\n"
     ]
    }
   ],
   "source": [
    "repo = g.get_user().get_repo(\"test_repo\")\n",
    "create_or_update_file_in_repo(repo, file_path, file_contents, commit_message)"
   ]
  },
  {
   "cell_type": "code",
   "execution_count": 47,
   "metadata": {},
   "outputs": [
    {
     "data": {
      "text/plain": [
       "'File deleted'"
      ]
     },
     "execution_count": 47,
     "metadata": {},
     "output_type": "execute_result"
    }
   ],
   "source": [
    "delete_file_in_repo(repo, file_path, commit_message)"
   ]
  },
  {
   "cell_type": "code",
   "execution_count": 48,
   "metadata": {},
   "outputs": [
    {
     "data": {
      "text/plain": [
       "'Repo deleted'"
      ]
     },
     "execution_count": 48,
     "metadata": {},
     "output_type": "execute_result"
    }
   ],
   "source": [
    "def delete_repo(repo_name, access_token):\n",
    "    \"\"\"\n",
    "    Deletes a repository given a GitHub URL using PyGithub and GitPython.\n",
    "\n",
    "    :param github_url: URL of the GitHub repository\n",
    "    :param access_token: GitHub Access Token for authentication\n",
    "    :param clone_dir: Directory where the repository will be cloned\n",
    "    \"\"\"\n",
    "    # Initialize GitHub instance with access token\n",
    "    g = Github(access_token)\n",
    "    \n",
    "    # Get the repository\n",
    "    repo = g.get_user().get_repo(repo_name)\n",
    "    \n",
    "    repo.delete()\n",
    "\n",
    "    return \"Repo deleted\"\n",
    "\n",
    "delete_repo(\"test_repo\", github_token)"
   ]
  },
  {
   "cell_type": "code",
   "execution_count": 50,
   "metadata": {},
   "outputs": [
    {
     "name": "stdout",
     "output_type": "stream",
     "text": [
      "To test the given script and save the outputs to a `log_test.txt` file, we need to create a test script that will run the `start_emotion_app` function and capture its output. However, since the original script is designed to work with a webcam and display live video, we need to modify it to work in a test environment. We will simulate the webcam input with a static image and redirect the standard output and error to a log file.\n",
      "\n",
      "Here's a Python script that does this:\n",
      "\n",
      "```python\n",
      "import sys\n",
      "import torch\n",
      "import cv2 as cv\n",
      "from io import StringIO\n",
      "from contextlib import redirect_stdout, redirect_stderr\n",
      "\n",
      "# Import the original script's components (assuming the script is named original_script.py)\n",
      "from original_script import Net, prep_image, start_emotion_app, label_map\n",
      "\n",
      "# Function to simulate the webcam capture with a static image\n",
      "def simulate_webcam_capture(image_path):\n",
      "    image = cv.imread(image_path)\n",
      "    if image is None:\n",
      "        raise ValueError(\"Image not found or unable to read.\")\n",
      "    return image\n",
      "\n",
      "# Function to test the emotion detection app\n",
      "def test_emotion_app(image_path, label_map):\n",
      "    # Redirect stdout and stderr to capture logs\n",
      "    with open('log_test.txt', 'w') as log_file, redirect_stdout(log_file), redirect_stderr(log_file):\n",
      "        # Load the model\n",
      "        model = Net()\n",
      "        model.load_state_dict(torch.load(\"./emotion.pt\"))\n",
      "        model.cuda()\n",
      "        model.eval()\n",
      "        torch.set_grad_enabled(False)\n",
      "\n",
      "        # Simulate a frame from the webcam\n",
      "        frame = simulate_webcam_capture(image_path)\n",
      "\n",
      "        # Apply the transform to the frame\n",
      "        input_tensor = prep_image(frame)\n",
      "\n",
      "        # Pass the input tensor through the model\n",
      "        output_dict = model(input_tensor)\n",
      "\n",
      "        # Get the prediction\n",
      "        _, prediction = torch.max(output_dict[\"softmax\"], 1)\n",
      "\n",
      "        # Get the actual label\n",
      "        label = label_map[int(prediction.item())]\n",
      "\n",
      "        # Print the label to the log\n",
      "        print(f\"Predicted Emotion: {label}\")\n",
      "\n",
      "# Path to the test image (replace with the path to your test image)\n",
      "test_image_path = 'path_to_test_image.jpg'\n",
      "\n",
      "# Run the test\n",
      "test_emotion_app(test_image_path, label_map)\n",
      "```\n",
      "\n",
      "Please note the following:\n",
      "- Replace `'path_to_test_image.jpg'` with the actual path to the test image you want to use.\n",
      "- The `original_script` in the import statement should be replaced with the actual name of the Python file containing the original script.\n",
      "- The `log_test.txt` file will contain the output of the test, including the predicted emotion label.\n",
      "- This script assumes that the model file `emotion.pt` and the `labels.txt` file are in the same directory as the script.\n",
      "- The `simulate_webcam_capture` function is a placeholder to simulate reading an image from the webcam. In a real test, you would capture frames from the webcam or use a video file.\n",
      "\n",
      "Before running the test script, ensure that the original script is free of errors and is executable. The test script provided above does not include the live plotting and display functionality, as it is not feasible to test these components in a non-interactive environment.\n"
     ]
    }
   ],
   "source": [
    "from openai import OpenAI\n",
    "import re\n",
    "client = OpenAI()\n",
    "\n",
    "\n",
    "def extract_python_code(output):\n",
    "    # Use regular expressions to find Python code within the output string\n",
    "    pattern = r\"```python\\n(.*?)```\"\n",
    "    matches = re.findall(pattern, output, re.DOTALL)\n",
    "    \n",
    "    # Return the extracted Python code as a list\n",
    "    return matches\n",
    "\n",
    "\n",
    "def write_code(task_description):\n",
    "    \"\"\"\n",
    "    Write code for a task.\n",
    "\n",
    "    :param task_description: Description of the task\n",
    "    \"\"\"\n",
    "    \n",
    "    SYSTEM_PROMPT = f\"You are an expert AI and machine learning engineer. You are tasked with \\\n",
    "        writing code for various tasks. The code you write should be well documented, clean,modular\\\n",
    "        and precise.\"\n",
    "    \n",
    "    PROMPT_CODE = f\"Write code for the following task:\\n\\n{task_description}\\n\\n The output should \\\n",
    "        only be Python code. \\n\\n Output code:\"\n",
    "    \n",
    "    response = client.chat.completions.create(\n",
    "    temperature=0, \n",
    "    model=\"gpt-4-1106-preview\",\n",
    "    messages=[{\"role\": \"system\", \"content\": SYSTEM_PROMPT},\n",
    "                {\"role\": \"user\", \"content\":PROMPT_CODE}]\n",
    "    )\n",
    "    \n",
    "    return response.choices[0].message.content     \n",
    "\n",
    "with open(\"sample_app_to_test_github_agent.py\", \"r\") as f:\n",
    "    script_contents = f.read()\n",
    "\n",
    "output_code = write_code(f\"Given this Python script: {script_contents}, I want you to write a script that:\\n1. Tests the script and saves the outupts to a log_test.txt file. \\n2. Review your script to make sure it will run\")\n",
    "formatted_code = extract_python_code(output_code)[0]\n",
    "print(formatted_code)"
   ]
  },
  {
   "cell_type": "code",
   "execution_count": null,
   "metadata": {},
   "outputs": [],
   "source": [
    "import argparse\n",
    "from langchain.chat_models import ChatOpenAI\n",
    "from langchain.tools import tool\n",
    "from langchain.agents import initialize_agent, AgentType\n",
    "from langchain.tools import StructuredTool\n",
    "\n",
    "def main():\n",
    "    parser = argparse.ArgumentParser(description='GitHub Automation')\n",
    "    parser.add_argument('command', choices=['commit', 'create_file', 'read_file'], help='The GitHub command')\n",
    "    parser.add_argument('-m', '--message', help='The commit message')\n",
    "    parser.add_argument('-c', '--contents', help='The contents of the file')\n",
    "    parser.add_argument('-p', '--path', help='The file path')\n",
    "    \n",
    "    args = parser.parse_args()\n",
    "    \n",
    "    llm = ChatOpenAI(temperature=0)\n",
    "    tools = [github_commit_tool, create_file_tool, read_file_tool]\n",
    "    agent_executor = initialize_agent(tools, llm, agent=AgentType.STRUCTURED_CHAT_ZERO_SHOT_REACT_DESCRIPTION, verbose=True)\n",
    "    \n",
    "    if args.command == 'commit':\n",
    "        commit_message = args.message or 'Some commit'\n",
    "        github_commit_tool(commit_message)\n",
    "        print('Committed to Github')\n",
    "    elif args.command == 'create_file':\n",
    "        file_contents = args.contents\n",
    "        file_path = args.path\n",
    "        create_file_tool(file_contents, file_path)\n",
    "        print('File created')\n",
    "    elif args.command == 'read_file':\n",
    "        file_path = args.path\n",
    "        contents = read_file_tool(file_path)\n",
    "        print(contents)\n",
    "\n",
    "if __name__ == '__main__':\n",
    "    main()"
   ]
  }
 ],
 "metadata": {
  "kernelspec": {
   "display_name": "automations",
   "language": "python",
   "name": "automations"
  },
  "language_info": {
   "codemirror_mode": {
    "name": "ipython",
    "version": 3
   },
   "file_extension": ".py",
   "mimetype": "text/x-python",
   "name": "python",
   "nbconvert_exporter": "python",
   "pygments_lexer": "ipython3",
   "version": "3.11.5"
  }
 },
 "nbformat": 4,
 "nbformat_minor": 2
}
