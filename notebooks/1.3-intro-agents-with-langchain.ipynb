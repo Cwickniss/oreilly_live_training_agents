{
 "cells": [
  {
   "cell_type": "code",
   "execution_count": 2,
   "metadata": {},
   "outputs": [],
   "source": [
    "# !pip install langchain\n",
    "# !pip install langchain-openai\n",
    "# !pip install langchain-core"
   ]
  },
  {
   "cell_type": "code",
   "execution_count": 3,
   "metadata": {},
   "outputs": [],
   "source": [
    "# uncomment this if running locally\n",
    "# from dotenv import load_dotenv\n",
    "\n",
    "# load_dotenv()\n",
    "\n",
    "# Or if you are in Colab, uncoment below and add your api key\n",
    "# import os\n",
    "# os.environ[\"OPENAI_API_KEY\"] = \"your-api-key\""
   ]
  },
  {
   "cell_type": "markdown",
   "metadata": {},
   "source": [
    "# Common Sense Agent\n",
    "\n",
    "1. Model (large language model like ChatGPT, or Claude)\n",
    "2. Prompt (system message and the user input)\n",
    "3. Tool calling"
   ]
  },
  {
   "cell_type": "code",
   "execution_count": 4,
   "metadata": {},
   "outputs": [
    {
     "data": {
      "text/plain": [
       "AIMessage(content='Hello! How can I assist you today?', response_metadata={'token_usage': {'completion_tokens': 9, 'prompt_tokens': 8, 'total_tokens': 17}, 'model_name': 'gpt-4o', 'system_fingerprint': 'fp_c4e5b6fa31', 'finish_reason': 'stop', 'logprobs': None}, id='run-4dd77c54-5eb6-4255-b3ef-3e16d65856bf-0')"
      ]
     },
     "execution_count": 4,
     "metadata": {},
     "output_type": "execute_result"
    }
   ],
   "source": [
    "from langchain_openai import ChatOpenAI\n",
    "import os\n",
    "# os.environ[\"OPENAI_API_KEY\"] = \"your openai api key\"\n",
    "llm = ChatOpenAI(model=\"gpt-4o\", temperature=0)\n",
    "\n",
    "llm.invoke(\"Hi\")"
   ]
  },
  {
   "cell_type": "code",
   "execution_count": 5,
   "metadata": {},
   "outputs": [],
   "source": [
    "from langchain.prompts import ChatPromptTemplate\n",
    "\n",
    "prompt = ChatPromptTemplate.from_template(\"Answer this question: {question} in bullet points. Output:\\n\")"
   ]
  },
  {
   "cell_type": "code",
   "execution_count": 6,
   "metadata": {},
   "outputs": [
    {
     "data": {
      "text/plain": [
       "ChatPromptTemplate(input_variables=['question'], messages=[HumanMessagePromptTemplate(prompt=PromptTemplate(input_variables=['question'], template='Answer this question: {question} in bullet points. Output:\\n'))])\n",
       "| ChatOpenAI(client=<openai.resources.chat.completions.Completions object at 0x10ed00dd0>, async_client=<openai.resources.chat.completions.AsyncCompletions object at 0x10d9add90>, model_name='gpt-4o', temperature=0.0, openai_api_key=SecretStr('**********'), openai_api_base='https://api.openai.com/v1', openai_proxy='')"
      ]
     },
     "execution_count": 6,
     "metadata": {},
     "output_type": "execute_result"
    }
   ],
   "source": [
    "chain = prompt | llm\n",
    "\n",
    "chain"
   ]
  },
  {
   "cell_type": "code",
   "execution_count": 7,
   "metadata": {},
   "outputs": [
    {
     "data": {
      "text/plain": [
       "langchain_core.runnables.base.RunnableSequence"
      ]
     },
     "execution_count": 7,
     "metadata": {},
     "output_type": "execute_result"
    }
   ],
   "source": [
    "type(chain)"
   ]
  },
  {
   "cell_type": "code",
   "execution_count": 8,
   "metadata": {},
   "outputs": [
    {
     "data": {
      "text/plain": [
       "AIMessage(content='- Whiskers\\n- Mittens\\n- Shadow\\n- Luna\\n- Simba\\n- Oliver\\n- Bella\\n- Charlie\\n- Max\\n- Daisy', response_metadata={'token_usage': {'completion_tokens': 32, 'prompt_tokens': 23, 'total_tokens': 55}, 'model_name': 'gpt-4o', 'system_fingerprint': 'fp_400f27fa1f', 'finish_reason': 'stop', 'logprobs': None}, id='run-928ceb6d-03b2-4305-9dd6-9a376de558de-0')"
      ]
     },
     "execution_count": 8,
     "metadata": {},
     "output_type": "execute_result"
    }
   ],
   "source": [
    "output = chain.invoke(\"Write down names of cats.\")\n",
    "output"
   ]
  },
  {
   "cell_type": "code",
   "execution_count": 9,
   "metadata": {},
   "outputs": [
    {
     "data": {
      "text/markdown": [
       "- Whiskers\n",
       "- Mittens\n",
       "- Shadow\n",
       "- Luna\n",
       "- Simba\n",
       "- Oliver\n",
       "- Bella\n",
       "- Charlie\n",
       "- Max\n",
       "- Daisy"
      ],
      "text/plain": [
       "<IPython.core.display.Markdown object>"
      ]
     },
     "execution_count": 9,
     "metadata": {},
     "output_type": "execute_result"
    }
   ],
   "source": [
    "from IPython.display import Markdown\n",
    "\n",
    "Markdown(output.content)"
   ]
  },
  {
   "cell_type": "code",
   "execution_count": 12,
   "metadata": {},
   "outputs": [
    {
     "data": {
      "text/plain": [
       "[{'position': 1,\n",
       "  'title': '25 Must-See Paris Landmarks',\n",
       "  'link': 'https://www.architecturaldigest.com/gallery/paris-architectural-landmarks',\n",
       "  'redirect_link': 'https://www.google.com/url?sa=t&source=web&rct=j&opi=89978449&url=https://www.architecturaldigest.com/gallery/paris-architectural-landmarks&ved=2ahUKEwjHr-KZr7CHAxUkD1kFHc9ODNwQFnoECBoQAQ',\n",
       "  'displayed_link': 'https://www.architecturaldigest.com › ... › travel',\n",
       "  'thumbnail': 'https://serpapi.com/searches/6698eccae4a23dcc9b271a5b/images/b82971cf6568ad27e2fa13ba6a1ef50fcedef7e58fe760b01529225406d3a2a2.jpeg',\n",
       "  'favicon': 'https://serpapi.com/searches/6698eccae4a23dcc9b271a5b/images/b82971cf6568ad27e2fa13ba6a1ef50f8f513dcefb7186a53f3be813729d0233.png',\n",
       "  'date': 'Feb 18, 2016',\n",
       "  'snippet': 'Located on the Île de la Cité, a thin island in the Seine, Notre Dame de Paris is perhaps the most famous cathedral in the world. Characterized ...',\n",
       "  'snippet_highlighted_words': ['Paris', 'famous'],\n",
       "  'images': ['https://serpapi.com/searches/6698eccae4a23dcc9b271a5b/images/b82971cf6568ad27e2fa13ba6a1ef50ffc52bc2c9956e3bac7b4ce83863f5dec.jpeg',\n",
       "   'https://serpapi.com/searches/6698eccae4a23dcc9b271a5b/images/b82971cf6568ad27e2fa13ba6a1ef50ffc52bc2c9956e3ba7cfda9fb7d01773c.jpeg',\n",
       "   'https://serpapi.com/searches/6698eccae4a23dcc9b271a5b/images/b82971cf6568ad27e2fa13ba6a1ef50ffc52bc2c9956e3ba352d4311f43effb4.jpeg'],\n",
       "  'source': 'Architectural Digest'},\n",
       " {'position': 2,\n",
       "  'title': 'THE 10 BEST Paris Architectural Buildings (Updated 2024)',\n",
       "  'link': 'https://www.tripadvisor.com/Attractions-g187147-Activities-c47-t3-Paris_Ile_de_France.html',\n",
       "  'redirect_link': 'https://www.google.com/url?sa=t&source=web&rct=j&opi=89978449&url=https://www.tripadvisor.com/Attractions-g187147-Activities-c47-t3-Paris_Ile_de_France.html&ved=2ahUKEwjHr-KZr7CHAxUkD1kFHc9ODNwQFnoECBwQAQ',\n",
       "  'displayed_link': 'https://www.tripadvisor.com › ... › Things to Do in Paris',\n",
       "  'thumbnail': 'https://serpapi.com/searches/6698eccae4a23dcc9b271a5b/images/b82971cf6568ad27e2fa13ba6a1ef50fa468a3705da2a91f138b3f75c6467fe6.jpeg',\n",
       "  'favicon': 'https://serpapi.com/searches/6698eccae4a23dcc9b271a5b/images/b82971cf6568ad27e2fa13ba6a1ef50f08c25ac7edcc829852259e946798da9e.png',\n",
       "  'snippet': 'Architectural Buildings in Paris · 1. Louvre Museum · 2. Cathédrale Notre-Dame de Paris · 3. Arc de Triomphe · 4. Palais Garnier · 5. Sainte- ...',\n",
       "  'snippet_highlighted_words': ['Architectural Buildings in Paris', 'Paris'],\n",
       "  'images': ['https://serpapi.com/searches/6698eccae4a23dcc9b271a5b/images/b82971cf6568ad27e2fa13ba6a1ef50fd78a6a82b937d031faed3fd5903e388f.jpeg',\n",
       "   'https://serpapi.com/searches/6698eccae4a23dcc9b271a5b/images/b82971cf6568ad27e2fa13ba6a1ef50fd78a6a82b937d0319a0d8afec03b213a.jpeg',\n",
       "   'https://serpapi.com/searches/6698eccae4a23dcc9b271a5b/images/b82971cf6568ad27e2fa13ba6a1ef50fd78a6a82b937d03182e680e083b17d99.jpeg'],\n",
       "  'source': 'Tripadvisor'},\n",
       " {'position': 3,\n",
       "  'title': 'Paris City Guide: 23 Places Every Architect Must Visit',\n",
       "  'link': 'https://www.archdaily.com/922278/23-places-in-paris-every-architect-must-visit',\n",
       "  'redirect_link': 'https://www.google.com/url?sa=t&source=web&rct=j&opi=89978449&url=https://www.archdaily.com/922278/23-places-in-paris-every-architect-must-visit&ved=2ahUKEwjHr-KZr7CHAxUkD1kFHc9ODNwQFnoECDsQAQ',\n",
       "  'displayed_link': 'https://www.archdaily.com › Architecture City Guide',\n",
       "  'thumbnail': 'https://serpapi.com/searches/6698eccae4a23dcc9b271a5b/images/b82971cf6568ad27e2fa13ba6a1ef50feb9d8865f32a246009a13abbcf7cddc4.jpeg',\n",
       "  'favicon': 'https://serpapi.com/searches/6698eccae4a23dcc9b271a5b/images/b82971cf6568ad27e2fa13ba6a1ef50f370bde2573dcebfb5cbeece5c709c343.png',\n",
       "  'date': 'Aug 22, 2021',\n",
       "  'snippet': '1. Centre Georges Pompidou ... Save this picture! ... Description: This is one of the most iconic buildings in Paris and houses the Musée National d ...',\n",
       "  'snippet_highlighted_words': ['iconic buildings in Paris'],\n",
       "  'images': ['https://serpapi.com/searches/6698eccae4a23dcc9b271a5b/images/b82971cf6568ad27e2fa13ba6a1ef50febd91bce05e65803e2b2653304248305.jpeg',\n",
       "   'https://serpapi.com/searches/6698eccae4a23dcc9b271a5b/images/b82971cf6568ad27e2fa13ba6a1ef50febd91bce05e658030765b75ef31799c6.jpeg',\n",
       "   'https://serpapi.com/searches/6698eccae4a23dcc9b271a5b/images/b82971cf6568ad27e2fa13ba6a1ef50febd91bce05e6580399e56e1f89ad73be.jpeg'],\n",
       "  'source': 'ArchDaily'},\n",
       " {'position': 4,\n",
       "  'title': '22 of the Most Famous Buildings in Paris You Must See',\n",
       "  'link': 'https://mariandthecity.com/most-famous-buildings-in-paris/',\n",
       "  'redirect_link': 'https://www.google.com/url?sa=t&source=web&rct=j&opi=89978449&url=https://mariandthecity.com/most-famous-buildings-in-paris/&ved=2ahUKEwjHr-KZr7CHAxUkD1kFHc9ODNwQFnoECDkQAQ',\n",
       "  'displayed_link': 'https://mariandthecity.com › All posts',\n",
       "  'thumbnail': 'https://encrypted-tbn0.gstatic.com/images?q=tbn:ANd9GcSHAuK0d7xQsFv88PODJqS2l7hmbzYgi_90momlo-ZI7ALMul5xj4OH&usqp=CAE&s',\n",
       "  'favicon': 'https://serpapi.com/searches/6698eccae4a23dcc9b271a5b/images/b82971cf6568ad27e2fa13ba6a1ef50f360e6da1bad1a49ccfdb85a04ee1d64c.png',\n",
       "  'date': 'Oct 8, 2023',\n",
       "  'snippet': 'Most Famous Buildings in Paris You Must See · 1. The Louvre Museum · 2. Notre-Dame Cathedral · 3. Basilica of the Sacré-Cœur · 4. The Palais ...',\n",
       "  'snippet_highlighted_words': ['Famous Buildings in Paris'],\n",
       "  'source': 'Mari and the City'},\n",
       " {'position': 5,\n",
       "  'title': 'Going to Paris soon, which buildings should I visit?',\n",
       "  'link': 'https://www.reddit.com/r/architecture/comments/19830tq/going_to_paris_soon_which_buildings_should_i_visit/',\n",
       "  'redirect_link': 'https://www.google.com/url?sa=t&source=web&rct=j&opi=89978449&url=https://www.reddit.com/r/architecture/comments/19830tq/going_to_paris_soon_which_buildings_should_i_visit/&ved=2ahUKEwjHr-KZr7CHAxUkD1kFHc9ODNwQFnoECD8QAQ',\n",
       "  'displayed_link': '30+ comments · 6 months ago',\n",
       "  'favicon': 'https://serpapi.com/searches/6698eccae4a23dcc9b271a5b/images/b82971cf6568ad27e2fa13ba6a1ef50fd34d337766ddad997ae2c567a8267e14.png',\n",
       "  'snippet': 'Sainte-Chapelle is wonderful and centrally located, one of the finest bits of gothic architecture anywhere (as nice any cathedral, much more ...',\n",
       "  'snippet_highlighted_words': ['architecture'],\n",
       "  'source': 'Reddit · r/architecture'},\n",
       " {'position': 6,\n",
       "  'title': \"26 Historic Buildings to Visit the Next Time You're in Paris\",\n",
       "  'link': 'https://www.britannica.com/list/26-historic-buildings-to-visit-the-next-time-youre-in-paris',\n",
       "  'redirect_link': 'https://www.google.com/url?sa=t&source=web&rct=j&opi=89978449&url=https://www.britannica.com/list/26-historic-buildings-to-visit-the-next-time-youre-in-paris&ved=2ahUKEwjHr-KZr7CHAxUkD1kFHc9ODNwQFnoECDcQAQ',\n",
       "  'displayed_link': 'https://www.britannica.com › List › Geography & Travel',\n",
       "  'thumbnail': 'https://encrypted-tbn0.gstatic.com/images?q=tbn:ANd9GcRkuHZ3xOTyWrwByESY0YCTpjpauFe4iuQaCJVPDzxrYGnVWD-O89lX&usqp=CAE&s',\n",
       "  'favicon': 'https://serpapi.com/searches/6698eccae4a23dcc9b271a5b/images/b82971cf6568ad27e2fa13ba6a1ef50fa9cd563b33a610034c28a80933934af1.png',\n",
       "  'snippet': \"26 Historic Buildings to Visit the Next Time You're in Paris · Notre-Dame de Paris · Hôtel de Soubise · Panthéon · Arc de Triomphe · Church of St. Mary ...\",\n",
       "  'snippet_highlighted_words': ['Historic Buildings', 'Paris', 'Paris'],\n",
       "  'source': 'Britannica'},\n",
       " {'position': 7,\n",
       "  'title': 'Must-See Landmarks & Historic Buildings | Paris Insiders ...',\n",
       "  'link': 'https://www.parisinsidersguide.com/paris-landmarks.html',\n",
       "  'redirect_link': 'https://www.google.com/url?sa=t&source=web&rct=j&opi=89978449&url=https://www.parisinsidersguide.com/paris-landmarks.html&ved=2ahUKEwjHr-KZr7CHAxUkD1kFHc9ODNwQFnoECDgQAQ',\n",
       "  'displayed_link': 'https://www.parisinsidersguide.com › paris-landmarks',\n",
       "  'thumbnail': 'https://encrypted-tbn0.gstatic.com/images?q=tbn:ANd9GcS_FdE6AjnEnmACM_CiMSDCiDLcMSnSmP1DhnEFojuVn-lFy5sKp9Xl&usqp=CAE&s',\n",
       "  'favicon': 'https://serpapi.com/searches/6698eccae4a23dcc9b271a5b/images/b82971cf6568ad27e2fa13ba6a1ef50f288dc6a365ee76d8b895d720ad931b73.png',\n",
       "  'snippet': \"Paris is rich in monuments and historic buildings. Here's a guide to make sure you don't miss the must-sees, incljuding how to visit them.\",\n",
       "  'snippet_highlighted_words': ['Paris', 'monuments', 'historic buildings'],\n",
       "  'source': 'Paris Insiders Guide'},\n",
       " {'position': 8,\n",
       "  'title': 'Top 10 of modern and contemporary architecture in Paris ...',\n",
       "  'link': 'https://www.visitparisregion.com/en/inspiration/top-experiences/10-modern-contemporary-architecture-to-see-in-paris-region',\n",
       "  'redirect_link': 'https://www.google.com/url?sa=t&source=web&rct=j&opi=89978449&url=https://www.visitparisregion.com/en/inspiration/top-experiences/10-modern-contemporary-architecture-to-see-in-paris-region&ved=2ahUKEwjHr-KZr7CHAxUkD1kFHc9ODNwQFnoECEEQAQ',\n",
       "  'displayed_link': 'https://www.visitparisregion.com › top-experiences › 1...',\n",
       "  'thumbnail': 'https://encrypted-tbn0.gstatic.com/images?q=tbn:ANd9GcSI581dCLccDaMuauSSsuPmRqjK0PP0TFdfdqVT3d4tYE5TNoY79e16&usqp=CAE&s',\n",
       "  'favicon': 'https://serpapi.com/searches/6698eccae4a23dcc9b271a5b/images/b82971cf6568ad27e2fa13ba6a1ef50f370b61cb503dd8a4f0a619157955bf15.png',\n",
       "  'snippet': 'Top 10 of modern and contemporary architecture in Paris Region · Fondation Louis Vuitton · Centre Pompidou · Villa Savoye · The Louvre Pyramid · Seine Musicale.',\n",
       "  'snippet_highlighted_words': ['architecture in Paris'],\n",
       "  'sitelinks': {'inline': [{'title': 'Fondation Louis Vuitton',\n",
       "     'link': 'https://www.visitparisregion.com/en/inspiration/top-experiences/10-modern-contemporary-architecture-to-see-in-paris-region#:~:text=Fondation%20Louis%20Vuitton,-A%20strange%2C%20ship%2D'},\n",
       "    {'title': 'Centre Pompidou',\n",
       "     'link': 'https://www.visitparisregion.com/en/inspiration/top-experiences/10-modern-contemporary-architecture-to-see-in-paris-region#:~:text=Centre%20Pompidou,-With%20its%20enormous%20coloured%20pipes'},\n",
       "    {'title': 'The Louvre Pyramid',\n",
       "     'link': 'https://www.visitparisregion.com/en/inspiration/top-experiences/10-modern-contemporary-architecture-to-see-in-paris-region#:~:text=The%20Louvre%20Pyramid,-Inaugurated%20in%201989%20as%20a'}]},\n",
       "  'source': 'VisitParisRegion'},\n",
       " {'position': 9,\n",
       "  'title': 'Paris Buildings: 25 Attractions to Gasp the French History',\n",
       "  'link': 'https://simplykalaa.com/paris-buildings/',\n",
       "  'redirect_link': 'https://www.google.com/url?sa=t&source=web&rct=j&opi=89978449&url=https://simplykalaa.com/paris-buildings/&ved=2ahUKEwjHr-KZr7CHAxUkD1kFHc9ODNwQFnoECEcQAQ',\n",
       "  'displayed_link': 'https://simplykalaa.com › paris-buildings',\n",
       "  'thumbnail': 'https://encrypted-tbn0.gstatic.com/images?q=tbn:ANd9GcRux5aN6J-toXr2Q1WXzzJd2UWrJN9Wu4zVUVaFs_4Yh2AE7fIJJqh8&usqp=CAE&s',\n",
       "  'favicon': 'https://serpapi.com/searches/6698eccae4a23dcc9b271a5b/images/b82971cf6568ad27e2fa13ba6a1ef50f641b9b98d4851131b4d682bf493ba672.png',\n",
       "  'date': 'Mar 6, 2023',\n",
       "  'snippet': 'The 25 Paris Buildings you must know: 1. Notre-Dame De Paris, 2. Palais de Justice, 3. Sauvage Building, 4. Sainte Chapelle, 5.',\n",
       "  'snippet_highlighted_words': ['Paris Buildings', 'Paris', 'Building'],\n",
       "  'sitelinks': {'inline': [{'title': 'Buildings In Paris That Hold...',\n",
       "     'link': 'https://simplykalaa.com/paris-buildings/#:~:text=Buildings%20in%20Paris%20That%20Hold%20Immense%20Value%20to%20Viewers%20and%20Architects.'},\n",
       "    {'title': '1. Notre-Dame De Paris',\n",
       "     'link': 'https://simplykalaa.com/paris-buildings/#:~:text=1.%20Notre%2DDame%20De%20Paris.'},\n",
       "    {'title': '5. Louvre Museum',\n",
       "     'link': 'https://simplykalaa.com/paris-buildings/#:~:text=5.%20Louvre%20Museum.'}]},\n",
       "  'missing': ['Cool'],\n",
       "  'must_include': {'word': 'Cool',\n",
       "   'link': 'https://www.google.com/search?sca_esv=dd658ebe249da3a3&sca_upv=1&q=%22Cool%22+buildings+in+Paris&sa=X&ved=2ahUKEwjHr-KZr7CHAxUkD1kFHc9ODNwQ5t4CegQIWhAB'},\n",
       "  'source': 'SimplyKalaa'}]"
      ]
     },
     "execution_count": 12,
     "metadata": {},
     "output_type": "execute_result"
    }
   ],
   "source": [
    "from langchain_core.tools import tool\n",
    "from serpapi import GoogleSearch\n",
    "\n",
    "serpapi_params = {\n",
    "    \"engine\": \"google\",\n",
    "    \"api_key\": os.environ[\"SERPAPI_KEY\"]\n",
    "}\n",
    "\n",
    "query = \"Cool buildings in Paris\"\n",
    "search = GoogleSearch({**serpapi_params, \"q\":query, \"n\": 3})\n",
    "search.get_dict()[\"organic_results\"]"
   ]
  },
  {
   "cell_type": "code",
   "execution_count": 13,
   "metadata": {},
   "outputs": [
    {
     "data": {
      "text/plain": [
       "\"25 Must-See Paris Landmarks\\nLocated on the Île de la Cité, a thin island in the Seine, Notre Dame de Paris is perhaps the most famous cathedral in the world. Characterized ...\\nhttps://www.architecturaldigest.com/gallery/paris-architectural-landmarks\\n---\\nTHE 10 BEST Paris Architectural Buildings (Updated 2024)\\nArchitectural Buildings in Paris · 1. Louvre Museum · 2. Cathédrale Notre-Dame de Paris · 3. Arc de Triomphe · 4. Palais Garnier · 5. Sainte- ...\\nhttps://www.tripadvisor.com/Attractions-g187147-Activities-c47-t3-Paris_Ile_de_France.html\\n---\\nParis City Guide: 23 Places Every Architect Must Visit\\n1. Centre Georges Pompidou ... Save this picture! ... Description: This is one of the most iconic buildings in Paris and houses the Musée National d ...\\nhttps://www.archdaily.com/922278/23-places-in-paris-every-architect-must-visit\\n---\\n22 of the Most Famous Buildings in Paris You Must See\\nMost Famous Buildings in Paris You Must See · 1. The Louvre Museum · 2. Notre-Dame Cathedral · 3. Basilica of the Sacré-Cœur · 4. The Palais ...\\nhttps://mariandthecity.com/most-famous-buildings-in-paris/\\n---\\nGoing to Paris soon, which buildings should I visit?\\nSainte-Chapelle is wonderful and centrally located, one of the finest bits of gothic architecture anywhere (as nice any cathedral, much more ...\\nhttps://www.reddit.com/r/architecture/comments/19830tq/going_to_paris_soon_which_buildings_should_i_visit/\\n---\\n26 Historic Buildings to Visit the Next Time You're in Paris\\n26 Historic Buildings to Visit the Next Time You're in Paris · Notre-Dame de Paris · Hôtel de Soubise · Panthéon · Arc de Triomphe · Church of St. Mary ...\\nhttps://www.britannica.com/list/26-historic-buildings-to-visit-the-next-time-youre-in-paris\\n---\\nMust-See Landmarks & Historic Buildings | Paris Insiders ...\\nParis is rich in monuments and historic buildings. Here's a guide to make sure you don't miss the must-sees, incljuding how to visit them.\\nhttps://www.parisinsidersguide.com/paris-landmarks.html\\n---\\nTop 10 of modern and contemporary architecture in Paris ...\\nTop 10 of modern and contemporary architecture in Paris Region · Fondation Louis Vuitton · Centre Pompidou · Villa Savoye · The Louvre Pyramid · Seine Musicale.\\nhttps://www.visitparisregion.com/en/inspiration/top-experiences/10-modern-contemporary-architecture-to-see-in-paris-region\\n---\\nParis Buildings: 25 Attractions to Gasp the French History\\nThe 25 Paris Buildings you must know: 1. Notre-Dame De Paris, 2. Palais de Justice, 3. Sauvage Building, 4. Sainte Chapelle, 5.\\nhttps://simplykalaa.com/paris-buildings/\""
      ]
     },
     "execution_count": 13,
     "metadata": {},
     "output_type": "execute_result"
    }
   ],
   "source": [
    "results = search.get_dict()[\"organic_results\"]\n",
    "contexts = \"\\n---\\n\".join(\n",
    "       [\"\\n\".join([x[\"title\"], x[\"snippet\"], x[\"link\"]]) for x in results]\n",
    "   )\n",
    "contexts"
   ]
  },
  {
   "cell_type": "code",
   "execution_count": 14,
   "metadata": {},
   "outputs": [
    {
     "data": {
      "text/plain": [
       "\"25 Must-See Paris Landmarks\\nLocated on the Île de la Cité, a thin island in the Seine, Notre Dame de Paris is perhaps the most famous cathedral in the world. Characterized ...\\nhttps://www.architecturaldigest.com/gallery/paris-architectural-landmarks\\n---\\nTHE 10 BEST Paris Architectural Buildings (Updated 2024)\\nArchitectural Buildings in Paris · 1. Louvre Museum · 2. Cathédrale Notre-Dame de Paris · 3. Arc de Triomphe · 4. Palais Garnier · 5. Sainte- ...\\nhttps://www.tripadvisor.com/Attractions-g187147-Activities-c47-t3-Paris_Ile_de_France.html\\n---\\nParis City Guide: 23 Places Every Architect Must Visit\\n1. Centre Georges Pompidou ... Save this picture! ... Description: This is one of the most iconic buildings in Paris and houses the Musée National d ...\\nhttps://www.archdaily.com/922278/23-places-in-paris-every-architect-must-visit\\n---\\n22 of the Most Famous Buildings in Paris You Must See\\nMost Famous Buildings in Paris You Must See · 1. The Louvre Museum · 2. Notre-Dame Cathedral · 3. Basilica of the Sacré-Cœur · 4. The Palais ...\\nhttps://mariandthecity.com/most-famous-buildings-in-paris/\\n---\\nGoing to Paris soon, which buildings should I visit?\\nSainte-Chapelle is wonderful and centrally located, one of the finest bits of gothic architecture anywhere (as nice any cathedral, much more ...\\nhttps://www.reddit.com/r/architecture/comments/19830tq/going_to_paris_soon_which_buildings_should_i_visit/\\n---\\n26 Historic Buildings to Visit the Next Time You're in Paris\\n26 Historic Buildings to Visit the Next Time You're in Paris · Notre-Dame de Paris · Hôtel de Soubise · Panthéon · Arc de Triomphe · Church of St. Mary ...\\nhttps://www.britannica.com/list/26-historic-buildings-to-visit-the-next-time-youre-in-paris\\n---\\nMust-See Landmarks & Historic Buildings | Paris Insiders ...\\nParis is rich in monuments and historic buildings. Here's a guide to make sure you don't miss the must-sees, incljuding how to visit them.\\nhttps://www.parisinsidersguide.com/paris-landmarks.html\\n---\\nTop 10 of modern and contemporary architecture in Paris ...\\nTop 10 of modern and contemporary architecture in Paris Region · Fondation Louis Vuitton · Centre Pompidou · Villa Savoye · The Louvre Pyramid · Seine Musicale.\\nhttps://www.visitparisregion.com/en/inspiration/top-experiences/10-modern-contemporary-architecture-to-see-in-paris-region\\n---\\nParis Buildings: 25 Attractions to Gasp the French History\\nThe 25 Paris Buildings you must know: 1. Notre-Dame De Paris, 2. Palais de Justice, 3. Sauvage Building, 4. Sainte Chapelle, 5.\\nhttps://simplykalaa.com/paris-buildings/\""
      ]
     },
     "execution_count": 14,
     "metadata": {},
     "output_type": "execute_result"
    }
   ],
   "source": [
    "@tool\n",
    "def web_search(query: str) -> str:\n",
    "    \"\"\"Finds general knowledge information using Google search. Can also be used\n",
    "    to augment more 'general' knowledge to a previous specialist query.\"\"\"\n",
    "    search = GoogleSearch({**serpapi_params, \"q\":query, \"n\": 3})\n",
    "    results = search.get_dict()[\"organic_results\"]\n",
    "    contexts = \"\\n---\\n\".join(\n",
    "         [\"\\n\".join([x[\"title\"], x[\"snippet\"], x[\"link\"]]) for x in results]\n",
    "        )\n",
    "    \n",
    "    return contexts\n",
    "\n",
    "web_search.invoke(\"Cool buildings in Paris\")"
   ]
  },
  {
   "cell_type": "code",
   "execution_count": 15,
   "metadata": {},
   "outputs": [
    {
     "data": {
      "text/plain": [
       "AIMessage(content='', additional_kwargs={'tool_calls': [{'id': 'call_AUIXIDFkQvKVzIbccS23BnX3', 'function': {'arguments': '{\"query\":\"cool buildings in Paris\"}', 'name': 'web_search'}, 'type': 'function'}]}, response_metadata={'token_usage': {'completion_tokens': 17, 'prompt_tokens': 91, 'total_tokens': 108}, 'model_name': 'gpt-4o', 'system_fingerprint': 'fp_c4e5b6fa31', 'finish_reason': 'tool_calls', 'logprobs': None}, id='run-f872ce55-7e51-4e55-8bf6-fa0c678f1fad-0', tool_calls=[{'name': 'web_search', 'args': {'query': 'cool buildings in Paris'}, 'id': 'call_AUIXIDFkQvKVzIbccS23BnX3'}])"
      ]
     },
     "execution_count": 15,
     "metadata": {},
     "output_type": "execute_result"
    }
   ],
   "source": [
    "llm_with_tool = llm.bind_tools([web_search])\n",
    "\n",
    "research_chain = prompt | llm_with_tool \n",
    "\n",
    "research_chain.invoke(\"What are the cool buildings in Paris?\")"
   ]
  },
  {
   "cell_type": "code",
   "execution_count": 16,
   "metadata": {},
   "outputs": [
    {
     "data": {
      "text/plain": [
       "AIMessage(content='', additional_kwargs={'tool_calls': [{'id': 'call_ygXHT4c9H9LUPe9hBpo9NpyW', 'function': {'arguments': '{\"query\":\"cool buildings in Paris\"}', 'name': 'web_search'}, 'type': 'function'}]}, response_metadata={'token_usage': {'completion_tokens': 17, 'prompt_tokens': 91, 'total_tokens': 108}, 'model_name': 'gpt-4o', 'system_fingerprint': 'fp_c4e5b6fa31', 'finish_reason': 'tool_calls', 'logprobs': None}, id='run-c3f01e05-4e7d-4afb-af26-ae8a68b8292b-0', tool_calls=[{'name': 'web_search', 'args': {'query': 'cool buildings in Paris'}, 'id': 'call_ygXHT4c9H9LUPe9hBpo9NpyW'}])"
      ]
     },
     "execution_count": 16,
     "metadata": {},
     "output_type": "execute_result"
    }
   ],
   "source": [
    "sample_search_result = research_chain.invoke(\"What are the cool buildings in Paris?\")\n",
    "sample_search_result"
   ]
  },
  {
   "cell_type": "code",
   "execution_count": 17,
   "metadata": {},
   "outputs": [
    {
     "data": {
      "text/plain": [
       "[{'name': 'web_search',\n",
       "  'args': {'query': 'cool buildings in Paris'},\n",
       "  'id': 'call_ygXHT4c9H9LUPe9hBpo9NpyW'}]"
      ]
     },
     "execution_count": 17,
     "metadata": {},
     "output_type": "execute_result"
    }
   ],
   "source": [
    "sample_search_result.tool_calls"
   ]
  },
  {
   "cell_type": "code",
   "execution_count": 18,
   "metadata": {},
   "outputs": [
    {
     "data": {
      "text/plain": [
       "{'query': 'cool buildings in Paris'}"
      ]
     },
     "execution_count": 18,
     "metadata": {},
     "output_type": "execute_result"
    }
   ],
   "source": [
    "sample_search_result.tool_calls[0]['args']"
   ]
  },
  {
   "cell_type": "code",
   "execution_count": 19,
   "metadata": {},
   "outputs": [
    {
     "data": {
      "text/plain": [
       "{'query': 'cool buildings in Paris'}"
      ]
     },
     "execution_count": 19,
     "metadata": {},
     "output_type": "execute_result"
    }
   ],
   "source": [
    "research_chain = prompt | llm_with_tool | (lambda x: x.tool_calls[0]['args'])\n",
    "\n",
    "research_chain.invoke(\"What are the cool buildings in Paris?\")"
   ]
  },
  {
   "cell_type": "code",
   "execution_count": 20,
   "metadata": {},
   "outputs": [
    {
     "data": {
      "text/plain": [
       "\"25 Must-See Paris Landmarks\\nLocated on the Île de la Cité, a thin island in the Seine, Notre Dame de Paris is perhaps the most famous cathedral in the world. Characterized ...\\nhttps://www.architecturaldigest.com/gallery/paris-architectural-landmarks\\n---\\nTHE 10 BEST Paris Architectural Buildings (Updated 2024)\\nArchitectural Buildings in Paris · 1. Louvre Museum · 2. Cathédrale Notre-Dame de Paris · 3. Arc de Triomphe · 4. Palais Garnier · 5. Sainte- ...\\nhttps://www.tripadvisor.com/Attractions-g187147-Activities-c47-t3-Paris_Ile_de_France.html\\n---\\nParis City Guide: 23 Places Every Architect Must Visit\\n1. Centre Georges Pompidou ... Save this picture! ... Description: This is one of the most iconic buildings in Paris and houses the Musée National d ...\\nhttps://www.archdaily.com/922278/23-places-in-paris-every-architect-must-visit\\n---\\n22 of the Most Famous Buildings in Paris You Must See\\nMost Famous Buildings in Paris You Must See · 1. The Louvre Museum · 2. Notre-Dame Cathedral · 3. Basilica of the Sacré-Cœur · 4. The Palais ...\\nhttps://mariandthecity.com/most-famous-buildings-in-paris/\\n---\\n26 Historic Buildings to Visit the Next Time You're in Paris\\n26 Historic Buildings to Visit the Next Time You're in Paris · Notre-Dame de Paris · Hôtel de Soubise · Panthéon · Arc de Triomphe · Church of St. Mary ...\\nhttps://www.britannica.com/list/26-historic-buildings-to-visit-the-next-time-youre-in-paris\\n---\\nMust-See Landmarks & Historic Buildings | Paris Insiders ...\\nParis is rich in monuments and historic buildings. Here's a guide to make sure you don't miss the must-sees, incljuding how to visit them.\\nhttps://www.parisinsidersguide.com/paris-landmarks.html\\n---\\nTop 10 of modern and contemporary architecture in Paris ...\\nTop 10 of modern and contemporary architecture in Paris Region · Fondation Louis Vuitton · Centre Pompidou · Villa Savoye · The Louvre Pyramid · Seine Musicale.\\nhttps://www.visitparisregion.com/en/inspiration/top-experiences/10-modern-contemporary-architecture-to-see-in-paris-region\\n---\\nThe 29 Most Beautiful Places in Paris\\n29 Beautiful Places in Paris Everyone Should Visit (at Least) Once · Père Lachaise Cemetery Paris. Pascale Gueret/Getty. Père Lachaise Cemetery.\\nhttps://www.cntraveler.com/gallery/the-25-most-beautiful-places-in-paris\\n---\\nParis Buildings: 25 Attractions to Gasp the French History\\nThe 25 Paris Buildings you must know: 1. Notre-Dame De Paris, 2. Palais de Justice, 3. Sauvage Building, 4. Sainte Chapelle, 5.\\nhttps://simplykalaa.com/paris-buildings/\""
      ]
     },
     "execution_count": 20,
     "metadata": {},
     "output_type": "execute_result"
    }
   ],
   "source": [
    "research_chain = prompt | llm_with_tool | (lambda x: x.tool_calls[0]['args']) | web_search\n",
    "\n",
    "research_chain.invoke(\"What are the cool buildings in Paris?\")"
   ]
  },
  {
   "cell_type": "code",
   "execution_count": 21,
   "metadata": {},
   "outputs": [
    {
     "data": {
      "text/plain": [
       "'Paris is home to numerous iconic and architecturally significant buildings. Here are some must-see landmarks:\\n\\n1. **Louvre Museum** - Famous for its art collection and the glass pyramid entrance.\\n2. **Notre-Dame Cathedral** - Renowned Gothic cathedral on Île de la Cité.\\n3. **Arc de Triomphe** - Monument honoring those who fought and died for France.\\n4. **Palais Garnier** - Opulent opera house.\\n5. **Sainte-Chapelle** - Known for its stunning stained glass windows.\\n6. **Centre Georges Pompidou** - Modern art museum with a unique architectural design.\\n7. **Basilica of the Sacré-Cœur** - White-domed basilica located at the highest point in the city.\\n8. **Fondation Louis Vuitton** - Contemporary art museum with striking modern architecture.\\n9. **Panthéon** - Mausoleum containing the remains of distinguished French citizens.\\n10. **Villa Savoye** - Iconic modernist villa designed by Le Corbusier.\\n\\nThese buildings showcase a mix of historical, modern, and contemporary architecture, making Paris a fascinating city for architecture enthusiasts.'"
      ]
     },
     "execution_count": 21,
     "metadata": {},
     "output_type": "execute_result"
    }
   ],
   "source": [
    "def fake_agent(query: str) -> str:\n",
    "    search_result = research_chain.invoke(\"What are the cool buildings in Paris?\")\n",
    "    fake_agent = llm.invoke(f\"The user query was: {query}. The web search result for\\\n",
    "        that is: {search_result}. Give a summarized answer:\")\n",
    "    \n",
    "    return fake_agent.content\n",
    "\n",
    "fake_agent(\"What are the cool buildings in Paris?\")"
   ]
  },
  {
   "cell_type": "code",
   "execution_count": 22,
   "metadata": {},
   "outputs": [
    {
     "data": {
      "text/plain": [
       "[ToolAgentAction(tool='web_search', tool_input={'query': 'cool buildings in Paris'}, log=\"\\nInvoking: `web_search` with `{'query': 'cool buildings in Paris'}`\\n\\n\\n\", message_log=[AIMessage(content='', additional_kwargs={'tool_calls': [{'id': 'call_mhFPgbbfJ8p31MYYkcoHJOBg', 'function': {'arguments': '{\"query\":\"cool buildings in Paris\"}', 'name': 'web_search'}, 'type': 'function'}]}, response_metadata={'token_usage': {'completion_tokens': 17, 'prompt_tokens': 87, 'total_tokens': 104}, 'model_name': 'gpt-4o', 'system_fingerprint': 'fp_c4e5b6fa31', 'finish_reason': 'tool_calls', 'logprobs': None}, id='run-3688d97e-592c-4fbb-90cc-44d756a63f02-0', tool_calls=[{'name': 'web_search', 'args': {'query': 'cool buildings in Paris'}, 'id': 'call_mhFPgbbfJ8p31MYYkcoHJOBg'}])], tool_call_id='call_mhFPgbbfJ8p31MYYkcoHJOBg')]"
      ]
     },
     "execution_count": 22,
     "metadata": {},
     "output_type": "execute_result"
    }
   ],
   "source": [
    "from langchain_core.runnables import RunnablePassthrough\n",
    "from langchain.agents.format_scratchpad.tools import format_to_tool_messages\n",
    "from langchain.agents.output_parsers.tools import ToolsAgentOutputParser\n",
    "\n",
    "prompt = ChatPromptTemplate.from_messages(\n",
    "    [\n",
    "    (\"system\", \"You are a helpful assistant\"),\n",
    "    (\"placeholder\", \"{chat_history}\"),\n",
    "    (\"human\", \"{input}\"),\n",
    "    (\"placeholder\", \"{agent_scratchpad}\")\n",
    "    ]\n",
    "                                          )\n",
    "\n",
    "llm = ChatOpenAI(model=\"gpt-4o\", temperature=0)\n",
    "\n",
    "tools = [web_search]\n",
    "\n",
    "llm_with_tools = llm.bind_tools(tools)\n",
    "\n",
    "research_agent = (\n",
    "                 RunnablePassthrough.assign(\n",
    "                    agent_scratchpad=lambda x: format_to_tool_messages(x['intermediate_steps'])\n",
    "                    )\n",
    ") | prompt | llm_with_tools | ToolsAgentOutputParser()\n",
    "\n",
    "research_agent.invoke({\"input\": \"What are the cool buildings in Paris?\", \"intermediate_steps\": []})"
   ]
  },
  {
   "cell_type": "code",
   "execution_count": 23,
   "metadata": {},
   "outputs": [
    {
     "data": {
      "text/plain": [
       "ChatPromptTemplate(input_variables=['input'], input_types={'chat_history': typing.List[typing.Union[langchain_core.messages.ai.AIMessage, langchain_core.messages.human.HumanMessage, langchain_core.messages.chat.ChatMessage, langchain_core.messages.system.SystemMessage, langchain_core.messages.function.FunctionMessage, langchain_core.messages.tool.ToolMessage]], 'agent_scratchpad': typing.List[typing.Union[langchain_core.messages.ai.AIMessage, langchain_core.messages.human.HumanMessage, langchain_core.messages.chat.ChatMessage, langchain_core.messages.system.SystemMessage, langchain_core.messages.function.FunctionMessage, langchain_core.messages.tool.ToolMessage]]}, partial_variables={'chat_history': [], 'agent_scratchpad': []}, messages=[SystemMessagePromptTemplate(prompt=PromptTemplate(input_variables=[], template='You are a helpful assistant')), MessagesPlaceholder(variable_name='chat_history', optional=True), HumanMessagePromptTemplate(prompt=PromptTemplate(input_variables=['input'], template='{input}')), MessagesPlaceholder(variable_name='agent_scratchpad', optional=True)])"
      ]
     },
     "execution_count": 23,
     "metadata": {},
     "output_type": "execute_result"
    }
   ],
   "source": [
    "prompt"
   ]
  },
  {
   "cell_type": "code",
   "execution_count": 24,
   "metadata": {},
   "outputs": [
    {
     "data": {
      "text/plain": [
       "{'input': 'What are cool buildings in Alicante Spain?',\n",
       " 'output': 'Alicante, Spain, is home to several cool and notable buildings. Here are some of the highlights:\\n\\n1. **Castle of Santa Bárbara**: A historic castle offering panoramic views of the city and the Mediterranean Sea.\\n2. **Casa Carbonell**: A remarkable architectural gem and historic building.\\n3. **The Town Hall (Ayuntamiento de Alicante)**: An impressive baroque building located in the city center.\\n4. **The Central Market (Mercado Central)**: A bustling market housed in a beautiful early 20th-century building.\\n5. **Teatro Principal**: The main theater in Alicante, known for its neoclassical architecture.\\n6. **Bullring (Plaza de Toros)**: A historic bullring that also hosts various events.\\n7. **Diputacion Provincial de Alicante**: Another notable building with significant architectural value.\\n8. **Archives Municipales**: The municipal archives housed in a historic building.\\n9. **Sarrio Tower**: A unique tower with historical significance.\\n10. **Oficina De Correos**: The main post office, known for its architectural design.\\n\\nThese buildings reflect the rich cultural and historical heritage of Alicante.'}"
      ]
     },
     "execution_count": 24,
     "metadata": {},
     "output_type": "execute_result"
    }
   ],
   "source": [
    "from langchain.agents import AgentExecutor\n",
    "agent_executor = AgentExecutor(agent=research_agent,tools=tools)\n",
    "agent_executor.invoke({'input': 'What are cool buildings in Alicante Spain?'})"
   ]
  },
  {
   "cell_type": "markdown",
   "metadata": {},
   "source": [
    "Wwe can automate part of this process by using a built in method in LangChain\n",
    "that abstracts away the chaining procedure."
   ]
  },
  {
   "cell_type": "code",
   "execution_count": 25,
   "metadata": {},
   "outputs": [
    {
     "data": {
      "text/plain": [
       "{'input': 'What are cool buildings in Alicante Spain?',\n",
       " 'output': \"Alicante, Spain, is home to several cool and notable buildings. Here are some of the highlights:\\n\\n1. **Castle of Santa Bárbara**: A historic castle offering panoramic views of the city and the Mediterranean Sea.\\n2. **Casa Carbonell**: A remarkable architectural gem and historic building.\\n3. **Diputacion Provincial de Alicante**: The provincial government building with impressive architecture.\\n4. **Archives Municipales**: The municipal archives housed in a notable building.\\n5. **Sarrio Tower**: A distinctive tower in the city.\\n6. **Oficina De Correos**: The main post office building with unique architectural features.\\n7. **The Town Hall**: An important civic building with historical significance.\\n8. **The Central Market**: A bustling market housed in a beautiful building.\\n9. **Teatro Principal**: The main theater in Alicante, known for its architectural beauty.\\n10. **Bullring (Plaza de Toros)**: A historic bullring that is a significant part of Alicante's cultural heritage.\\n\\nThese buildings reflect the rich architectural heritage and cultural history of Alicante.\"}"
      ]
     },
     "execution_count": 25,
     "metadata": {},
     "output_type": "execute_result"
    }
   ],
   "source": [
    "from langchain.agents import create_tool_calling_agent\n",
    "from langchain_openai import ChatOpenAI\n",
    "from langchain import hub\n",
    "\n",
    "llm = ChatOpenAI(model=\"gpt-4o\", temperature=0)\n",
    "tools = [web_search]\n",
    "prompt = hub.pull(\"hwchase17/openai-tools-agent\")\n",
    "agent = create_tool_calling_agent(llm, tools, prompt)\n",
    "\n",
    "agent_executor = AgentExecutor(agent=agent, tools=tools)\n",
    "agent_executor.invoke({'input': 'What are cool buildings in Alicante Spain?'})"
   ]
  },
  {
   "cell_type": "code",
   "execution_count": 26,
   "metadata": {},
   "outputs": [
    {
     "data": {
      "text/plain": [
       "ChatPromptTemplate(input_variables=['agent_scratchpad', 'input'], input_types={'chat_history': typing.List[typing.Union[langchain_core.messages.ai.AIMessage, langchain_core.messages.human.HumanMessage, langchain_core.messages.chat.ChatMessage, langchain_core.messages.system.SystemMessage, langchain_core.messages.function.FunctionMessage, langchain_core.messages.tool.ToolMessage]], 'agent_scratchpad': typing.List[typing.Union[langchain_core.messages.ai.AIMessage, langchain_core.messages.human.HumanMessage, langchain_core.messages.chat.ChatMessage, langchain_core.messages.system.SystemMessage, langchain_core.messages.function.FunctionMessage, langchain_core.messages.tool.ToolMessage]]}, metadata={'lc_hub_owner': 'hwchase17', 'lc_hub_repo': 'openai-tools-agent', 'lc_hub_commit_hash': 'c18672812789a3b9697656dd539edf0120285dcae36396d0b548ae42a4ed66f5'}, messages=[SystemMessagePromptTemplate(prompt=PromptTemplate(input_variables=[], template='You are a helpful assistant')), MessagesPlaceholder(variable_name='chat_history', optional=True), HumanMessagePromptTemplate(prompt=PromptTemplate(input_variables=['input'], template='{input}')), MessagesPlaceholder(variable_name='agent_scratchpad')])"
      ]
     },
     "execution_count": 26,
     "metadata": {},
     "output_type": "execute_result"
    }
   ],
   "source": [
    "prompt"
   ]
  }
 ],
 "metadata": {
  "kernelspec": {
   "display_name": "oreilly-agents",
   "language": "python",
   "name": "oreilly-agents"
  },
  "language_info": {
   "codemirror_mode": {
    "name": "ipython",
    "version": 3
   },
   "file_extension": ".py",
   "mimetype": "text/x-python",
   "name": "python",
   "nbconvert_exporter": "python",
   "pygments_lexer": "ipython3",
   "version": "3.11.9"
  }
 },
 "nbformat": 4,
 "nbformat_minor": 2
}
