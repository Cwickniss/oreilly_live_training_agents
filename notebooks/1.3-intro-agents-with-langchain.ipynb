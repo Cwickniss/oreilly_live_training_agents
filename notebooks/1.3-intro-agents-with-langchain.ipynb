{
 "cells": [
  {
   "cell_type": "code",
   "execution_count": 1,
   "metadata": {
    "execution": {
     "iopub.execute_input": "2024-07-18T12:07:53.081208Z",
     "iopub.status.busy": "2024-07-18T12:07:53.080878Z",
     "iopub.status.idle": "2024-07-18T12:07:53.086379Z",
     "shell.execute_reply": "2024-07-18T12:07:53.086117Z"
    }
   },
   "outputs": [],
   "source": [
    "!pip install langchain\n",
    "!pip install langchain-openai\n",
    "!pip install langchain-core"
   ]
  },
  {
   "cell_type": "code",
   "execution_count": 2,
   "metadata": {
    "execution": {
     "iopub.execute_input": "2024-07-18T12:07:53.088025Z",
     "iopub.status.busy": "2024-07-18T12:07:53.087914Z",
     "iopub.status.idle": "2024-07-18T12:07:53.089455Z",
     "shell.execute_reply": "2024-07-18T12:07:53.089268Z"
    }
   },
   "outputs": [],
   "source": [
    "# uncomment this if running locally\n",
    "# from dotenv import load_dotenv\n",
    "\n",
    "# load_dotenv()\n",
    "\n",
    "# Or if you are in Colab, uncoment below and add your api key\n",
    "import os\n",
    "os.environ[\"OPENAI_API_KEY\"] = \"your-api-key\""
   ]
  },
  {
   "cell_type": "markdown",
   "metadata": {},
   "source": [
    "# Common Sense Agent\n",
    "\n",
    "1. Model (large language model like ChatGPT, or Claude)\n",
    "2. Prompt (system message and the user input)\n",
    "3. Tool calling"
   ]
  },
  {
   "cell_type": "code",
   "execution_count": 3,
   "metadata": {
    "execution": {
     "iopub.execute_input": "2024-07-18T12:07:53.090666Z",
     "iopub.status.busy": "2024-07-18T12:07:53.090588Z",
     "iopub.status.idle": "2024-07-18T12:07:54.315056Z",
     "shell.execute_reply": "2024-07-18T12:07:54.314772Z"
    }
   },
   "outputs": [
    {
     "data": {
      "text/plain": [
       "AIMessage(content='Hello! How can I assist you today?', response_metadata={'token_usage': {'completion_tokens': 9, 'prompt_tokens': 8, 'total_tokens': 17}, 'model_name': 'gpt-4o-2024-05-13', 'system_fingerprint': 'fp_18cc0f1fa0', 'finish_reason': 'stop', 'logprobs': None}, id='run-4c866c8f-958e-45d7-bb89-50286c950997-0', usage_metadata={'input_tokens': 8, 'output_tokens': 9, 'total_tokens': 17})"
      ]
     },
     "execution_count": 3,
     "metadata": {},
     "output_type": "execute_result"
    }
   ],
   "source": [
    "from langchain_openai import ChatOpenAI\n",
    "import os\n",
    "# os.environ[\"OPENAI_API_KEY\"] = \"your openai api key\"\n",
    "llm = ChatOpenAI(model=\"gpt-4o\", temperature=0)\n",
    "\n",
    "llm.invoke(\"Hi\")"
   ]
  },
  {
   "cell_type": "code",
   "execution_count": 4,
   "metadata": {
    "execution": {
     "iopub.execute_input": "2024-07-18T12:07:54.329995Z",
     "iopub.status.busy": "2024-07-18T12:07:54.329883Z",
     "iopub.status.idle": "2024-07-18T12:07:54.332303Z",
     "shell.execute_reply": "2024-07-18T12:07:54.331957Z"
    }
   },
   "outputs": [],
   "source": [
    "from langchain.prompts import ChatPromptTemplate\n",
    "\n",
    "prompt = ChatPromptTemplate.from_template(\"Answer this question: {question} in bullet points. Output:\\n\")"
   ]
  },
  {
   "cell_type": "code",
   "execution_count": 5,
   "metadata": {
    "execution": {
     "iopub.execute_input": "2024-07-18T12:07:54.333532Z",
     "iopub.status.busy": "2024-07-18T12:07:54.333461Z",
     "iopub.status.idle": "2024-07-18T12:07:54.335405Z",
     "shell.execute_reply": "2024-07-18T12:07:54.335229Z"
    }
   },
   "outputs": [
    {
     "data": {
      "text/plain": [
       "ChatPromptTemplate(input_variables=['question'], messages=[HumanMessagePromptTemplate(prompt=PromptTemplate(input_variables=['question'], template='Answer this question: {question} in bullet points. Output:\\n'))])\n",
       "| ChatOpenAI(client=<openai.resources.chat.completions.Completions object at 0x10637abd0>, async_client=<openai.resources.chat.completions.AsyncCompletions object at 0x106573790>, model_name='gpt-4o', temperature=0.0, openai_api_key=SecretStr('**********'), openai_api_base='https://api.openai.com/v1', openai_proxy='')"
      ]
     },
     "execution_count": 5,
     "metadata": {},
     "output_type": "execute_result"
    }
   ],
   "source": [
    "chain = prompt | llm\n",
    "\n",
    "chain"
   ]
  },
  {
   "cell_type": "code",
   "execution_count": 6,
   "metadata": {
    "execution": {
     "iopub.execute_input": "2024-07-18T12:07:54.336548Z",
     "iopub.status.busy": "2024-07-18T12:07:54.336463Z",
     "iopub.status.idle": "2024-07-18T12:07:54.338253Z",
     "shell.execute_reply": "2024-07-18T12:07:54.338057Z"
    }
   },
   "outputs": [
    {
     "data": {
      "text/plain": [
       "langchain_core.runnables.base.RunnableSequence"
      ]
     },
     "execution_count": 6,
     "metadata": {},
     "output_type": "execute_result"
    }
   ],
   "source": [
    "type(chain)"
   ]
  },
  {
   "cell_type": "code",
   "execution_count": 7,
   "metadata": {
    "execution": {
     "iopub.execute_input": "2024-07-18T12:07:54.339494Z",
     "iopub.status.busy": "2024-07-18T12:07:54.339424Z",
     "iopub.status.idle": "2024-07-18T12:07:55.316024Z",
     "shell.execute_reply": "2024-07-18T12:07:55.315572Z"
    }
   },
   "outputs": [
    {
     "data": {
      "text/plain": [
       "AIMessage(content='- Whiskers\\n- Mittens\\n- Shadow\\n- Luna\\n- Simba\\n- Oliver\\n- Bella\\n- Charlie\\n- Max\\n- Daisy', response_metadata={'token_usage': {'completion_tokens': 32, 'prompt_tokens': 23, 'total_tokens': 55}, 'model_name': 'gpt-4o-2024-05-13', 'system_fingerprint': 'fp_c4e5b6fa31', 'finish_reason': 'stop', 'logprobs': None}, id='run-f0a8dc85-f6f7-4e25-9466-e06029c5a425-0', usage_metadata={'input_tokens': 23, 'output_tokens': 32, 'total_tokens': 55})"
      ]
     },
     "execution_count": 7,
     "metadata": {},
     "output_type": "execute_result"
    }
   ],
   "source": [
    "output = chain.invoke(\"Write down names of cats.\")\n",
    "output"
   ]
  },
  {
   "cell_type": "code",
   "execution_count": 8,
   "metadata": {
    "execution": {
     "iopub.execute_input": "2024-07-18T12:07:55.317446Z",
     "iopub.status.busy": "2024-07-18T12:07:55.317348Z",
     "iopub.status.idle": "2024-07-18T12:07:55.319317Z",
     "shell.execute_reply": "2024-07-18T12:07:55.319110Z"
    }
   },
   "outputs": [
    {
     "data": {
      "text/markdown": [
       "- Whiskers\n",
       "- Mittens\n",
       "- Shadow\n",
       "- Luna\n",
       "- Simba\n",
       "- Oliver\n",
       "- Bella\n",
       "- Charlie\n",
       "- Max\n",
       "- Daisy"
      ],
      "text/plain": [
       "<IPython.core.display.Markdown object>"
      ]
     },
     "execution_count": 8,
     "metadata": {},
     "output_type": "execute_result"
    }
   ],
   "source": [
    "from IPython.display import Markdown\n",
    "\n",
    "Markdown(output.content)"
   ]
  },
  {
   "cell_type": "code",
   "execution_count": 9,
   "metadata": {
    "execution": {
     "iopub.execute_input": "2024-07-18T12:07:55.320590Z",
     "iopub.status.busy": "2024-07-18T12:07:55.320513Z",
     "iopub.status.idle": "2024-07-18T12:07:56.694298Z",
     "shell.execute_reply": "2024-07-18T12:07:56.693618Z"
    }
   },
   "outputs": [
    {
     "data": {
      "text/plain": [
       "[{'position': 1,\n",
       "  'title': '25 Must-See Paris Landmarks',\n",
       "  'link': 'https://www.architecturaldigest.com/gallery/paris-architectural-landmarks',\n",
       "  'redirect_link': 'https://www.google.com/url?sa=t&source=web&rct=j&opi=89978449&url=https://www.architecturaldigest.com/gallery/paris-architectural-landmarks&ved=2ahUKEwjD2czuxrCHAxWaEFkFHf6ZDOUQFnoECBsQAQ',\n",
       "  'displayed_link': 'https://www.architecturaldigest.com › ... › travel',\n",
       "  'thumbnail': 'https://serpapi.com/searches/6699059bf8f5f77c7a8ee8c8/images/b82971cf6568ad27e2fa13ba6a1ef50fcedef7e58fe760b01529225406d3a2a2.jpeg',\n",
       "  'favicon': 'https://serpapi.com/searches/6699059bf8f5f77c7a8ee8c8/images/b82971cf6568ad27e2fa13ba6a1ef50f8f513dcefb7186a53f3be813729d0233.png',\n",
       "  'date': 'Feb 18, 2016',\n",
       "  'snippet': 'Located on the Île de la Cité, a thin island in the Seine, Notre Dame de Paris is perhaps the most famous cathedral in the world. Characterized ...',\n",
       "  'snippet_highlighted_words': ['Paris', 'famous'],\n",
       "  'source': 'Architectural Digest'},\n",
       " {'position': 2,\n",
       "  'title': 'THE 10 BEST Paris Architectural Buildings (Updated 2024)',\n",
       "  'link': 'https://www.tripadvisor.com/Attractions-g187147-Activities-c47-t3-Paris_Ile_de_France.html',\n",
       "  'redirect_link': 'https://www.google.com/url?sa=t&source=web&rct=j&opi=89978449&url=https://www.tripadvisor.com/Attractions-g187147-Activities-c47-t3-Paris_Ile_de_France.html&ved=2ahUKEwjD2czuxrCHAxWaEFkFHf6ZDOUQFnoECBkQAQ',\n",
       "  'displayed_link': 'https://www.tripadvisor.com › ... › Things to Do in Paris',\n",
       "  'thumbnail': 'https://serpapi.com/searches/6699059bf8f5f77c7a8ee8c8/images/b82971cf6568ad27e2fa13ba6a1ef50fa468a3705da2a91f138b3f75c6467fe6.jpeg',\n",
       "  'favicon': 'https://serpapi.com/searches/6699059bf8f5f77c7a8ee8c8/images/b82971cf6568ad27e2fa13ba6a1ef50f08c25ac7edcc829852259e946798da9e.png',\n",
       "  'snippet': 'Architectural Buildings in Paris · 1. Louvre Museum · 2. Cathédrale Notre-Dame de Paris · 3. Arc de Triomphe · 4. Palais Garnier · 5. Sainte- ...',\n",
       "  'snippet_highlighted_words': ['Architectural Buildings in Paris', 'Paris'],\n",
       "  'source': 'Tripadvisor'},\n",
       " {'position': 3,\n",
       "  'title': 'Paris City Guide: 23 Places Every Architect Must Visit',\n",
       "  'link': 'https://www.archdaily.com/922278/23-places-in-paris-every-architect-must-visit',\n",
       "  'redirect_link': 'https://www.google.com/url?sa=t&source=web&rct=j&opi=89978449&url=https://www.archdaily.com/922278/23-places-in-paris-every-architect-must-visit&ved=2ahUKEwjD2czuxrCHAxWaEFkFHf6ZDOUQFnoECDgQAQ',\n",
       "  'displayed_link': 'https://www.archdaily.com › Architecture City Guide',\n",
       "  'thumbnail': 'https://serpapi.com/searches/6699059bf8f5f77c7a8ee8c8/images/b82971cf6568ad27e2fa13ba6a1ef50feb9d8865f32a246009a13abbcf7cddc4.jpeg',\n",
       "  'favicon': 'https://serpapi.com/searches/6699059bf8f5f77c7a8ee8c8/images/b82971cf6568ad27e2fa13ba6a1ef50f370bde2573dcebfb5cbeece5c709c343.png',\n",
       "  'date': 'Aug 22, 2021',\n",
       "  'snippet': '1. Centre Georges Pompidou ... Save this picture! ... Description: This is one of the most iconic buildings in Paris and houses the Musée National d ...',\n",
       "  'snippet_highlighted_words': ['iconic buildings in Paris'],\n",
       "  'source': 'ArchDaily'},\n",
       " {'position': 4,\n",
       "  'title': '22 of the Most Famous Buildings in Paris You Must See',\n",
       "  'link': 'https://mariandthecity.com/most-famous-buildings-in-paris/',\n",
       "  'redirect_link': 'https://www.google.com/url?sa=t&source=web&rct=j&opi=89978449&url=https://mariandthecity.com/most-famous-buildings-in-paris/&ved=2ahUKEwjD2czuxrCHAxWaEFkFHf6ZDOUQFnoECDcQAQ',\n",
       "  'displayed_link': 'https://mariandthecity.com › All posts',\n",
       "  'thumbnail': 'https://encrypted-tbn0.gstatic.com/images?q=tbn:ANd9GcSHAuK0d7xQsFv88PODJqS2l7hmbzYgi_90momlo-ZI7ALMul5xj4OH&usqp=CAE&s',\n",
       "  'favicon': 'https://serpapi.com/searches/6699059bf8f5f77c7a8ee8c8/images/b82971cf6568ad27e2fa13ba6a1ef50f360e6da1bad1a49ccfdb85a04ee1d64c.png',\n",
       "  'date': 'Oct 8, 2023',\n",
       "  'snippet': 'Most Famous Buildings in Paris You Must See · 1. The Louvre Museum · 2. Notre-Dame Cathedral · 3. Basilica of the Sacré-Cœur · 4. The Palais ...',\n",
       "  'snippet_highlighted_words': ['Famous Buildings in Paris'],\n",
       "  'source': 'Mari and the City'},\n",
       " {'position': 5,\n",
       "  'title': 'Going to Paris soon, which buildings should I visit?',\n",
       "  'link': 'https://www.reddit.com/r/architecture/comments/19830tq/going_to_paris_soon_which_buildings_should_i_visit/',\n",
       "  'redirect_link': 'https://www.google.com/url?sa=t&source=web&rct=j&opi=89978449&url=https://www.reddit.com/r/architecture/comments/19830tq/going_to_paris_soon_which_buildings_should_i_visit/&ved=2ahUKEwjD2czuxrCHAxWaEFkFHf6ZDOUQFnoECEUQAQ',\n",
       "  'displayed_link': '30+ comments · 6 months ago',\n",
       "  'favicon': 'https://serpapi.com/searches/6699059bf8f5f77c7a8ee8c8/images/b82971cf6568ad27e2fa13ba6a1ef50fd34d337766ddad997ae2c567a8267e14.png',\n",
       "  'snippet': 'Sainte-Chapelle is wonderful and centrally located, one of the finest bits of gothic architecture anywhere (as nice any cathedral, much more ...',\n",
       "  'snippet_highlighted_words': ['architecture'],\n",
       "  'source': 'Reddit · r/architecture'},\n",
       " {'position': 6,\n",
       "  'title': \"26 Historic Buildings to Visit the Next Time You're in Paris\",\n",
       "  'link': 'https://www.britannica.com/list/26-historic-buildings-to-visit-the-next-time-youre-in-paris',\n",
       "  'redirect_link': 'https://www.google.com/url?sa=t&source=web&rct=j&opi=89978449&url=https://www.britannica.com/list/26-historic-buildings-to-visit-the-next-time-youre-in-paris&ved=2ahUKEwjD2czuxrCHAxWaEFkFHf6ZDOUQFnoECDUQAQ',\n",
       "  'displayed_link': 'https://www.britannica.com › List › Geography & Travel',\n",
       "  'thumbnail': 'https://encrypted-tbn0.gstatic.com/images?q=tbn:ANd9GcRkuHZ3xOTyWrwByESY0YCTpjpauFe4iuQaCJVPDzxrYGnVWD-O89lX&usqp=CAE&s',\n",
       "  'favicon': 'https://serpapi.com/searches/6699059bf8f5f77c7a8ee8c8/images/b82971cf6568ad27e2fa13ba6a1ef50fa9cd563b33a610034c28a80933934af1.png',\n",
       "  'snippet': \"26 Historic Buildings to Visit the Next Time You're in Paris · Notre-Dame de Paris · Hôtel de Soubise · Panthéon · Arc de Triomphe · Church of St. Mary ...\",\n",
       "  'snippet_highlighted_words': ['Historic Buildings', 'Paris', 'Paris'],\n",
       "  'source': 'Britannica'},\n",
       " {'position': 7,\n",
       "  'title': 'Must-See Landmarks & Historic Buildings | Paris Insiders ...',\n",
       "  'link': 'https://www.parisinsidersguide.com/paris-landmarks.html',\n",
       "  'redirect_link': 'https://www.google.com/url?sa=t&source=web&rct=j&opi=89978449&url=https://www.parisinsidersguide.com/paris-landmarks.html&ved=2ahUKEwjD2czuxrCHAxWaEFkFHf6ZDOUQFnoECDQQAQ',\n",
       "  'displayed_link': 'https://www.parisinsidersguide.com › paris-landmarks',\n",
       "  'thumbnail': 'https://encrypted-tbn0.gstatic.com/images?q=tbn:ANd9GcS_FdE6AjnEnmACM_CiMSDCiDLcMSnSmP1DhnEFojuVn-lFy5sKp9Xl&usqp=CAE&s',\n",
       "  'favicon': 'https://serpapi.com/searches/6699059bf8f5f77c7a8ee8c8/images/b82971cf6568ad27e2fa13ba6a1ef50f288dc6a365ee76d8b895d720ad931b73.png',\n",
       "  'snippet': \"Paris is rich in monuments and historic buildings. Here's a guide to make sure you don't miss the must-sees, incljuding how to visit them.\",\n",
       "  'snippet_highlighted_words': ['Paris', 'monuments', 'historic buildings'],\n",
       "  'source': 'Paris Insiders Guide'},\n",
       " {'position': 8,\n",
       "  'title': 'Top 10 of modern and contemporary architecture in Paris ...',\n",
       "  'link': 'https://www.visitparisregion.com/en/inspiration/top-experiences/10-modern-contemporary-architecture-to-see-in-paris-region',\n",
       "  'redirect_link': 'https://www.google.com/url?sa=t&source=web&rct=j&opi=89978449&url=https://www.visitparisregion.com/en/inspiration/top-experiences/10-modern-contemporary-architecture-to-see-in-paris-region&ved=2ahUKEwjD2czuxrCHAxWaEFkFHf6ZDOUQFnoECDYQAQ',\n",
       "  'displayed_link': 'https://www.visitparisregion.com › top-experiences › 1...',\n",
       "  'thumbnail': 'https://encrypted-tbn0.gstatic.com/images?q=tbn:ANd9GcSI581dCLccDaMuauSSsuPmRqjK0PP0TFdfdqVT3d4tYE5TNoY79e16&usqp=CAE&s',\n",
       "  'favicon': 'https://serpapi.com/searches/6699059bf8f5f77c7a8ee8c8/images/b82971cf6568ad27e2fa13ba6a1ef50f370b61cb503dd8a4f0a619157955bf15.png',\n",
       "  'snippet': 'Top 10 of modern and contemporary architecture in Paris Region · Fondation Louis Vuitton · Centre Pompidou · Villa Savoye · The Louvre Pyramid · Seine Musicale.',\n",
       "  'snippet_highlighted_words': ['architecture in Paris'],\n",
       "  'sitelinks': {'inline': [{'title': 'Fondation Louis Vuitton',\n",
       "     'link': 'https://www.visitparisregion.com/en/inspiration/top-experiences/10-modern-contemporary-architecture-to-see-in-paris-region#:~:text=Fondation%20Louis%20Vuitton,-A%20strange%2C%20ship%2D'},\n",
       "    {'title': 'Centre Pompidou',\n",
       "     'link': 'https://www.visitparisregion.com/en/inspiration/top-experiences/10-modern-contemporary-architecture-to-see-in-paris-region#:~:text=Centre%20Pompidou,-With%20its%20enormous%20coloured%20pipes'},\n",
       "    {'title': 'The Louvre Pyramid',\n",
       "     'link': 'https://www.visitparisregion.com/en/inspiration/top-experiences/10-modern-contemporary-architecture-to-see-in-paris-region#:~:text=The%20Louvre%20Pyramid,-Inaugurated%20in%201989%20as%20a'}]},\n",
       "  'source': 'VisitParisRegion'},\n",
       " {'position': 9,\n",
       "  'title': 'The 29 Most Beautiful Places in Paris',\n",
       "  'link': 'https://www.cntraveler.com/gallery/the-25-most-beautiful-places-in-paris',\n",
       "  'redirect_link': 'https://www.google.com/url?sa=t&source=web&rct=j&opi=89978449&url=https://www.cntraveler.com/gallery/the-25-most-beautiful-places-in-paris&ved=2ahUKEwjD2czuxrCHAxWaEFkFHf6ZDOUQFnoECDwQAQ',\n",
       "  'displayed_link': 'https://www.cntraveler.com › gallery › the-25-most-bea...',\n",
       "  'thumbnail': 'https://encrypted-tbn0.gstatic.com/images?q=tbn:ANd9GcRs1B2oDmV2N_EuKeUqynYF0o19AZvzfuEQ2sOLhumuAUrFnb6dCjpo&usqp=CAE&s',\n",
       "  'favicon': 'https://serpapi.com/searches/6699059bf8f5f77c7a8ee8c8/images/b82971cf6568ad27e2fa13ba6a1ef50f641b9b98d4851131b4d682bf493ba672.png',\n",
       "  'date': 'Oct 26, 2023',\n",
       "  'snippet': '29 Beautiful Places in Paris Everyone Should Visit (at Least) Once · Père Lachaise Cemetery Paris. Pascale Gueret/Getty. Père Lachaise Cemetery.',\n",
       "  'snippet_highlighted_words': ['Beautiful Places in Paris'],\n",
       "  'source': 'Condé Nast Traveler'}]"
      ]
     },
     "execution_count": 9,
     "metadata": {},
     "output_type": "execute_result"
    }
   ],
   "source": [
    "from langchain_core.tools import tool\n",
    "from serpapi import GoogleSearch\n",
    "\n",
    "serpapi_params = {\n",
    "    \"engine\": \"google\",\n",
    "    \"api_key\": os.environ[\"SERPAPI_KEY\"]\n",
    "}\n",
    "\n",
    "query = \"Cool buildings in Paris\"\n",
    "search = GoogleSearch({**serpapi_params, \"q\":query, \"n\": 3})\n",
    "search.get_dict()[\"organic_results\"]"
   ]
  },
  {
   "cell_type": "code",
   "execution_count": 10,
   "metadata": {
    "execution": {
     "iopub.execute_input": "2024-07-18T12:07:56.696849Z",
     "iopub.status.busy": "2024-07-18T12:07:56.696688Z",
     "iopub.status.idle": "2024-07-18T12:07:56.804710Z",
     "shell.execute_reply": "2024-07-18T12:07:56.803740Z"
    }
   },
   "outputs": [
    {
     "data": {
      "text/plain": [
       "\"25 Must-See Paris Landmarks\\nLocated on the Île de la Cité, a thin island in the Seine, Notre Dame de Paris is perhaps the most famous cathedral in the world. Characterized ...\\nhttps://www.architecturaldigest.com/gallery/paris-architectural-landmarks\\n---\\nTHE 10 BEST Paris Architectural Buildings (Updated 2024)\\nArchitectural Buildings in Paris · 1. Louvre Museum · 2. Cathédrale Notre-Dame de Paris · 3. Arc de Triomphe · 4. Palais Garnier · 5. Sainte- ...\\nhttps://www.tripadvisor.com/Attractions-g187147-Activities-c47-t3-Paris_Ile_de_France.html\\n---\\nParis City Guide: 23 Places Every Architect Must Visit\\n1. Centre Georges Pompidou ... Save this picture! ... Description: This is one of the most iconic buildings in Paris and houses the Musée National d ...\\nhttps://www.archdaily.com/922278/23-places-in-paris-every-architect-must-visit\\n---\\n22 of the Most Famous Buildings in Paris You Must See\\nMost Famous Buildings in Paris You Must See · 1. The Louvre Museum · 2. Notre-Dame Cathedral · 3. Basilica of the Sacré-Cœur · 4. The Palais ...\\nhttps://mariandthecity.com/most-famous-buildings-in-paris/\\n---\\nGoing to Paris soon, which buildings should I visit?\\nSainte-Chapelle is wonderful and centrally located, one of the finest bits of gothic architecture anywhere (as nice any cathedral, much more ...\\nhttps://www.reddit.com/r/architecture/comments/19830tq/going_to_paris_soon_which_buildings_should_i_visit/\\n---\\n26 Historic Buildings to Visit the Next Time You're in Paris\\n26 Historic Buildings to Visit the Next Time You're in Paris · Notre-Dame de Paris · Hôtel de Soubise · Panthéon · Arc de Triomphe · Church of St. Mary ...\\nhttps://www.britannica.com/list/26-historic-buildings-to-visit-the-next-time-youre-in-paris\\n---\\nMust-See Landmarks & Historic Buildings | Paris Insiders ...\\nParis is rich in monuments and historic buildings. Here's a guide to make sure you don't miss the must-sees, incljuding how to visit them.\\nhttps://www.parisinsidersguide.com/paris-landmarks.html\\n---\\nTop 10 of modern and contemporary architecture in Paris ...\\nTop 10 of modern and contemporary architecture in Paris Region · Fondation Louis Vuitton · Centre Pompidou · Villa Savoye · The Louvre Pyramid · Seine Musicale.\\nhttps://www.visitparisregion.com/en/inspiration/top-experiences/10-modern-contemporary-architecture-to-see-in-paris-region\\n---\\nThe 29 Most Beautiful Places in Paris\\n29 Beautiful Places in Paris Everyone Should Visit (at Least) Once · Père Lachaise Cemetery Paris. Pascale Gueret/Getty. Père Lachaise Cemetery.\\nhttps://www.cntraveler.com/gallery/the-25-most-beautiful-places-in-paris\""
      ]
     },
     "execution_count": 10,
     "metadata": {},
     "output_type": "execute_result"
    }
   ],
   "source": [
    "results = search.get_dict()[\"organic_results\"]\n",
    "contexts = \"\\n---\\n\".join(\n",
    "       [\"\\n\".join([x[\"title\"], x[\"snippet\"], x[\"link\"]]) for x in results]\n",
    "   )\n",
    "contexts"
   ]
  },
  {
   "cell_type": "code",
   "execution_count": 11,
   "metadata": {
    "execution": {
     "iopub.execute_input": "2024-07-18T12:07:56.814631Z",
     "iopub.status.busy": "2024-07-18T12:07:56.814420Z",
     "iopub.status.idle": "2024-07-18T12:07:56.956303Z",
     "shell.execute_reply": "2024-07-18T12:07:56.955900Z"
    }
   },
   "outputs": [
    {
     "data": {
      "text/plain": [
       "\"25 Must-See Paris Landmarks\\nLocated on the Île de la Cité, a thin island in the Seine, Notre Dame de Paris is perhaps the most famous cathedral in the world. Characterized ...\\nhttps://www.architecturaldigest.com/gallery/paris-architectural-landmarks\\n---\\nTHE 10 BEST Paris Architectural Buildings (Updated 2024)\\nArchitectural Buildings in Paris · 1. Louvre Museum · 2. Cathédrale Notre-Dame de Paris · 3. Arc de Triomphe · 4. Palais Garnier · 5. Sainte- ...\\nhttps://www.tripadvisor.com/Attractions-g187147-Activities-c47-t3-Paris_Ile_de_France.html\\n---\\nParis City Guide: 23 Places Every Architect Must Visit\\n1. Centre Georges Pompidou ... Save this picture! ... Description: This is one of the most iconic buildings in Paris and houses the Musée National d ...\\nhttps://www.archdaily.com/922278/23-places-in-paris-every-architect-must-visit\\n---\\n22 of the Most Famous Buildings in Paris You Must See\\nMost Famous Buildings in Paris You Must See · 1. The Louvre Museum · 2. Notre-Dame Cathedral · 3. Basilica of the Sacré-Cœur · 4. The Palais ...\\nhttps://mariandthecity.com/most-famous-buildings-in-paris/\\n---\\nGoing to Paris soon, which buildings should I visit?\\nSainte-Chapelle is wonderful and centrally located, one of the finest bits of gothic architecture anywhere (as nice any cathedral, much more ...\\nhttps://www.reddit.com/r/architecture/comments/19830tq/going_to_paris_soon_which_buildings_should_i_visit/\\n---\\n26 Historic Buildings to Visit the Next Time You're in Paris\\n26 Historic Buildings to Visit the Next Time You're in Paris · Notre-Dame de Paris · Hôtel de Soubise · Panthéon · Arc de Triomphe · Church of St. Mary ...\\nhttps://www.britannica.com/list/26-historic-buildings-to-visit-the-next-time-youre-in-paris\\n---\\nMust-See Landmarks & Historic Buildings | Paris Insiders ...\\nParis is rich in monuments and historic buildings. Here's a guide to make sure you don't miss the must-sees, incljuding how to visit them.\\nhttps://www.parisinsidersguide.com/paris-landmarks.html\\n---\\nTop 10 of modern and contemporary architecture in Paris ...\\nTop 10 of modern and contemporary architecture in Paris Region · Fondation Louis Vuitton · Centre Pompidou · Villa Savoye · The Louvre Pyramid · Seine Musicale.\\nhttps://www.visitparisregion.com/en/inspiration/top-experiences/10-modern-contemporary-architecture-to-see-in-paris-region\\n---\\nThe 29 Most Beautiful Places in Paris\\n29 Beautiful Places in Paris Everyone Should Visit (at Least) Once · Père Lachaise Cemetery Paris. Pascale Gueret/Getty. Père Lachaise Cemetery.\\nhttps://www.cntraveler.com/gallery/the-25-most-beautiful-places-in-paris\""
      ]
     },
     "execution_count": 11,
     "metadata": {},
     "output_type": "execute_result"
    }
   ],
   "source": [
    "@tool\n",
    "def web_search(query: str) -> str:\n",
    "    \"\"\"Finds general knowledge information using Google search. Can also be used\n",
    "    to augment more 'general' knowledge to a previous specialist query.\"\"\"\n",
    "    search = GoogleSearch({**serpapi_params, \"q\":query, \"n\": 3})\n",
    "    results = search.get_dict()[\"organic_results\"]\n",
    "    contexts = \"\\n---\\n\".join(\n",
    "         [\"\\n\".join([x[\"title\"], x[\"snippet\"], x[\"link\"]]) for x in results]\n",
    "        )\n",
    "    \n",
    "    return contexts\n",
    "\n",
    "web_search.invoke(\"Cool buildings in Paris\")"
   ]
  },
  {
   "cell_type": "code",
   "execution_count": 12,
   "metadata": {
    "execution": {
     "iopub.execute_input": "2024-07-18T12:07:56.958781Z",
     "iopub.status.busy": "2024-07-18T12:07:56.958609Z",
     "iopub.status.idle": "2024-07-18T12:07:57.792607Z",
     "shell.execute_reply": "2024-07-18T12:07:57.792046Z"
    }
   },
   "outputs": [
    {
     "data": {
      "text/plain": [
       "AIMessage(content='', additional_kwargs={'tool_calls': [{'id': 'call_UiQaEuRqmg8kRlbaRX4N1WpH', 'function': {'arguments': '{\"query\":\"cool buildings in Paris\"}', 'name': 'web_search'}, 'type': 'function'}]}, response_metadata={'token_usage': {'completion_tokens': 17, 'prompt_tokens': 82, 'total_tokens': 99}, 'model_name': 'gpt-4o-2024-05-13', 'system_fingerprint': 'fp_c4e5b6fa31', 'finish_reason': 'tool_calls', 'logprobs': None}, id='run-3d6c2934-e3d1-4161-9b38-67ae33033522-0', tool_calls=[{'name': 'web_search', 'args': {'query': 'cool buildings in Paris'}, 'id': 'call_UiQaEuRqmg8kRlbaRX4N1WpH', 'type': 'tool_call'}], usage_metadata={'input_tokens': 82, 'output_tokens': 17, 'total_tokens': 99})"
      ]
     },
     "execution_count": 12,
     "metadata": {},
     "output_type": "execute_result"
    }
   ],
   "source": [
    "llm_with_tool = llm.bind_tools([web_search])\n",
    "\n",
    "research_chain = prompt | llm_with_tool \n",
    "\n",
    "research_chain.invoke(\"What are the cool buildings in Paris?\")"
   ]
  },
  {
   "cell_type": "code",
   "execution_count": 13,
   "metadata": {
    "execution": {
     "iopub.execute_input": "2024-07-18T12:07:57.795761Z",
     "iopub.status.busy": "2024-07-18T12:07:57.795567Z",
     "iopub.status.idle": "2024-07-18T12:07:59.279686Z",
     "shell.execute_reply": "2024-07-18T12:07:59.279444Z"
    }
   },
   "outputs": [
    {
     "data": {
      "text/plain": [
       "AIMessage(content='', additional_kwargs={'tool_calls': [{'id': 'call_lOGEADkjce7NSnEeIR5bTnxb', 'function': {'arguments': '{\"query\":\"cool buildings in Paris\"}', 'name': 'web_search'}, 'type': 'function'}]}, response_metadata={'token_usage': {'completion_tokens': 17, 'prompt_tokens': 82, 'total_tokens': 99}, 'model_name': 'gpt-4o-2024-05-13', 'system_fingerprint': 'fp_c4e5b6fa31', 'finish_reason': 'tool_calls', 'logprobs': None}, id='run-758f5fca-53d1-48eb-97c2-750eae67dfbf-0', tool_calls=[{'name': 'web_search', 'args': {'query': 'cool buildings in Paris'}, 'id': 'call_lOGEADkjce7NSnEeIR5bTnxb', 'type': 'tool_call'}], usage_metadata={'input_tokens': 82, 'output_tokens': 17, 'total_tokens': 99})"
      ]
     },
     "execution_count": 13,
     "metadata": {},
     "output_type": "execute_result"
    }
   ],
   "source": [
    "sample_search_result = research_chain.invoke(\"What are the cool buildings in Paris?\")\n",
    "sample_search_result"
   ]
  },
  {
   "cell_type": "code",
   "execution_count": 14,
   "metadata": {
    "execution": {
     "iopub.execute_input": "2024-07-18T12:07:59.281067Z",
     "iopub.status.busy": "2024-07-18T12:07:59.280996Z",
     "iopub.status.idle": "2024-07-18T12:07:59.283089Z",
     "shell.execute_reply": "2024-07-18T12:07:59.282885Z"
    }
   },
   "outputs": [
    {
     "data": {
      "text/plain": [
       "[{'name': 'web_search',\n",
       "  'args': {'query': 'cool buildings in Paris'},\n",
       "  'id': 'call_lOGEADkjce7NSnEeIR5bTnxb',\n",
       "  'type': 'tool_call'}]"
      ]
     },
     "execution_count": 14,
     "metadata": {},
     "output_type": "execute_result"
    }
   ],
   "source": [
    "sample_search_result.tool_calls"
   ]
  },
  {
   "cell_type": "code",
   "execution_count": 15,
   "metadata": {
    "execution": {
     "iopub.execute_input": "2024-07-18T12:07:59.284496Z",
     "iopub.status.busy": "2024-07-18T12:07:59.284409Z",
     "iopub.status.idle": "2024-07-18T12:07:59.286393Z",
     "shell.execute_reply": "2024-07-18T12:07:59.286161Z"
    }
   },
   "outputs": [
    {
     "data": {
      "text/plain": [
       "{'query': 'cool buildings in Paris'}"
      ]
     },
     "execution_count": 15,
     "metadata": {},
     "output_type": "execute_result"
    }
   ],
   "source": [
    "sample_search_result.tool_calls[0]['args']"
   ]
  },
  {
   "cell_type": "code",
   "execution_count": 16,
   "metadata": {
    "execution": {
     "iopub.execute_input": "2024-07-18T12:07:59.287651Z",
     "iopub.status.busy": "2024-07-18T12:07:59.287568Z",
     "iopub.status.idle": "2024-07-18T12:08:00.608782Z",
     "shell.execute_reply": "2024-07-18T12:08:00.608043Z"
    }
   },
   "outputs": [
    {
     "data": {
      "text/plain": [
       "{'query': 'cool buildings in Paris'}"
      ]
     },
     "execution_count": 16,
     "metadata": {},
     "output_type": "execute_result"
    }
   ],
   "source": [
    "research_chain = prompt | llm_with_tool | (lambda x: x.tool_calls[0]['args'])\n",
    "\n",
    "research_chain.invoke(\"What are the cool buildings in Paris?\")"
   ]
  },
  {
   "cell_type": "code",
   "execution_count": 17,
   "metadata": {
    "execution": {
     "iopub.execute_input": "2024-07-18T12:08:00.613531Z",
     "iopub.status.busy": "2024-07-18T12:08:00.613260Z",
     "iopub.status.idle": "2024-07-18T12:08:05.199342Z",
     "shell.execute_reply": "2024-07-18T12:08:05.197954Z"
    }
   },
   "outputs": [
    {
     "data": {
      "text/plain": [
       "\"25 Must-See Paris Landmarks\\nLocated on the Île de la Cité, a thin island in the Seine, Notre Dame de Paris is perhaps the most famous cathedral in the world. Characterized ...\\nhttps://www.architecturaldigest.com/gallery/paris-architectural-landmarks\\n---\\nTHE 10 BEST Paris Architectural Buildings (Updated 2024)\\nArchitectural Buildings in Paris · 1. Louvre Museum · 2. Cathédrale Notre-Dame de Paris · 3. Arc de Triomphe · 4. Palais Garnier · 5. Sainte- ...\\nhttps://www.tripadvisor.com/Attractions-g187147-Activities-c47-t3-Paris_Ile_de_France.html\\n---\\nParis City Guide: 23 Places Every Architect Must Visit\\n1. Centre Georges Pompidou ... Save this picture! ... Description: This is one of the most iconic buildings in Paris and houses the Musée National d ...\\nhttps://www.archdaily.com/922278/23-places-in-paris-every-architect-must-visit\\n---\\n22 of the Most Famous Buildings in Paris You Must See\\nMost Famous Buildings in Paris You Must See · 1. The Louvre Museum · 2. Notre-Dame Cathedral · 3. Basilica of the Sacré-Cœur · 4. The Palais ...\\nhttps://mariandthecity.com/most-famous-buildings-in-paris/\\n---\\nGoing to Paris soon, which buildings should I visit?\\n19 votes, 36 comments. I'm set on going to Maison de Verre, if anyone knows some recommendations for in the city please let me know!\\nhttps://www.reddit.com/r/architecture/comments/19830tq/going_to_paris_soon_which_buildings_should_i_visit/\\n---\\n26 Historic Buildings to Visit the Next Time You're in Paris\\n26 Historic Buildings to Visit the Next Time You're in Paris · Notre-Dame de Paris · Hôtel de Soubise · Panthéon · Arc de Triomphe · Church of St. Mary ...\\nhttps://www.britannica.com/list/26-historic-buildings-to-visit-the-next-time-youre-in-paris\\n---\\nMust-See Landmarks & Historic Buildings | Paris Insiders ...\\nParis is rich in monuments and historic buildings. Here's a guide to make sure you don't miss the must-sees, incljuding how to visit them.\\nhttps://www.parisinsidersguide.com/paris-landmarks.html\\n---\\nTop 10 of modern and contemporary architecture in Paris ...\\nTop 10 of modern and contemporary architecture in Paris Region · Fondation Louis Vuitton · Centre Pompidou · Villa Savoye · The Louvre Pyramid · Seine Musicale.\\nhttps://www.visitparisregion.com/en/inspiration/top-experiences/10-modern-contemporary-architecture-to-see-in-paris-region\\n---\\nThe 29 Most Beautiful Places in Paris\\n29 Beautiful Places in Paris Everyone Should Visit (at Least) Once · Père Lachaise Cemetery Paris. Pascale Gueret/Getty. Père Lachaise Cemetery.\\nhttps://www.cntraveler.com/gallery/the-25-most-beautiful-places-in-paris\""
      ]
     },
     "execution_count": 17,
     "metadata": {},
     "output_type": "execute_result"
    }
   ],
   "source": [
    "research_chain = prompt | llm_with_tool | (lambda x: x.tool_calls[0]['args']) | web_search\n",
    "\n",
    "research_chain.invoke(\"What are the cool buildings in Paris?\")"
   ]
  },
  {
   "cell_type": "code",
   "execution_count": 18,
   "metadata": {
    "execution": {
     "iopub.execute_input": "2024-07-18T12:08:05.206171Z",
     "iopub.status.busy": "2024-07-18T12:08:05.205748Z",
     "iopub.status.idle": "2024-07-18T12:08:15.840422Z",
     "shell.execute_reply": "2024-07-18T12:08:15.838910Z"
    }
   },
   "outputs": [
    {
     "data": {
      "text/plain": [
       "'Paris is home to numerous iconic and beautiful buildings. Here are some must-see architectural landmarks:\\n\\n1. **Louvre Museum** - Famous for its art collection and the glass pyramid entrance.\\n2. **Notre-Dame Cathedral** - Renowned Gothic cathedral located on Île de la Cité.\\n3. **Arc de Triomphe** - Monument honoring those who fought and died for France.\\n4. **Palais Garnier** - Opulent opera house.\\n5. **Sainte-Chapelle** - Known for its stunning stained glass windows.\\n6. **Centre Georges Pompidou** - Modern art museum with a unique architectural design.\\n7. **Basilica of the Sacré-Cœur** - White-domed basilica located at the highest point in the city.\\n8. **Panthéon** - Mausoleum containing the remains of distinguished French citizens.\\n9. **Fondation Louis Vuitton** - Contemporary art museum with striking modern architecture.\\n10. **Villa Savoye** - Iconic modernist villa designed by Le Corbusier.\\n\\nThese buildings showcase a mix of historical and modern architecture, making Paris a fascinating city for architecture enthusiasts.'"
      ]
     },
     "execution_count": 18,
     "metadata": {},
     "output_type": "execute_result"
    }
   ],
   "source": [
    "def fake_agent(query: str) -> str:\n",
    "    search_result = research_chain.invoke(\"What are the cool buildings in Paris?\")\n",
    "    fake_agent = llm.invoke(f\"The user query was: {query}. The web search result for\\\n",
    "        that is: {search_result}. Give a summarized answer:\")\n",
    "    \n",
    "    return fake_agent.content\n",
    "\n",
    "fake_agent(\"What are the cool buildings in Paris?\")"
   ]
  },
  {
   "cell_type": "code",
   "execution_count": 27,
   "metadata": {
    "execution": {
     "iopub.execute_input": "2024-07-18T12:08:15.846620Z",
     "iopub.status.busy": "2024-07-18T12:08:15.846363Z",
     "iopub.status.idle": "2024-07-18T12:08:16.821654Z",
     "shell.execute_reply": "2024-07-18T12:08:16.820911Z"
    }
   },
   "outputs": [
    {
     "data": {
      "text/plain": [
       "[ToolAgentAction(tool='web_search', tool_input={'query': 'cool buildings in Paris'}, log=\"\\nInvoking: `web_search` with `{'query': 'cool buildings in Paris'}`\\n\\n\\n\", message_log=[AIMessage(content='', additional_kwargs={'tool_calls': [{'id': 'call_2CITYbhQK01ngDXpSrIhW65b', 'function': {'arguments': '{\"query\":\"cool buildings in Paris\"}', 'name': 'web_search'}, 'type': 'function'}]}, response_metadata={'token_usage': {'completion_tokens': 17, 'prompt_tokens': 87, 'total_tokens': 104}, 'model_name': 'gpt-4o', 'system_fingerprint': 'fp_c4e5b6fa31', 'finish_reason': 'tool_calls', 'logprobs': None}, id='run-30377ed5-2eaa-45fb-9cb8-b384ac3f1c68-0', tool_calls=[{'name': 'web_search', 'args': {'query': 'cool buildings in Paris'}, 'id': 'call_2CITYbhQK01ngDXpSrIhW65b'}])], tool_call_id='call_2CITYbhQK01ngDXpSrIhW65b')]"
      ]
     },
     "execution_count": 27,
     "metadata": {},
     "output_type": "execute_result"
    }
   ],
   "source": [
    "from langchain_core.runnables import RunnablePassthrough\n",
    "from langchain.agents.format_scratchpad.tools import format_to_tool_messages\n",
    "from langchain.agents.output_parsers.tools import ToolsAgentOutputParser\n",
    "\n",
    "prompt = ChatPromptTemplate.from_messages(\n",
    "    [\n",
    "    (\"system\", \"You are a helpful assistant\"),\n",
    "    (\"placeholder\", \"{chat_history}\"),\n",
    "    (\"human\", \"{input}\"),\n",
    "    (\"placeholder\", \"{agent_scratchpad}\")\n",
    "    ]\n",
    "                                          )\n",
    "\n",
    "llm = ChatOpenAI(model=\"gpt-4o\", temperature=0)\n",
    "\n",
    "tools = [web_search]\n",
    "\n",
    "llm_with_tools = llm.bind_tools(tools)\n",
    "\n",
    "research_agent = (\n",
    "                 RunnablePassthrough.assign(\n",
    "                    agent_scratchpad=lambda x: format_to_tool_messages(x['intermediate_steps'])\n",
    "                    )\n",
    ") | prompt | llm_with_tools | ToolsAgentOutputParser()\n",
    "\n",
    "research_agent.invoke({\"input\": \"What are the cool buildings in Paris?\", \"intermediate_steps\": []})"
   ]
  },
  {
   "cell_type": "code",
   "execution_count": 20,
   "metadata": {
    "execution": {
     "iopub.execute_input": "2024-07-18T12:08:16.824879Z",
     "iopub.status.busy": "2024-07-18T12:08:16.824699Z",
     "iopub.status.idle": "2024-07-18T12:08:16.827892Z",
     "shell.execute_reply": "2024-07-18T12:08:16.827520Z"
    }
   },
   "outputs": [
    {
     "data": {
      "text/plain": [
       "ChatPromptTemplate(input_variables=['input'], optional_variables=['agent_scratchpad', 'chat_history'], input_types={'chat_history': typing.List[typing.Union[langchain_core.messages.ai.AIMessage, langchain_core.messages.human.HumanMessage, langchain_core.messages.chat.ChatMessage, langchain_core.messages.system.SystemMessage, langchain_core.messages.function.FunctionMessage, langchain_core.messages.tool.ToolMessage]], 'agent_scratchpad': typing.List[typing.Union[langchain_core.messages.ai.AIMessage, langchain_core.messages.human.HumanMessage, langchain_core.messages.chat.ChatMessage, langchain_core.messages.system.SystemMessage, langchain_core.messages.function.FunctionMessage, langchain_core.messages.tool.ToolMessage]]}, partial_variables={'chat_history': [], 'agent_scratchpad': []}, messages=[SystemMessagePromptTemplate(prompt=PromptTemplate(input_variables=[], template='You are a helpful assistant')), MessagesPlaceholder(variable_name='chat_history', optional=True), HumanMessagePromptTemplate(prompt=PromptTemplate(input_variables=['input'], template='{input}')), MessagesPlaceholder(variable_name='agent_scratchpad', optional=True)])"
      ]
     },
     "execution_count": 20,
     "metadata": {},
     "output_type": "execute_result"
    }
   ],
   "source": [
    "prompt"
   ]
  },
  {
   "cell_type": "code",
   "execution_count": 21,
   "metadata": {
    "execution": {
     "iopub.execute_input": "2024-07-18T12:08:16.830341Z",
     "iopub.status.busy": "2024-07-18T12:08:16.830204Z",
     "iopub.status.idle": "2024-07-18T12:08:25.923747Z",
     "shell.execute_reply": "2024-07-18T12:08:25.921519Z"
    }
   },
   "outputs": [
    {
     "data": {
      "text/plain": [
       "{'input': 'What are cool buildings in Alicante Spain?',\n",
       " 'output': \"Alicante, Spain, is home to several cool and notable buildings. Here are some of the highlights:\\n\\n1. **Castle of Santa Bárbara**: A historic castle offering panoramic views of the city and the Mediterranean Sea.\\n2. **Casa Carbonell**: A remarkable architectural gem and historic building that stands as a testament to Alicante's rich heritage.\\n3. **The Town Hall (Ayuntamiento de Alicante)**: An impressive baroque building located in the heart of the city.\\n4. **The Central Market (Mercado Central)**: A bustling market housed in a beautiful early 20th-century building.\\n5. **Teatro Principal**: The main theater in Alicante, known for its neoclassical architecture.\\n6. **Bullring (Plaza de Toros)**: A historic bullring that is still in use today for various events.\\n7. **Diputacion Provincial de Alicante**: Another notable building with significant architectural value.\\n8. **Archives Municipales**: A building that houses important historical documents and exhibits.\\n9. **Sarrio Tower**: A unique and interesting structure in the city.\\n10. **Oficina De Correos**: The main post office building, known for its architectural design.\\n\\nThese buildings reflect the rich history and diverse architectural styles found in Alicante.\"}"
      ]
     },
     "execution_count": 21,
     "metadata": {},
     "output_type": "execute_result"
    }
   ],
   "source": [
    "from langchain.agents import AgentExecutor\n",
    "agent_executor = AgentExecutor(agent=research_agent,tools=tools)\n",
    "agent_executor.invoke({'input': 'What are cool buildings in Alicante Spain?'})"
   ]
  },
  {
   "cell_type": "markdown",
   "metadata": {},
   "source": [
    "Wwe can automate part of this process by using a built in method in LangChain\n",
    "that abstracts away the chaining procedure."
   ]
  },
  {
   "cell_type": "code",
   "execution_count": 22,
   "metadata": {
    "execution": {
     "iopub.execute_input": "2024-07-18T12:08:25.928941Z",
     "iopub.status.busy": "2024-07-18T12:08:25.928523Z",
     "iopub.status.idle": "2024-07-18T12:08:34.407486Z",
     "shell.execute_reply": "2024-07-18T12:08:34.404693Z"
    }
   },
   "outputs": [
    {
     "data": {
      "text/plain": [
       "{'input': 'What are cool buildings in Alicante Spain?',\n",
       " 'output': \"Alicante, Spain, is home to several cool and notable buildings. Here are some of the highlights:\\n\\n1. **Castle of Santa Bárbara**: A historic castle offering panoramic views of the city and the Mediterranean Sea.\\n2. **Casa Carbonell**: A remarkable architectural gem and historic building that stands as a testament to Alicante's rich heritage.\\n3. **The Town Hall (Ayuntamiento de Alicante)**: An impressive baroque building located in the heart of the city.\\n4. **The Central Market (Mercado Central)**: A bustling market housed in a beautiful early 20th-century building.\\n5. **Teatro Principal**: The main theater in Alicante, known for its neoclassical architecture.\\n6. **Bullring (Plaza de Toros)**: A historic bullring that is still in use today for various events.\\n7. **Diputacion Provincial de Alicante**: Another notable building with significant architectural value.\\n8. **Archives Municipales**: A building that houses important municipal archives.\\n9. **Sarrio Tower**: A unique and interesting structure in the city.\\n10. **Oficina De Correos**: The main post office building, known for its architectural design.\\n\\nThese buildings reflect a mix of historical and modern architectural styles, making Alicante a fascinating city for architecture enthusiasts.\"}"
      ]
     },
     "execution_count": 22,
     "metadata": {},
     "output_type": "execute_result"
    }
   ],
   "source": [
    "from langchain.agents import create_tool_calling_agent\n",
    "from langchain_openai import ChatOpenAI\n",
    "from langchain import hub\n",
    "\n",
    "llm = ChatOpenAI(model=\"gpt-4o\", temperature=0)\n",
    "\n",
    "tools = [web_search]\n",
    "\n",
    "prompt = hub.pull(\"hwchase17/openai-tools-agent\")\n",
    "\n",
    "agent = create_tool_calling_agent(llm, tools, prompt)\n",
    "\n",
    "agent_executor = AgentExecutor(agent=agent, tools=tools)\n",
    "\n",
    "agent_executor.invoke({'input': 'What are cool buildings in Alicante Spain?'})"
   ]
  },
  {
   "cell_type": "code",
   "execution_count": 23,
   "metadata": {
    "execution": {
     "iopub.execute_input": "2024-07-18T12:08:34.411059Z",
     "iopub.status.busy": "2024-07-18T12:08:34.410657Z",
     "iopub.status.idle": "2024-07-18T12:08:34.414332Z",
     "shell.execute_reply": "2024-07-18T12:08:34.413890Z"
    }
   },
   "outputs": [
    {
     "data": {
      "text/plain": [
       "ChatPromptTemplate(input_variables=['agent_scratchpad', 'input'], optional_variables=['chat_history'], input_types={'chat_history': typing.List[typing.Union[langchain_core.messages.ai.AIMessage, langchain_core.messages.human.HumanMessage, langchain_core.messages.chat.ChatMessage, langchain_core.messages.system.SystemMessage, langchain_core.messages.function.FunctionMessage, langchain_core.messages.tool.ToolMessage]], 'agent_scratchpad': typing.List[typing.Union[langchain_core.messages.ai.AIMessage, langchain_core.messages.human.HumanMessage, langchain_core.messages.chat.ChatMessage, langchain_core.messages.system.SystemMessage, langchain_core.messages.function.FunctionMessage, langchain_core.messages.tool.ToolMessage]]}, partial_variables={'chat_history': []}, metadata={'lc_hub_owner': 'hwchase17', 'lc_hub_repo': 'openai-tools-agent', 'lc_hub_commit_hash': 'c18672812789a3b9697656dd539edf0120285dcae36396d0b548ae42a4ed66f5'}, messages=[SystemMessagePromptTemplate(prompt=PromptTemplate(input_variables=[], template='You are a helpful assistant')), MessagesPlaceholder(variable_name='chat_history', optional=True), HumanMessagePromptTemplate(prompt=PromptTemplate(input_variables=['input'], template='{input}')), MessagesPlaceholder(variable_name='agent_scratchpad')])"
      ]
     },
     "execution_count": 23,
     "metadata": {},
     "output_type": "execute_result"
    }
   ],
   "source": [
    "prompt"
   ]
  }
 ],
 "metadata": {
  "kernelspec": {
   "display_name": "oreilly-agents",
   "language": "python",
   "name": "oreilly-agents"
  },
  "language_info": {
   "codemirror_mode": {
    "name": "ipython",
    "version": 3
   },
   "file_extension": ".py",
   "mimetype": "text/x-python",
   "name": "python",
   "nbconvert_exporter": "python",
   "pygments_lexer": "ipython3",
   "version": "3.11.9"
  }
 },
 "nbformat": 4,
 "nbformat_minor": 2
}
