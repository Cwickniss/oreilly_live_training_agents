{
 "cells": [
  {
   "cell_type": "markdown",
   "metadata": {},
   "source": [
    "Here the current options are:\n",
    "- Agent for desktop tasks\n",
    "- Agent for research\n",
    "- Agent for learning/skill development\n",
    "- Agent for knowledge management"
   ]
  }
 ],
 "metadata": {
  "language_info": {
   "name": "python"
  }
 },
 "nbformat": 4,
 "nbformat_minor": 2
}
