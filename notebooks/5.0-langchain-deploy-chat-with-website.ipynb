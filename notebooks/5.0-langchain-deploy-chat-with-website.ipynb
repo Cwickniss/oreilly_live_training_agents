{
 "cells": [
  {
   "cell_type": "code",
   "execution_count": 1,
   "metadata": {},
   "outputs": [
    {
     "name": "stdout",
     "output_type": "stream",
     "text": [
      "langchain-cli                            0.0.21\n"
     ]
    }
   ],
   "source": [
    "# !pip install -U langchain-cli"
   ]
  },
  {
   "cell_type": "markdown",
   "metadata": {},
   "source": [
    "Create the app"
   ]
  },
  {
   "cell_type": "code",
   "execution_count": 3,
   "metadata": {},
   "outputs": [
    {
     "name": "stdout",
     "output_type": "stream",
     "text": [
      "Would you like to install these templates into your environment with pip? [y/N]: Adding https://github.com/langchain-ai/langchain.git@master...\n",
      " - Downloaded templates/rag-chroma to rag-chroma\n",
      "Running: pip install -e \\\n",
      "  chat-with-pdf/packages/rag-chroma\n",
      "Obtaining file:///Users/greatmaster/Desktop/projects/oreilly-live-trainings/oreilly_live_training_agents/notebooks/chat-with-pdf/packages/rag-chroma\n",
      "  Installing build dependencies ... \u001b[?25ldone\n",
      "\u001b[?25h  Checking if build backend supports build_editable ... \u001b[?25ldone\n",
      "\u001b[?25h  Getting requirements to build editable ... \u001b[?25ldone\n",
      "\u001b[?25h  Preparing editable metadata (pyproject.toml) ... \u001b[?25ldone\n",
      "\u001b[?25hRequirement already satisfied: chromadb>=0.4.14 in /Users/greatmaster/miniconda3/envs/oreilly-langchain/lib/python3.11/site-packages (from rag-chroma==0.1.0) (0.4.19)\n",
      "Requirement already satisfied: langchain<0.2,>=0.1 in /Users/greatmaster/miniconda3/envs/oreilly-langchain/lib/python3.11/site-packages (from rag-chroma==0.1.0) (0.1.1)\n",
      "Requirement already satisfied: openai<2 in /Users/greatmaster/miniconda3/envs/oreilly-langchain/lib/python3.11/site-packages (from rag-chroma==0.1.0) (1.7.2)\n",
      "Requirement already satisfied: tiktoken>=0.5.1 in /Users/greatmaster/miniconda3/envs/oreilly-langchain/lib/python3.11/site-packages (from rag-chroma==0.1.0) (0.5.2)\n",
      "Requirement already satisfied: requests>=2.28 in /Users/greatmaster/miniconda3/envs/oreilly-langchain/lib/python3.11/site-packages (from chromadb>=0.4.14->rag-chroma==0.1.0) (2.31.0)\n",
      "Requirement already satisfied: pydantic>=1.9 in /Users/greatmaster/miniconda3/envs/oreilly-langchain/lib/python3.11/site-packages (from chromadb>=0.4.14->rag-chroma==0.1.0) (1.10.13)\n",
      "Requirement already satisfied: chroma-hnswlib==0.7.3 in /Users/greatmaster/miniconda3/envs/oreilly-langchain/lib/python3.11/site-packages (from chromadb>=0.4.14->rag-chroma==0.1.0) (0.7.3)\n",
      "Requirement already satisfied: fastapi>=0.95.2 in /Users/greatmaster/miniconda3/envs/oreilly-langchain/lib/python3.11/site-packages (from chromadb>=0.4.14->rag-chroma==0.1.0) (0.105.0)\n",
      "Requirement already satisfied: uvicorn>=0.18.3 in /Users/greatmaster/miniconda3/envs/oreilly-langchain/lib/python3.11/site-packages (from uvicorn[standard]>=0.18.3->chromadb>=0.4.14->rag-chroma==0.1.0) (0.23.2)\n",
      "Requirement already satisfied: numpy>=1.22.5 in /Users/greatmaster/miniconda3/envs/oreilly-langchain/lib/python3.11/site-packages (from chromadb>=0.4.14->rag-chroma==0.1.0) (1.26.2)\n",
      "Requirement already satisfied: posthog>=2.4.0 in /Users/greatmaster/miniconda3/envs/oreilly-langchain/lib/python3.11/site-packages (from chromadb>=0.4.14->rag-chroma==0.1.0) (3.1.0)\n",
      "Requirement already satisfied: typing-extensions>=4.5.0 in /Users/greatmaster/miniconda3/envs/oreilly-langchain/lib/python3.11/site-packages (from chromadb>=0.4.14->rag-chroma==0.1.0) (4.9.0)\n",
      "Requirement already satisfied: pulsar-client>=3.1.0 in /Users/greatmaster/miniconda3/envs/oreilly-langchain/lib/python3.11/site-packages (from chromadb>=0.4.14->rag-chroma==0.1.0) (3.3.0)\n",
      "Requirement already satisfied: onnxruntime>=1.14.1 in /Users/greatmaster/miniconda3/envs/oreilly-langchain/lib/python3.11/site-packages (from chromadb>=0.4.14->rag-chroma==0.1.0) (1.16.3)\n",
      "Requirement already satisfied: opentelemetry-api>=1.2.0 in /Users/greatmaster/miniconda3/envs/oreilly-langchain/lib/python3.11/site-packages (from chromadb>=0.4.14->rag-chroma==0.1.0) (1.21.0)\n",
      "Requirement already satisfied: opentelemetry-exporter-otlp-proto-grpc>=1.2.0 in /Users/greatmaster/miniconda3/envs/oreilly-langchain/lib/python3.11/site-packages (from chromadb>=0.4.14->rag-chroma==0.1.0) (1.21.0)\n",
      "Requirement already satisfied: opentelemetry-instrumentation-fastapi>=0.41b0 in /Users/greatmaster/miniconda3/envs/oreilly-langchain/lib/python3.11/site-packages (from chromadb>=0.4.14->rag-chroma==0.1.0) (0.42b0)\n",
      "Requirement already satisfied: opentelemetry-sdk>=1.2.0 in /Users/greatmaster/miniconda3/envs/oreilly-langchain/lib/python3.11/site-packages (from chromadb>=0.4.14->rag-chroma==0.1.0) (1.21.0)\n",
      "Requirement already satisfied: tokenizers>=0.13.2 in /Users/greatmaster/miniconda3/envs/oreilly-langchain/lib/python3.11/site-packages (from chromadb>=0.4.14->rag-chroma==0.1.0) (0.15.0)\n",
      "Requirement already satisfied: pypika>=0.48.9 in /Users/greatmaster/miniconda3/envs/oreilly-langchain/lib/python3.11/site-packages (from chromadb>=0.4.14->rag-chroma==0.1.0) (0.48.9)\n",
      "Requirement already satisfied: tqdm>=4.65.0 in /Users/greatmaster/miniconda3/envs/oreilly-langchain/lib/python3.11/site-packages (from chromadb>=0.4.14->rag-chroma==0.1.0) (4.66.1)\n",
      "Requirement already satisfied: overrides>=7.3.1 in /Users/greatmaster/miniconda3/envs/oreilly-langchain/lib/python3.11/site-packages (from chromadb>=0.4.14->rag-chroma==0.1.0) (7.4.0)\n",
      "Requirement already satisfied: importlib-resources in /Users/greatmaster/miniconda3/envs/oreilly-langchain/lib/python3.11/site-packages (from chromadb>=0.4.14->rag-chroma==0.1.0) (6.1.1)\n",
      "Requirement already satisfied: grpcio>=1.58.0 in /Users/greatmaster/miniconda3/envs/oreilly-langchain/lib/python3.11/site-packages (from chromadb>=0.4.14->rag-chroma==0.1.0) (1.60.0)\n",
      "Requirement already satisfied: bcrypt>=4.0.1 in /Users/greatmaster/miniconda3/envs/oreilly-langchain/lib/python3.11/site-packages (from chromadb>=0.4.14->rag-chroma==0.1.0) (4.1.1)\n",
      "Requirement already satisfied: typer>=0.9.0 in /Users/greatmaster/miniconda3/envs/oreilly-langchain/lib/python3.11/site-packages (from chromadb>=0.4.14->rag-chroma==0.1.0) (0.9.0)\n",
      "Requirement already satisfied: kubernetes>=28.1.0 in /Users/greatmaster/miniconda3/envs/oreilly-langchain/lib/python3.11/site-packages (from chromadb>=0.4.14->rag-chroma==0.1.0) (28.1.0)\n",
      "Requirement already satisfied: tenacity>=8.2.3 in /Users/greatmaster/miniconda3/envs/oreilly-langchain/lib/python3.11/site-packages (from chromadb>=0.4.14->rag-chroma==0.1.0) (8.2.3)\n",
      "Requirement already satisfied: PyYAML>=6.0.0 in /Users/greatmaster/miniconda3/envs/oreilly-langchain/lib/python3.11/site-packages (from chromadb>=0.4.14->rag-chroma==0.1.0) (6.0.1)\n",
      "Requirement already satisfied: mmh3>=4.0.1 in /Users/greatmaster/miniconda3/envs/oreilly-langchain/lib/python3.11/site-packages (from chromadb>=0.4.14->rag-chroma==0.1.0) (4.0.1)\n",
      "Requirement already satisfied: SQLAlchemy<3,>=1.4 in /Users/greatmaster/miniconda3/envs/oreilly-langchain/lib/python3.11/site-packages (from langchain<0.2,>=0.1->rag-chroma==0.1.0) (2.0.23)\n",
      "Requirement already satisfied: aiohttp<4.0.0,>=3.8.3 in /Users/greatmaster/miniconda3/envs/oreilly-langchain/lib/python3.11/site-packages (from langchain<0.2,>=0.1->rag-chroma==0.1.0) (3.9.1)\n",
      "Requirement already satisfied: dataclasses-json<0.7,>=0.5.7 in /Users/greatmaster/miniconda3/envs/oreilly-langchain/lib/python3.11/site-packages (from langchain<0.2,>=0.1->rag-chroma==0.1.0) (0.6.3)\n",
      "Requirement already satisfied: jsonpatch<2.0,>=1.33 in /Users/greatmaster/miniconda3/envs/oreilly-langchain/lib/python3.11/site-packages (from langchain<0.2,>=0.1->rag-chroma==0.1.0) (1.33)\n",
      "Requirement already satisfied: langchain-community<0.1,>=0.0.13 in /Users/greatmaster/miniconda3/envs/oreilly-langchain/lib/python3.11/site-packages (from langchain<0.2,>=0.1->rag-chroma==0.1.0) (0.0.13)\n",
      "Requirement already satisfied: langchain-core<0.2,>=0.1.9 in /Users/greatmaster/miniconda3/envs/oreilly-langchain/lib/python3.11/site-packages (from langchain<0.2,>=0.1->rag-chroma==0.1.0) (0.1.10)\n",
      "Requirement already satisfied: langsmith<0.1.0,>=0.0.77 in /Users/greatmaster/miniconda3/envs/oreilly-langchain/lib/python3.11/site-packages (from langchain<0.2,>=0.1->rag-chroma==0.1.0) (0.0.81)\n",
      "Requirement already satisfied: anyio<5,>=3.5.0 in /Users/greatmaster/miniconda3/envs/oreilly-langchain/lib/python3.11/site-packages (from openai<2->rag-chroma==0.1.0) (3.7.1)\n",
      "Requirement already satisfied: distro<2,>=1.7.0 in /Users/greatmaster/miniconda3/envs/oreilly-langchain/lib/python3.11/site-packages (from openai<2->rag-chroma==0.1.0) (1.8.0)\n",
      "Requirement already satisfied: httpx<1,>=0.23.0 in /Users/greatmaster/miniconda3/envs/oreilly-langchain/lib/python3.11/site-packages (from openai<2->rag-chroma==0.1.0) (0.25.2)\n",
      "Requirement already satisfied: sniffio in /Users/greatmaster/miniconda3/envs/oreilly-langchain/lib/python3.11/site-packages (from openai<2->rag-chroma==0.1.0) (1.3.0)\n",
      "Requirement already satisfied: regex>=2022.1.18 in /Users/greatmaster/miniconda3/envs/oreilly-langchain/lib/python3.11/site-packages (from tiktoken>=0.5.1->rag-chroma==0.1.0) (2023.10.3)\n",
      "Requirement already satisfied: attrs>=17.3.0 in /Users/greatmaster/miniconda3/envs/oreilly-langchain/lib/python3.11/site-packages (from aiohttp<4.0.0,>=3.8.3->langchain<0.2,>=0.1->rag-chroma==0.1.0) (23.1.0)\n",
      "Requirement already satisfied: multidict<7.0,>=4.5 in /Users/greatmaster/miniconda3/envs/oreilly-langchain/lib/python3.11/site-packages (from aiohttp<4.0.0,>=3.8.3->langchain<0.2,>=0.1->rag-chroma==0.1.0) (6.0.4)\n",
      "Requirement already satisfied: yarl<2.0,>=1.0 in /Users/greatmaster/miniconda3/envs/oreilly-langchain/lib/python3.11/site-packages (from aiohttp<4.0.0,>=3.8.3->langchain<0.2,>=0.1->rag-chroma==0.1.0) (1.9.4)\n",
      "Requirement already satisfied: frozenlist>=1.1.1 in /Users/greatmaster/miniconda3/envs/oreilly-langchain/lib/python3.11/site-packages (from aiohttp<4.0.0,>=3.8.3->langchain<0.2,>=0.1->rag-chroma==0.1.0) (1.4.0)\n",
      "Requirement already satisfied: aiosignal>=1.1.2 in /Users/greatmaster/miniconda3/envs/oreilly-langchain/lib/python3.11/site-packages (from aiohttp<4.0.0,>=3.8.3->langchain<0.2,>=0.1->rag-chroma==0.1.0) (1.3.1)\n",
      "Requirement already satisfied: idna>=2.8 in /Users/greatmaster/miniconda3/envs/oreilly-langchain/lib/python3.11/site-packages (from anyio<5,>=3.5.0->openai<2->rag-chroma==0.1.0) (3.6)\n",
      "Requirement already satisfied: marshmallow<4.0.0,>=3.18.0 in /Users/greatmaster/miniconda3/envs/oreilly-langchain/lib/python3.11/site-packages (from dataclasses-json<0.7,>=0.5.7->langchain<0.2,>=0.1->rag-chroma==0.1.0) (3.20.1)\n",
      "Requirement already satisfied: typing-inspect<1,>=0.4.0 in /Users/greatmaster/miniconda3/envs/oreilly-langchain/lib/python3.11/site-packages (from dataclasses-json<0.7,>=0.5.7->langchain<0.2,>=0.1->rag-chroma==0.1.0) (0.9.0)\n",
      "Requirement already satisfied: starlette<0.28.0,>=0.27.0 in /Users/greatmaster/miniconda3/envs/oreilly-langchain/lib/python3.11/site-packages (from fastapi>=0.95.2->chromadb>=0.4.14->rag-chroma==0.1.0) (0.27.0)\n",
      "Requirement already satisfied: certifi in /Users/greatmaster/miniconda3/envs/oreilly-langchain/lib/python3.11/site-packages (from httpx<1,>=0.23.0->openai<2->rag-chroma==0.1.0) (2023.11.17)\n",
      "Requirement already satisfied: httpcore==1.* in /Users/greatmaster/miniconda3/envs/oreilly-langchain/lib/python3.11/site-packages (from httpx<1,>=0.23.0->openai<2->rag-chroma==0.1.0) (1.0.2)\n",
      "Requirement already satisfied: h11<0.15,>=0.13 in /Users/greatmaster/miniconda3/envs/oreilly-langchain/lib/python3.11/site-packages (from httpcore==1.*->httpx<1,>=0.23.0->openai<2->rag-chroma==0.1.0) (0.14.0)\n",
      "Requirement already satisfied: jsonpointer>=1.9 in /Users/greatmaster/miniconda3/envs/oreilly-langchain/lib/python3.11/site-packages (from jsonpatch<2.0,>=1.33->langchain<0.2,>=0.1->rag-chroma==0.1.0) (2.4)\n",
      "Requirement already satisfied: six>=1.9.0 in /Users/greatmaster/miniconda3/envs/oreilly-langchain/lib/python3.11/site-packages (from kubernetes>=28.1.0->chromadb>=0.4.14->rag-chroma==0.1.0) (1.16.0)\n",
      "Requirement already satisfied: python-dateutil>=2.5.3 in /Users/greatmaster/miniconda3/envs/oreilly-langchain/lib/python3.11/site-packages (from kubernetes>=28.1.0->chromadb>=0.4.14->rag-chroma==0.1.0) (2.8.2)\n",
      "Requirement already satisfied: google-auth>=1.0.1 in /Users/greatmaster/miniconda3/envs/oreilly-langchain/lib/python3.11/site-packages (from kubernetes>=28.1.0->chromadb>=0.4.14->rag-chroma==0.1.0) (2.25.2)\n",
      "Requirement already satisfied: websocket-client!=0.40.0,!=0.41.*,!=0.42.*,>=0.32.0 in /Users/greatmaster/miniconda3/envs/oreilly-langchain/lib/python3.11/site-packages (from kubernetes>=28.1.0->chromadb>=0.4.14->rag-chroma==0.1.0) (1.7.0)\n",
      "Requirement already satisfied: requests-oauthlib in /Users/greatmaster/miniconda3/envs/oreilly-langchain/lib/python3.11/site-packages (from kubernetes>=28.1.0->chromadb>=0.4.14->rag-chroma==0.1.0) (1.3.1)\n",
      "Requirement already satisfied: oauthlib>=3.2.2 in /Users/greatmaster/miniconda3/envs/oreilly-langchain/lib/python3.11/site-packages (from kubernetes>=28.1.0->chromadb>=0.4.14->rag-chroma==0.1.0) (3.2.2)\n",
      "Requirement already satisfied: urllib3<2.0,>=1.24.2 in /Users/greatmaster/miniconda3/envs/oreilly-langchain/lib/python3.11/site-packages (from kubernetes>=28.1.0->chromadb>=0.4.14->rag-chroma==0.1.0) (1.26.18)\n",
      "Requirement already satisfied: packaging<24.0,>=23.2 in /Users/greatmaster/miniconda3/envs/oreilly-langchain/lib/python3.11/site-packages (from langchain-core<0.2,>=0.1.9->langchain<0.2,>=0.1->rag-chroma==0.1.0) (23.2)\n",
      "Requirement already satisfied: coloredlogs in /Users/greatmaster/miniconda3/envs/oreilly-langchain/lib/python3.11/site-packages (from onnxruntime>=1.14.1->chromadb>=0.4.14->rag-chroma==0.1.0) (15.0.1)\n",
      "Requirement already satisfied: flatbuffers in /Users/greatmaster/miniconda3/envs/oreilly-langchain/lib/python3.11/site-packages (from onnxruntime>=1.14.1->chromadb>=0.4.14->rag-chroma==0.1.0) (23.5.26)\n",
      "Requirement already satisfied: protobuf in /Users/greatmaster/miniconda3/envs/oreilly-langchain/lib/python3.11/site-packages (from onnxruntime>=1.14.1->chromadb>=0.4.14->rag-chroma==0.1.0) (4.25.1)\n",
      "Requirement already satisfied: sympy in /Users/greatmaster/miniconda3/envs/oreilly-langchain/lib/python3.11/site-packages (from onnxruntime>=1.14.1->chromadb>=0.4.14->rag-chroma==0.1.0) (1.12)\n",
      "Requirement already satisfied: deprecated>=1.2.6 in /Users/greatmaster/miniconda3/envs/oreilly-langchain/lib/python3.11/site-packages (from opentelemetry-api>=1.2.0->chromadb>=0.4.14->rag-chroma==0.1.0) (1.2.14)\n",
      "Requirement already satisfied: importlib-metadata<7.0,>=6.0 in /Users/greatmaster/miniconda3/envs/oreilly-langchain/lib/python3.11/site-packages (from opentelemetry-api>=1.2.0->chromadb>=0.4.14->rag-chroma==0.1.0) (6.11.0)\n",
      "Requirement already satisfied: backoff<3.0.0,>=1.10.0 in /Users/greatmaster/miniconda3/envs/oreilly-langchain/lib/python3.11/site-packages (from opentelemetry-exporter-otlp-proto-grpc>=1.2.0->chromadb>=0.4.14->rag-chroma==0.1.0) (2.2.1)\n",
      "Requirement already satisfied: googleapis-common-protos~=1.52 in /Users/greatmaster/miniconda3/envs/oreilly-langchain/lib/python3.11/site-packages (from opentelemetry-exporter-otlp-proto-grpc>=1.2.0->chromadb>=0.4.14->rag-chroma==0.1.0) (1.62.0)\n",
      "Requirement already satisfied: opentelemetry-exporter-otlp-proto-common==1.21.0 in /Users/greatmaster/miniconda3/envs/oreilly-langchain/lib/python3.11/site-packages (from opentelemetry-exporter-otlp-proto-grpc>=1.2.0->chromadb>=0.4.14->rag-chroma==0.1.0) (1.21.0)\n",
      "Requirement already satisfied: opentelemetry-proto==1.21.0 in /Users/greatmaster/miniconda3/envs/oreilly-langchain/lib/python3.11/site-packages (from opentelemetry-exporter-otlp-proto-grpc>=1.2.0->chromadb>=0.4.14->rag-chroma==0.1.0) (1.21.0)\n",
      "Requirement already satisfied: opentelemetry-instrumentation-asgi==0.42b0 in /Users/greatmaster/miniconda3/envs/oreilly-langchain/lib/python3.11/site-packages (from opentelemetry-instrumentation-fastapi>=0.41b0->chromadb>=0.4.14->rag-chroma==0.1.0) (0.42b0)\n",
      "Requirement already satisfied: opentelemetry-instrumentation==0.42b0 in /Users/greatmaster/miniconda3/envs/oreilly-langchain/lib/python3.11/site-packages (from opentelemetry-instrumentation-fastapi>=0.41b0->chromadb>=0.4.14->rag-chroma==0.1.0) (0.42b0)\n",
      "Requirement already satisfied: opentelemetry-semantic-conventions==0.42b0 in /Users/greatmaster/miniconda3/envs/oreilly-langchain/lib/python3.11/site-packages (from opentelemetry-instrumentation-fastapi>=0.41b0->chromadb>=0.4.14->rag-chroma==0.1.0) (0.42b0)\n",
      "Requirement already satisfied: opentelemetry-util-http==0.42b0 in /Users/greatmaster/miniconda3/envs/oreilly-langchain/lib/python3.11/site-packages (from opentelemetry-instrumentation-fastapi>=0.41b0->chromadb>=0.4.14->rag-chroma==0.1.0) (0.42b0)\n",
      "Requirement already satisfied: setuptools>=16.0 in /Users/greatmaster/miniconda3/envs/oreilly-langchain/lib/python3.11/site-packages (from opentelemetry-instrumentation==0.42b0->opentelemetry-instrumentation-fastapi>=0.41b0->chromadb>=0.4.14->rag-chroma==0.1.0) (68.0.0)\n",
      "Requirement already satisfied: wrapt<2.0.0,>=1.0.0 in /Users/greatmaster/miniconda3/envs/oreilly-langchain/lib/python3.11/site-packages (from opentelemetry-instrumentation==0.42b0->opentelemetry-instrumentation-fastapi>=0.41b0->chromadb>=0.4.14->rag-chroma==0.1.0) (1.16.0)\n",
      "Requirement already satisfied: asgiref~=3.0 in /Users/greatmaster/miniconda3/envs/oreilly-langchain/lib/python3.11/site-packages (from opentelemetry-instrumentation-asgi==0.42b0->opentelemetry-instrumentation-fastapi>=0.41b0->chromadb>=0.4.14->rag-chroma==0.1.0) (3.7.2)\n",
      "Requirement already satisfied: monotonic>=1.5 in /Users/greatmaster/miniconda3/envs/oreilly-langchain/lib/python3.11/site-packages (from posthog>=2.4.0->chromadb>=0.4.14->rag-chroma==0.1.0) (1.6)\n",
      "Requirement already satisfied: charset-normalizer<4,>=2 in /Users/greatmaster/miniconda3/envs/oreilly-langchain/lib/python3.11/site-packages (from requests>=2.28->chromadb>=0.4.14->rag-chroma==0.1.0) (3.3.2)\n",
      "Requirement already satisfied: huggingface_hub<1.0,>=0.16.4 in /Users/greatmaster/miniconda3/envs/oreilly-langchain/lib/python3.11/site-packages (from tokenizers>=0.13.2->chromadb>=0.4.14->rag-chroma==0.1.0) (0.19.4)\n",
      "Requirement already satisfied: click<9.0.0,>=7.1.1 in /Users/greatmaster/miniconda3/envs/oreilly-langchain/lib/python3.11/site-packages (from typer>=0.9.0->chromadb>=0.4.14->rag-chroma==0.1.0) (8.1.7)\n",
      "Requirement already satisfied: httptools>=0.5.0 in /Users/greatmaster/miniconda3/envs/oreilly-langchain/lib/python3.11/site-packages (from uvicorn[standard]>=0.18.3->chromadb>=0.4.14->rag-chroma==0.1.0) (0.6.1)\n",
      "Requirement already satisfied: python-dotenv>=0.13 in /Users/greatmaster/miniconda3/envs/oreilly-langchain/lib/python3.11/site-packages (from uvicorn[standard]>=0.18.3->chromadb>=0.4.14->rag-chroma==0.1.0) (1.0.0)\n",
      "Requirement already satisfied: uvloop!=0.15.0,!=0.15.1,>=0.14.0 in /Users/greatmaster/miniconda3/envs/oreilly-langchain/lib/python3.11/site-packages (from uvicorn[standard]>=0.18.3->chromadb>=0.4.14->rag-chroma==0.1.0) (0.19.0)\n",
      "Requirement already satisfied: watchfiles>=0.13 in /Users/greatmaster/miniconda3/envs/oreilly-langchain/lib/python3.11/site-packages (from uvicorn[standard]>=0.18.3->chromadb>=0.4.14->rag-chroma==0.1.0) (0.21.0)\n",
      "Requirement already satisfied: websockets>=10.4 in /Users/greatmaster/miniconda3/envs/oreilly-langchain/lib/python3.11/site-packages (from uvicorn[standard]>=0.18.3->chromadb>=0.4.14->rag-chroma==0.1.0) (12.0)\n",
      "Requirement already satisfied: cachetools<6.0,>=2.0.0 in /Users/greatmaster/miniconda3/envs/oreilly-langchain/lib/python3.11/site-packages (from google-auth>=1.0.1->kubernetes>=28.1.0->chromadb>=0.4.14->rag-chroma==0.1.0) (5.3.2)\n",
      "Requirement already satisfied: pyasn1-modules>=0.2.1 in /Users/greatmaster/miniconda3/envs/oreilly-langchain/lib/python3.11/site-packages (from google-auth>=1.0.1->kubernetes>=28.1.0->chromadb>=0.4.14->rag-chroma==0.1.0) (0.3.0)\n",
      "Requirement already satisfied: rsa<5,>=3.1.4 in /Users/greatmaster/miniconda3/envs/oreilly-langchain/lib/python3.11/site-packages (from google-auth>=1.0.1->kubernetes>=28.1.0->chromadb>=0.4.14->rag-chroma==0.1.0) (4.9)\n",
      "Requirement already satisfied: filelock in /Users/greatmaster/miniconda3/envs/oreilly-langchain/lib/python3.11/site-packages (from huggingface_hub<1.0,>=0.16.4->tokenizers>=0.13.2->chromadb>=0.4.14->rag-chroma==0.1.0) (3.13.1)\n",
      "Requirement already satisfied: fsspec>=2023.5.0 in /Users/greatmaster/miniconda3/envs/oreilly-langchain/lib/python3.11/site-packages (from huggingface_hub<1.0,>=0.16.4->tokenizers>=0.13.2->chromadb>=0.4.14->rag-chroma==0.1.0) (2023.12.2)\n",
      "Requirement already satisfied: zipp>=0.5 in /Users/greatmaster/miniconda3/envs/oreilly-langchain/lib/python3.11/site-packages (from importlib-metadata<7.0,>=6.0->opentelemetry-api>=1.2.0->chromadb>=0.4.14->rag-chroma==0.1.0) (3.17.0)\n",
      "Requirement already satisfied: mypy-extensions>=0.3.0 in /Users/greatmaster/miniconda3/envs/oreilly-langchain/lib/python3.11/site-packages (from typing-inspect<1,>=0.4.0->dataclasses-json<0.7,>=0.5.7->langchain<0.2,>=0.1->rag-chroma==0.1.0) (1.0.0)\n",
      "Requirement already satisfied: humanfriendly>=9.1 in /Users/greatmaster/miniconda3/envs/oreilly-langchain/lib/python3.11/site-packages (from coloredlogs->onnxruntime>=1.14.1->chromadb>=0.4.14->rag-chroma==0.1.0) (10.0)\n",
      "Requirement already satisfied: mpmath>=0.19 in /Users/greatmaster/miniconda3/envs/oreilly-langchain/lib/python3.11/site-packages (from sympy->onnxruntime>=1.14.1->chromadb>=0.4.14->rag-chroma==0.1.0) (1.3.0)\n",
      "Requirement already satisfied: pyasn1<0.6.0,>=0.4.6 in /Users/greatmaster/miniconda3/envs/oreilly-langchain/lib/python3.11/site-packages (from pyasn1-modules>=0.2.1->google-auth>=1.0.1->kubernetes>=28.1.0->chromadb>=0.4.14->rag-chroma==0.1.0) (0.5.1)\n",
      "Building wheels for collected packages: rag-chroma\n",
      "  Building editable for rag-chroma (pyproject.toml) ... \u001b[?25ldone\n",
      "\u001b[?25h  Created wheel for rag-chroma: filename=rag_chroma-0.1.0-py3-none-any.whl size=2903 sha256=145eb68c06d281f0a69c4fe3ba15eb20e4ab04e92af14667149aee98e52fa074\n",
      "  Stored in directory: /private/var/folders/5l/y8s3fc655417629rqwgxkhx80000gn/T/pip-ephem-wheel-cache-1xd9tszb/wheels/ab/82/84/353726914d2db0738fdfea77afdc6c7d1b03b64399bfacda3d\n",
      "Successfully built rag-chroma\n",
      "Installing collected packages: rag-chroma\n",
      "  Attempting uninstall: rag-chroma\n",
      "    Found existing installation: rag-chroma 0.1.0\n",
      "    Uninstalling rag-chroma-0.1.0:\n",
      "      Successfully uninstalled rag-chroma-0.1.0\n",
      "Successfully installed rag-chroma-0.1.0\n",
      "\n",
      "To use this template, add the following to your app:\n",
      "\n",
      "```\n",
      "\n",
      "from rag_chroma import chain as rag_chroma_chain\n",
      "\n",
      "add_routes(app, rag_chroma_chain, path=\"/rag-chroma\")\n",
      "```\n",
      "yes: stdout: Broken pipe\n"
     ]
    }
   ],
   "source": [
    "!yes|langchain app new chat-with-pdf --package rag-chroma"
   ]
  },
  {
   "cell_type": "markdown",
   "metadata": {},
   "source": [
    "Find the `/app/server.py` file and add:\n",
    "\n",
    "```\n",
    "from rag_conversation import chain as rag_chroma_chain\n",
    "\n",
    "add_routes(app, rag_chroma_chain, path=\"/rag-chroma\")\n",
    "```"
   ]
  },
  {
   "cell_type": "markdown",
   "metadata": {},
   "source": [
    "Optionally you can configure langsmith:\n",
    "\n",
    "```\n",
    "export LANGCHAIN_TRACING_V2=true\n",
    "export LANGCHAIN_API_KEY=<your-api-key>\n",
    "export LANGCHAIN_PROJECT=<your-project>  # if not specified, defaults to \"default\"\n",
    "```"
   ]
  },
  {
   "cell_type": "markdown",
   "metadata": {},
   "source": [
    "Now, let's add some data to chat with!\n",
    "\n",
    "For that let's open the chain.py file that was created in `/packages/rag-chroma/rag-chroma/chain.py`\n",
    "\n",
    "Let's modify it to accept data releavnt to us, in our case let's set up a chat with a blog article about agents:\n",
    "\n",
    "- https://lilianweng.github.io/posts/2023-06-23-agent/"
   ]
  },
  {
   "cell_type": "markdown",
   "metadata": {},
   "source": [
    "```\n",
    "from langchain_community.document_loaders import WebBaseLoader\n",
    "loader = WebBaseLoader(\"https://lilianweng.github.io/posts/2023-06-23-agent/\")\n",
    "data = loader.load()\n",
    "\n",
    "# Split\n",
    "from langchain.text_splitter import RecursiveCharacterTextSplitter\n",
    "text_splitter = RecursiveCharacterTextSplitter(chunk_size=500, chunk_overlap=0)\n",
    "all_splits = text_splitter.split_documents(data)\n",
    "\n",
    "# Add to vectorDB\n",
    "vectorstore = Chroma.from_documents(documents=all_splits, \n",
    "                                    collection_name=\"rag-chroma\",\n",
    "                                    embedding=OpenAIEmbeddings(),\n",
    "                                    )\n",
    "retriever = vectorstore.as_retriever()\n",
    "```\n",
    "\n",
    "The rest of the code should remain the same."
   ]
  },
  {
   "cell_type": "markdown",
   "metadata": {},
   "source": [
    "Now, we can deploy our app:"
   ]
  },
  {
   "cell_type": "code",
   "execution_count": 6,
   "metadata": {},
   "outputs": [
    {
     "name": "stdout",
     "output_type": "stream",
     "text": [
      "\u001b[32mINFO\u001b[0m:     Will watch for changes in these directories: ['/Users/greatmaster/Desktop/projects/oreilly-live-trainings/oreilly_live_training_agents/notebooks/chat-with-pdf']\n",
      "\u001b[32mINFO\u001b[0m:     Uvicorn running on \u001b[1mhttp://127.0.0.1:8000\u001b[0m (Press CTRL+C to quit)\n",
      "\u001b[32mINFO\u001b[0m:     Started reloader process [\u001b[36m\u001b[1m4574\u001b[0m] using \u001b[36m\u001b[1mWatchFiles\u001b[0m\n",
      "/Users/greatmaster/miniconda3/envs/oreilly-langchain/lib/python3.11/site-packages/langchain_core/_api/deprecation.py:117: LangChainDeprecationWarning: The class `langchain_community.embeddings.openai.OpenAIEmbeddings` was deprecated in langchain-community 0.1.0 and will be removed in 0.2.0. An updated version of the class exists in the langchain-openai package and should be used instead. To use it run `pip install -U langchain-openai` and import as `from langchain_openai import OpenAIEmbeddings`.\n",
      "  warn_deprecated(\n",
      "/Users/greatmaster/miniconda3/envs/oreilly-langchain/lib/python3.11/site-packages/langchain_core/_api/deprecation.py:117: LangChainDeprecationWarning: The class `langchain_community.chat_models.openai.ChatOpenAI` was deprecated in langchain-community 0.0.10 and will be removed in 0.2.0. An updated version of the class exists in the langchain-openai package and should be used instead. To use it run `pip install -U langchain-openai` and import as `from langchain_openai import ChatOpenAI`.\n",
      "  warn_deprecated(\n",
      "\u001b[32mINFO\u001b[0m:     Started server process [\u001b[36m4578\u001b[0m]\n",
      "\u001b[32mINFO\u001b[0m:     Waiting for application startup.\n",
      "\n",
      " __          ___      .__   __.   _______      _______. _______ .______     ____    ____  _______\n",
      "|  |        /   \\     |  \\ |  |  /  _____|    /       ||   ____||   _  \\    \\   \\  /   / |   ____|\n",
      "|  |       /  ^  \\    |   \\|  | |  |  __     |   (----`|  |__   |  |_)  |    \\   \\/   /  |  |__\n",
      "|  |      /  /_\\  \\   |  . `  | |  | |_ |     \\   \\    |   __|  |      /      \\      /   |   __|\n",
      "|  `----./  _____  \\  |  |\\   | |  |__| | .----)   |   |  |____ |  |\\  \\----.  \\    /    |  |____\n",
      "|_______/__/     \\__\\ |__| \\__|  \\______| |_______/    |_______|| _| `._____|   \\__/     |_______|\n",
      "\n",
      "\u001b[1;32;40mLANGSERVE:\u001b[0m Playground for chain \"/rag-chroma/\" is live at:\n",
      "\u001b[1;32;40mLANGSERVE:\u001b[0m  │\n",
      "\u001b[1;32;40mLANGSERVE:\u001b[0m  └──> /rag-chroma/playground/\n",
      "\u001b[1;32;40mLANGSERVE:\u001b[0m\n",
      "\u001b[1;32;40mLANGSERVE:\u001b[0m See all available routes at /docs/\n",
      "\n",
      "\u001b[32mINFO\u001b[0m:     Application startup complete.\n",
      "\u001b[32mINFO\u001b[0m:     127.0.0.1:61767 - \"\u001b[1mGET /rag-chroma/playground HTTP/1.1\u001b[0m\" \u001b[33m307 Temporary Redirect\u001b[0m\n",
      "\u001b[32mINFO\u001b[0m:     127.0.0.1:61767 - \"\u001b[1mGET /rag-chroma/playground/ HTTP/1.1\u001b[0m\" \u001b[32m200 OK\u001b[0m\n",
      "\u001b[32mINFO\u001b[0m:     127.0.0.1:61767 - \"\u001b[1mGET /rag-chroma/playground/assets/index-6a0f524c.js HTTP/1.1\u001b[0m\" \u001b[32m200 OK\u001b[0m\n",
      "\u001b[32mINFO\u001b[0m:     127.0.0.1:61768 - \"\u001b[1mGET /rag-chroma/playground/assets/index-52e8ab2f.css HTTP/1.1\u001b[0m\" \u001b[32m200 OK\u001b[0m\n",
      "\u001b[32mINFO\u001b[0m:     127.0.0.1:61770 - \"\u001b[1mGET /apple-touch-icon-precomposed.png HTTP/1.1\u001b[0m\" \u001b[31m404 Not Found\u001b[0m\n",
      "\u001b[32mINFO\u001b[0m:     127.0.0.1:61770 - \"\u001b[1mGET /apple-touch-icon.png HTTP/1.1\u001b[0m\" \u001b[31m404 Not Found\u001b[0m\n",
      "\u001b[32mINFO\u001b[0m:     127.0.0.1:61767 - \"\u001b[1mGET /rag-chroma/playground/favicon.ico HTTP/1.1\u001b[0m\" \u001b[32m200 OK\u001b[0m\n",
      "\u001b[32mINFO\u001b[0m:     127.0.0.1:61773 - \"\u001b[1mPOST /rag-chroma/stream_log HTTP/1.1\u001b[0m\" \u001b[32m200 OK\u001b[0m\n",
      "^C\n",
      "\u001b[32mINFO\u001b[0m:     Shutting down\n",
      "\u001b[32mINFO\u001b[0m:     Waiting for application shutdown.\n",
      "\u001b[32mINFO\u001b[0m:     Application shutdown complete.\n",
      "\u001b[32mINFO\u001b[0m:     Finished server process [\u001b[36m4578\u001b[0m]\n"
     ]
    }
   ],
   "source": [
    "! cd chat-with-pdf && langchain serve"
   ]
  },
  {
   "cell_type": "markdown",
   "metadata": {},
   "source": [
    "Let's access our chat by going to:\n",
    "\n",
    "http://localhost:8000/rag-chroma/playground"
   ]
  },
  {
   "cell_type": "markdown",
   "metadata": {},
   "source": [
    "To access the the template from code run this:\n",
    "(make sure to serve the app in a terminal first with the command shown previously)."
   ]
  },
  {
   "cell_type": "code",
   "execution_count": 11,
   "metadata": {},
   "outputs": [],
   "source": [
    "from langserve.client import RemoteRunnable\n",
    "\n",
    "runnable = RemoteRunnable(\"http://localhost:8000/rag-chroma\")"
   ]
  },
  {
   "cell_type": "code",
   "execution_count": 12,
   "metadata": {},
   "outputs": [
    {
     "data": {
      "text/plain": [
       "<langserve.client.RemoteRunnable at 0x11da41490>"
      ]
     },
     "execution_count": 12,
     "metadata": {},
     "output_type": "execute_result"
    }
   ],
   "source": [
    "runnable"
   ]
  },
  {
   "cell_type": "code",
   "execution_count": 13,
   "metadata": {},
   "outputs": [
    {
     "data": {
      "text/plain": [
       "'Tool use in agents works by equipping the agents with external tools, which significantly extends their capabilities. These tools allow the agents to browse the internet, read documentation, execute code, call robotics experimentation APIs, and leverage other large language models (LLMs) for additional information that may be missing from the model weights. Tool use enables the agents to go beyond their physical and cognitive limits and perform tasks that require external resources and expertise.'"
      ]
     },
     "execution_count": 13,
     "metadata": {},
     "output_type": "execute_result"
    }
   ],
   "source": [
    "runnable.invoke(\"How does tool use work in agents?\")"
   ]
  },
  {
   "cell_type": "code",
   "execution_count": null,
   "metadata": {},
   "outputs": [],
   "source": []
  },
  {
   "cell_type": "code",
   "execution_count": null,
   "metadata": {},
   "outputs": [],
   "source": []
  },
  {
   "cell_type": "code",
   "execution_count": null,
   "metadata": {},
   "outputs": [],
   "source": []
  },
  {
   "cell_type": "code",
   "execution_count": null,
   "metadata": {},
   "outputs": [],
   "source": []
  }
 ],
 "metadata": {
  "kernelspec": {
   "display_name": "oreilly-langchain",
   "language": "python",
   "name": "oreilly-langchain"
  },
  "language_info": {
   "codemirror_mode": {
    "name": "ipython",
    "version": 3
   },
   "file_extension": ".py",
   "mimetype": "text/x-python",
   "name": "python",
   "nbconvert_exporter": "python",
   "pygments_lexer": "ipython3",
   "version": "3.11.5"
  }
 },
 "nbformat": 4,
 "nbformat_minor": 2
}
