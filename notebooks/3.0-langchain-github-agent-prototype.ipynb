{
 "cells": [
  {
   "cell_type": "code",
   "execution_count": 1,
   "metadata": {},
   "outputs": [],
   "source": [
    "# !pip install openai\n",
    "# !pip install \"langchain[all]\""
   ]
  },
  {
   "cell_type": "code",
   "execution_count": 2,
   "metadata": {},
   "outputs": [],
   "source": [
    "from dotenv import load_dotenv\n",
    "\n",
    "load_dotenv()\n",
    "\n",
    "# Or if you are in Colab, uncoment below and add your api key\n",
    "import os\n",
    "# os.environ[\"OPENAI_API_KEY\"] = \"your-api-key\""
   ]
  },
  {
   "cell_type": "markdown",
   "metadata": {},
   "source": [
    "The more complex version of this would use this pygithub package as shown in here:\n",
    "- https://python.langchain.com/docs/integrations/toolkits/github\n",
    "\n",
    "But let's try a simpler version that just sets up a bunch of python functions to automate different github actions like add, commit and pull requests."
   ]
  },
  {
   "cell_type": "markdown",
   "metadata": {},
   "source": []
  },
  {
   "cell_type": "markdown",
   "metadata": {},
   "source": [
    "Let's start with a simple commit to a branch of some repository."
   ]
  },
  {
   "cell_type": "markdown",
   "metadata": {},
   "source": [
    "First, I'll create a github repository using some simple commands."
   ]
  },
  {
   "cell_type": "markdown",
   "metadata": {},
   "source": []
  },
  {
   "cell_type": "code",
   "execution_count": 3,
   "metadata": {},
   "outputs": [],
   "source": [
    "# git init -b main\n",
    "\n",
    "# git add . && git commit -m \"Some commit\"\n",
    "\n",
    "# gh repo create"
   ]
  },
  {
   "cell_type": "markdown",
   "metadata": {},
   "source": [
    "Now, let's try asking an agent to write come code and commit the resulting code to the current branch of this repository.\n",
    "\n",
    "To do that, let's give the agent the necessary tools it will need which in this case will be python functions that perform different github actions using the `subprocess` package."
   ]
  },
  {
   "cell_type": "markdown",
   "metadata": {},
   "source": [
    "We'll follow the basic steps for building a langchain agent:\n",
    "\n",
    "# Steps for building a simple agent:\n",
    "- Set up the LLM\n",
    "- Define the tool or toolkit (list of tools)\n",
    "- Set up a prompt template\n",
    "- Connect llm with your tools\n",
    "- Define your agent as a dict with keys: input, and agent scratchpad \n",
    "- Use the Langchain LCEL language to pipe agent, prompt the llm_with_tools variable and the output parser (which can use OpenAI function calling parser)\n",
    "- Create the agent loop\n",
    "- Wrap everything into the AgentExecutor\n",
    "- Invoke the agent with some query input\n"
   ]
  },
  {
   "cell_type": "code",
   "execution_count": 4,
   "metadata": {},
   "outputs": [],
   "source": [
    "# setup the llm\n",
    "from langchain_openai.chat_models import ChatOpenAI\n",
    "\n",
    "llm_chat = ChatOpenAI(temperature=0)"
   ]
  },
  {
   "cell_type": "markdown",
   "metadata": {},
   "source": [
    "Now, let's create a tool for the LLM"
   ]
  },
  {
   "cell_type": "code",
   "execution_count": 5,
   "metadata": {},
   "outputs": [],
   "source": [
    "# !pip install PyGithub"
   ]
  },
  {
   "cell_type": "code",
   "execution_count": 6,
   "metadata": {},
   "outputs": [],
   "source": [
    "import subprocess\n",
    "\n",
    "def github_commit_tool(commit_message=\"Some commit\"):\n",
    "    subprocess.run([\"git\", \"add\", \".\"])\n",
    "    subprocess.run([\"git\", \"commit\", \"-m\", commit_message])\n",
    "    subprocess.run([\"git\", \"push\", \"-u\", \"origin\", \"main\"])\n",
    "    \n",
    "    return \"Committed to Github\""
   ]
  },
  {
   "cell_type": "markdown",
   "metadata": {},
   "source": [
    "Now! Before we use it with langchain, let's test it by itself."
   ]
  },
  {
   "cell_type": "code",
   "execution_count": 7,
   "metadata": {},
   "outputs": [],
   "source": [
    "# github_commit_tool(\"Some testing commit\")"
   ]
  },
  {
   "cell_type": "markdown",
   "metadata": {},
   "source": [
    "Now, let's take a look at out github repository from the terminal.\n",
    "\n",
    "![](2023-10-29-20-47-54.png)"
   ]
  },
  {
   "cell_type": "markdown",
   "metadata": {},
   "source": [
    "Nice! It looks like we are good to go with this first simple tool!"
   ]
  },
  {
   "cell_type": "markdown",
   "metadata": {},
   "source": [
    "Let's now make it a tool for our langchain agent by adding the @tool. "
   ]
  },
  {
   "cell_type": "code",
   "execution_count": 8,
   "metadata": {},
   "outputs": [],
   "source": [
    "from langchain.tools import tool\n",
    "\n",
    "@tool\n",
    "def github_commit_tool(commit_message=\"Some commit\"):\n",
    "    \"\"\"This function uses the subprocess package to make commits to a github repo pre-defined.\"\"\"\n",
    "    subprocess.run([\"git\", \"add\", \".\"])\n",
    "    subprocess.run([\"git\", \"commit\", \"-m\", commit_message])\n",
    "    subprocess.run([\"git\", \"push\", \"-u\", \"origin\", \"main\"])\n",
    "    \n",
    "    return \"Committed to Github\"\n",
    "\n",
    "tools = [github_commit_tool]"
   ]
  },
  {
   "cell_type": "markdown",
   "metadata": {},
   "source": [
    "We added some documentation to our function to abide by the requirements of the tool decorator from langchain."
   ]
  },
  {
   "cell_type": "markdown",
   "metadata": {},
   "source": [
    "Now, let's test if a simple agent can use that tool!"
   ]
  },
  {
   "cell_type": "markdown",
   "metadata": {},
   "source": [
    "Let's start by setting up our prompt template."
   ]
  },
  {
   "cell_type": "code",
   "execution_count": 9,
   "metadata": {},
   "outputs": [],
   "source": [
    "# from langchain.agents import AgentExecutor\n",
    "# from langchain.prompts import ChatPromptTemplate\n",
    "\n",
    "# template = \"\"\"\n",
    "# You are a helpful programming assistant. The user will ask you to perform commits to a github repo and you will perform the needed actions and call the necessary\n",
    "# functions when needed.\n",
    "# Your current task:\n",
    "# {input}\n",
    "# \"\"\"\n",
    "# prompt = ChatPromptTemplate.from_template(template)"
   ]
  },
  {
   "cell_type": "code",
   "execution_count": 10,
   "metadata": {},
   "outputs": [
    {
     "data": {
      "text/plain": [
       "[SystemMessagePromptTemplate(prompt=PromptTemplate(input_variables=[], template='You are a helpful assistant')),\n",
       " MessagesPlaceholder(variable_name='chat_history', optional=True),\n",
       " HumanMessagePromptTemplate(prompt=PromptTemplate(input_variables=['input'], template='{input}')),\n",
       " MessagesPlaceholder(variable_name='agent_scratchpad')]"
      ]
     },
     "execution_count": 10,
     "metadata": {},
     "output_type": "execute_result"
    }
   ],
   "source": [
    "from langchain import hub\n",
    "\n",
    "prompt = hub.pull(\"hwchase17/openai-functions-agent\")\n",
    "prompt.messages"
   ]
  },
  {
   "cell_type": "code",
   "execution_count": 11,
   "metadata": {},
   "outputs": [],
   "source": [
    "from langchain.agents import create_openai_tools_agent\n",
    "from langchain_openai import ChatOpenAI\n",
    "\n",
    "llm_chat = ChatOpenAI(temperature=0)\n",
    "agent = create_openai_tools_agent(llm_chat, tools, prompt)"
   ]
  },
  {
   "cell_type": "code",
   "execution_count": 12,
   "metadata": {},
   "outputs": [],
   "source": [
    "from langchain.agents import AgentExecutor\n",
    "\n",
    "agent_executor = AgentExecutor(agent=agent,tools=tools, verbose=True)"
   ]
  },
  {
   "cell_type": "code",
   "execution_count": 13,
   "metadata": {},
   "outputs": [
    {
     "name": "stdout",
     "output_type": "stream",
     "text": [
      "\n",
      "\n",
      "\u001b[1m> Entering new AgentExecutor chain...\u001b[0m\n",
      "\u001b[32;1m\u001b[1;3m\n",
      "Invoking: `github_commit_tool` with `{'commit_message': 'Pancakes are better than waffles!'}`\n",
      "\n",
      "\n",
      "\u001b[0m[main 3cee229] Pancakes are better than waffles!\n",
      " 8 files changed, 221 insertions(+), 342 deletions(-)\n",
      " create mode 100644 notebooks/lucas-the-agent-master/the-10-master-rules.md\n",
      " create mode 100644 notebooks/test.txt\n"
     ]
    },
    {
     "name": "stderr",
     "output_type": "stream",
     "text": [
      "To https://github.com/EnkrateiaLucca/oreilly_live_training_agents.git\n",
      "   f9623a8..3cee229  main -> main\n"
     ]
    },
    {
     "name": "stdout",
     "output_type": "stream",
     "text": [
      "branch 'main' set up to track 'origin/main'.\n",
      "\u001b[36;1m\u001b[1;3mCommitted to Github\u001b[0m\u001b[32;1m\u001b[1;3mI have successfully created a GitHub commit with the message 'Pancakes are better than waffles!'.\u001b[0m\n",
      "\n",
      "\u001b[1m> Finished chain.\u001b[0m\n"
     ]
    },
    {
     "data": {
      "text/plain": [
       "{'input': \"Create a github commit with the message 'Pancakes are better than waffles!'\",\n",
       " 'output': \"I have successfully created a GitHub commit with the message 'Pancakes are better than waffles!'.\"}"
      ]
     },
     "execution_count": 13,
     "metadata": {},
     "output_type": "execute_result"
    }
   ],
   "source": [
    "agent_executor.invoke({\"input\": \"Create a github commit with the message 'Pancakes are better than waffles!'\"})"
   ]
  },
  {
   "cell_type": "markdown",
   "metadata": {},
   "source": [
    "And voila, the agent calls the right function and creates the commit!\n",
    "\n",
    "(ignore the github related error, let's focus on the agent capabilities)."
   ]
  },
  {
   "cell_type": "markdown",
   "metadata": {},
   "source": [
    "And voila! We made a commit!\n",
    "\n",
    "![](2023-10-30-13-04-20.png)"
   ]
  },
  {
   "cell_type": "markdown",
   "metadata": {},
   "source": [
    "Ok, this is cool but, we can go beyond that, and add the ability to create a file and then commit that file to our desired repository. Let's do that!\n",
    "\n",
    "To do it all we have to do is amplify the Agent's toolkit with another tool that can create files in the current folder."
   ]
  },
  {
   "cell_type": "markdown",
   "metadata": {},
   "source": [
    "Perfect! Now, let's add this to our github agent"
   ]
  },
  {
   "cell_type": "code",
   "execution_count": 14,
   "metadata": {},
   "outputs": [],
   "source": [
    "@tool\n",
    "def create_file_tool(file_contents):\n",
    "    \"\"\"This function creates a file with the contents and file path provided as inputs.\"\"\"\n",
    "    with open(\"file.py\", \"w\") as f:\n",
    "        f.write(file_contents)\n",
    "    \n",
    "    return \"File created\""
   ]
  },
  {
   "cell_type": "markdown",
   "metadata": {},
   "source": [
    "Now, let's add that functionality to our agent by just updating the tools list."
   ]
  },
  {
   "cell_type": "code",
   "execution_count": 15,
   "metadata": {},
   "outputs": [],
   "source": [
    "tools = [github_commit_tool, create_file_tool]"
   ]
  },
  {
   "cell_type": "markdown",
   "metadata": {},
   "source": [
    "Now, let's modify our agent with its new toolkit"
   ]
  },
  {
   "cell_type": "code",
   "execution_count": 16,
   "metadata": {},
   "outputs": [],
   "source": [
    "agent = create_openai_tools_agent(llm_chat, tools, prompt)"
   ]
  },
  {
   "cell_type": "code",
   "execution_count": 17,
   "metadata": {},
   "outputs": [],
   "source": [
    "agent_executor = AgentExecutor(agent=agent, tools=tools, verbose=True)"
   ]
  },
  {
   "cell_type": "markdown",
   "metadata": {},
   "source": [
    "Now, let's try using both tools in a call to see if the agent can do something slightly more complex now."
   ]
  },
  {
   "cell_type": "code",
   "execution_count": 18,
   "metadata": {},
   "outputs": [
    {
     "name": "stdout",
     "output_type": "stream",
     "text": [
      "\n",
      "\n",
      "\u001b[1m> Entering new AgentExecutor chain...\u001b[0m\n",
      "\u001b[32;1m\u001b[1;3m\n",
      "Invoking: `create_file_tool` with `{'file_contents': \"# Python code\\n\\n# Truth about pancakes and waffles\\n\\nfor i in range(5):\\n    print('Pancakes are better than waffles!')\\n\"}`\n",
      "\n",
      "\n",
      "\u001b[0m\u001b[33;1m\u001b[1;3mFile created\u001b[0m\u001b[32;1m\u001b[1;3m\n",
      "Invoking: `github_commit_tool` with `{'commit_message': 'Added Python code to state the truth about pancakes and waffles'}`\n",
      "\n",
      "\n",
      "\u001b[0m[main 47b4ff6] Added Python code to state the truth about pancakes and waffles\n",
      " 1 file changed, 6 insertions(+)\n",
      " create mode 100644 notebooks/file.py\n"
     ]
    },
    {
     "name": "stderr",
     "output_type": "stream",
     "text": [
      "To https://github.com/EnkrateiaLucca/oreilly_live_training_agents.git\n",
      "   3cee229..47b4ff6  main -> main\n"
     ]
    },
    {
     "name": "stdout",
     "output_type": "stream",
     "text": [
      "branch 'main' set up to track 'origin/main'.\n",
      "\u001b[36;1m\u001b[1;3mCommitted to Github\u001b[0m\u001b[32;1m\u001b[1;3mI have written the Python code with a for loop stating the truth about pancakes and waffles, saved it to a file, and committed it to our GitHub repository.\u001b[0m\n",
      "\n",
      "\u001b[1m> Finished chain.\u001b[0m\n"
     ]
    },
    {
     "data": {
      "text/plain": [
       "{'input': 'Write Python code with a for loop stating the truth about what is better: pancakes or waffles.    Output ONLY THE CODE and save that to a file then commit it to our github repository.',\n",
       " 'output': 'I have written the Python code with a for loop stating the truth about pancakes and waffles, saved it to a file, and committed it to our GitHub repository.'}"
      ]
     },
     "execution_count": 18,
     "metadata": {},
     "output_type": "execute_result"
    }
   ],
   "source": [
    "agent_executor.invoke({\n",
    "    \"input\": \"Write Python code with a for loop stating the truth about what is better: pancakes or waffles.\\\n",
    "    Output ONLY THE CODE and save that to a file then commit it to our github repository.\"\n",
    "})"
   ]
  },
  {
   "cell_type": "markdown",
   "metadata": {},
   "source": [
    "And voila again!\n",
    "![](2023-10-30-13-15-38.png)"
   ]
  },
  {
   "cell_type": "markdown",
   "metadata": {},
   "source": [
    "For The Practice Demo We'll stop here, below I show how to expand this for multi-input tools."
   ]
  },
  {
   "cell_type": "markdown",
   "metadata": {},
   "source": [
    "Ok! This is awesome right? Let's just stop for a second and appreciate the simplicity of this implementation and the power that it gives us! Now, on the other hand, we are using a [ZeroShotReactAgent](https://python.langchain.com/docs/modules/agents/agent_types/react#:~:text=Using-,zeroshotreactagent), which is limited when it comes to multi input functions as tools. However, we can easily expand this by leveraging Langchain's amazing [Multi-Input Tools](https://python.langchain.com/docs/modules/agents/tools/multi_input_tool#:~:text=On%20this%20page-,Multi-Input%20Tools,with%20the%20StructuredTool%20class.,-import%20os).\n",
    "\n",
    "Let's do that to modify our current tool: `create_file_tool()` to accept the file's contents as well as a file path, this way we are not restricted in creating just one type of file with a pre-specified name."
   ]
  },
  {
   "cell_type": "code",
   "execution_count": 19,
   "metadata": {},
   "outputs": [
    {
     "data": {
      "text/plain": [
       "'File created'"
      ]
     },
     "execution_count": 19,
     "metadata": {},
     "output_type": "execute_result"
    }
   ],
   "source": [
    "from langchain.tools import StructuredTool\n",
    "\n",
    "def create_file_tool(file_contents: str, file_path: str) -> str:\n",
    "    \"\"\"\n",
    "    Function that creates a file with the contents \n",
    "    and file path provided as inputs.\n",
    "    \"\"\"\n",
    "    with open(file_path, \"w\") as f:\n",
    "        f.write(file_contents)\n",
    "    \n",
    "    return \"File created\"\n",
    "\n",
    "# Let's test it first!\n",
    "create_file_tool(\"print('Hello World')\", \"print_file.py\")"
   ]
  },
  {
   "cell_type": "code",
   "execution_count": 20,
   "metadata": {},
   "outputs": [
    {
     "name": "stdout",
     "output_type": "stream",
     "text": [
      "file.py                   jira-agent.py             research-assistant.py\n",
      "function_calls_chatgpt.py print_file.py\n"
     ]
    }
   ],
   "source": [
    "!ls *.py"
   ]
  },
  {
   "cell_type": "code",
   "execution_count": 21,
   "metadata": {},
   "outputs": [
    {
     "name": "stdout",
     "output_type": "stream",
     "text": [
      "Hello World\n"
     ]
    }
   ],
   "source": [
    "!python print_file.py"
   ]
  },
  {
   "cell_type": "markdown",
   "metadata": {},
   "source": [
    "Great! Now, let's make it a tool for the agent."
   ]
  },
  {
   "cell_type": "code",
   "execution_count": 22,
   "metadata": {},
   "outputs": [],
   "source": [
    "create_file_tool = StructuredTool.from_function(create_file_tool)"
   ]
  },
  {
   "cell_type": "markdown",
   "metadata": {},
   "source": [
    "And, again, let's update our toolkit and our agent."
   ]
  },
  {
   "cell_type": "code",
   "execution_count": 23,
   "metadata": {},
   "outputs": [],
   "source": [
    "tools = [github_commit_tool, create_file_tool]"
   ]
  },
  {
   "cell_type": "code",
   "execution_count": 24,
   "metadata": {},
   "outputs": [],
   "source": [
    "agent = create_openai_tools_agent(llm_chat, tools, prompt)\n",
    "\n",
    "agent_executor = AgentExecutor(agent=agent, tools=tools, verbose=True)"
   ]
  },
  {
   "cell_type": "markdown",
   "metadata": {},
   "source": [
    "Now, let's test it by asking it to write a simple `README.md` file, giving the agent some context about the project's repo."
   ]
  },
  {
   "cell_type": "code",
   "execution_count": 25,
   "metadata": {},
   "outputs": [
    {
     "name": "stdout",
     "output_type": "stream",
     "text": [
      "\n",
      "\n",
      "\u001b[1m> Entering new AgentExecutor chain...\u001b[0m\n"
     ]
    },
    {
     "name": "stdout",
     "output_type": "stream",
     "text": [
      "\u001b[32;1m\u001b[1;3m\n",
      "Invoking: `create_file_tool` with `{'file_contents': '# Report: Why Pancakes are the Best Breakfast Option\\n\\nWhen it comes to a good happy breakfast, pancakes reign supreme over all other options. Here are a few reasons why pancakes are the ultimate choice:\\n\\n1. **Versatility**: Pancakes can be customized in countless ways. Whether you prefer them plain with maple syrup or loaded with fruits, nuts, or chocolate chips, pancakes can cater to all taste preferences.\\n\\n2. **Fluffy Texture**: The light and fluffy texture of pancakes is unmatched. They provide a comforting and satisfying bite that is sure to put a smile on your face.\\n\\n3. **Easy to Make**: Pancakes are simple to make, requiring basic ingredients like flour, eggs, milk, and baking powder. Anyone can whip up a batch of pancakes in no time.\\n\\n4. **Nostalgia**: Pancakes evoke feelings of nostalgia and warmth. They are often associated with cozy weekend mornings and family gatherings, making them a comforting choice for a happy breakfast.\\n\\n5. **Syrup Absorption**: Pancakes have the perfect surface for soaking up delicious maple syrup or other toppings. The way they absorb the syrup adds an extra layer of flavor and enjoyment.\\n\\nIn conclusion, while waffles may try to compete with their crispy exterior and syrup-catching pockets, pancakes remain the ultimate breakfast option for a good happy start to the day.\\n\\n*Pancakes for the win!*', 'file_path': 'pancakes_for_the_win.md'}`\n",
      "\n",
      "\n",
      "\u001b[0m\u001b[33;1m\u001b[1;3mFile created\u001b[0m\u001b[32;1m\u001b[1;3m\n",
      "Invoking: `github_commit_tool` with `{'commit_message': 'Add report on why pancakes are the best breakfast option'}`\n",
      "\n",
      "\n",
      "\u001b[0m[main 1e65732] Add report on why pancakes are the best breakfast option\n",
      " 3 files changed, 72 insertions(+), 93 deletions(-)\n",
      " create mode 100644 notebooks/pancakes_for_the_win.md\n",
      " create mode 100644 notebooks/print_file.py\n"
     ]
    },
    {
     "name": "stderr",
     "output_type": "stream",
     "text": [
      "To https://github.com/EnkrateiaLucca/oreilly_live_training_agents.git\n",
      "   47b4ff6..1e65732  main -> main\n"
     ]
    },
    {
     "name": "stdout",
     "output_type": "stream",
     "text": [
      "branch 'main' set up to track 'origin/main'.\n",
      "\u001b[36;1m\u001b[1;3mCommitted to Github\u001b[0m\u001b[32;1m\u001b[1;3mI have written the report on why pancakes are the best breakfast option and saved it as `pancakes_for_the_win.md`. It has been committed to our GitHub repository.\u001b[0m\n",
      "\n",
      "\u001b[1m> Finished chain.\u001b[0m\n"
     ]
    },
    {
     "data": {
      "text/plain": [
       "{'input': 'Write a report on why pancakes are so much better than all the other options (including sarcastially waffles) for a good happy breakfast. Save that to pancakes_for_the_win.md and commit it to our github repository.',\n",
       " 'output': 'I have written the report on why pancakes are the best breakfast option and saved it as `pancakes_for_the_win.md`. It has been committed to our GitHub repository.'}"
      ]
     },
     "execution_count": 25,
     "metadata": {},
     "output_type": "execute_result"
    }
   ],
   "source": [
    "agent_executor.invoke({\n",
    "    \"input\": \"Write a report on why pancakes are so much better than all the other options (including sarcastially waffles) for a good happy breakfast. Save that to pancakes_for_the_win.md and commit it to our github repository.\"\n",
    "})"
   ]
  },
  {
   "cell_type": "markdown",
   "metadata": {},
   "source": [
    "And again we succeed!\n",
    "\n",
    "![](2023-10-30-13-26-32.png)"
   ]
  },
  {
   "cell_type": "markdown",
   "metadata": {},
   "source": [
    "Ok, before we finish with this example, let's add a last tool to read files from a repo, for situations where we might write some Python code and we want our agent to integrate that Python code into our repository. "
   ]
  },
  {
   "cell_type": "markdown",
   "metadata": {},
   "source": [
    "Again, we follow the same procedure:\n",
    "\n",
    "- Create the tool\n",
    "- Update our tookit\n",
    "- Update our agent\n",
    "- Run a test task to check if it works "
   ]
  },
  {
   "cell_type": "code",
   "execution_count": 26,
   "metadata": {},
   "outputs": [
    {
     "data": {
      "text/plain": [
       "'# Report: Why Pancakes are the Best Breakfast Option\\n\\nWhen it comes to a good happy breakfast, pancakes reign supreme over all other options. Here are a few reasons why pancakes are the ultimate choice:\\n\\n1. **Versatility**: Pancakes can be customized in countless ways. Whether you prefer them plain with maple syrup or loaded with fruits, nuts, or chocolate chips, pancakes can cater to all taste preferences.\\n\\n2. **Fluffy Texture**: The light and fluffy texture of pancakes is unmatched. They provide a comforting and satisfying bite that is sure to put a smile on your face.\\n\\n3. **Easy to Make**: Pancakes are simple to make, requiring basic ingredients like flour, eggs, milk, and baking powder. Anyone can whip up a batch of pancakes in no time.\\n\\n4. **Nostalgia**: Pancakes evoke feelings of nostalgia and warmth. They are often associated with cozy weekend mornings and family gatherings, making them a comforting choice for a happy breakfast.\\n\\n5. **Syrup Absorption**: Pancakes have the perfect surface for soaking up delicious maple syrup or other toppings. The way they absorb the syrup adds an extra layer of flavor and enjoyment.\\n\\nIn conclusion, while waffles may try to compete with their crispy exterior and syrup-catching pockets, pancakes remain the ultimate breakfast option for a good happy start to the day.\\n\\n*Pancakes for the win!*'"
      ]
     },
     "execution_count": 26,
     "metadata": {},
     "output_type": "execute_result"
    }
   ],
   "source": [
    "def read_file_tool(file_path):\n",
    "    with open(file_path, \"r\") as f:\n",
    "        contents = f.read()\n",
    "    \n",
    "    return contents\n",
    "\n",
    "read_file_tool(\"./pancakes_for_the_win.md\")"
   ]
  },
  {
   "cell_type": "markdown",
   "metadata": {},
   "source": [
    "Ok, our function seems to work so let's add it to our toolkit, since its a simple function with only one input we can just add the @tool decorator on top of it."
   ]
  },
  {
   "cell_type": "code",
   "execution_count": 27,
   "metadata": {},
   "outputs": [],
   "source": [
    "@tool\n",
    "def read_file_tool(file_path):\n",
    "    \"\"\"\n",
    "    Simple function to read contents from a file.\n",
    "    \"\"\"\n",
    "    with open(file_path, \"r\") as f:\n",
    "        contents = f.read()\n",
    "    \n",
    "    return contents"
   ]
  },
  {
   "cell_type": "markdown",
   "metadata": {},
   "source": [
    "And we update our toolkit:"
   ]
  },
  {
   "cell_type": "code",
   "execution_count": 28,
   "metadata": {},
   "outputs": [],
   "source": [
    "tools = [github_commit_tool, create_file_tool, read_file_tool]"
   ]
  },
  {
   "cell_type": "markdown",
   "metadata": {},
   "source": [
    "And we update our agent"
   ]
  },
  {
   "cell_type": "code",
   "execution_count": 29,
   "metadata": {},
   "outputs": [],
   "source": [
    "agent = create_openai_tools_agent(llm_chat, tools, prompt)\n",
    "\n",
    "agent_executor = AgentExecutor(agent=agent, tools=tools, verbose=True)"
   ]
  },
  {
   "cell_type": "markdown",
   "metadata": {},
   "source": [
    "Before we run our newly updated agent, let's create a .txt file containing the contents from this notebook so that our agent has something useful to read."
   ]
  },
  {
   "cell_type": "code",
   "execution_count": 30,
   "metadata": {},
   "outputs": [
    {
     "name": "stdout",
     "output_type": "stream",
     "text": [
      "\n",
      "\n",
      "\u001b[1m> Entering new AgentExecutor chain...\u001b[0m\n",
      "\u001b[32;1m\u001b[1;3m\n",
      "Invoking: `read_file_tool` with `{'file_path': 'pancakes_for_the_win.md'}`\n",
      "\n",
      "\n",
      "\u001b[0m\u001b[38;5;200m\u001b[1;3m# Report: Why Pancakes are the Best Breakfast Option\n",
      "\n",
      "When it comes to a good happy breakfast, pancakes reign supreme over all other options. Here are a few reasons why pancakes are the ultimate choice:\n",
      "\n",
      "1. **Versatility**: Pancakes can be customized in countless ways. Whether you prefer them plain with maple syrup or loaded with fruits, nuts, or chocolate chips, pancakes can cater to all taste preferences.\n",
      "\n",
      "2. **Fluffy Texture**: The light and fluffy texture of pancakes is unmatched. They provide a comforting and satisfying bite that is sure to put a smile on your face.\n",
      "\n",
      "3. **Easy to Make**: Pancakes are simple to make, requiring basic ingredients like flour, eggs, milk, and baking powder. Anyone can whip up a batch of pancakes in no time.\n",
      "\n",
      "4. **Nostalgia**: Pancakes evoke feelings of nostalgia and warmth. They are often associated with cozy weekend mornings and family gatherings, making them a comforting choice for a happy breakfast.\n",
      "\n",
      "5. **Syrup Absorption**: Pancakes have the perfect surface for soaking up delicious maple syrup or other toppings. The way they absorb the syrup adds an extra layer of flavor and enjoyment.\n",
      "\n",
      "In conclusion, while waffles may try to compete with their crispy exterior and syrup-catching pockets, pancakes remain the ultimate breakfast option for a good happy start to the day.\n",
      "\n",
      "*Pancakes for the win!*\u001b[0m\u001b[32;1m\u001b[1;3m\n",
      "Invoking: `create_file_tool` with `{'file_contents': \"# Essay: Why Waffles are the Best Breakfast Option\\n\\nWhile pancakes have their loyal following, it's time to shed light on the undeniable superiority of waffles as the ultimate breakfast choice. Here's why waffles reign supreme:\\n\\n1. **Crispy Texture**: Waffles offer a delightful crispy texture that provides a satisfying crunch with every bite. This unique texture sets waffles apart from the soft and fluffy nature of pancakes.\\n\\n2. **Syrup Pockets**: The grid-like structure of waffles creates perfect pockets for holding syrup, butter, and other toppings. This ensures that every bite is infused with delicious flavors, making waffles a more flavorful option.\\n\\n3. **Customizable Toppings**: Waffles can be topped with a variety of ingredients, from fresh fruits and whipped cream to savory options like fried chicken. The versatility of waffles allows for endless topping combinations, catering to a wide range of taste preferences.\\n\\n4. **Visual Appeal**: Waffles are visually appealing with their intricate patterns and golden brown color. The presentation of waffles adds an element of elegance to the breakfast table, making them a feast for both the taste buds and the eyes.\\n\\n5. **Variety of Shapes and Sizes**: Waffles come in various shapes and sizes, from classic round waffles to heart-shaped or even animal-shaped designs. This variety adds a fun and playful element to breakfast, making waffles a favorite among both kids and adults.\\n\\nIn summary, while pancakes have their charm, waffles emerge as the clear winner in the battle of breakfast foods. With their crispy texture, syrup pockets, customizable toppings, visual appeal, and variety of shapes, waffles offer a breakfast experience that is unmatched.\\n\\n*Waffles for the win!*\\n\", 'file_path': 'waffles_for_the_win.md'}`\n",
      "\n",
      "\n",
      "\u001b[0m\u001b[33;1m\u001b[1;3mFile created\u001b[0m\u001b[32;1m\u001b[1;3m\n",
      "Invoking: `github_commit_tool` with `{'commit_message': 'Counter arguments to pancakes_for_the_win.md with an essay on waffles'}`\n",
      "\n",
      "\n",
      "\u001b[0m[main 3c1684f] Counter arguments to pancakes_for_the_win.md with an essay on waffles\n",
      " 1 file changed, 17 insertions(+)\n",
      " create mode 100644 notebooks/waffles_for_the_win.md\n"
     ]
    },
    {
     "name": "stderr",
     "output_type": "stream",
     "text": [
      "To https://github.com/EnkrateiaLucca/oreilly_live_training_agents.git\n",
      "   1e65732..3c1684f  main -> main\n"
     ]
    },
    {
     "name": "stdout",
     "output_type": "stream",
     "text": [
      "branch 'main' set up to track 'origin/main'.\n",
      "\u001b[36;1m\u001b[1;3mCommitted to Github\u001b[0m\u001b[32;1m\u001b[1;3mI have written a counter-argument essay in favor of waffles and saved it to a file named \"waffles_for_the_win.md\". The essay has been committed to your GitHub repository. You can check the changes there.\u001b[0m\n",
      "\n",
      "\u001b[1m> Finished chain.\u001b[0m\n"
     ]
    },
    {
     "data": {
      "text/plain": [
       "{'input': 'Write a simple essay that counters all the arguments in the        pancakes_for_the_win.md file arguing for waffles, write that to waffles_for_the_win.md and commit it to our github repository.',\n",
       " 'output': 'I have written a counter-argument essay in favor of waffles and saved it to a file named \"waffles_for_the_win.md\". The essay has been committed to your GitHub repository. You can check the changes there.'}"
      ]
     },
     "execution_count": 30,
     "metadata": {},
     "output_type": "execute_result"
    }
   ],
   "source": [
    "agent_executor.invoke(\n",
    "    {\n",
    "    \"input\": \"Write a simple essay that counters all the arguments in the\\\n",
    "        pancakes_for_the_win.md file arguing for waffles, write that to waffles_for_the_win.md and commit it to our github repository.\"\n",
    "    }\n",
    "                      )"
   ]
  },
  {
   "cell_type": "code",
   "execution_count": 31,
   "metadata": {},
   "outputs": [
    {
     "name": "stdout",
     "output_type": "stream",
     "text": [
      "cat: summary_tutorial.md: No such file or directory\n"
     ]
    }
   ],
   "source": [
    "!cat summary_tutorial.md"
   ]
  },
  {
   "cell_type": "markdown",
   "metadata": {},
   "source": [
    "![](2023-10-30-13-42-25.png)"
   ]
  },
  {
   "cell_type": "markdown",
   "metadata": {},
   "source": [
    "I think this is a great usecase for agents like these even if sometimes the performance and reliability is a bit off, because now, its a matter of optimizing the edges to get it to work for complex use cases."
   ]
  }
 ],
 "metadata": {
  "kernelspec": {
   "display_name": "oreilly-agents-test-env",
   "language": "python",
   "name": "oreilly-agents-test-env"
  },
  "language_info": {
   "codemirror_mode": {
    "name": "ipython",
    "version": 3
   },
   "file_extension": ".py",
   "mimetype": "text/x-python",
   "name": "python",
   "nbconvert_exporter": "python",
   "pygments_lexer": "ipython3",
   "version": "3.10.13"
  }
 },
 "nbformat": 4,
 "nbformat_minor": 2
}
