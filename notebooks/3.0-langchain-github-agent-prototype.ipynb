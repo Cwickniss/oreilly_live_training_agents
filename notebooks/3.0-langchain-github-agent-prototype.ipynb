{
 "cells": [
  {
   "cell_type": "markdown",
   "metadata": {},
   "source": [
    "The more complex version of this would use this pygithub package as shown in here:\n",
    "- https://python.langchain.com/docs/integrations/toolkits/github\n",
    "\n",
    "But let's try a simpler version that just sets up a bunch of python functions to automate different github actions like add, commit and pull requests."
   ]
  },
  {
   "cell_type": "markdown",
   "metadata": {},
   "source": []
  },
  {
   "cell_type": "markdown",
   "metadata": {},
   "source": [
    "Let's start with a simple commit to a branch of some repository."
   ]
  },
  {
   "cell_type": "markdown",
   "metadata": {},
   "source": [
    "First, I'll create a github repository using some simple commands."
   ]
  },
  {
   "cell_type": "markdown",
   "metadata": {},
   "source": []
  },
  {
   "cell_type": "code",
   "execution_count": null,
   "metadata": {},
   "outputs": [],
   "source": [
    "# git init -b main\n",
    "\n",
    "# git add . && git commit -m \"Some commit\"\n",
    "\n",
    "# gh repo create"
   ]
  },
  {
   "cell_type": "markdown",
   "metadata": {},
   "source": [
    "Now, let's try asking an agent to write come code and commit the resulting code to the current branch of this repository.\n",
    "\n",
    "To do that, let's give the agent the necessary tools it will need which in this case will be python functions that perform different github actions using the `subprocess` package."
   ]
  },
  {
   "cell_type": "markdown",
   "metadata": {},
   "source": [
    "We'll follow the basic steps for building a langchain agent:\n",
    "\n",
    "# Steps for building a simple agent:\n",
    "- Set up the LLM\n",
    "- Define the tool or toolkit (list of tools)\n",
    "- Set up a prompt template\n",
    "- Connect llm with your tools\n",
    "- Define your agent as a dict with keys: input, and agent scratchpad \n",
    "- Use the Langchain LCEL language to pipe agent, prompt the llm_with_tools variable and the output parser (which can use OpenAI function calling parser)\n",
    "- Create the agent loop\n",
    "- Wrap everything into the AgentExecutor\n",
    "- Invoke the agent with some query input\n"
   ]
  },
  {
   "cell_type": "code",
   "execution_count": 1,
   "metadata": {},
   "outputs": [],
   "source": [
    "# setup the llm\n",
    "from langchain_openai.chat_models import ChatOpenAI\n",
    "\n",
    "llm_chat = ChatOpenAI(temperature=0)"
   ]
  },
  {
   "cell_type": "markdown",
   "metadata": {},
   "source": [
    "Now, let's create a tool for the LLM"
   ]
  },
  {
   "cell_type": "code",
   "execution_count": 2,
   "metadata": {},
   "outputs": [],
   "source": [
    "# !pip install PyGithub"
   ]
  },
  {
   "cell_type": "code",
   "execution_count": 3,
   "metadata": {},
   "outputs": [],
   "source": [
    "import subprocess\n",
    "\n",
    "def github_commit_tool(commit_message=\"Some commit\"):\n",
    "    subprocess.run([\"git\", \"add\", \".\"])\n",
    "    subprocess.run([\"git\", \"commit\", \"-m\", commit_message])\n",
    "    subprocess.run([\"git\", \"push\", \"-u\", \"origin\", \"main\"])\n",
    "    \n",
    "    return \"Committed to Github\""
   ]
  },
  {
   "cell_type": "markdown",
   "metadata": {},
   "source": [
    "Now! Before we use it with langchain, let's test it by itself."
   ]
  },
  {
   "cell_type": "code",
   "execution_count": 6,
   "metadata": {},
   "outputs": [],
   "source": [
    "# github_commit_tool(\"Some testing commit\")"
   ]
  },
  {
   "cell_type": "markdown",
   "metadata": {},
   "source": [
    "Now, let's take a look at out github repository from the terminal.\n",
    "\n",
    "![](2023-10-29-20-47-54.png)"
   ]
  },
  {
   "cell_type": "markdown",
   "metadata": {},
   "source": [
    "Nice! It looks like we are good to go with this first simple tool!"
   ]
  },
  {
   "cell_type": "markdown",
   "metadata": {},
   "source": [
    "Let's now make it a tool for our langchain agent by adding the @tool. "
   ]
  },
  {
   "cell_type": "code",
   "execution_count": 15,
   "metadata": {},
   "outputs": [],
   "source": [
    "from langchain.tools import tool\n",
    "\n",
    "@tool\n",
    "def github_commit_tool(commit_message=\"Some commit\"):\n",
    "    \"\"\"This function uses the subprocess package to make commits to a github repo pre-defined.\"\"\"\n",
    "    subprocess.run([\"git\", \"add\", \".\"])\n",
    "    subprocess.run([\"git\", \"commit\", \"-m\", commit_message])\n",
    "    subprocess.run([\"git\", \"push\", \"-u\", \"origin\", \"main\"])\n",
    "    \n",
    "    return \"Committed to Github\"\n",
    "\n",
    "tools = [github_commit_tool]"
   ]
  },
  {
   "cell_type": "markdown",
   "metadata": {},
   "source": [
    "We added some documentation to our function to abide by the requirements of the tool decorator from langchain."
   ]
  },
  {
   "cell_type": "markdown",
   "metadata": {},
   "source": [
    "Now, let's test if a simple agent can use that tool!"
   ]
  },
  {
   "cell_type": "markdown",
   "metadata": {},
   "source": [
    "Let's start by setting up our prompt template."
   ]
  },
  {
   "cell_type": "code",
   "execution_count": 13,
   "metadata": {},
   "outputs": [],
   "source": [
    "from langchain.agents import AgentExecutor\n",
    "from langchain.prompts import ChatPromptTemplate\n",
    "\n",
    "template = \"\"\"\n",
    "You are a helpful programming assistant. The user will ask you to perform commits to a github repo and you will perform the needed actions and call the necessary\n",
    "functions when needed.\n",
    "Your current task:\n",
    "{input}\n",
    "\"\"\"\n",
    "prompt = ChatPromptTemplate.from_template(template)"
   ]
  },
  {
   "cell_type": "code",
   "execution_count": 22,
   "metadata": {},
   "outputs": [
    {
     "data": {
      "text/plain": [
       "[SystemMessagePromptTemplate(prompt=PromptTemplate(input_variables=[], template='You are a helpful assistant')),\n",
       " MessagesPlaceholder(variable_name='chat_history', optional=True),\n",
       " HumanMessagePromptTemplate(prompt=PromptTemplate(input_variables=['input'], template='{input}')),\n",
       " MessagesPlaceholder(variable_name='agent_scratchpad')]"
      ]
     },
     "execution_count": 22,
     "metadata": {},
     "output_type": "execute_result"
    }
   ],
   "source": [
    "from langchain import hub\n",
    "\n",
    "prompt = hub.pull(\"hwchase17/openai-functions-agent\")\n",
    "prompt.messages"
   ]
  },
  {
   "cell_type": "code",
   "execution_count": 23,
   "metadata": {},
   "outputs": [],
   "source": [
    "from langchain.agents import create_openai_functions_agent\n",
    "from langchain_openai import ChatOpenAI\n",
    "\n",
    "llm_chat = ChatOpenAI(temperature=0)\n",
    "agent = create_openai_functions_agent(llm_chat, tools, prompt)"
   ]
  },
  {
   "cell_type": "code",
   "execution_count": 24,
   "metadata": {},
   "outputs": [],
   "source": [
    "from langchain.agents import AgentExecutor\n",
    "\n",
    "\n",
    "agent_executor = AgentExecutor(agent=agent,tools=tools, verbose=True)"
   ]
  },
  {
   "cell_type": "code",
   "execution_count": 27,
   "metadata": {},
   "outputs": [
    {
     "name": "stdout",
     "output_type": "stream",
     "text": [
      "\n",
      "\n",
      "\u001b[1m> Entering new AgentExecutor chain...\u001b[0m\n",
      "\u001b[32;1m\u001b[1;3m\n",
      "Invoking: `github_commit_tool` with `{'commit_message': 'Some test commit'}`\n",
      "\n",
      "\n",
      "\u001b[0m[main 58cf923] Some test commit\n",
      " 1 file changed, 138 insertions(+), 71 deletions(-)\n"
     ]
    },
    {
     "name": "stderr",
     "output_type": "stream",
     "text": [
      "To https://github.com/EnkrateiaLucca/oreilly_live_training_agents.git\n",
      " ! [rejected]        main -> main (non-fast-forward)\n",
      "error: failed to push some refs to 'https://github.com/EnkrateiaLucca/oreilly_live_training_agents.git'\n",
      "hint: Updates were rejected because the tip of your current branch is behind\n",
      "hint: its remote counterpart. Integrate the remote changes (e.g.\n",
      "hint: 'git pull ...') before pushing again.\n",
      "hint: See the 'Note about fast-forwards' in 'git push --help' for details.\n"
     ]
    },
    {
     "name": "stdout",
     "output_type": "stream",
     "text": [
      "\u001b[36;1m\u001b[1;3mCommitted to Github\u001b[0m\u001b[32;1m\u001b[1;3mA commit with the message 'Some test commit' has been created on Github.\u001b[0m\n",
      "\n",
      "\u001b[1m> Finished chain.\u001b[0m\n"
     ]
    },
    {
     "data": {
      "text/plain": [
       "{'input': \"Create a github commit with the message 'Some test commit'\",\n",
       " 'output': \"A commit with the message 'Some test commit' has been created on Github.\"}"
      ]
     },
     "execution_count": 27,
     "metadata": {},
     "output_type": "execute_result"
    }
   ],
   "source": [
    "agent_executor.invoke({\"input\": \"Create a github commit with the message 'Some test commit'\"})"
   ]
  },
  {
   "cell_type": "markdown",
   "metadata": {},
   "source": [
    "And voila, the agent calls the right function and creates the commit!\n",
    "\n",
    "(ignore the github related error, let's focus on the agent capabilities)."
   ]
  },
  {
   "cell_type": "markdown",
   "metadata": {},
   "source": [
    "And voila! We made a commit!\n",
    "\n",
    "![](2023-10-30-13-04-20.png)"
   ]
  },
  {
   "cell_type": "markdown",
   "metadata": {},
   "source": [
    "Ok, this is cool but, we can go beyond that, and add the ability to create a file and then commit that file to our desired repository. Let's do that!\n",
    "\n",
    "To do it all we have to do is amplify the Agent's toolkit with another tool that can create files in the current folder."
   ]
  },
  {
   "cell_type": "markdown",
   "metadata": {},
   "source": [
    "Perfect! Now, let's add this to our github agent"
   ]
  },
  {
   "cell_type": "code",
   "execution_count": 28,
   "metadata": {},
   "outputs": [],
   "source": [
    "@tool\n",
    "def create_file_tool(file_contents):\n",
    "    \"\"\"This function creates a file with the contents and file path provided as inputs.\"\"\"\n",
    "    with open(\"file.py\", \"w\") as f:\n",
    "        f.write(file_contents)\n",
    "    \n",
    "    return \"File created\""
   ]
  },
  {
   "cell_type": "markdown",
   "metadata": {},
   "source": [
    "Now, let's add that functionality to our agent by just updating the tools list."
   ]
  },
  {
   "cell_type": "code",
   "execution_count": 29,
   "metadata": {},
   "outputs": [],
   "source": [
    "tools = [github_commit_tool, create_file_tool]"
   ]
  },
  {
   "cell_type": "markdown",
   "metadata": {},
   "source": [
    "Now, let's modify our agent with its new toolkit"
   ]
  },
  {
   "cell_type": "code",
   "execution_count": 30,
   "metadata": {},
   "outputs": [],
   "source": [
    "agent = create_openai_functions_agent(llm_chat, tools, prompt)"
   ]
  },
  {
   "cell_type": "code",
   "execution_count": 31,
   "metadata": {},
   "outputs": [],
   "source": [
    "agent_executor = AgentExecutor(agent=agent, tools=tools, verbose=True)"
   ]
  },
  {
   "cell_type": "markdown",
   "metadata": {},
   "source": [
    "Now, let's try using both tools in a call to see if the agent can do something slightly more complex now."
   ]
  },
  {
   "cell_type": "code",
   "execution_count": 32,
   "metadata": {},
   "outputs": [
    {
     "name": "stdout",
     "output_type": "stream",
     "text": [
      "\n",
      "\n",
      "\u001b[1m> Entering new AgentExecutor chain...\u001b[0m\n",
      "\u001b[32;1m\u001b[1;3m\n",
      "Invoking: `create_file_tool` with `{'file_contents': 'def sum_numbers(a, b):\\n    return a + b'}`\n",
      "\n",
      "\n",
      "\u001b[0m\u001b[33;1m\u001b[1;3mFile created\u001b[0m\u001b[32;1m\u001b[1;3m\n",
      "Invoking: `github_commit_tool` with `{'commit_message': 'Add code for summing two numbers'}`\n",
      "\n",
      "\n",
      "\u001b[0m[main fda9a37] Add code for summing two numbers\n",
      " 1 file changed, 2 insertions(+)\n",
      " create mode 100644 notebooks/file.py\n"
     ]
    },
    {
     "name": "stderr",
     "output_type": "stream",
     "text": [
      "To https://github.com/EnkrateiaLucca/oreilly_live_training_agents.git\n",
      "   ef22ee1..fda9a37  main -> main\n"
     ]
    },
    {
     "name": "stdout",
     "output_type": "stream",
     "text": [
      "branch 'main' set up to track 'origin/main'.\n",
      "\u001b[36;1m\u001b[1;3mCommitted to Github\u001b[0m\u001b[32;1m\u001b[1;3mThe Python code for summing two numbers has been saved to a file and committed to your GitHub repository.\u001b[0m\n",
      "\n",
      "\u001b[1m> Finished chain.\u001b[0m\n"
     ]
    },
    {
     "data": {
      "text/plain": [
       "{'input': 'Write Python code for summing two numbers. Output ONLY THE CODE and save that to a file then commit it to our github repository.',\n",
       " 'output': 'The Python code for summing two numbers has been saved to a file and committed to your GitHub repository.'}"
      ]
     },
     "execution_count": 32,
     "metadata": {},
     "output_type": "execute_result"
    }
   ],
   "source": [
    "agent_executor.invoke({\n",
    "    \"input\": \"Write Python code for summing two numbers. Output ONLY THE CODE and save that to a file then commit it to our github repository.\"\n",
    "})"
   ]
  },
  {
   "cell_type": "markdown",
   "metadata": {},
   "source": [
    "And voila again!\n",
    "![](2023-10-30-13-15-38.png)"
   ]
  },
  {
   "cell_type": "markdown",
   "metadata": {},
   "source": [
    "For The Practice Demo We'll stop here, below I show how to expand this for multi-input tools."
   ]
  },
  {
   "cell_type": "markdown",
   "metadata": {},
   "source": [
    "Ok! This is awesome right? Let's just stop for a second and appreciate the simplicity of this implementation and the power that it gives us! Now, on the other hand, we are using a [ZeroShotReactAgent](https://python.langchain.com/docs/modules/agents/agent_types/react#:~:text=Using-,zeroshotreactagent), which is limited when it comes to multi input functions as tools. However, we can easily expand this by leveraging Langchain's amazing [Multi-Input Tools](https://python.langchain.com/docs/modules/agents/tools/multi_input_tool#:~:text=On%20this%20page-,Multi-Input%20Tools,with%20the%20StructuredTool%20class.,-import%20os).\n",
    "\n",
    "Let's do that to modify our current tool: `create_file_tool()` to accept the file's contents as well as a file path, this way we are not restricted in creating just one type of file with a pre-specified name."
   ]
  },
  {
   "cell_type": "code",
   "execution_count": 33,
   "metadata": {},
   "outputs": [
    {
     "data": {
      "text/plain": [
       "'File created'"
      ]
     },
     "execution_count": 33,
     "metadata": {},
     "output_type": "execute_result"
    }
   ],
   "source": [
    "from langchain.tools import StructuredTool\n",
    "\n",
    "def create_file_tool(file_contents: str, file_path: str) -> str:\n",
    "    \"\"\"\n",
    "    Function that creates a file with the contents \n",
    "    and file path provided as inputs.\n",
    "    \"\"\"\n",
    "    with open(file_path, \"w\") as f:\n",
    "        f.write(file_contents)\n",
    "    \n",
    "    return \"File created\"\n",
    "\n",
    "# Let's test it first!\n",
    "create_file_tool(\"print('Hello World')\", \"print_file.py\")"
   ]
  },
  {
   "cell_type": "code",
   "execution_count": 34,
   "metadata": {},
   "outputs": [
    {
     "name": "stdout",
     "output_type": "stream",
     "text": [
      "file.py                            print_file.py\n",
      "function_calls_chatgpt.py          sample_app_to_test_github_agent.py\n"
     ]
    }
   ],
   "source": [
    "!ls *.py"
   ]
  },
  {
   "cell_type": "code",
   "execution_count": 35,
   "metadata": {},
   "outputs": [
    {
     "name": "stdout",
     "output_type": "stream",
     "text": [
      "Hello World\n"
     ]
    }
   ],
   "source": [
    "!python print_file.py"
   ]
  },
  {
   "cell_type": "markdown",
   "metadata": {},
   "source": [
    "Great! Now, let's make it a tool for the agent."
   ]
  },
  {
   "cell_type": "code",
   "execution_count": 36,
   "metadata": {},
   "outputs": [],
   "source": [
    "create_file_tool = StructuredTool.from_function(create_file_tool)"
   ]
  },
  {
   "cell_type": "markdown",
   "metadata": {},
   "source": [
    "And, again, let's update our toolkit and our agent."
   ]
  },
  {
   "cell_type": "code",
   "execution_count": 37,
   "metadata": {},
   "outputs": [],
   "source": [
    "tools = [github_commit_tool, create_file_tool]"
   ]
  },
  {
   "cell_type": "code",
   "execution_count": 38,
   "metadata": {},
   "outputs": [],
   "source": [
    "agent = create_openai_functions_agent(llm_chat, tools, prompt)\n",
    "\n",
    "agent_executor = AgentExecutor(agent=agent, tools=tools, verbose=True)"
   ]
  },
  {
   "cell_type": "markdown",
   "metadata": {},
   "source": [
    "Now, let's test it by asking it to write a simple `README.md` file, giving the agent some context about the project's repo."
   ]
  },
  {
   "cell_type": "code",
   "execution_count": 40,
   "metadata": {},
   "outputs": [
    {
     "name": "stdout",
     "output_type": "stream",
     "text": [
      "\n",
      "\n",
      "\u001b[1m> Entering new AgentExecutor chain...\u001b[0m\n",
      "\u001b[32;1m\u001b[1;3m\n",
      "Invoking: `create_file_tool` with `{'file_contents': '## Toy Example Tutorial\\n\\nThis is a sample tutorial for testing the GitHub agent.\\n\\n1. Step 1: Clone the repository\\n\\n   ```\\n   git clone https://github.com/example-repo.git\\n   ```\\n\\n2. Step 2: Create a new branch\\n\\n   ```\\n   git checkout -b new-branch\\n   ```\\n\\n3. Step 3: Make changes\\n\\n   ```\\n   // Make your changes here\\n   ```\\n\\n4. Step 4: Commit and push\\n\\n   ```\\n   git add .\\n   git commit -m \"Added new feature\"\\n   git push origin new-branch\\n   ```\\n\\n5. Step 5: Create a pull request\\n\\n   ```\\n   // Go to the repository on GitHub\\n   // Click on the \"New pull request\" button\\n   // Select the new-branch as the base branch\\n   // Add a title and description for the pull request\\n   // Click on the \"Create pull request\" button\\n   ```\\n\\n6. Step 6: Review and merge\\n\\n   ```\\n   // Wait for the pull request to be reviewed\\n   // If approved, click on the \"Merge pull request\" button\\n   // Confirm the merge\\n   ```\\n\\nThat\\'s it! You have successfully completed the toy example tutorial.', 'file_path': 'testing-github-agent.md'}`\n",
      "\n",
      "\n",
      "\u001b[0m\u001b[33;1m\u001b[1;3mFile created\u001b[0m\u001b[32;1m\u001b[1;3mI have created a file named \"testing-github-agent.md\" with a sample toy example tutorial.\u001b[0m\n",
      "\n",
      "\u001b[1m> Finished chain.\u001b[0m\n"
     ]
    },
    {
     "data": {
      "text/plain": [
       "{'input': 'Write file named testing-github-agent.md file with a sample toy example tutorial.',\n",
       " 'output': 'I have created a file named \"testing-github-agent.md\" with a sample toy example tutorial.'}"
      ]
     },
     "execution_count": 40,
     "metadata": {},
     "output_type": "execute_result"
    }
   ],
   "source": [
    "agent_executor.invoke({\n",
    "    \"input\": \"Write file named testing-github-agent.md file with a sample toy example tutorial.\"\n",
    "})"
   ]
  },
  {
   "cell_type": "markdown",
   "metadata": {},
   "source": [
    "And again we succeed!\n",
    "\n",
    "![](2023-10-30-13-26-32.png)"
   ]
  },
  {
   "cell_type": "markdown",
   "metadata": {},
   "source": [
    "Ok, before we finish with this example, let's add a last tool to read files from a repo, for situations where we might write some Python code and we want our agent to integrate that Python code into our repository. "
   ]
  },
  {
   "cell_type": "markdown",
   "metadata": {},
   "source": [
    "Again, we follow the same procedure:\n",
    "\n",
    "- Create the tool\n",
    "- Update our tookit\n",
    "- Update our agent\n",
    "- Run a test task to check if it works "
   ]
  },
  {
   "cell_type": "code",
   "execution_count": 41,
   "metadata": {},
   "outputs": [
    {
     "data": {
      "text/plain": [
       "'## Toy Example Tutorial\\n\\nThis is a sample tutorial for testing the GitHub agent.\\n\\n1. Step 1: Clone the repository\\n\\n   ```\\n   git clone https://github.com/example-repo.git\\n   ```\\n\\n2. Step 2: Create a new branch\\n\\n   ```\\n   git checkout -b new-branch\\n   ```\\n\\n3. Step 3: Make changes\\n\\n   ```\\n   // Make your changes here\\n   ```\\n\\n4. Step 4: Commit and push\\n\\n   ```\\n   git add .\\n   git commit -m \"Added new feature\"\\n   git push origin new-branch\\n   ```\\n\\n5. Step 5: Create a pull request\\n\\n   ```\\n   // Go to the repository on GitHub\\n   // Click on the \"New pull request\" button\\n   // Select the new-branch as the base branch\\n   // Add a title and description for the pull request\\n   // Click on the \"Create pull request\" button\\n   ```\\n\\n6. Step 6: Review and merge\\n\\n   ```\\n   // Wait for the pull request to be reviewed\\n   // If approved, click on the \"Merge pull request\" button\\n   // Confirm the merge\\n   ```\\n\\nThat\\'s it! You have successfully completed the toy example tutorial.'"
      ]
     },
     "execution_count": 41,
     "metadata": {},
     "output_type": "execute_result"
    }
   ],
   "source": [
    "def read_file_tool(file_path):\n",
    "    with open(file_path, \"r\") as f:\n",
    "        contents = f.read()\n",
    "    \n",
    "    return contents\n",
    "\n",
    "read_file_tool(\"testing-github-agent.md\")"
   ]
  },
  {
   "cell_type": "markdown",
   "metadata": {},
   "source": [
    "Ok, our function seems to work so let's add it to our toolkit, since its a simple function with only one input we can just add the @tool decorator on top of it."
   ]
  },
  {
   "cell_type": "code",
   "execution_count": 42,
   "metadata": {},
   "outputs": [],
   "source": [
    "@tool\n",
    "def read_file_tool(file_path):\n",
    "    \"\"\"\n",
    "    Simple function to read contents from a file.\n",
    "    \"\"\"\n",
    "    with open(file_path, \"r\") as f:\n",
    "        contents = f.read()\n",
    "    \n",
    "    return contents"
   ]
  },
  {
   "cell_type": "markdown",
   "metadata": {},
   "source": [
    "And we update our toolkit:"
   ]
  },
  {
   "cell_type": "code",
   "execution_count": 43,
   "metadata": {},
   "outputs": [],
   "source": [
    "tools = [github_commit_tool, create_file_tool, read_file_tool]"
   ]
  },
  {
   "cell_type": "markdown",
   "metadata": {},
   "source": [
    "And we update our agent"
   ]
  },
  {
   "cell_type": "code",
   "execution_count": 44,
   "metadata": {},
   "outputs": [],
   "source": [
    "agent = create_openai_functions_agent(llm_chat, tools, prompt)\n",
    "\n",
    "agent_executor = AgentExecutor(agent=agent, tools=tools, verbose=True)"
   ]
  },
  {
   "cell_type": "markdown",
   "metadata": {},
   "source": [
    "Before we run our newly updated agent, let's create a .txt file containing the contents from this notebook so that our agent has something useful to read."
   ]
  },
  {
   "cell_type": "code",
   "execution_count": 53,
   "metadata": {},
   "outputs": [
    {
     "name": "stdout",
     "output_type": "stream",
     "text": [
      "\n",
      "\n",
      "\u001b[1m> Entering new AgentExecutor chain...\u001b[0m\n",
      "\u001b[32;1m\u001b[1;3m\n",
      "Invoking: `read_file_tool` with `{'file_path': './testing-github-agent.md'}`\n",
      "\n",
      "\n",
      "\u001b[0m\u001b[38;5;200m\u001b[1;3m## Toy Example Tutorial\n",
      "\n",
      "This is a sample tutorial for testing the GitHub agent.\n",
      "\n",
      "1. Step 1: Clone the repository\n",
      "\n",
      "   ```\n",
      "   git clone https://github.com/example-repo.git\n",
      "   ```\n",
      "\n",
      "2. Step 2: Create a new branch\n",
      "\n",
      "   ```\n",
      "   git checkout -b new-branch\n",
      "   ```\n",
      "\n",
      "3. Step 3: Make changes\n",
      "\n",
      "   ```\n",
      "   // Make your changes here\n",
      "   ```\n",
      "\n",
      "4. Step 4: Commit and push\n",
      "\n",
      "   ```\n",
      "   git add .\n",
      "   git commit -m \"Added new feature\"\n",
      "   git push origin new-branch\n",
      "   ```\n",
      "\n",
      "5. Step 5: Create a pull request\n",
      "\n",
      "   ```\n",
      "   // Go to the repository on GitHub\n",
      "   // Click on the \"New pull request\" button\n",
      "   // Select the new-branch as the base branch\n",
      "   // Add a title and description for the pull request\n",
      "   // Click on the \"Create pull request\" button\n",
      "   ```\n",
      "\n",
      "6. Step 6: Review and merge\n",
      "\n",
      "   ```\n",
      "   // Wait for the pull request to be reviewed\n",
      "   // If approved, click on the \"Merge pull request\" button\n",
      "   // Confirm the merge\n",
      "   ```\n",
      "\n",
      "That's it! You have successfully completed the toy example tutorial.\u001b[0m\u001b[32;1m\u001b[1;3m\n",
      "Invoking: `create_file_tool` with `{'file_contents': '# Summary of Tutorial\\n\\nThis tutorial provides a step-by-step guide on how to use the GitHub agent to clone a repository, create a new branch, make changes, commit and push the changes, create a pull request, and review and merge the pull request.', 'file_path': './summary_tutorial.md'}`\n",
      "\n",
      "\n",
      "\u001b[0m\u001b[33;1m\u001b[1;3mFile created\u001b[0m\u001b[32;1m\u001b[1;3m\n",
      "Invoking: `github_commit_tool` with `{'commit_message': 'Add summary tutorial file'}`\n",
      "\n",
      "\n",
      "\u001b[0m[main d3fc425] Add summary tutorial file\n",
      " 4 files changed, 122 insertions(+), 664 deletions(-)\n",
      " create mode 100644 notebooks/print_file.py\n",
      " create mode 100644 notebooks/summary_tutorial.md\n",
      " create mode 100644 notebooks/testing-github-agent.md\n"
     ]
    },
    {
     "name": "stderr",
     "output_type": "stream",
     "text": [
      "To https://github.com/EnkrateiaLucca/oreilly_live_training_agents.git\n",
      "   fda9a37..d3fc425  main -> main\n"
     ]
    },
    {
     "name": "stdout",
     "output_type": "stream",
     "text": [
      "branch 'main' set up to track 'origin/main'.\n",
      "\u001b[36;1m\u001b[1;3mCommitted to Github\u001b[0m\u001b[32;1m\u001b[1;3mI have created a file named `summary_tutorial.md` containing a sentence summary of the contents in the `./testing-github-agent.md` file. I have also made a commit with the message \"Add summary tutorial file\".\u001b[0m\n",
      "\n",
      "\u001b[1m> Finished chain.\u001b[0m\n"
     ]
    },
    {
     "data": {
      "text/plain": [
       "{'input': 'Write a file named summary_tutorial.md containing a sentence summary of the contents in the ./testing-github-agent.md file and make a commit.',\n",
       " 'output': 'I have created a file named `summary_tutorial.md` containing a sentence summary of the contents in the `./testing-github-agent.md` file. I have also made a commit with the message \"Add summary tutorial file\".'}"
      ]
     },
     "execution_count": 53,
     "metadata": {},
     "output_type": "execute_result"
    }
   ],
   "source": [
    "agent_executor.invoke(\n",
    "    {\n",
    "    \"input\": \"Write a file named summary_tutorial.md containing a sentence summary of the contents in the ./testing-github-agent.md file and make a commit.\"\n",
    "    }\n",
    "                      )"
   ]
  },
  {
   "cell_type": "code",
   "execution_count": 55,
   "metadata": {},
   "outputs": [
    {
     "name": "stdout",
     "output_type": "stream",
     "text": [
      "# Summary of Tutorial\n",
      "\n",
      "This tutorial provides a step-by-step guide on how to use the GitHub agent to clone a repository, create a new branch, make changes, commit and push the changes, create a pull request, and review and merge the pull request."
     ]
    }
   ],
   "source": [
    "!cat summary_tutorial.md"
   ]
  },
  {
   "cell_type": "markdown",
   "metadata": {},
   "source": [
    "![](2023-10-30-13-42-25.png)"
   ]
  },
  {
   "cell_type": "markdown",
   "metadata": {},
   "source": [
    "I think this is a great usecase for agents like these even if sometimes the performance and reliability is a bit off, because now, its a matter of optimizing the edges to get it to work for complex use cases."
   ]
  }
 ],
 "metadata": {
  "kernelspec": {
   "display_name": "oreilly-langchain",
   "language": "python",
   "name": "oreilly-langchain"
  },
  "language_info": {
   "codemirror_mode": {
    "name": "ipython",
    "version": 3
   },
   "file_extension": ".py",
   "mimetype": "text/x-python",
   "name": "python",
   "nbconvert_exporter": "python",
   "pygments_lexer": "ipython3",
   "version": "3.11.5"
  }
 },
 "nbformat": 4,
 "nbformat_minor": 2
}
