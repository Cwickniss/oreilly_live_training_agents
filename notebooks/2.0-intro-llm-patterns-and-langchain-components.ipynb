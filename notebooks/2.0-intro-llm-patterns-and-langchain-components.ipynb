{
 "cells": [
  {
   "cell_type": "markdown",
   "metadata": {},
   "source": [
    "This notebook was inspired by this Anthropic's blog post:\n",
    "- https://www.anthropic.com/research/building-effective-agents\n",
    "\n",
    "and this source code:\n",
    "- https://github.com/anthropics/anthropic-cookbook/blob/main/patterns/agents/basic_workflows.ipynb"
   ]
  },
  {
   "cell_type": "markdown",
   "metadata": {},
   "source": [
    "In this notebook we will implement the essential patterns for working with LLMs that serve as a great introduction to LangChain components!"
   ]
  },
  {
   "cell_type": "code",
   "execution_count": null,
   "metadata": {},
   "outputs": [],
   "source": [
    "%pip install openai>1.50.0 langchain>0.3.0 langgraph langchainhub langchain-openai langchain-community langchain-cli langchain_ollama tavily-python>=0.5.0 langchain_nomic nomic[local] langserve faiss-cpu tiktoken pypdf chroma jira google-search-results numexpr beautifulsoup4 scikit-learn"
   ]
  },
  {
   "cell_type": "code",
   "execution_count": null,
   "metadata": {},
   "outputs": [],
   "source": [
    "from openai import OpenAI\n",
    "client = OpenAI()"
   ]
  },
  {
   "cell_type": "markdown",
   "metadata": {},
   "source": [
    "# Chain Pattern"
   ]
  },
  {
   "cell_type": "code",
   "execution_count": null,
   "metadata": {},
   "outputs": [],
   "source": [
    "def llm_call(prompt_question):\n",
    "    response = client.chat.completions.create(\n",
    "        model=\"gpt-4o-mini\",\n",
    "        messages=[{\"role\": \"system\", \"content\": \"You are a helpful assistant.\"},\n",
    "                  {\"role\": \"user\", \"content\": prompt_question}]\n",
    "    )\n",
    "    \n",
    "    return response.choices[0].message.content\n",
    "\n",
    "def chain(input, prompts):\n",
    "    result = input\n",
    "    for i, prompt in prompts:\n",
    "        print(f\"Step: {i}\")\n",
    "        result = llm_call(f\"{prompt}: \\n\\n{result}\")\n",
    "        print(result)\n",
    "    \n",
    "    return result"
   ]
  },
  {
   "cell_type": "code",
   "execution_count": null,
   "metadata": {},
   "outputs": [
    {
     "name": "stdout",
     "output_type": "stream",
     "text": [
      "Running analysis chain...\n",
      "Step: 1\n",
      "The text conveys several main themes and topics related to the rise of artificial intelligence (AI). Here are the key points identified:\n",
      "\n",
      "1. **Impact of AI on Industries**: The text highlights how AI has transformed various sectors, specifically mentioning:\n",
      "   - **Healthcare**: Improvements in diagnostic accuracy and treatment planning.\n",
      "   - **Manufacturing**: Increased efficiency through predictive maintenance and automated quality control.\n",
      "\n",
      "2. **Ethical Considerations**: The advancements associated with AI raise significant ethical questions, including:\n",
      "   - **Privacy**: Concerns about how data is collected, stored, and used.\n",
      "   - **Job Displacement**: The impact of automation on employment and workforce dynamics.\n",
      "   - **Human Decision-Making**: The role and importance of human involvement in decision-making processes as machines become more capable.\n",
      "\n",
      "Overall, the text discusses both the positive transformations brought about by AI and the associated challenges that need to be addressed.\n",
      "Step: 2\n",
      "Certainly! Here are specific examples related to each theme identified in the text regarding the rise of artificial intelligence (AI):\n",
      "\n",
      "1. **Impact of AI on Industries**:\n",
      "   - **Healthcare**: The text describes advancements in AI technologies that have significantly enhanced diagnostic accuracy. For instance, AI algorithms can analyze medical imaging with a level of precision that aids healthcare professionals in identifying diseases at earlier stages. Additionally, AI-driven treatment planning systems help doctors tailor individualized therapies based on patient data, leading to improved health outcomes.\n",
      "   - **Manufacturing**: The text details how AI has revolutionized manufacturing processes by introducing predictive maintenance solutions. These AI systems monitor equipment and predict when failures are likely to occur, thereby reducing downtime. Furthermore, automated quality control systems utilize machine learning to detect defects in products, ensuring higher quality and consistency in output.\n",
      "\n",
      "2. **Ethical Considerations**:\n",
      "   - **Privacy**: Concerns about privacy are raised in the text, particularly regarding the vast amounts of data collected by AI systems from users and their interactions. The text highlights the importance of establishing regulations and protective measures to ensure that personal data is handled responsibly and that individuals retain control over their information.\n",
      "   - **Job Displacement**: The text addresses the potential job displacement resulting from widespread automation due to AI. It offers examples of industries where traditional roles are being replaced by machines, leading to concerns about unemployment and the need for workforce retraining programs to help affected individuals transition to new job opportunities.\n",
      "   - **Human Decision-Making**: The text emphasizes the necessity of maintaining human involvement in critical decision-making processes, particularly in areas like healthcare and justice. It raises questions about accountability and the importance of human judgment alongside AI capabilities, arguing for a balanced approach that leverages machine intelligence while still valuing human insight.\n",
      "\n",
      "Overall, the text encapsulates a dual narrative: while it celebrates the innovative strides made possible by AI, it also prompts critical reflection on the ethical implications that accompany such technological advancements.\n",
      "Step: 3\n",
      "The text explores the transformative effects of artificial intelligence (AI) across various industries while also addressing significant ethical concerns. \n",
      "\n",
      "One major theme is the **impact of AI on industries**. In **healthcare**, AI technologies have greatly improved diagnostic accuracy through advanced algorithms capable of analyzing medical images, which facilitates earlier disease detection. Additionally, AI-driven treatment planning systems are personalized, leading to enhanced health outcomes for patients. In the realm of **manufacturing**, AI has modernized operations with predictive maintenance solutions that monitor equipment health and foresee potential failures, thereby minimizing downtime. Automated quality control systems employ machine learning to identify defects, ensuring higher product quality and consistency.\n",
      "\n",
      "Another critical theme is the **ethical considerations** surrounding AI deployment. One pressing issue is **privacy**, as AI systems often collect and analyze vast amounts of personal data from users. The text underscores the urgent need for regulations to protect individual data rights and ensure it is used responsibly. Another ethical concern is **job displacement**, as automation threatens traditional roles in various sectors, creating challenges related to unemployment and the need for retraining programs to assist displaced workers in transitioning to new opportunities. The text also highlights the significance of **human decision-making** within critical areas like healthcare and justice, advocating for a collaborative approach where human judgment complements AI capabilities, ensuring accountability and ethical integrity.\n",
      "\n",
      "In summary, the discussion provided in the text presents a balanced view of AI's potential benefits across industries alongside a candid examination of the ethical dilemmas it poses, encouraging a thoughtful approach to its continued integration into society.\n",
      "Step: 4\n",
      "Here are three discussion questions based on the analysis:\n",
      "\n",
      "1. **Impact on Healthcare and Workforce**: How do the advancements in AI within healthcare, such as improved diagnostic accuracy and personalized treatment plans, balance against the potential for job displacement among healthcare professionals? What measures can be taken to ensure that AI serves as a tool for enhancement rather than a replacement in this sector?\n",
      "\n",
      "2. **Ethics of Data Usage**: Considering the ethical concerns surrounding privacy and data collection by AI systems, what specific regulations and frameworks should be implemented to protect individual data rights? How can stakeholders ensure that AI systems are developed and deployed responsibly without compromising user privacy?\n",
      "\n",
      "3. **Collaborative Decision-Making**: In critical fields like healthcare and justice, how can organizations create effective systems that enable cooperative decision-making between humans and AI? What best practices should be established to maintain accountability and ethical standards while leveraging the capabilities of AI in these sensitive areas?\n",
      "Here are three discussion questions based on the analysis:\n",
      "\n",
      "1. **Impact on Healthcare and Workforce**: How do the advancements in AI within healthcare, such as improved diagnostic accuracy and personalized treatment plans, balance against the potential for job displacement among healthcare professionals? What measures can be taken to ensure that AI serves as a tool for enhancement rather than a replacement in this sector?\n",
      "\n",
      "2. **Ethics of Data Usage**: Considering the ethical concerns surrounding privacy and data collection by AI systems, what specific regulations and frameworks should be implemented to protect individual data rights? How can stakeholders ensure that AI systems are developed and deployed responsibly without compromising user privacy?\n",
      "\n",
      "3. **Collaborative Decision-Making**: In critical fields like healthcare and justice, how can organizations create effective systems that enable cooperative decision-making between humans and AI? What best practices should be established to maintain accountability and ethical standards while leveraging the capabilities of AI in these sensitive areas?\n"
     ]
    }
   ],
   "source": [
    "# Example prompts for a multi-step analysis chain\n",
    "analysis_prompts = [\n",
    "    (1, \"Analyze this text and identify the main themes and topics\"),\n",
    "    (2, \"For each theme identified, provide specific examples from the text\"),\n",
    "    (3, \"Synthesize the themes and examples into a coherent summary\"),\n",
    "    (4, \"Generate 3 discussion questions based on the analysis\")\n",
    "]\n",
    "\n",
    "# Sample input text\n",
    "sample_text = \"\"\"\n",
    "The rise of artificial intelligence has transformed multiple industries in the past decade. \n",
    "Healthcare has seen improvements in diagnosis accuracy and treatment planning. \n",
    "Manufacturing has become more efficient with predictive maintenance and automated quality control.\n",
    "However, these advancements also raise important ethical questions about privacy, job displacement, \n",
    "and the role of human decision-making in an increasingly automated world.\n",
    "\"\"\"\n",
    "\n",
    "# Run the chain\n",
    "print(\"Running analysis chain...\")\n",
    "final_result = chain(sample_text, analysis_prompts)\n",
    "print(final_result)"
   ]
  },
  {
   "cell_type": "markdown",
   "metadata": {},
   "source": [
    "# Parallel Pattern"
   ]
  },
  {
   "cell_type": "code",
   "execution_count": null,
   "metadata": {},
   "outputs": [],
   "source": [
    "from concurrent.futures import ThreadPoolExecutor"
   ]
  },
  {
   "cell_type": "code",
   "execution_count": null,
   "metadata": {},
   "outputs": [
    {
     "data": {
      "text/plain": [
       "['Climate change is resulting in rising sea levels and increased extreme weather events, threatening agriculture, infrastructure, and communities, especially in coastal and developing areas.',\n",
       " 'Quantum computers are a significant technological advancement that can perform complex calculations much faster than classical computers, with transformative effects on cryptography and drug discovery.',\n",
       " 'Social media platforms have revolutionized communication and information sharing, fostering global connections while also introducing concerns about privacy, misinformation, and mental health, and transforming marketing and activism.']"
      ]
     },
     "metadata": {},
     "output_type": "display_data"
    }
   ],
   "source": [
    "def parallel(prompt, inputs, n_workers=3):\n",
    "    with ThreadPoolExecutor(max_workers=n_workers) as executor:\n",
    "        futures = [executor.submit(llm_call, f\"{prompt}: \\n {input}\") for input in inputs]\n",
    "    \n",
    "    return [f.result() for f in futures]\n",
    "\n",
    "\n",
    "prompt = \"Summarize this paragraph in one sentence\"\n",
    "inputs = [\n",
    "    \"\"\"\n",
    "    Climate change is causing rising sea levels and extreme weather patterns globally. \n",
    "    Scientists have observed accelerating ice melt in polar regions, leading to coastal \n",
    "    flooding in low-lying areas. Additionally, communities worldwide are experiencing \n",
    "    more frequent and severe hurricanes, droughts, and other extreme weather events. \n",
    "    These changes pose significant risks to agriculture, infrastructure, and human \n",
    "    populations, particularly in vulnerable coastal regions and developing nations.\n",
    "    \"\"\",\n",
    "    \"\"\"\n",
    "    The development of quantum computers represents a major technological breakthrough\n",
    "    with far-reaching implications. These powerful machines leverage quantum mechanical\n",
    "    properties to perform complex calculations exponentially faster than classical computers.\n",
    "    In the field of cryptography, quantum computers could break many current encryption\n",
    "    methods while enabling new unbreakable encryption protocols. For drug discovery,\n",
    "    quantum computers could simulate molecular interactions with unprecedented accuracy,\n",
    "    potentially accelerating the development of new medicines and treatments for diseases.\n",
    "    \"\"\",\n",
    "    \"\"\"\n",
    "    Social media platforms have transformed how people communicate and share information\n",
    "    in the modern digital age. Platforms like Facebook, Twitter, and Instagram have created\n",
    "    virtual communities where users can instantly connect with friends and family across the\n",
    "    globe. These platforms enable the rapid spread of news, ideas, and cultural trends,\n",
    "    while also raising concerns about privacy, misinformation, and the impact on mental\n",
    "    health. The rise of social media has also revolutionized marketing, activism, and\n",
    "    how businesses engage with their customers.\n",
    "    \"\"\"\n",
    "]\n",
    "\n",
    "parallel(prompt, inputs)"
   ]
  },
  {
   "cell_type": "markdown",
   "metadata": {},
   "source": [
    "# Router Pattern"
   ]
  },
  {
   "cell_type": "code",
   "execution_count": null,
   "metadata": {},
   "outputs": [
    {
     "data": {
      "text/plain": [
       "'software engineer'"
      ]
     },
     "metadata": {},
     "output_type": "display_data"
    }
   ],
   "source": [
    "from enum import Enum\n",
    "from pydantic import BaseModel, Field \n",
    "from typing import List\n",
    "\n",
    "\n",
    "class ProfileRouter(BaseModel):\n",
    "    selected_profile: str = Field(description=\"You return one of 3 profiles: [hr, software engineer, product manager]\")\n",
    "    \n",
    "\n",
    "def llm_call_route(problem):\n",
    "    '''Selects which profile to use to analyse the input.'''\n",
    "    response = client.beta.chat.completions.parse(\n",
    "        model='gpt-4o-mini',\n",
    "        messages=[{'role': 'system', 'content': \"\"\"\n",
    "                   You select which of the following profiles should be used to solve a problem given as input:\n",
    "                   1. hr\n",
    "                   2. software engineer\n",
    "                   3. product manager\n",
    "                   Your output is solely the choosen profile string.\n",
    "                   \"\"\"},\n",
    "                  {'role': 'user', 'content': f\"We had this problem: \\n {problem}. Output the appropriate profile to solve it:\\n\"}],\n",
    "        response_format=ProfileRouter\n",
    "    )\n",
    "    return response.choices[0].message.parsed.selected_profile\n",
    "    \n",
    "\n",
    "llm_call_route(\"I need to fix this bug in our codebase\")"
   ]
  },
  {
   "cell_type": "code",
   "execution_count": null,
   "metadata": {},
   "outputs": [],
   "source": [
    "from typing import Dict\n",
    "\n",
    "\n",
    "def router(input, routes: Dict[str, str]):\n",
    "    \n",
    "    route_response = llm_call_route(input)\n",
    "    \n",
    "    selected_prompt = routes[route_response]\n",
    "    \n",
    "    return llm_call(selected_prompt + f\"Input: {input}\")       "
   ]
  },
  {
   "cell_type": "code",
   "execution_count": null,
   "metadata": {},
   "outputs": [
    {
     "name": "stdout",
     "output_type": "stream",
     "text": [
      "\n",
      "Problem: We need to improve our onboarding process for new employees to increase retention\n",
      "Response: hr\n",
      "\n",
      "Problem: The authentication service is throwing intermittent 500 errors in production\n",
      "Response: software engineer\n",
      "\n",
      "Problem: Our user engagement metrics have dropped 20% since the last release\n",
      "Response: product manager\n"
     ]
    }
   ],
   "source": [
    "routes_profiles = {\n",
    "    'hr': \"\"\"You are an experienced HR professional focused on employee relations, recruitment, and workplace policies.\n",
    "    Your expertise includes conflict resolution, talent acquisition, performance management, and ensuring compliance with labor laws.\n",
    "    Analyze the input from an HR perspective and provide appropriate guidance.\"\"\",\n",
    "    \n",
    "    'software engineer': \"\"\"You are a senior software engineer with deep technical expertise in software development, architecture, and best practices.\n",
    "    Your skills include debugging, code optimization, system design, and technical problem-solving.\n",
    "    Analyze the input from an engineering perspective and provide technical solutions.\"\"\",\n",
    "    \n",
    "    'product manager': \"\"\"You are a seasoned product manager skilled in product strategy, user experience, and market analysis.\n",
    "    Your expertise includes feature prioritization, roadmap planning, stakeholder management, and data-driven decision making.\n",
    "    Analyze the input from a product perspective and provide strategic recommendations.\"\"\"\n",
    "}\n",
    "\n",
    "problems = [\n",
    "    \"We need to improve our onboarding process for new employees to increase retention\",\n",
    "    \"The authentication service is throwing intermittent 500 errors in production\",\n",
    "    \"Our user engagement metrics have dropped 20% since the last release\"\n",
    "]\n",
    "\n",
    "# Test the router with each problem\n",
    "for problem in problems:\n",
    "    print(f\"\\nProblem: {problem}\")\n",
    "    print(f\"Response: {router(problem, routes_profiles)}\")"
   ]
  },
  {
   "cell_type": "markdown",
   "metadata": {},
   "source": [
    "Now, that've learned these 3 basic patterns let's look at them implemented with LangChain to understand what LangChain tries to introduce with it's framework."
   ]
  },
  {
   "cell_type": "markdown",
   "metadata": {},
   "source": [
    "# Chains in LangChain"
   ]
  },
  {
   "cell_type": "markdown",
   "metadata": {},
   "source": [
    "Now, first thing to note before reproducing the chain pattern in langchain is nomenclature, in LangChain, they define chain\n",
    "as a composable building block built on top of a specialized interface named: [`Runnable Interface`](https://python.langchain.com/docs/concepts/runnables/), so instead of it being this action of chaining things together, it's the chainable thing itself!"
   ]
  },
  {
   "cell_type": "markdown",
   "metadata": {},
   "source": [
    "Now, the concept remains the same:\n",
    "\n",
    "- Composing calls to an LLM\n",
    "\n",
    "Let's see how that would be done with LangChain."
   ]
  },
  {
   "cell_type": "markdown",
   "metadata": {},
   "source": [
    "Before we wrote:"
   ]
  },
  {
   "cell_type": "code",
   "execution_count": null,
   "metadata": {},
   "outputs": [],
   "source": [
    "def llm_call(prompt_question):\n",
    "    response = client.chat.completions.create(\n",
    "        model=\"gpt-4o-mini\",\n",
    "        messages=[{\"role\": \"system\", \"content\": \"You are a helpful assistant.\"},\n",
    "                  {\"role\": \"user\", \"content\": prompt_question}]\n",
    "    )\n",
    "    \n",
    "    return response.choices[0].message.content\n",
    "\n",
    "def chain(input, prompts):\n",
    "    result = input\n",
    "    for i, prompt in prompts:\n",
    "        print(f\"Step: {i}\")\n",
    "        result = llm_call(f\"{prompt}: \\n\\n{result}\")\n",
    "        print(result)\n",
    "    \n",
    "    return result"
   ]
  },
  {
   "cell_type": "markdown",
   "metadata": {},
   "source": [
    "- The `llm_call()` function calls the LLM simply.\n",
    "- The `chain` function takes in an input and a list of prompts and runs all the prompts on that input in sequence."
   ]
  },
  {
   "cell_type": "markdown",
   "metadata": {},
   "source": [
    "<!-- This approach means that if we wanted each prompt for example to be used with a different LLM, that would require rewriting the implementations.\n",
    "\n",
    "LangChain assumes this flexibility from the start! -->"
   ]
  },
  {
   "cell_type": "code",
   "execution_count": 4,
   "metadata": {},
   "outputs": [],
   "source": [
    "import os\n",
    "# os.environ[\"LANGCHAIN_API_KEY\"] =\n",
    "os.environ[\"LANGCHAIN_TRACING_V2\"] = \"true\" \n",
    "os.environ[\"LANGCHAIN_ENDPOINT\"] = \"https://api.smith.langchain.com\"\n",
    "os.environ[\"LANGCHAIN_PROJECT\"]=\"default\"  # if not specified, "
   ]
  },
  {
   "cell_type": "code",
   "execution_count": 3,
   "metadata": {},
   "outputs": [
    {
     "data": {
      "text/plain": [
       "'Hello! How can I assist you today?'"
      ]
     },
     "execution_count": 3,
     "metadata": {},
     "output_type": "execute_result"
    }
   ],
   "source": [
    "from langchain_core.prompts import ChatPromptTemplate\n",
    "from langchain_openai import ChatOpenAI\n",
    "\n",
    "def llm_call(prompt):\n",
    "    return ChatOpenAI(model=\"gpt-4o-mini\").invoke(prompt).content\n",
    "\n",
    "llm_call(\"hi\")"
   ]
  },
  {
   "cell_type": "code",
   "execution_count": 3,
   "metadata": {},
   "outputs": [
    {
     "data": {
      "text/plain": [
       "AIMessage(content='Here are three discussion questions based on the provided analysis of the rise of artificial intelligence (AI) and its impact across various sectors:\\n\\n1. **Industry Transformation**: How do you think the integration of AI in industries like healthcare and manufacturing will evolve in the next decade, and what new challenges might arise as these technologies continue to develop?\\n\\n2. **Ethical Implications**: Considering the ethical concerns surrounding AI, such as privacy and job displacement, what measures should organizations and governments implement to mitigate these issues while harnessing the benefits of AI technologies?\\n\\n3. **Human Oversight**: In what ways can we ensure that human decision-making remains central in environments increasingly influenced by AI? What strategies could be employed to balance the efficiency of AI with the need for human judgment and oversight?', additional_kwargs={'refusal': None}, response_metadata={'token_usage': {'completion_tokens': 158, 'prompt_tokens': 574, 'total_tokens': 732, 'completion_tokens_details': {'audio_tokens': 0, 'reasoning_tokens': 0, 'accepted_prediction_tokens': 0, 'rejected_prediction_tokens': 0}, 'prompt_tokens_details': {'audio_tokens': 0, 'cached_tokens': 0}}, 'model_name': 'gpt-4o-mini-2024-07-18', 'system_fingerprint': 'fp_bd83329f63', 'finish_reason': 'stop', 'logprobs': None}, id='run-a1ab0410-bf05-4da5-8cc6-4e84cc57d4cc-0', usage_metadata={'input_tokens': 574, 'output_tokens': 158, 'total_tokens': 732, 'input_token_details': {'audio': 0, 'cache_read': 0}, 'output_token_details': {'audio': 0, 'reasoning': 0}})"
      ]
     },
     "execution_count": 3,
     "metadata": {},
     "output_type": "execute_result"
    }
   ],
   "source": [
    "analysis_prompts = [\n",
    "    (1, \"Analyze this text and identify the main themes and topics\"),\n",
    "    (2, \"For each theme identified, provide specific examples from the text\"),\n",
    "    (3, \"Synthesize the themes and examples into a coherent summary\"),\n",
    "    (4, \"Generate 3 discussion questions based on the analysis\")\n",
    "]\n",
    "\n",
    "# Sample input text\n",
    "sample_text = \"\"\"\n",
    "The rise of artificial intelligence has transformed multiple industries in the past decade. \n",
    "Healthcare has seen improvements in diagnosis accuracy and treatment planning. \n",
    "Manufacturing has become more efficient with predictive maintenance and automated quality control.\n",
    "However, these advancements also raise important ethical questions about privacy, job displacement, \n",
    "and the role of human decision-making in an increasingly automated world.\n",
    "\"\"\"\n",
    "\n",
    "prompt1 = ChatPromptTemplate.from_template(\"Analyze this text and identify the main themes and topics: {input}\")\n",
    "llm = ChatOpenAI(model=\"gpt-4o-mini\")\n",
    "chain1 = prompt1 | llm\n",
    "\n",
    "prompt2 = ChatPromptTemplate.from_template(\"For each theme identified, provide specific examples from the text: {input}\")\n",
    "chain2 = prompt2 | llm\n",
    "\n",
    "prompt3 = ChatPromptTemplate.from_template(\"Synthesize the themes and examples into a coherent summary: {input}\")\n",
    "chain3 = prompt3 | llm\n",
    "\n",
    "prompt4 = ChatPromptTemplate.from_template(\"Generate 3 discussion questions based on the analysis: {input}\")\n",
    "chain4 = prompt4 | llm\n",
    "\n",
    "final_chain = chain1 | chain2 | chain3 | chain4\n",
    "\n",
    "output = final_chain.invoke({\"input\": sample_text})\n",
    "output"
   ]
  },
  {
   "cell_type": "markdown",
   "metadata": {},
   "source": [
    "We could simplify this by writing a function to abstract the creation of each chain block (runnable)."
   ]
  },
  {
   "cell_type": "code",
   "execution_count": 2,
   "metadata": {},
   "outputs": [],
   "source": [
    "from langchain_core.runnables import RunnableSequence\n",
    "\n",
    "def create_runnable_chain(prompt):\n",
    "    return ChatPromptTemplate.from_template(prompt) | llm"
   ]
  },
  {
   "cell_type": "code",
   "execution_count": 20,
   "metadata": {},
   "outputs": [
    {
     "name": "stdout",
     "output_type": "stream",
     "text": [
      "content='Here are three discussion questions based on the analysis of the impact of artificial intelligence (AI):\\n\\n1. **Transformation of Industries**: How do you envision the ongoing transformation of industries by AI will shape the workforce in the next decade? What skills do you think will become essential for workers in sectors heavily influenced by AI, such as healthcare and manufacturing?\\n\\n2. **Ethical Considerations**: In light of the ethical challenges posed by AI, particularly regarding privacy and job displacement, what measures should organizations and governments take to ensure that the benefits of AI are distributed equitably while minimizing harm to individuals and communities?\\n\\n3. **Human Decision-Making**: As AI systems become increasingly integrated into decision-making processes, what safeguards can be implemented to maintain human oversight and accountability? How can we ensure that human judgment is not entirely supplanted by automated systems, especially in critical areas like healthcare and public policy?' additional_kwargs={'refusal': None} response_metadata={'token_usage': {'completion_tokens': 181, 'prompt_tokens': 592, 'total_tokens': 773, 'completion_tokens_details': {'audio_tokens': 0, 'reasoning_tokens': 0, 'accepted_prediction_tokens': 0, 'rejected_prediction_tokens': 0}, 'prompt_tokens_details': {'audio_tokens': 0, 'cached_tokens': 0}}, 'model_name': 'gpt-4o-mini-2024-07-18', 'system_fingerprint': 'fp_72ed7ab54c', 'finish_reason': 'stop', 'logprobs': None} id='run-7260cb80-3474-43ae-997f-81d30a17fd55-0' usage_metadata={'input_tokens': 592, 'output_tokens': 181, 'total_tokens': 773, 'input_token_details': {'audio': 0, 'cache_read': 0}, 'output_token_details': {'audio': 0, 'reasoning': 0}}\n"
     ]
    }
   ],
   "source": [
    "# Example usage of create_runnable_chain\n",
    "prompts = [\n",
    "    \"Analyze this text and identify the main themes and topics: {input}\",\n",
    "    \"For each theme identified, provide specific examples from the text: {input}\",\n",
    "    \"Synthesize the themes and examples into a coherent summary: {input}\",\n",
    "    \"Generate 3 discussion questions based on the analysis: {input}\"\n",
    "]\n",
    "\n",
    "# Create individual chains\n",
    "chains = [create_runnable_chain(prompt) for prompt in prompts]\n",
    "\n",
    "# Combine chains into a sequence\n",
    "# Below is equivalent to: final_chain = chain1 | chain2 | ...\n",
    "final_chain = RunnableSequence(*chains)\n",
    "\n",
    "# Sample input text\n",
    "sample_text = \"\"\"\n",
    "The rise of artificial intelligence has transformed multiple industries in the past decade.\n",
    "Healthcare has seen improvements in diagnosis accuracy and treatment planning.\n",
    "Manufacturing has become more efficient with predictive maintenance and automated quality control.\n",
    "However, these advancements also raise important ethical questions about privacy, job displacement,\n",
    "and the role of human decision-making in an increasingly automated world.\n",
    "\"\"\"\n",
    "\n",
    "# Run the chain\n",
    "output = final_chain.invoke({\"input\": sample_text})\n",
    "print(output)"
   ]
  },
  {
   "cell_type": "markdown",
   "metadata": {},
   "source": [
    "Another option would be to use the convenient `@chain` decorator."
   ]
  },
  {
   "cell_type": "code",
   "execution_count": 5,
   "metadata": {},
   "outputs": [],
   "source": [
    "from langchain_core.runnables import chain\n",
    "\n",
    "@chain\n",
    "def custom_chain(text):\n",
    "    # Analyze themes\n",
    "    analyze_chain = ChatPromptTemplate.from_template(\"Analyze this text and identify the main themes and topics: {input}\") | llm\n",
    "    themes = analyze_chain.invoke({\"input\": text})\n",
    "    \n",
    "    # Get examples\n",
    "    examples_chain = ChatPromptTemplate.from_template(\"For each theme identified, provide specific examples from the text: {input}\") | llm\n",
    "    examples = examples_chain.invoke({\"input\": themes.content})\n",
    "    \n",
    "    # Synthesize\n",
    "    synthesis_chain = ChatPromptTemplate.from_template(\"Synthesize the themes and examples into a coherent summary: {input}\") | llm\n",
    "    synthesis = synthesis_chain.invoke({\"input\": examples.content})\n",
    "    \n",
    "    # Generate questions\n",
    "    questions_chain = ChatPromptTemplate.from_template(\"Generate 3 discussion questions based on the analysis: {input}\") | llm\n",
    "    return questions_chain.invoke({\"input\": synthesis.content})"
   ]
  },
  {
   "cell_type": "code",
   "execution_count": 7,
   "metadata": {},
   "outputs": [
    {
     "data": {
      "text/plain": [
       "AIMessage(content='Here are three discussion questions based on the analysis of the themes surrounding the rise of artificial intelligence (AI):\\n\\n1. **Balancing Innovation and Ethics**: Considering the transformative impact of AI across industries such as healthcare and manufacturing, how can organizations implement AI technologies while prioritizing ethical considerations, particularly in relation to privacy and potential job displacement? What frameworks or guidelines could be established to ensure responsible use of AI?\\n\\n2. **Human Oversight in AI Applications**: In light of the potential biases in AI algorithms that could lead to harmful outcomes, especially in critical areas like criminal justice and healthcare, what measures should be taken to ensure that human decision-making remains central in the deployment of AI systems? How can organizations effectively integrate human oversight without undermining the efficiency that AI offers?\\n\\n3. **Workforce Adaptation to AI Integration**: As AI continues to reshape various sectors and potentially displace jobs, what strategies can be employed to facilitate workforce retraining and development? How can educational institutions, businesses, and governments collaborate to prepare the workforce for an AI-driven economy, and what skills should be prioritized in this transition?', additional_kwargs={'refusal': None}, response_metadata={'token_usage': {'completion_tokens': 223, 'prompt_tokens': 376, 'total_tokens': 599, 'completion_tokens_details': {'audio_tokens': 0, 'reasoning_tokens': 0, 'accepted_prediction_tokens': 0, 'rejected_prediction_tokens': 0}, 'prompt_tokens_details': {'audio_tokens': 0, 'cached_tokens': 0}}, 'model_name': 'gpt-4o-mini-2024-07-18', 'system_fingerprint': 'fp_72ed7ab54c', 'finish_reason': 'stop', 'logprobs': None}, id='run-8ef47664-2f12-4a16-a2e5-c360ca0ce947-0', usage_metadata={'input_tokens': 376, 'output_tokens': 223, 'total_tokens': 599, 'input_token_details': {'audio': 0, 'cache_read': 0}, 'output_token_details': {'audio': 0, 'reasoning': 0}})"
      ]
     },
     "execution_count": 7,
     "metadata": {},
     "output_type": "execute_result"
    }
   ],
   "source": [
    "sample_text = \"\"\"\n",
    "The rise of artificial intelligence has transformed multiple industries in the past decade.\n",
    "Healthcare has seen improvements in diagnosis accuracy and treatment planning.\n",
    "Manufacturing has become more efficient with predictive maintenance and automated quality control.\n",
    "However, these advancements also raise important ethical questions about privacy, job displacement,\n",
    "and the role of human decision-making in an increasingly automated world.\n",
    "\"\"\"\n",
    "llm = ChatOpenAI(model='gpt-4o-mini')\n",
    "custom_chain.invoke(sample_text)"
   ]
  },
  {
   "cell_type": "markdown",
   "metadata": {},
   "source": [
    "# Parallel"
   ]
  },
  {
   "cell_type": "markdown",
   "metadata": {},
   "source": [
    "Our previous implementation:"
   ]
  },
  {
   "cell_type": "code",
   "execution_count": null,
   "metadata": {},
   "outputs": [],
   "source": [
    "def parallel(prompt, inputs, n_workers=3):\n",
    "    with ThreadPoolExecutor(max_workers=n_workers) as executor:\n",
    "        futures = [executor.submit(llm_call, f\"{prompt}: \\n {input}\") for input in inputs]\n",
    "    \n",
    "    return [f.result() for f in futures]"
   ]
  },
  {
   "cell_type": "markdown",
   "metadata": {},
   "source": [
    "Now with langchain:"
   ]
  },
  {
   "cell_type": "code",
   "execution_count": 33,
   "metadata": {},
   "outputs": [
    {
     "data": {
      "text/plain": [
       "[AIMessage(content='Climate change is leading to rising sea levels, extreme weather patterns, and accelerated ice melt, posing significant risks to agriculture, infrastructure, and human populations worldwide.', additional_kwargs={'refusal': None}, response_metadata={'token_usage': {'completion_tokens': 32, 'prompt_tokens': 106, 'total_tokens': 138, 'completion_tokens_details': {'audio_tokens': 0, 'reasoning_tokens': 0, 'accepted_prediction_tokens': 0, 'rejected_prediction_tokens': 0}, 'prompt_tokens_details': {'audio_tokens': 0, 'cached_tokens': 0}}, 'model_name': 'gpt-3.5-turbo-0125', 'system_fingerprint': None, 'finish_reason': 'stop', 'logprobs': None}, id='run-e2d4c9e2-e767-4087-b9ff-3a21dc15ec53-0', usage_metadata={'input_tokens': 106, 'output_tokens': 32, 'total_tokens': 138, 'input_token_details': {'audio': 0, 'cache_read': 0}, 'output_token_details': {'audio': 0, 'reasoning': 0}}),\n",
       " AIMessage(content='Quantum computers are a significant technological advancement that can perform complex calculations much faster than classical computers, impacting fields like cryptography and drug discovery.', additional_kwargs={'refusal': None}, response_metadata={'token_usage': {'completion_tokens': 28, 'prompt_tokens': 109, 'total_tokens': 137, 'completion_tokens_details': {'audio_tokens': 0, 'reasoning_tokens': 0, 'accepted_prediction_tokens': 0, 'rejected_prediction_tokens': 0}, 'prompt_tokens_details': {'audio_tokens': 0, 'cached_tokens': 0}}, 'model_name': 'gpt-3.5-turbo-0125', 'system_fingerprint': None, 'finish_reason': 'stop', 'logprobs': None}, id='run-e1f38f54-c8c4-41ab-98a7-83ab9f225fa8-0', usage_metadata={'input_tokens': 109, 'output_tokens': 28, 'total_tokens': 137, 'input_token_details': {'audio': 0, 'cache_read': 0}, 'output_token_details': {'audio': 0, 'reasoning': 0}}),\n",
       " AIMessage(content='Social media platforms have revolutionized communication, connecting users globally while also raising concerns about privacy, misinformation, and mental health, and transforming marketing, activism, and customer engagement for businesses.', additional_kwargs={'refusal': None}, response_metadata={'token_usage': {'completion_tokens': 37, 'prompt_tokens': 124, 'total_tokens': 161, 'completion_tokens_details': {'audio_tokens': 0, 'reasoning_tokens': 0, 'accepted_prediction_tokens': 0, 'rejected_prediction_tokens': 0}, 'prompt_tokens_details': {'audio_tokens': 0, 'cached_tokens': 0}}, 'model_name': 'gpt-3.5-turbo-0125', 'system_fingerprint': None, 'finish_reason': 'stop', 'logprobs': None}, id='run-40dd6148-dba0-4974-a39f-1fc43955d37b-0', usage_metadata={'input_tokens': 124, 'output_tokens': 37, 'total_tokens': 161, 'input_token_details': {'audio': 0, 'cache_read': 0}, 'output_token_details': {'audio': 0, 'reasoning': 0}})]"
      ]
     },
     "execution_count": 33,
     "metadata": {},
     "output_type": "execute_result"
    }
   ],
   "source": [
    "from langchain_core.runnables import RunnableParallel\n",
    "\n",
    "prompt_template = \"Summarize this paragraph in one sentence: {input}\"\n",
    "inputs = [\n",
    "    \"\"\"\n",
    "    Climate change is causing rising sea levels and extreme weather patterns globally. \n",
    "    Scientists have observed accelerating ice melt in polar regions, leading to coastal \n",
    "    flooding in low-lying areas. Additionally, communities worldwide are experiencing \n",
    "    more frequent and severe hurricanes, droughts, and other extreme weather events. \n",
    "    These changes pose significant risks to agriculture, infrastructure, and human \n",
    "    populations, particularly in vulnerable coastal regions and developing nations.\n",
    "    \"\"\",\n",
    "    \"\"\"\n",
    "    The development of quantum computers represents a major technological breakthrough\n",
    "    with far-reaching implications. These powerful machines leverage quantum mechanical\n",
    "    properties to perform complex calculations exponentially faster than classical computers.\n",
    "    In the field of cryptography, quantum computers could break many current encryption\n",
    "    methods while enabling new unbreakable encryption protocols. For drug discovery,\n",
    "    quantum computers could simulate molecular interactions with unprecedented accuracy,\n",
    "    potentially accelerating the development of new medicines and treatments for diseases.\n",
    "    \"\"\",\n",
    "    \"\"\"\n",
    "    Social media platforms have transformed how people communicate and share information\n",
    "    in the modern digital age. Platforms like Facebook, Twitter, and Instagram have created\n",
    "    virtual communities where users can instantly connect with friends and family across the\n",
    "    globe. These platforms enable the rapid spread of news, ideas, and cultural trends,\n",
    "    while also raising concerns about privacy, misinformation, and the impact on mental\n",
    "    health. The rise of social media has also revolutionized marketing, activism, and\n",
    "    how businesses engage with their customers.\n",
    "    \"\"\"\n",
    "]\n",
    "\n",
    "prompt = ChatPromptTemplate.from_template(prompt_template)\n",
    "\n",
    "chain = prompt | llm \n",
    "\n",
    "chain.batch([{\"input\":input} for input in inputs])"
   ]
  },
  {
   "cell_type": "markdown",
   "metadata": {},
   "source": [
    "# Router Pattern"
   ]
  },
  {
   "cell_type": "code",
   "execution_count": 36,
   "metadata": {},
   "outputs": [
    {
     "name": "stdout",
     "output_type": "stream",
     "text": [
      "Classified as HR.\n",
      "Problem: We need to improve our onboarding process for new employees to increase retention\n",
      "Solution: content=\"Improving the onboarding process is a crucial step in enhancing employee retention, as a well-structured onboarding experience can significantly impact new hires' engagement and overall satisfaction. Here’s a comprehensive approach to revamping your onboarding process:\\n\\n### 1. **Pre-Onboarding Preparation**\\n   - **Clear Communication:** Send welcome emails detailing their start date, time, location, and what to expect on their first day. Include information about company culture and values.\\n   - **Paperwork and Compliance:** Ensure that all necessary paperwork (tax forms, employment agreements, etc.) is sent electronically for completion before the first day to streamline the onboarding process.\\n   - **Technology Setup:** Prepare IT equipment and set up access to necessary software systems in advance.\\n\\n### 2. **Structured Orientation Programs**\\n   - **Welcome Session:** Organize a formal orientation session on the first day to introduce new employees to the company’s mission, vision, and values, as well as policies and procedures.\\n   - **Meet the Team:** Facilitate introductions with key team members and stakeholders to foster connections and a sense of belonging from the outset.\\n\\n### 3. **Tailored Training Plans**\\n   - **Role-Specific Training:** Develop personalized training schedules that outline the skills and knowledge required for their specific roles. This may include shadowing opportunities with experienced colleagues.\\n   - **Mentorship Program:** Pair new hires with a mentor or buddy from their team to guide them through the onboarding process, answer questions, and provide support.\\n\\n### 4. **Regular Check-ins and Feedback**\\n   - **Structured Check-Ins:** Schedule regular one-on-one meetings between the new employee and their manager (e.g., at one week, one month, and three months) to discuss progress, address concerns, and gather feedback.\\n   - **Feedback Mechanism:** Create a system for new hires to provide feedback on their onboarding experience to continuously improve the process.\\n\\n### 5. **Integration into Company Culture**\\n   - **Cultural Immersion:** Encourage participation in company social events, team-building activities, and informal gatherings to help new employees acclimate to the company culture.\\n   - **Values Training:** Incorporate discussions or workshops around company values and how they apply to daily work practices.\\n\\n### 6. **Continuous Support and Development**\\n   - **Ongoing Learning Opportunities:** Highlight available resources for professional development, such as training programs, workshops, and online courses.\\n   - **Career Pathing:** Discuss potential career growth within the company early on, including resources and support for achieving professional goals.\\n\\n### 7. **Evaluate and Adjust the Onboarding Process**\\n   - **Data-Driven Improvements:** Monitor retention rates, employee satisfaction surveys, and feedback from new hires to assess the effectiveness of the onboarding process.\\n   - **Iterate and Improve:** Regularly review and adjust the onboarding process based on collected data and feedback to ensure it meets the evolving needs of new employees.\\n\\n### Conclusion\\nA well-thought-out onboarding process not only helps new employees feel welcomed and valued but also lays the groundwork for their success within the organization. By focusing on communication, training, integration, and feedback, you can create a positive onboarding experience that drives retention and engagement.\" additional_kwargs={'refusal': None} response_metadata={'token_usage': {'completion_tokens': 643, 'prompt_tokens': 73, 'total_tokens': 716, 'completion_tokens_details': {'audio_tokens': 0, 'reasoning_tokens': 0, 'accepted_prediction_tokens': 0, 'rejected_prediction_tokens': 0}, 'prompt_tokens_details': {'audio_tokens': 0, 'cached_tokens': 0}}, 'model_name': 'gpt-4o-mini-2024-07-18', 'system_fingerprint': 'fp_72ed7ab54c', 'finish_reason': 'stop', 'logprobs': None} id='run-35507b47-00e2-40a8-8cf4-6bd67ad3ba8a-0' usage_metadata={'input_tokens': 73, 'output_tokens': 643, 'total_tokens': 716, 'input_token_details': {'audio': 0, 'cache_read': 0}, 'output_token_details': {'audio': 0, 'reasoning': 0}}\n",
      "--------------------------------------------------\n",
      "Classified as Software Engineer.\n",
      "Problem: The authentication service is throwing intermittent 500 errors in production\n",
      "Solution: content='Intermittent 500 errors from an authentication service can be challenging to diagnose, as they may not consistently reproduce. Here’s a systematic approach to analyze and resolve the issue:\\n\\n### Step 1: Gather Information\\n\\n1. **Log Analysis**:\\n   - Review application logs around the time the 500 errors occur. Look for stack traces, error messages, or warnings that could indicate the root cause.\\n   - Implement structured logging if not already done, ensuring that errors contain sufficient context (e.g., user ID, request payload, timestamp).\\n\\n2. **Error Rate Monitoring**:\\n   - Check the frequency and pattern of the errors. Are they occurring during peak load? Are they tied to specific endpoints?\\n   - Use monitoring tools (like Prometheus, Grafana, or ELK stack) to visualize error rates over time.\\n\\n3. **Service Dependencies**:\\n   - Identify any external services or databases the authentication service relies on. Intermittent failures in these dependencies could lead to 500 errors.\\n   - Ensure that these services are healthy and not experiencing their own issues.\\n\\n4. **Resource Monitoring**:\\n   - Monitor CPU, memory, and disk usage on the servers where the authentication service is deployed.\\n   - Check for resource exhaustion or memory leaks that might lead to the service becoming unresponsive.\\n\\n### Step 2: Debugging\\n\\n1. **Replicate the Issue**:\\n   - If possible, replicate the issue in a staging environment using the same load patterns. Use tools like Apache JMeter or Gatling to simulate traffic.\\n\\n2. **Error Handling**:\\n   - Review the error handling logic in the authentication service. Ensure that exceptions are caught and logged appropriately without exposing sensitive information.\\n\\n3. **Code Review**:\\n   - Conduct a code review focused on the authentication logic. Look for race conditions, improper handling of edge cases, or any blocking calls that could lead to timeouts.\\n\\n### Step 3: Implement Solutions\\n\\n1. **Timeouts and Retries**:\\n   - If the service calls to external systems are causing timeouts, implement appropriate timeouts and retry logic with exponential backoff.\\n\\n2. **Circuit Breaker Pattern**:\\n   - Consider implementing a circuit breaker pattern to prevent cascading failures. If the service detects that a dependency is failing, it can stop making calls to it for a period.\\n\\n3. **Load Balancing and Scaling**:\\n   - If the service is under heavy load, consider horizontal scaling or load balancing solutions. Ensure that the authentication service can handle increased traffic.\\n\\n4. **Caching**:\\n   - Implement caching strategies for frequently accessed data, such as user credentials or session tokens, to reduce load on the authentication service.\\n\\n5. **Asynchronous Processing**:\\n   - If some authentication tasks can be deferred (e.g., logging, notifications), consider using asynchronous processing to reduce the response time for the main authentication flow.\\n\\n### Step 4: Testing and Monitoring\\n\\n1. **Automated Testing**:\\n   - Write automated tests to cover critical authentication paths, including unit tests, integration tests, and load tests.\\n\\n2. **Continuous Monitoring**:\\n   - Set up alerts for 500 errors to notify the engineering team immediately when they occur. Use tools like Sentry, New Relic, or similar for real-time error tracking.\\n\\n3. **Post-Mortem Analysis**:\\n   - After resolving the issue, conduct a post-mortem analysis to understand the root cause and ensure that similar issues do not arise in the future.\\n\\n### Step 5: Documentation and Best Practices\\n\\n1. **Documentation**:\\n   - Update documentation to reflect any changes made and lessons learned. Include troubleshooting steps for future reference.\\n\\n2. **Best Practices**:\\n   - Establish best practices for error handling, logging, and monitoring for the authentication service and other critical components of the system.\\n\\nBy following this systematic approach, you should be able to identify and resolve the intermittent 500 errors in the authentication service, leading to improved reliability and user experience.' additional_kwargs={'refusal': None} response_metadata={'token_usage': {'completion_tokens': 806, 'prompt_tokens': 71, 'total_tokens': 877, 'completion_tokens_details': {'audio_tokens': 0, 'reasoning_tokens': 0, 'accepted_prediction_tokens': 0, 'rejected_prediction_tokens': 0}, 'prompt_tokens_details': {'audio_tokens': 0, 'cached_tokens': 0}}, 'model_name': 'gpt-4o-mini-2024-07-18', 'system_fingerprint': 'fp_72ed7ab54c', 'finish_reason': 'stop', 'logprobs': None} id='run-b8622c29-7ba2-46ea-bcad-455ce885dbd3-0' usage_metadata={'input_tokens': 71, 'output_tokens': 806, 'total_tokens': 877, 'input_token_details': {'audio': 0, 'cache_read': 0}, 'output_token_details': {'audio': 0, 'reasoning': 0}}\n",
      "--------------------------------------------------\n",
      "Classified as Product Manager.\n",
      "Problem: Our user engagement metrics have dropped 20% since the last release\n",
      "Solution: content='To address the drop in user engagement metrics by 20% since the last release, we need to conduct a thorough analysis to identify the root causes and develop a strategic plan to enhance user engagement. Here’s a structured approach to tackle the problem:\\n\\n### Analysis:\\n\\n1. **Data Review:**\\n   - **User Behavior Analytics:** Examine user interaction data pre- and post-release to identify specific areas where engagement has declined. Look for patterns such as reduced session duration, fewer active users, or decreased feature usage.\\n   - **Feature Usage Metrics:** Determine if any new features introduced in the last release are underperforming or if any existing features have seen a decline in usage.\\n\\n2. **User Feedback:**\\n   - **Surveys and Interviews:** Conduct surveys or user interviews with a sample of users to gather qualitative feedback on their experience with the latest release. Focus on understanding pain points, confusion, or dissatisfaction.\\n   - **Support Tickets:** Analyze customer support tickets and complaints related to the latest release to identify common issues affecting engagement.\\n\\n3. **Competitive Analysis:**\\n   - **Market Trends:** Assess competitor offerings and market trends to determine if there are new features or experiences that users may find more appealing elsewhere.\\n   - **Benchmarking:** Compare engagement metrics with industry standards or competitors to identify if the decline is specific to your product or part of a broader trend.\\n\\n### Strategic Recommendations:\\n\\n1. **Feature Assessment and Iteration:**\\n   - **Prioritize Improvements:** Based on user feedback and data analysis, prioritize the features that need improvement. Focus on enhancing user experience for those features that have seen a decline in usage.\\n   - **Rapid Iteration:** Consider implementing a rapid iteration cycle for any high-impact features. Use A/B testing to validate changes before a full rollout.\\n\\n2. **User Experience Optimization:**\\n   - **Onboarding Experience:** Evaluate and enhance the onboarding process for new users to ensure they understand how to engage with key features. If existing users are disengaged, consider a re-engagement flow to remind them of core functionalities.\\n   - **User Journey Mapping:** Map out the user journey to identify drop-off points and optimize the flow to make it more intuitive.\\n\\n3. **Enhanced Communication and Engagement:**\\n   - **In-App Messaging:** Use in-app messaging to communicate new features, updates, or tips that can help users engage more effectively with the product.\\n   - **Content Strategy:** Develop a content strategy that includes webinars, tutorials, and help articles to assist users in navigating new features or changes.\\n\\n4. **Metrics and Monitoring:**\\n   - **Set Up KPIs:** Establish clear key performance indicators (KPIs) to monitor user engagement continuously. Metrics could include daily active users (DAU), monthly active users (MAU), session length, and feature-specific usage.\\n   - **Continuous Feedback Loop:** Implement a continuous feedback mechanism, such as regular user surveys or feedback prompts within the product, to gather ongoing insights into user satisfaction and engagement.\\n\\n5. **Stakeholder Alignment:**\\n   - **Cross-Functional Collaboration:** Ensure alignment with marketing, sales, and customer support teams to create a unified approach to user engagement and communication.\\n   - **Regular Updates:** Keep stakeholders informed about findings and progress through regular updates and meetings to maintain transparency and collaborative momentum.\\n\\n### Conclusion:\\n\\nBy taking a data-driven and user-centric approach, we can identify the underlying causes of the drop in user engagement and implement targeted strategies to enhance user experience. Focusing on rapid iteration, communication, and continuous monitoring will help us regain user trust and boost engagement metrics effectively.' additional_kwargs={'refusal': None} response_metadata={'token_usage': {'completion_tokens': 720, 'prompt_tokens': 74, 'total_tokens': 794, 'completion_tokens_details': {'audio_tokens': 0, 'reasoning_tokens': 0, 'accepted_prediction_tokens': 0, 'rejected_prediction_tokens': 0}, 'prompt_tokens_details': {'audio_tokens': 0, 'cached_tokens': 0}}, 'model_name': 'gpt-4o-mini-2024-07-18', 'system_fingerprint': 'fp_bd83329f63', 'finish_reason': 'stop', 'logprobs': None} id='run-8689cc32-ad4f-4f15-aeff-3d8b5a4c0d35-0' usage_metadata={'input_tokens': 74, 'output_tokens': 720, 'total_tokens': 794, 'input_token_details': {'audio': 0, 'cache_read': 0}, 'output_token_details': {'audio': 0, 'reasoning': 0}}\n",
      "--------------------------------------------------\n"
     ]
    }
   ],
   "source": [
    "from langchain_openai import ChatOpenAI\n",
    "from langchain_core.output_parsers import StrOutputParser\n",
    "from langchain_core.prompts import PromptTemplate\n",
    "from langchain_core.runnables import RunnableLambda\n",
    "\n",
    "# Define classification chain\n",
    "classification_chain = (\n",
    "    PromptTemplate.from_template(\n",
    "        \"\"\"Given the user problem below, classify it as either `HR`, `Software Engineer`, or `Product Manager`.\n",
    "\n",
    "Do not respond with more than one word.\n",
    "\n",
    "<problem>\n",
    "{problem}\n",
    "</problem>\n",
    "\n",
    "Classification:\"\"\"\n",
    "    )\n",
    "    | ChatOpenAI(model_name=\"gpt-4o-mini\")\n",
    "    | StrOutputParser()\n",
    ")\n",
    "\n",
    "# Define sub-chains\n",
    "hr_chain = PromptTemplate.from_template(\n",
    "    \"\"\"You are an experienced HR professional focused on employee relations, recruitment, and workplace policies.\n",
    "Your expertise includes conflict resolution, talent acquisition, performance management, and ensuring compliance with labor laws.\n",
    "Analyze the input from an HR perspective and provide appropriate guidance.\n",
    "\n",
    "Problem: {problem}\n",
    "Solution:\"\"\"\n",
    ") | ChatOpenAI(model_name=\"gpt-4o-mini\")\n",
    "\n",
    "software_engineer_chain = PromptTemplate.from_template(\n",
    "    \"\"\"You are a senior software engineer with deep technical expertise in software development, architecture, and best practices.\n",
    "Your skills include debugging, code optimization, system design, and technical problem-solving.\n",
    "Analyze the input from an engineering perspective and provide technical solutions.\n",
    "\n",
    "Problem: {problem}\n",
    "Solution:\"\"\"\n",
    ") | ChatOpenAI(model_name=\"gpt-4o-mini\")\n",
    "\n",
    "product_manager_chain = PromptTemplate.from_template(\n",
    "    \"\"\"You are a seasoned product manager skilled in product strategy, user experience, and market analysis.\n",
    "Your expertise includes feature prioritization, roadmap planning, stakeholder management, and data-driven decision-making.\n",
    "Analyze the input from a product perspective and provide strategic recommendations.\n",
    "\n",
    "Problem: {problem}\n",
    "Solution:\"\"\"\n",
    ") | ChatOpenAI(model_name=\"gpt-4o-mini\")\n",
    "\n",
    "# Define routing function\n",
    "def route(info):\n",
    "    if \"hr\" in info[\"category\"].lower():\n",
    "        print(\"Classified as HR.\")\n",
    "        return hr_chain\n",
    "    elif \"software engineer\" in info[\"category\"].lower():\n",
    "        print(\"Classified as Software Engineer.\")\n",
    "        return software_engineer_chain\n",
    "    elif \"product manager\" in info[\"category\"].lower():\n",
    "        print(\"Classified as Product Manager.\")\n",
    "        return product_manager_chain\n",
    "    else:\n",
    "        return product_manager_chain  # Default fallback\n",
    "\n",
    "# Create runnable pipeline\n",
    "full_chain = {\"category\": classification_chain, \"problem\": lambda x: x[\"problem\"]} | RunnableLambda(route)\n",
    "\n",
    "# Example problems\n",
    "problems = [\n",
    "    \"We need to improve our onboarding process for new employees to increase retention\",\n",
    "    \"The authentication service is throwing intermittent 500 errors in production\",\n",
    "    \"Our user engagement metrics have dropped 20% since the last release\"\n",
    "]\n",
    "\n",
    "# Invoke the chain for each problem\n",
    "for problem in problems:\n",
    "    response = full_chain.invoke({\"problem\": problem})\n",
    "    print(f\"Problem: {problem}\\nSolution: {response}\\n{'-' * 50}\")\n"
   ]
  },
  {
   "cell_type": "markdown",
   "metadata": {},
   "source": [
    "The only new concept here is that we used:\n",
    "[`RunnableLambda`](https://arc.net/l/quote/ovwpozka)\n",
    "to setup our custom logic."
   ]
  },
  {
   "cell_type": "code",
   "execution_count": null,
   "metadata": {},
   "outputs": [],
   "source": []
  }
 ],
 "metadata": {
  "kernelspec": {
   "display_name": "oreilly-langchain",
   "language": "python",
   "name": "oreilly-langchain"
  },
  "language_info": {
   "codemirror_mode": {
    "name": "ipython",
    "version": 3
   },
   "file_extension": ".py",
   "mimetype": "text/x-python",
   "name": "python",
   "nbconvert_exporter": "python",
   "pygments_lexer": "ipython3",
   "version": "3.11.9"
  }
 },
 "nbformat": 4,
 "nbformat_minor": 2
}
