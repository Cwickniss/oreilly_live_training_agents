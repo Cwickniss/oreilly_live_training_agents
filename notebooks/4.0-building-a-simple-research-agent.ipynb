{
 "cells": [
  {
   "cell_type": "markdown",
   "metadata": {},
   "source": [
    "# Building a research Agent with LangChain"
   ]
  },
  {
   "cell_type": "code",
   "execution_count": 54,
   "metadata": {},
   "outputs": [],
   "source": [
    "!pip install langchain\n",
    "!pip install langchain-community\n",
    "!pip install langchain-openai\n",
    "!pip install langchainhub\n",
    "!pip install beautifulsoup4"
   ]
  },
  {
   "cell_type": "code",
   "execution_count": 90,
   "metadata": {},
   "outputs": [],
   "source": [
    "# uncomment this if running locally\n",
    "# from dotenv import load_dotenv\n",
    "\n",
    "# load_dotenv()\n",
    "\n",
    "# FILEPATH: /Users/greatmaster/Desktop/projects/oreilly-live-trainings/oreilly_live_training_agents/notebooks/1.3-intro-agents-with-langchain.ipynb\n",
    "# SET YOUR API KEYS FOR LANGSMITH AND TAVILY TO RUN THIS NOTEBOOK!\n",
    "# langsmith: https://docs.smith.langchain.com/#:~:text=install%20-U%20langsmith-,Create%20an%20API%20key,click%20Create%20API%20Key.,-Setup%20your%20environment\n",
    "# tavily: https://app.tavily.com/sign-in\n",
    "# openai: https://platform.openai.com/docs/quickstart\n",
    "import os\n",
    "os.environ[\"LANGCHAIN_TRACING_V2\"] = \"true\"\n",
    "# os.environ[\"LANGCHAIN_API_KEY\"] = \"your-api-key\"\n",
    "# os.environ[\"TAVILY_API_KEY\"] = \"your-api-key\"\n",
    "# os.environ[\"OPENAI_API_KEY\"] = 'your-api-key'"
   ]
  },
  {
   "cell_type": "markdown",
   "metadata": {},
   "source": [
    "# EXERCISE: Create a simple agent that performs a productive task, whatever that means for you."
   ]
  },
  {
   "cell_type": "code",
   "execution_count": 91,
   "metadata": {},
   "outputs": [],
   "source": [
    "from langchain_openai import ChatOpenAI"
   ]
  },
  {
   "cell_type": "code",
   "execution_count": 92,
   "metadata": {},
   "outputs": [],
   "source": [
    "llm_chat = ChatOpenAI(temperature=0)"
   ]
  },
  {
   "cell_type": "code",
   "execution_count": 93,
   "metadata": {},
   "outputs": [
    {
     "data": {
      "text/plain": [
       "[{'url': 'https://largest.org/nature/mountains/',\n",
       "  'content': 'We’ll also learn some interesting facts about the wildlife that thrives near each one, as well as what each mountain is known for!\\nAnnapurna\\nSource: wikimedia.org\\nThis glorious mountain is technically named Annapurna I and its counterpart, Annapurna II, is also notable as the 16th-highest mountain in the world! Manaslu\\nSource: wikimedia.org\\nAlso known as Kutang, this mountain is located in the Mansiri Himal subrange of the Himalayas and is the highest mountain peak in the Gorkha District of Nepal. Leave a Comment Cancel reply\\nComment\\nRECENT POSTS\\nPOPULAR POSTS\\n10 Largest National Parks\\n5 Largest Owls in the World\\n10 Largest Cat Breeds in the World\\nCATEGORIES\\nSister Sites: Oldest.org | Rarest.org The mountain sits on the border of Pakistan and China and, since it is based on higher ground than Mount Everest, is actually the most prominent mountain in the world!\\n The Himalayan blue sheep, or bharal, isn’t actually a sheep at all but is more closely related to goats!\\nK2\\nSource: wikimedia.org\\nOften called the “Savage Mountain” as a result of its high fatality rate among hikers, this gorgeous mountain towers right at 777 feet beneath Mount Everest.'},\n",
       " {'url': 'https://www.treehugger.com/tallest-mountains-in-the-world-5183890',\n",
       "  'content': \"This section of the Himalayas also blends into eastern Nepal, and the region hosts about 2,000 species of flowering plants, 252 species of birds, and a few of the country’s most endangered mammals, such as the snow leopard and the red panda. In 1950, Maurice Herzog and Louis Lachenal were the first to reach the summit (losing their toes and fingers to frostbite as a result), marking the first of the Earth’s 14 eight-thousanders to be scaled; another successful climb wasn’t achieved until 20 years later.\\n The 642-square-mile Manaslu Conservation Area was declared in 1998 to protect the habitats of the 33 mammal species, 110 bird species, 11 butterfly species, and three reptile species that live in the Manaslu region in the North Nepalese Himalayas.\\n Nanga Parbat (Pakistan)\\nNanga Parbat earned its reputation as the “Killer Mountain” after a total of 26 people died attempting to reach the summit before its first ascent in 1953 (a feat completed by Austrian climber Hermann Buhl, who performed the climb without the use of supplementary oxygen).\\n Although it's considered to be another one of the easiest and shortest of the 8000-meter mountains, Shishapangma claimed the life of one of the world’s most famous climbers, Alex Lowe, after an avalanche struck on October 5, 1999 (his body wasn’t recovered until 16 years later).\"},\n",
       " {'url': 'https://geology.com/records/highest-mountain-in-the-world.shtml',\n",
       "  'content': 'That shape makes it possible for the top of Chimborazo, which is located slightly south of the equator (and shorter than Mount Everest) to be farther from the center of the Earth than the top of Mount Everest (which is a considerable distance north of the equator).\\n However, the top of Chimborazo is farther from the center of the Earth than the top of Mount Everest and the top of Mauna Kea.\\n However, Mauna Kea is an island, and if the distance from the bottom of the nearby Pacific Ocean floor to the peak of the island is measured, then Mauna Kea is \"taller\" than Mount Everest.\\n Highest Mountain\\nHighest Mountain in the World\\nMount Everest: Highest Altitude\\nHighest Altitude: An altitude of 8,848.86 meters (29,031.69 feet) above sea level makes Mount Everest the mountain on Earth with the highest altitude.\\n In the diagram above, the gray dashed line is a perfect circle, and the solid blue line represents the shape of the Earth (exaggerated a bit to make its departure from spherical obvious).'},\n",
       " {'url': 'https://en.wikipedia.org/wiki/List_of_highest_mountains_on_Earth',\n",
       "  'content': \"88 | 4\\n87 |\\n86 | 1\\n85 | 8 1\\n84 | 8\\n83 |\\n82 |\\n81 | 8 6 6 2\\n80 | 9 8 5 3 2\\n79 | 5 4 3 3\\n78 | 9 8 7 6 2 2 1 0\\n77 | 9 9 8 8 5 5 4 1 0 0\\n76 |\\n9 7 6 6 4 1 1\\n75 | 7 7 5 5 4 4 4 3 3 1 1\\n74 | 9 9 9 9 7 6 6 6 5 5 3 3 2 2 2 1 1 1 0 0 0\\n73 | 8 8 8 8 8 6 6 5 5 5 4 2 1 1 1 0\\n72 | 9 9 9 8 8 8 8 7 7 6 6 5 4 4 4 3 2 2 1 1 0 0 0 0 0 0 0\\nGallery[edit]\\n1. All peaks 7,000\\xa0m (23,000\\xa0ft) or higher are located in East, Central or South Asia in a rectangle edged by Noshaq (7,492\\xa0m or 24,580\\xa0ft) on the Afghanistan–Pakistan border in the west, Jengish Chokusu (Tuōmù'ěr Fēng, 7,439\\xa0m or 24,406\\xa0ft) on the Kyrgyzstan–Xinjiang border to the north, Gongga Shan (Minya Konka, 7,556\\xa0m or 24,790\\xa0ft) in Sichuan to the east, and Kabru (7,412\\xa0m or 24,318\\xa0ft) on the Sikkim–Nepal border to the south.\\n Mauna Loa (4,169\\xa0m or 13,678\\xa0ft) is the largest mountain on Earth in terms of base area (about 2,000\\xa0sq\\xa0mi or 5,200\\xa0km2) and volume (about 10,000\\xa0cu\\xa0mi or 42,000\\xa0km3), although, due to the intergrade of lava from Kilauea, Hualalai and Mauna Kea, the volume can only be estimated based on surface area and height of the edifice. The two digits to the left of the line are the first two digits of the mountain's height (metres), and each digit to the right of the line represents the third digit of the mountain's height. Ojos del Salado has the greatest rise on Earth: 13,420\\xa0m (44,029\\xa0ft) vertically to the summit[citation needed] from the bottom of the Atacama Trench, which is about 560\\xa0km (350\\xa0mi) away, although most of this rise is not part of the mountain.\\n\"},\n",
       " {'url': 'https://www.worldatlas.com/mountains/10-highest-mountains-in-the-world.html',\n",
       "  'content': \"Several studies have revealed that there are approximately 108 high mountains on the planet that reach an elevation of more than 7,200m. A majority of the world’s tallest summits are situated on the edges of the Indian and Eurasian tectonic plates in the countries of Nepal, India, China, and Pakistan and are part of the Himalayan and Karakoram Mountain Ranges. Isla Mujeres\\nThe Deepest Canyons In The United States\\nThe Longest Caves in the World\\n11 of America's Most Famous Geysers\\nThe Deepest Caves In The World\\nIce Sheets\\nAll maps, graphics, flags, photos and original descriptions © 2024 worldatlas.com Mount Dhaulagiri I – 8,167m\\nMount Dhaulagiri I which rises to an elevation of 8,167m is the world’s seventh-highest mountain and the highest mountain situated entirely within the boundaries of the country Nepal. \\xa0 It is situated in the Mahalangur Himal section of the Himalayan Mountain Range, along the boundary between the Khumbu region of Nepal and the Tibet Autonomous Region of China. The Dhaulagiri massif is bounded by the Myagdi Khola River in the southeast and by the tributaries of the Bheri River in the southwest.\"}]"
      ]
     },
     "execution_count": 93,
     "metadata": {},
     "output_type": "execute_result"
    }
   ],
   "source": [
    "from langchain_community.tools.tavily_search import TavilySearchResults\n",
    "from langchain.agents import tool\n",
    "\n",
    "search = TavilySearchResults()\n",
    "\n",
    "results = search.invoke(\"biggest moutains in the world\")\n",
    "results"
   ]
  },
  {
   "cell_type": "code",
   "execution_count": 94,
   "metadata": {},
   "outputs": [
    {
     "data": {
      "text/plain": [
       "['https://greatist.com/eat/pancakes-and-waffles-which-is-better',\n",
       " 'https://www.weekand.com/healthy-living/article/benefits-pancakes-18003922.php',\n",
       " 'https://www.eatingwell.com/article/17772/which-is-a-healthier-breakfast-pancakes-or-eggs/',\n",
       " 'https://www.popsugar.com/food/why-pancakes-better-than-waffles-46335811',\n",
       " 'https://www.kingarthurbaking.com/blog/2021/10/26/best-pancake-tips']"
      ]
     },
     "execution_count": 94,
     "metadata": {},
     "output_type": "execute_result"
    }
   ],
   "source": [
    "from langchain_community.tools.tavily_search import TavilySearchResults\n",
    "from langchain.agents import tool\n",
    "\n",
    "search = TavilySearchResults()\n",
    "\n",
    "@tool\n",
    "def web_search(query: str):\n",
    "    \"\"\"Searches the web given a user query and returns the most relevant links\"\"\"\n",
    "    output = search.invoke(query)\n",
    "    return [r['url'] for r in output if type(r)==dict]\n",
    "\n",
    "web_search(\"Current resources on why pancakes are the best breakfast\")"
   ]
  },
  {
   "cell_type": "code",
   "execution_count": 95,
   "metadata": {},
   "outputs": [
    {
     "data": {
      "text/plain": [
       "ChatPromptTemplate(input_variables=['agent_scratchpad', 'input'], input_types={'chat_history': typing.List[typing.Union[langchain_core.messages.ai.AIMessage, langchain_core.messages.human.HumanMessage, langchain_core.messages.chat.ChatMessage, langchain_core.messages.system.SystemMessage, langchain_core.messages.function.FunctionMessage, langchain_core.messages.tool.ToolMessage]], 'agent_scratchpad': typing.List[typing.Union[langchain_core.messages.ai.AIMessage, langchain_core.messages.human.HumanMessage, langchain_core.messages.chat.ChatMessage, langchain_core.messages.system.SystemMessage, langchain_core.messages.function.FunctionMessage, langchain_core.messages.tool.ToolMessage]]}, metadata={'lc_hub_owner': 'hwchase17', 'lc_hub_repo': 'openai-functions-agent', 'lc_hub_commit_hash': 'a1655024b06afbd95d17449f21316291e0726f13dcfaf990cc0d18087ad689a5'}, messages=[SystemMessagePromptTemplate(prompt=PromptTemplate(input_variables=[], template='You are a helpful assistant')), MessagesPlaceholder(variable_name='chat_history', optional=True), HumanMessagePromptTemplate(prompt=PromptTemplate(input_variables=['input'], template='{input}')), MessagesPlaceholder(variable_name='agent_scratchpad')])"
      ]
     },
     "execution_count": 95,
     "metadata": {},
     "output_type": "execute_result"
    }
   ],
   "source": [
    "from langchain import hub\n",
    "\n",
    "prompt = hub.pull(\"hwchase17/openai-functions-agent\")\n",
    "\n",
    "prompt"
   ]
  },
  {
   "cell_type": "code",
   "execution_count": 96,
   "metadata": {},
   "outputs": [
    {
     "data": {
      "text/plain": [
       "['agent_scratchpad', 'input']"
      ]
     },
     "execution_count": 96,
     "metadata": {},
     "output_type": "execute_result"
    }
   ],
   "source": [
    "prompt.input_variables"
   ]
  },
  {
   "cell_type": "code",
   "execution_count": 97,
   "metadata": {},
   "outputs": [
    {
     "data": {
      "text/plain": [
       "{'chat_history': typing.List[typing.Union[langchain_core.messages.ai.AIMessage, langchain_core.messages.human.HumanMessage, langchain_core.messages.chat.ChatMessage, langchain_core.messages.system.SystemMessage, langchain_core.messages.function.FunctionMessage, langchain_core.messages.tool.ToolMessage]],\n",
       " 'agent_scratchpad': typing.List[typing.Union[langchain_core.messages.ai.AIMessage, langchain_core.messages.human.HumanMessage, langchain_core.messages.chat.ChatMessage, langchain_core.messages.system.SystemMessage, langchain_core.messages.function.FunctionMessage, langchain_core.messages.tool.ToolMessage]]}"
      ]
     },
     "execution_count": 97,
     "metadata": {},
     "output_type": "execute_result"
    }
   ],
   "source": [
    "prompt.input_types"
   ]
  },
  {
   "cell_type": "code",
   "execution_count": 98,
   "metadata": {},
   "outputs": [
    {
     "data": {
      "text/plain": [
       "{'name': None,\n",
       " 'input_variables': ['agent_scratchpad', 'input'],\n",
       " 'input_types': {'chat_history': typing.List[typing.Union[langchain_core.messages.ai.AIMessage, langchain_core.messages.human.HumanMessage, langchain_core.messages.chat.ChatMessage, langchain_core.messages.system.SystemMessage, langchain_core.messages.function.FunctionMessage, langchain_core.messages.tool.ToolMessage]],\n",
       "  'agent_scratchpad': typing.List[typing.Union[langchain_core.messages.ai.AIMessage, langchain_core.messages.human.HumanMessage, langchain_core.messages.chat.ChatMessage, langchain_core.messages.system.SystemMessage, langchain_core.messages.function.FunctionMessage, langchain_core.messages.tool.ToolMessage]]},\n",
       " 'output_parser': None,\n",
       " 'partial_variables': {},\n",
       " 'metadata': {'lc_hub_owner': 'hwchase17',\n",
       "  'lc_hub_repo': 'openai-functions-agent',\n",
       "  'lc_hub_commit_hash': 'a1655024b06afbd95d17449f21316291e0726f13dcfaf990cc0d18087ad689a5'},\n",
       " 'tags': None,\n",
       " 'messages': [SystemMessagePromptTemplate(prompt=PromptTemplate(input_variables=[], template='You are a helpful assistant')),\n",
       "  MessagesPlaceholder(variable_name='chat_history', optional=True),\n",
       "  HumanMessagePromptTemplate(prompt=PromptTemplate(input_variables=['input'], template='{input}')),\n",
       "  MessagesPlaceholder(variable_name='agent_scratchpad')],\n",
       " 'validate_template': False}"
      ]
     },
     "execution_count": 98,
     "metadata": {},
     "output_type": "execute_result"
    }
   ],
   "source": [
    "prompt.__dict__"
   ]
  },
  {
   "cell_type": "markdown",
   "metadata": {},
   "source": [
    "To build an agent I need to do 2 essential things:\n",
    "\n",
    "1. Connect a model to tools\n",
    "2. Set up a loop in which the model continuously tries to solve the problem by either just calling the llm or calling a tool, observing the result and repeating until finished."
   ]
  },
  {
   "cell_type": "code",
   "execution_count": 64,
   "metadata": {},
   "outputs": [
    {
     "data": {
      "text/plain": [
       "ChatPromptTemplate(input_variables=['agent_scratchpad', 'input'], input_types={'chat_history': typing.List[typing.Union[langchain_core.messages.ai.AIMessage, langchain_core.messages.human.HumanMessage, langchain_core.messages.chat.ChatMessage, langchain_core.messages.system.SystemMessage, langchain_core.messages.function.FunctionMessage, langchain_core.messages.tool.ToolMessage]], 'agent_scratchpad': typing.List[typing.Union[langchain_core.messages.ai.AIMessage, langchain_core.messages.human.HumanMessage, langchain_core.messages.chat.ChatMessage, langchain_core.messages.system.SystemMessage, langchain_core.messages.function.FunctionMessage, langchain_core.messages.tool.ToolMessage]]}, metadata={'lc_hub_owner': 'hwchase17', 'lc_hub_repo': 'openai-functions-agent', 'lc_hub_commit_hash': 'a1655024b06afbd95d17449f21316291e0726f13dcfaf990cc0d18087ad689a5'}, messages=[SystemMessagePromptTemplate(prompt=PromptTemplate(input_variables=[], template='You are a helpful assistant')), MessagesPlaceholder(variable_name='chat_history', optional=True), HumanMessagePromptTemplate(prompt=PromptTemplate(input_variables=['input'], template='{input}')), MessagesPlaceholder(variable_name='agent_scratchpad')])"
      ]
     },
     "execution_count": 64,
     "metadata": {},
     "output_type": "execute_result"
    }
   ],
   "source": [
    "prompt"
   ]
  },
  {
   "cell_type": "code",
   "execution_count": 99,
   "metadata": {},
   "outputs": [],
   "source": [
    "from langchain.agents import create_openai_tools_agent\n",
    "\n",
    "tools = [web_search]\n",
    "\n",
    "agent = create_openai_tools_agent(llm_chat, tools, prompt)"
   ]
  },
  {
   "cell_type": "code",
   "execution_count": 100,
   "metadata": {},
   "outputs": [],
   "source": [
    "from langchain.agents import AgentExecutor\n",
    "\n",
    "\n",
    "agent_executor = AgentExecutor(agent=agent, tools=tools, verbose=True)"
   ]
  },
  {
   "cell_type": "code",
   "execution_count": 101,
   "metadata": {},
   "outputs": [
    {
     "name": "stdout",
     "output_type": "stream",
     "text": [
      "\n",
      "\n",
      "\u001b[1m> Entering new AgentExecutor chain...\u001b[0m\n",
      "\u001b[32;1m\u001b[1;3m\n",
      "Invoking: `web_search` with `{'query': 'resources to learn new languages'}`\n",
      "\n",
      "\n",
      "\u001b[0m\u001b[36;1m\u001b[1;3m['https://www.businessinsider.com/guides/learning/best-online-apps-courses-to-learn-new-language?op=1', 'https://nymag.com/strategist/article/how-to-learn-languages-at-home.html', 'https://www.theintrepidguide.com/top-language-learning-resources/', 'https://www.fluentu.com/blog/free-language-learning-websites/', 'https://www.lifewire.com/best-free-language-learning-websites-1357061']\u001b[0m\u001b[32;1m\u001b[1;3mI found some resources that can help you learn new languages:\n",
      "\n",
      "1. [Business Insider - Best Online Apps and Courses to Learn New Language](https://www.businessinsider.com/guides/learning/best-online-apps-courses-to-learn-new-language?op=1)\n",
      "2. [NY Mag - How to Learn Languages at Home](https://nymag.com/strategist/article/how-to-learn-languages-at-home.html)\n",
      "3. [The Intrepid Guide - Top Language Learning Resources](https://www.theintrepidguide.com/top-language-learning-resources/)\n",
      "4. [FluentU - Free Language Learning Websites](https://www.fluentu.com/blog/free-language-learning-websites/)\n",
      "5. [Lifewire - Best Free Language Learning Websites](https://www.lifewire.com/best-free-language-learning-websites-1357061)\n",
      "\n",
      "You can explore these resources to find the best fit for your language learning journey.\u001b[0m\n",
      "\n",
      "\u001b[1m> Finished chain.\u001b[0m\n"
     ]
    },
    {
     "data": {
      "text/plain": [
       "{'input': 'What are good resources to learn about learning new languages?',\n",
       " 'agent_scratchpad': [],\n",
       " 'output': 'I found some resources that can help you learn new languages:\\n\\n1. [Business Insider - Best Online Apps and Courses to Learn New Language](https://www.businessinsider.com/guides/learning/best-online-apps-courses-to-learn-new-language?op=1)\\n2. [NY Mag - How to Learn Languages at Home](https://nymag.com/strategist/article/how-to-learn-languages-at-home.html)\\n3. [The Intrepid Guide - Top Language Learning Resources](https://www.theintrepidguide.com/top-language-learning-resources/)\\n4. [FluentU - Free Language Learning Websites](https://www.fluentu.com/blog/free-language-learning-websites/)\\n5. [Lifewire - Best Free Language Learning Websites](https://www.lifewire.com/best-free-language-learning-websites-1357061)\\n\\nYou can explore these resources to find the best fit for your language learning journey.'}"
      ]
     },
     "execution_count": 101,
     "metadata": {},
     "output_type": "execute_result"
    }
   ],
   "source": [
    "agent_executor.invoke({\"input\": \"What are good resources to learn about learning new languages?\",\n",
    "                             \"agent_scratchpad\": []})"
   ]
  },
  {
   "cell_type": "code",
   "execution_count": 102,
   "metadata": {},
   "outputs": [
    {
     "name": "stdout",
     "output_type": "stream",
     "text": [
      "\n",
      "\n",
      "\u001b[1m> Entering new AgentExecutor chain...\u001b[0m\n",
      "\u001b[32;1m\u001b[1;3mLearning good programming practices is essential for becoming a successful programmer.\n",
      "Action: web_search\n",
      "Action Input: \"best way to learn good programming practices\"\u001b[0m\u001b[36;1m\u001b[1;3m['https://www.educative.io/blog/coding-best-practices', 'https://www.coursera.org/articles/learning-how-to-code', 'https://www.freecodecamp.org/news/how-to-learn-programming/', 'https://www.datacamp.com/tutorial/coding-best-practices-and-guidelines', 'https://careerfoundry.com/en/blog/web-development/ways-to-learn-to-code/']\u001b[0m\u001b[32;1m\u001b[1;3mThere are various resources available online to learn good programming practices.\n",
      "Action: web_search\n",
      "Action Input: \"best online resources for learning programming practices\"\u001b[0m\u001b[36;1m\u001b[1;3m['https://www.freecodecamp.org/', 'https://www.codecademy.com/learn/learn-how-to-code', 'https://blog.bit.ai/resources-to-learn-programming/', 'https://www.codecademy.com/', 'https://leetcode.com/']\u001b[0m\u001b[32;1m\u001b[1;3mI now know that the best way to learn good programming practices is to utilize online resources such as FreeCodeCamp, Codecademy, and LeetCode. \n",
      "Final Answer: The best way to learn good programming practices is to use online resources like FreeCodeCamp, Codecademy, and LeetCode.\u001b[0m\n",
      "\n",
      "\u001b[1m> Finished chain.\u001b[0m\n"
     ]
    },
    {
     "data": {
      "text/plain": [
       "{'input': 'What is the best way to learn good programming practices?',\n",
       " 'agent_scratchpad': [],\n",
       " 'output': 'The best way to learn good programming practices is to use online resources like FreeCodeCamp, Codecademy, and LeetCode.'}"
      ]
     },
     "execution_count": 102,
     "metadata": {},
     "output_type": "execute_result"
    }
   ],
   "source": [
    "from langchain.agents import AgentExecutor, create_react_agent\n",
    "\n",
    "prompt = hub.pull(\"hwchase17/react\")\n",
    "\n",
    "agent = create_react_agent(llm_chat, tools, prompt)\n",
    "\n",
    "react_agent_executor = AgentExecutor(agent=agent, tools=tools, verbose=True)\n",
    "\n",
    "react_agent_executor.invoke({\"input\": \"What is the best way to learn good programming practices?\",\n",
    "                             \"agent_scratchpad\": []})"
   ]
  },
  {
   "cell_type": "markdown",
   "metadata": {},
   "source": [
    "Now let's build this same agent but using a more in depth approach going one level down in the abstraction layers."
   ]
  },
  {
   "cell_type": "markdown",
   "metadata": {},
   "source": [
    "Now, let's go down the latter of abstraction and build this same agent but leveraging the lower-level capabilities of LangChain's LCEL language. "
   ]
  },
  {
   "cell_type": "code",
   "execution_count": 103,
   "metadata": {},
   "outputs": [],
   "source": [
    "from langchain_openai import ChatOpenAI"
   ]
  },
  {
   "cell_type": "code",
   "execution_count": 104,
   "metadata": {},
   "outputs": [],
   "source": [
    "llm_chat = ChatOpenAI(model=\"gpt-3.5-turbo-16k\",temperature=0)"
   ]
  },
  {
   "cell_type": "code",
   "execution_count": 105,
   "metadata": {},
   "outputs": [],
   "source": [
    "from langchain_community.tools.tavily_search import TavilySearchResults\n",
    "from langchain.agents import tool\n",
    "\n",
    "search = TavilySearchResults()\n",
    "\n",
    "@tool\n",
    "def web_search(query: str):\n",
    "    \"\"\"Searches the web given a user query and returns the most relevant links\"\"\"\n",
    "    output = search.invoke(query)\n",
    "    return [r['url'] for r in output if type(r)==dict]\n",
    "\n",
    "\n",
    "tools = [web_search]"
   ]
  },
  {
   "cell_type": "code",
   "execution_count": 106,
   "metadata": {},
   "outputs": [],
   "source": [
    "from langchain_core.prompts import ChatPromptTemplate, MessagesPlaceholder"
   ]
  },
  {
   "cell_type": "code",
   "execution_count": 107,
   "metadata": {},
   "outputs": [],
   "source": [
    "prompt = ChatPromptTemplate.from_messages(\n",
    "    [\n",
    "        (\n",
    "            \"system\", \"You are a powerful research assistant.\\\n",
    "            Given a user query you will perform research on the \\\n",
    "                topic using the tools available.\"\n",
    "        ),\n",
    "        (\"user\", \"{input}\"),\n",
    "        MessagesPlaceholder(variable_name=\"agent_scratchpad\"),\n",
    "    ]\n",
    ")"
   ]
  },
  {
   "cell_type": "markdown",
   "metadata": {},
   "source": [
    "# Bind tools to the LLM"
   ]
  },
  {
   "cell_type": "code",
   "execution_count": 108,
   "metadata": {},
   "outputs": [],
   "source": [
    "from langchain_community.tools.convert_to_openai import format_tool_to_openai_tool"
   ]
  },
  {
   "cell_type": "code",
   "execution_count": 109,
   "metadata": {},
   "outputs": [],
   "source": [
    "llm_with_tools = llm_chat.bind_tools(tools)"
   ]
  },
  {
   "cell_type": "markdown",
   "metadata": {},
   "source": [
    "Now, all we have to do is import two last utility functions:\n",
    "- a component for formatting intermediate steps (agent action, tool output pairs) to input messages that can be sent to the model, \n",
    "- and a component for converting the output message into an agent action/agent finish."
   ]
  },
  {
   "cell_type": "code",
   "execution_count": 110,
   "metadata": {},
   "outputs": [],
   "source": [
    "from langchain.agents.format_scratchpad.openai_tools import format_to_openai_tool_messages\n",
    "from langchain.agents.output_parsers.openai_tools import OpenAIToolsAgentOutputParser"
   ]
  },
  {
   "cell_type": "code",
   "execution_count": 111,
   "metadata": {},
   "outputs": [],
   "source": [
    "agent = (\n",
    "    {\n",
    "        \"input\": lambda x: x[\"input\"], \n",
    "        \"agent_scratchpad\": lambda x: format_to_openai_tool_messages(\n",
    "            x[\"intermediate_steps\"]\n",
    "        ),\n",
    "    }\n",
    "    | prompt\n",
    "    | llm_with_tools\n",
    "    | OpenAIToolsAgentOutputParser()\n",
    ")"
   ]
  },
  {
   "cell_type": "code",
   "execution_count": 112,
   "metadata": {},
   "outputs": [],
   "source": [
    "from langchain.agents import AgentExecutor\n",
    "\n",
    "agent_executor = AgentExecutor(agent=agent, tools=tools, verbose=True)"
   ]
  },
  {
   "cell_type": "code",
   "execution_count": 79,
   "metadata": {},
   "outputs": [
    {
     "name": "stdout",
     "output_type": "stream",
     "text": [
      "\n",
      "\n",
      "\u001b[1m> Entering new AgentExecutor chain...\u001b[0m\n",
      "\u001b[32;1m\u001b[1;3m\n",
      "Invoking: `web_search` with `{'query': 'resources about open source large language models'}`\n",
      "\n",
      "\n",
      "\u001b[0m\u001b[36;1m\u001b[1;3m['https://hypestudio.org/blog/guide-to-open-source-large-language-models/', 'https://www.datacamp.com/blog/top-open-source-llms', 'https://llmmodels.org/open-source/', 'https://llama.meta.com/llama2/', 'https://llmmodels.org/']\u001b[0m\u001b[32;1m\u001b[1;3mHere are some good resources about open source large language models:\n",
      "\n",
      "1. [Guide to Open Source Large Language Models](https://hypestudio.org/blog/guide-to-open-source-large-language-models/): This blog post provides a comprehensive guide to open source large language models, including an overview of different models and their applications.\n",
      "\n",
      "2. [Top Open Source LLMS](https://www.datacamp.com/blog/top-open-source-llms): This blog post from DataCamp lists some of the top open source large language models available, along with their features and use cases.\n",
      "\n",
      "3. [Open Source LLMS](https://llmmodels.org/open-source/): The LLMS (Large Language Model Summit) website provides a collection of open source large language models, along with documentation and resources for each model.\n",
      "\n",
      "4. [LLAMA2](https://llama.meta.com/llama2/): LLAMA2 is an open source large language model developed by Meta. This website provides information about the model and its capabilities.\n",
      "\n",
      "5. [LLM Models](https://llmmodels.org/): The LLM Models website is a hub for open source large language models. It provides resources, tutorials, and links to various models and their repositories.\n",
      "\n",
      "These resources should provide you with valuable information about open source large language models and help you explore different models and their applications.\u001b[0m\n",
      "\n",
      "\u001b[1m> Finished chain.\u001b[0m\n"
     ]
    },
    {
     "data": {
      "text/plain": [
       "[{'actions': [ToolAgentAction(tool='web_search', tool_input={'query': 'resources about open source large language models'}, log=\"\\nInvoking: `web_search` with `{'query': 'resources about open source large language models'}`\\n\\n\\n\", message_log=[AIMessageChunk(content='', additional_kwargs={'tool_calls': [{'index': 0, 'id': 'call_iHtMm2vDhXVGaaZjpI1nK27l', 'function': {'arguments': '{\\n  \"query\": \"resources about open source large language models\"\\n}', 'name': 'web_search'}, 'type': 'function'}]}, response_metadata={'finish_reason': 'tool_calls'}, id='run-c6cf92a0-748b-449a-92b0-f7232485c2c8', tool_calls=[{'name': 'web_search', 'args': {'query': 'resources about open source large language models'}, 'id': 'call_iHtMm2vDhXVGaaZjpI1nK27l'}], tool_call_chunks=[{'name': 'web_search', 'args': '{\\n  \"query\": \"resources about open source large language models\"\\n}', 'id': 'call_iHtMm2vDhXVGaaZjpI1nK27l', 'index': 0}])], tool_call_id='call_iHtMm2vDhXVGaaZjpI1nK27l')],\n",
       "  'messages': [AIMessageChunk(content='', additional_kwargs={'tool_calls': [{'index': 0, 'id': 'call_iHtMm2vDhXVGaaZjpI1nK27l', 'function': {'arguments': '{\\n  \"query\": \"resources about open source large language models\"\\n}', 'name': 'web_search'}, 'type': 'function'}]}, response_metadata={'finish_reason': 'tool_calls'}, id='run-c6cf92a0-748b-449a-92b0-f7232485c2c8', tool_calls=[{'name': 'web_search', 'args': {'query': 'resources about open source large language models'}, 'id': 'call_iHtMm2vDhXVGaaZjpI1nK27l'}], tool_call_chunks=[{'name': 'web_search', 'args': '{\\n  \"query\": \"resources about open source large language models\"\\n}', 'id': 'call_iHtMm2vDhXVGaaZjpI1nK27l', 'index': 0}])]},\n",
       " {'steps': [AgentStep(action=ToolAgentAction(tool='web_search', tool_input={'query': 'resources about open source large language models'}, log=\"\\nInvoking: `web_search` with `{'query': 'resources about open source large language models'}`\\n\\n\\n\", message_log=[AIMessageChunk(content='', additional_kwargs={'tool_calls': [{'index': 0, 'id': 'call_iHtMm2vDhXVGaaZjpI1nK27l', 'function': {'arguments': '{\\n  \"query\": \"resources about open source large language models\"\\n}', 'name': 'web_search'}, 'type': 'function'}]}, response_metadata={'finish_reason': 'tool_calls'}, id='run-c6cf92a0-748b-449a-92b0-f7232485c2c8', tool_calls=[{'name': 'web_search', 'args': {'query': 'resources about open source large language models'}, 'id': 'call_iHtMm2vDhXVGaaZjpI1nK27l'}], tool_call_chunks=[{'name': 'web_search', 'args': '{\\n  \"query\": \"resources about open source large language models\"\\n}', 'id': 'call_iHtMm2vDhXVGaaZjpI1nK27l', 'index': 0}])], tool_call_id='call_iHtMm2vDhXVGaaZjpI1nK27l'), observation=['https://hypestudio.org/blog/guide-to-open-source-large-language-models/', 'https://www.datacamp.com/blog/top-open-source-llms', 'https://llmmodels.org/open-source/', 'https://llama.meta.com/llama2/', 'https://llmmodels.org/'])],\n",
       "  'messages': [FunctionMessage(content='[\"https://hypestudio.org/blog/guide-to-open-source-large-language-models/\", \"https://www.datacamp.com/blog/top-open-source-llms\", \"https://llmmodels.org/open-source/\", \"https://llama.meta.com/llama2/\", \"https://llmmodels.org/\"]', name='web_search')]},\n",
       " {'output': 'Here are some good resources about open source large language models:\\n\\n1. [Guide to Open Source Large Language Models](https://hypestudio.org/blog/guide-to-open-source-large-language-models/): This blog post provides a comprehensive guide to open source large language models, including an overview of different models and their applications.\\n\\n2. [Top Open Source LLMS](https://www.datacamp.com/blog/top-open-source-llms): This blog post from DataCamp lists some of the top open source large language models available, along with their features and use cases.\\n\\n3. [Open Source LLMS](https://llmmodels.org/open-source/): The LLMS (Large Language Model Summit) website provides a collection of open source large language models, along with documentation and resources for each model.\\n\\n4. [LLAMA2](https://llama.meta.com/llama2/): LLAMA2 is an open source large language model developed by Meta. This website provides information about the model and its capabilities.\\n\\n5. [LLM Models](https://llmmodels.org/): The LLM Models website is a hub for open source large language models. It provides resources, tutorials, and links to various models and their repositories.\\n\\nThese resources should provide you with valuable information about open source large language models and help you explore different models and their applications.',\n",
       "  'messages': [AIMessage(content='Here are some good resources about open source large language models:\\n\\n1. [Guide to Open Source Large Language Models](https://hypestudio.org/blog/guide-to-open-source-large-language-models/): This blog post provides a comprehensive guide to open source large language models, including an overview of different models and their applications.\\n\\n2. [Top Open Source LLMS](https://www.datacamp.com/blog/top-open-source-llms): This blog post from DataCamp lists some of the top open source large language models available, along with their features and use cases.\\n\\n3. [Open Source LLMS](https://llmmodels.org/open-source/): The LLMS (Large Language Model Summit) website provides a collection of open source large language models, along with documentation and resources for each model.\\n\\n4. [LLAMA2](https://llama.meta.com/llama2/): LLAMA2 is an open source large language model developed by Meta. This website provides information about the model and its capabilities.\\n\\n5. [LLM Models](https://llmmodels.org/): The LLM Models website is a hub for open source large language models. It provides resources, tutorials, and links to various models and their repositories.\\n\\nThese resources should provide you with valuable information about open source large language models and help you explore different models and their applications.')]}]"
      ]
     },
     "execution_count": 79,
     "metadata": {},
     "output_type": "execute_result"
    }
   ],
   "source": [
    "list(agent_executor.stream({\"input\": \"What are some good resources about open source large language models?\"}))"
   ]
  },
  {
   "cell_type": "markdown",
   "metadata": {},
   "source": [
    "Now, what if we want the agent to actually read the links and return a research report rather than just the urls?"
   ]
  },
  {
   "cell_type": "code",
   "execution_count": 113,
   "metadata": {},
   "outputs": [],
   "source": [
    "import requests\n",
    "from bs4 import BeautifulSoup\n",
    "\n",
    "\n",
    "@tool\n",
    "def scrape_text(url: str):\n",
    "    \"\"\"Scrapes the text from a given URL and returns it.\"\"\"\n",
    "    # Send a GET request to the webpage\n",
    "    try:\n",
    "        response = requests.get(url)\n",
    "\n",
    "        # Check if the request was successful\n",
    "        if response.status_code == 200:\n",
    "            # Parse the content of the request with BeautifulSoup\n",
    "            soup = BeautifulSoup(response.text, \"html.parser\")\n",
    "\n",
    "            # Extract all text from the webpage\n",
    "            page_text = soup.get_text(separator=\" \", strip=True)\n",
    "\n",
    "            # Print the extracted text\n",
    "            return page_text[:10000]\n",
    "        else:\n",
    "            return f\"Failed to retrieve the webpage: Status code {response.status_code}\"\n",
    "    except Exception as e:\n",
    "        print(e)\n",
    "        return f\"Failed to retrieve the webpage: {e}\""
   ]
  },
  {
   "cell_type": "code",
   "execution_count": 114,
   "metadata": {},
   "outputs": [],
   "source": [
    "tools = [web_search, scrape_text]"
   ]
  },
  {
   "cell_type": "code",
   "execution_count": 115,
   "metadata": {},
   "outputs": [],
   "source": [
    "llm_with_tools = llm_chat.bind_tools(tools)"
   ]
  },
  {
   "cell_type": "code",
   "execution_count": 116,
   "metadata": {},
   "outputs": [],
   "source": [
    "from langchain.prompts import ChatPromptTemplate, MessagesPlaceholder"
   ]
  },
  {
   "cell_type": "code",
   "execution_count": 117,
   "metadata": {},
   "outputs": [],
   "source": [
    "prompt = ChatPromptTemplate.from_messages(\n",
    "    [\n",
    "        (\n",
    "            \"system\", \"You are a powerful research assistant. Given a user query you will perform research on the topic using the tools available.\"\n",
    "        ),\n",
    "        (\"user\", \"Scrape and summarize the contents from these urls: {input}\"),\n",
    "        MessagesPlaceholder(variable_name=\"agent_scratchpad\"),\n",
    "    ]\n",
    ")"
   ]
  },
  {
   "cell_type": "code",
   "execution_count": 118,
   "metadata": {},
   "outputs": [],
   "source": [
    "agent = (\n",
    "    {\n",
    "        \"input\": lambda x: x[\"input\"], \n",
    "        \"agent_scratchpad\": lambda x: format_to_openai_tool_messages(\n",
    "            x[\"intermediate_steps\"]\n",
    "        ),\n",
    "    }\n",
    "    | prompt\n",
    "    | llm_with_tools\n",
    "    | OpenAIToolsAgentOutputParser()\n",
    ")"
   ]
  },
  {
   "cell_type": "code",
   "execution_count": 119,
   "metadata": {},
   "outputs": [],
   "source": [
    "from langchain.agents import AgentExecutor\n",
    "\n",
    "agent_executor = AgentExecutor(agent=agent, tools=tools, verbose=True)"
   ]
  },
  {
   "cell_type": "code",
   "execution_count": 87,
   "metadata": {},
   "outputs": [
    {
     "name": "stdout",
     "output_type": "stream",
     "text": [
      "\n",
      "\n",
      "\u001b[1m> Entering new AgentExecutor chain...\u001b[0m\n",
      "\u001b[32;1m\u001b[1;3m\n",
      "Invoking: `scrape_text` with `{'url': 'https://www.ibm.com/blogs/blockchain/2018/03/what-is-a-blockchain-consortium/'}`\n",
      "\n",
      "\n",
      "\u001b[0m\u001b[33;1m\u001b[1;3mIBM Blog Exclusive Artificial intelligence April 26, 2024 Bigger isn’t always better: How hybrid AI pattern enables smaller language models Bigger is not always better, as specialized models outperform general-purpose models with lower infrastructure requirements. Read more Latest Articles Sustainability May 1, 2024 How generative AI will revolutionize supply chain 2 min read - From addressing queries to resolving alerts, learn how the combination of data and AI will transform businesses from reactive to proactive. Financial services April 29, 2024 How fintech innovation is driving digital transformation for communities across the globe 3 min read - From democratizing finance to establishing digital currencies, fintechs have been transformational for the financial services industry. Analytics April 29, 2024 VeloxCon 2024: Innovation in data management 3 min read - VeloxCon 2024 brought together industry leaders, engineers, and enthusiasts to explore the future of data management. Business transformation April 25, 2024 Commerce strategy: Ecommerce is dead, long live ecommerce 5 min read - Commerce strategy—what we might formerly have referred to as ecommerce strategy—is so much more than it once was. Discover what's changed. More articles Announcements May 1, 2024 We’re thrilled to announce the upcoming launch of the Supply Chain Resiliency module as part of I... April 30, 2024 In today's fast-paced business landscape, the competition for talent has never been more intense. A... April 30, 2024 IBM® is pleased to announce the release of more functionality for IBM Envizi™ as we continue to ... April 25, 2024 IBM is excited to offer a 30-day demo, in which you can chat with a solo model to experience workin... April 24, 2024 We have seen that the explosion in interest and adoption of AI has led IT leaders to revisit their ... 1 2 3 4 5 Featured Business transformation April 23, 2024 5 steps for implementing change management in your organization 5 min read - Explore five key steps that can support leaders and employees in the seamless integration of organizational change management. Artificial intelligence April 26, 2024 AI transforms the IT support experience 5 min read - Generative AI transforms customer service by introducing context-aware conversations that go beyond simple question-and-answer interactions. Data and Analytics April 22, 2024 For the planet and people: IBM’s focus on AI ethics in sustainability 4 min read - A human-centric approach to AI needs to advance AI’s capabilities while adopting ethical practices and addressing sustainability imperatives. Highlights by topic Artificial intelligence Analytics Business automation Cloud Compute and servers IT automation Security and identity Sustainability Featured April 15, 2024 4 ways generative AI addresses manufacturing challenges Explore 4 ways that generative AI technologies will significantly accelerate digitalization initiatives in the manufacturing industry Read more Latest Articles Latest Articles Business transformation April 25, 2024 Business process reengineering (BPR) examples 6 min read - Explore some key use cases and customer stories in this blog about business process reengineering (BPR) examples. Security April 24, 2024 Data privacy examples 9 min read - Discover the data privacy principles, regulations and risks that may impact your organization. Security April 24, 2024 How to prevent prompt injection attacks 8 min read - Prompt injection attacks have surfaced with the rise in LLM technology. While researchers haven't found a way to fully prevent prompt injections, there are ways of mitigating the risk. Automation April 22, 2024 Deployable architecture on IBM Cloud: Simplifying system deployment 3 min read - IBM Cloud helps reduce the time that it takes to design the solutions that meet all compliance controls and regulations for your industry. Sustainability April 22, 2024 AI this Earth Day: Top opportunities to advance sustainability initiatives 5 min read - This Earth Day, we are calling for action to conserve our scarcest resource: the planet. We all need to take action to achieve real progress. Sustainability April 19, 2024 The journey to a mature asset management system 3 min read - Discussing the complex tasks energy utility companies face as they shift to holistic grid asset management to manage through the energy transition More articles Choose a Category Agriculture Business transformation Education and Skills Social impact Choose a Category Agriculture Business transformation Education and Skills Social impact Featured by topic Security September 20, 2023 Spear phishing vs. phishing: what’s the difference? Learn what sets apart a spear phishing attack from a bulk phishing attack—and how you can… Automation September 27, 2023 Debunking observability myths – Part 6: Observability is about one part of your stack In this post, we're delving into another misconception about observability—that it's solely applicable to a specific… Business transformation September 26, 2023 Child support systems modernization: The time is now IBM's Accelerated Incremental Mainframe Modernization (AIMM) technology is transforming support for caseworkers, children and their families. Sustainability September 7, 2023 Harnessing AI and data analytics can make clean energy more viable Based on 14 years of development and input from electric utility experts, IBM has created the… Artificial intelligence September 27, 2023 Open source large language models: Benefits, risks and types Learn more about the benefits, risks and business use cases of open source large language models… Security September 6, 2023 What is the vulnerability management process? Explore best practices for building an effective vulnerability management program to better secure your organization's IT… Security August 31, 2023 How to detect and patch a Log4J vulnerability The Log4j vulnerability—dubbed \"Log4Shell\"—still persists nearly two years later. Learn how to detect and patch the… Automation September 19, 2023 Buying APM was a good decision (so is getting rid of it) Today’s app environments demand an observability solution that provides real-time monitoring of containers, microservices and Kubernetes… AI for the Enterprise September 19, 2023 Generative AI as a catalyst for change in the telecommunications industry Reinvent how your business works with AI, transforming customer care, IT, network optimization and digital labor. IBM Maximo August 11, 2023 12 considerations when choosing MES software Selecting manufacturing execution system (MES) software is a critical decision for any manufacturing organization. More topics IBM Newsletters Get our newsletters and topic updates that deliver the latest thought leadership and insights on emerging trends. Subscribe now More newsletters\u001b[0m\u001b[32;1m\u001b[1;3m\n",
      "Invoking: `scrape_text` with `{'url': 'https://www.coindesk.com/learn/what-is-a-blockchain-consortium'}`\n",
      "\n",
      "\n",
      "\u001b[0m\u001b[33;1m\u001b[1;3mFailed to retrieve the webpage: Status code 404\u001b[0m\u001b[32;1m\u001b[1;3m\n",
      "Invoking: `scrape_text` with `{'url': 'https://www.investopedia.com/terms/b/blockchain-consortium.asp'}`\n",
      "\n",
      "\n",
      "\u001b[0m\u001b[33;1m\u001b[1;3mFailed to retrieve the webpage: Status code 406\u001b[0m\u001b[32;1m\u001b[1;3m\n",
      "Invoking: `scrape_text` with `{'url': 'https://www.ibm.com/blogs/blockchain/2018/03/what-is-a-blockchain-consortium/'}`\n",
      "\n",
      "\n",
      "\u001b[0m\u001b[33;1m\u001b[1;3mIBM Blog Exclusive Artificial intelligence April 26, 2024 Bigger isn’t always better: How hybrid AI pattern enables smaller language models Bigger is not always better, as specialized models outperform general-purpose models with lower infrastructure requirements. Read more Latest Articles Sustainability May 1, 2024 How generative AI will revolutionize supply chain 2 min read - From addressing queries to resolving alerts, learn how the combination of data and AI will transform businesses from reactive to proactive. Financial services April 29, 2024 How fintech innovation is driving digital transformation for communities across the globe 3 min read - From democratizing finance to establishing digital currencies, fintechs have been transformational for the financial services industry. Analytics April 29, 2024 VeloxCon 2024: Innovation in data management 3 min read - VeloxCon 2024 brought together industry leaders, engineers, and enthusiasts to explore the future of data management. Business transformation April 25, 2024 Commerce strategy: Ecommerce is dead, long live ecommerce 5 min read - Commerce strategy—what we might formerly have referred to as ecommerce strategy—is so much more than it once was. Discover what's changed. More articles Announcements May 1, 2024 We’re thrilled to announce the upcoming launch of the Supply Chain Resiliency module as part of I... April 30, 2024 In today's fast-paced business landscape, the competition for talent has never been more intense. A... April 30, 2024 IBM® is pleased to announce the release of more functionality for IBM Envizi™ as we continue to ... April 25, 2024 IBM is excited to offer a 30-day demo, in which you can chat with a solo model to experience workin... April 24, 2024 We have seen that the explosion in interest and adoption of AI has led IT leaders to revisit their ... 1 2 3 4 5 Featured Business transformation April 23, 2024 5 steps for implementing change management in your organization 5 min read - Explore five key steps that can support leaders and employees in the seamless integration of organizational change management. Artificial intelligence April 26, 2024 AI transforms the IT support experience 5 min read - Generative AI transforms customer service by introducing context-aware conversations that go beyond simple question-and-answer interactions. Data and Analytics April 22, 2024 For the planet and people: IBM’s focus on AI ethics in sustainability 4 min read - A human-centric approach to AI needs to advance AI’s capabilities while adopting ethical practices and addressing sustainability imperatives. Highlights by topic Artificial intelligence Analytics Business automation Cloud Compute and servers IT automation Security and identity Sustainability Featured April 15, 2024 4 ways generative AI addresses manufacturing challenges Explore 4 ways that generative AI technologies will significantly accelerate digitalization initiatives in the manufacturing industry Read more Latest Articles Latest Articles Business transformation April 25, 2024 Business process reengineering (BPR) examples 6 min read - Explore some key use cases and customer stories in this blog about business process reengineering (BPR) examples. Security April 24, 2024 Data privacy examples 9 min read - Discover the data privacy principles, regulations and risks that may impact your organization. Security April 24, 2024 How to prevent prompt injection attacks 8 min read - Prompt injection attacks have surfaced with the rise in LLM technology. While researchers haven't found a way to fully prevent prompt injections, there are ways of mitigating the risk. Automation April 22, 2024 Deployable architecture on IBM Cloud: Simplifying system deployment 3 min read - IBM Cloud helps reduce the time that it takes to design the solutions that meet all compliance controls and regulations for your industry. Sustainability April 22, 2024 AI this Earth Day: Top opportunities to advance sustainability initiatives 5 min read - This Earth Day, we are calling for action to conserve our scarcest resource: the planet. We all need to take action to achieve real progress. Sustainability April 19, 2024 The journey to a mature asset management system 3 min read - Discussing the complex tasks energy utility companies face as they shift to holistic grid asset management to manage through the energy transition More articles Choose a Category Agriculture Business transformation Education and Skills Social impact Choose a Category Agriculture Business transformation Education and Skills Social impact Featured by topic Security September 20, 2023 Spear phishing vs. phishing: what’s the difference? Learn what sets apart a spear phishing attack from a bulk phishing attack—and how you can… Automation September 27, 2023 Debunking observability myths – Part 6: Observability is about one part of your stack In this post, we're delving into another misconception about observability—that it's solely applicable to a specific… Business transformation September 26, 2023 Child support systems modernization: The time is now IBM's Accelerated Incremental Mainframe Modernization (AIMM) technology is transforming support for caseworkers, children and their families. Sustainability September 7, 2023 Harnessing AI and data analytics can make clean energy more viable Based on 14 years of development and input from electric utility experts, IBM has created the… Artificial intelligence September 27, 2023 Open source large language models: Benefits, risks and types Learn more about the benefits, risks and business use cases of open source large language models… Security September 6, 2023 What is the vulnerability management process? Explore best practices for building an effective vulnerability management program to better secure your organization's IT… Security August 31, 2023 How to detect and patch a Log4J vulnerability The Log4j vulnerability—dubbed \"Log4Shell\"—still persists nearly two years later. Learn how to detect and patch the… Automation September 19, 2023 Buying APM was a good decision (so is getting rid of it) Today’s app environments demand an observability solution that provides real-time monitoring of containers, microservices and Kubernetes… AI for the Enterprise September 19, 2023 Generative AI as a catalyst for change in the telecommunications industry Reinvent how your business works with AI, transforming customer care, IT, network optimization and digital labor. IBM Maximo August 11, 2023 12 considerations when choosing MES software Selecting manufacturing execution system (MES) software is a critical decision for any manufacturing organization. More topics IBM Newsletters Get our newsletters and topic updates that deliver the latest thought leadership and insights on emerging trends. Subscribe now More newsletters\u001b[0m\u001b[32;1m\u001b[1;3m\n",
      "Invoking: `web_search` with `{'query': 'resources on learning about langchain agents'}`\n",
      "\n",
      "\n",
      "\u001b[0m\u001b[36;1m\u001b[1;3m['https://medium.com/@ankity09/top-5-resources-to-learn-langchain-e2bdbbd11702', 'https://python.langchain.com/docs/modules/agents/', 'https://towardsdatascience.com/building-a-simple-agent-with-tools-and-toolkits-in-langchain-77e0f9bd1fa5', 'https://cheatsheet.md/langchain-tutorials/langchain-agents.en', 'https://towardsdatascience.com/intro-to-llm-agents-with-langchain-when-rag-is-not-enough-7d8c08145834']\u001b[0m\u001b[32;1m\u001b[1;3mHere are some resources on learning about langchain agents:\n",
      "\n",
      "1. [Top 5 Resources to Learn Langchain](https://medium.com/@ankity09/top-5-resources-to-learn-langchain-e2bdbbd11702): This Medium article provides a list of top resources to learn about langchain, including agents.\n",
      "\n",
      "2. [Python Langchain Documentation - Agents](https://python.langchain.com/docs/modules/agents/): The official documentation of Python Langchain provides information on agents and their usage.\n",
      "\n",
      "3. [Building a Simple Agent with Tools and Toolkits in Langchain](https://towardsdatascience.com/building-a-simple-agent-with-tools-and-toolkits-in-langchain-77e0f9bd1fa5): This article on Towards Data Science explains how to build a simple agent using tools and toolkits in langchain.\n",
      "\n",
      "4. [Langchain Agents Cheat Sheet](https://cheatsheet.md/langchain-tutorials/langchain-agents.en): This cheat sheet provides a quick reference guide for langchain agents, including their features and functionalities.\n",
      "\n",
      "5. [Intro to LLM Agents with Langchain: When RAG is Not Enough](https://towardsdatascience.com/intro-to-llm-agents-with-langchain-when-rag-is-not-enough-7d8c08145834): This article introduces LLM (Large Language Model) agents with langchain and discusses their applications.\n",
      "\n",
      "You can explore these resources to gain a better understanding of langchain agents.\u001b[0m\n",
      "\n",
      "\u001b[1m> Finished chain.\u001b[0m\n"
     ]
    },
    {
     "data": {
      "text/plain": [
       "{'input': 'What are good resources on learning about langchain agents?',\n",
       " 'output': 'Here are some resources on learning about langchain agents:\\n\\n1. [Top 5 Resources to Learn Langchain](https://medium.com/@ankity09/top-5-resources-to-learn-langchain-e2bdbbd11702): This Medium article provides a list of top resources to learn about langchain, including agents.\\n\\n2. [Python Langchain Documentation - Agents](https://python.langchain.com/docs/modules/agents/): The official documentation of Python Langchain provides information on agents and their usage.\\n\\n3. [Building a Simple Agent with Tools and Toolkits in Langchain](https://towardsdatascience.com/building-a-simple-agent-with-tools-and-toolkits-in-langchain-77e0f9bd1fa5): This article on Towards Data Science explains how to build a simple agent using tools and toolkits in langchain.\\n\\n4. [Langchain Agents Cheat Sheet](https://cheatsheet.md/langchain-tutorials/langchain-agents.en): This cheat sheet provides a quick reference guide for langchain agents, including their features and functionalities.\\n\\n5. [Intro to LLM Agents with Langchain: When RAG is Not Enough](https://towardsdatascience.com/intro-to-llm-agents-with-langchain-when-rag-is-not-enough-7d8c08145834): This article introduces LLM (Large Language Model) agents with langchain and discusses their applications.\\n\\nYou can explore these resources to gain a better understanding of langchain agents.'}"
      ]
     },
     "execution_count": 87,
     "metadata": {},
     "output_type": "execute_result"
    }
   ],
   "source": [
    "agent_executor.invoke({\"input\": \"What are good resources on learning about langchain agents?\"})"
   ]
  },
  {
   "cell_type": "markdown",
   "metadata": {},
   "source": [
    "We encounter a few issues when we try to just add the scrape function to the agent without any other consideration. \n",
    "How about we make this better by improving the inner chain of the agent?"
   ]
  },
  {
   "cell_type": "code",
   "execution_count": 88,
   "metadata": {},
   "outputs": [
    {
     "name": "stdout",
     "output_type": "stream",
     "text": [
      "\n",
      "\n",
      "\u001b[1m> Entering new AgentExecutor chain...\u001b[0m\n",
      "\u001b[32;1m\u001b[1;3m\n",
      "Invoking: `web_search` with `{'query': 'resources for learning about the langchain framework'}`\n",
      "\n",
      "\n",
      "\u001b[0m\u001b[36;1m\u001b[1;3m['https://www.ibm.com/topics/langchain', 'https://medium.com/@ankity09/top-5-resources-to-learn-langchain-e2bdbbd11702', 'https://www.pluralsight.com/resources/blog/data/getting-started-langchain', 'https://python.langchain.com/docs/get_started/introduction/', 'https://medium.com/@ellen.hoeven/introducing-langchain-a-beginners-guide-️-5e751622edb7']\u001b[0m\u001b[32;1m\u001b[1;3mHere are some good resources for learning about the Langchain framework:\n",
      "\n",
      "1. [IBM - Langchain](https://www.ibm.com/topics/langchain): IBM provides an overview of the Langchain framework and its features.\n",
      "\n",
      "2. [Medium - Top 5 Resources to Learn Langchain](https://medium.com/@ankity09/top-5-resources-to-learn-langchain-e2bdbbd11702): This Medium article lists the top 5 resources for learning Langchain, including tutorials, documentation, and online courses.\n",
      "\n",
      "3. [Pluralsight - Getting Started with Langchain](https://www.pluralsight.com/resources/blog/data/getting-started-langchain): Pluralsight offers a guide on getting started with Langchain, covering the basics and providing resources for further learning.\n",
      "\n",
      "4. [Langchain Documentation](https://python.langchain.com/docs/get_started/introduction/): The official Langchain documentation provides detailed information on the framework, including installation instructions, tutorials, and API references.\n",
      "\n",
      "5. [Medium - Introducing Langchain: A Beginner's Guide](https://medium.com/@ellen.hoeven/introducing-langchain-a-beginners-guide-️-5e751622edb7): This Medium article serves as a beginner's guide to Langchain, explaining its concepts and providing examples.\n",
      "\n",
      "You can explore these resources to gain a better understanding of the Langchain framework.\u001b[0m\n",
      "\n",
      "\u001b[1m> Finished chain.\u001b[0m\n"
     ]
    }
   ],
   "source": [
    "from langchain.prompts import MessagesPlaceholder\n",
    "\n",
    "MEMORY_KEY = \"chat_history\"\n",
    "prompt = ChatPromptTemplate.from_messages(\n",
    "    [\n",
    "        (\n",
    "            \"system\",\n",
    "            \"You are very powerful assistant, but bad at calculating lengths of words.\",\n",
    "        ),\n",
    "        MessagesPlaceholder(variable_name=MEMORY_KEY),\n",
    "        (\"user\", \"{input}\"),\n",
    "        MessagesPlaceholder(variable_name=\"agent_scratchpad\"),\n",
    "    ]\n",
    ")\n",
    "\n",
    "from langchain_core.messages import AIMessage, HumanMessage\n",
    "\n",
    "chat_history = []\n",
    "\n",
    "agent = (\n",
    "    {\n",
    "        \"input\": lambda x: x[\"input\"],\n",
    "        \"agent_scratchpad\": lambda x: format_to_openai_tool_messages(\n",
    "            x[\"intermediate_steps\"]\n",
    "        ),\n",
    "        \"chat_history\": lambda x: x[\"chat_history\"],\n",
    "    }\n",
    "    | prompt\n",
    "    | llm_with_tools\n",
    "    | OpenAIToolsAgentOutputParser()\n",
    ")\n",
    "agent_executor = AgentExecutor(agent=agent, tools=tools, verbose=True)\n",
    "\n",
    "input1 = \"What are good resources on learning about the langchain framework?\"\n",
    "result = agent_executor.invoke({\"input\": input1, \"chat_history\": chat_history})\n",
    "chat_history.extend(\n",
    "    [\n",
    "        HumanMessage(content=input1),\n",
    "        AIMessage(content=result[\"output\"]),\n",
    "    ]\n",
    ")"
   ]
  },
  {
   "cell_type": "code",
   "execution_count": 89,
   "metadata": {},
   "outputs": [
    {
     "data": {
      "text/plain": [
       "{'input': 'What are good resources on learning about the langchain framework?',\n",
       " 'chat_history': [HumanMessage(content='What are good resources on learning about the langchain framework?'),\n",
       "  AIMessage(content=\"Here are some good resources for learning about the Langchain framework:\\n\\n1. [IBM - Langchain](https://www.ibm.com/topics/langchain): IBM provides an overview of the Langchain framework and its features.\\n\\n2. [Medium - Top 5 Resources to Learn Langchain](https://medium.com/@ankity09/top-5-resources-to-learn-langchain-e2bdbbd11702): This Medium article lists the top 5 resources for learning Langchain, including tutorials, documentation, and online courses.\\n\\n3. [Pluralsight - Getting Started with Langchain](https://www.pluralsight.com/resources/blog/data/getting-started-langchain): Pluralsight offers a guide on getting started with Langchain, covering the basics and providing resources for further learning.\\n\\n4. [Langchain Documentation](https://python.langchain.com/docs/get_started/introduction/): The official Langchain documentation provides detailed information on the framework, including installation instructions, tutorials, and API references.\\n\\n5. [Medium - Introducing Langchain: A Beginner's Guide](https://medium.com/@ellen.hoeven/introducing-langchain-a-beginners-guide-️-5e751622edb7): This Medium article serves as a beginner's guide to Langchain, explaining its concepts and providing examples.\\n\\nYou can explore these resources to gain a better understanding of the Langchain framework.\")],\n",
       " 'output': \"Here are some good resources for learning about the Langchain framework:\\n\\n1. [IBM - Langchain](https://www.ibm.com/topics/langchain): IBM provides an overview of the Langchain framework and its features.\\n\\n2. [Medium - Top 5 Resources to Learn Langchain](https://medium.com/@ankity09/top-5-resources-to-learn-langchain-e2bdbbd11702): This Medium article lists the top 5 resources for learning Langchain, including tutorials, documentation, and online courses.\\n\\n3. [Pluralsight - Getting Started with Langchain](https://www.pluralsight.com/resources/blog/data/getting-started-langchain): Pluralsight offers a guide on getting started with Langchain, covering the basics and providing resources for further learning.\\n\\n4. [Langchain Documentation](https://python.langchain.com/docs/get_started/introduction/): The official Langchain documentation provides detailed information on the framework, including installation instructions, tutorials, and API references.\\n\\n5. [Medium - Introducing Langchain: A Beginner's Guide](https://medium.com/@ellen.hoeven/introducing-langchain-a-beginners-guide-️-5e751622edb7): This Medium article serves as a beginner's guide to Langchain, explaining its concepts and providing examples.\\n\\nYou can explore these resources to gain a better understanding of the Langchain framework.\"}"
      ]
     },
     "execution_count": 89,
     "metadata": {},
     "output_type": "execute_result"
    }
   ],
   "source": [
    "result"
   ]
  }
 ],
 "metadata": {
  "kernelspec": {
   "display_name": "oreilly-agents",
   "language": "python",
   "name": "oreilly-agents"
  },
  "language_info": {
   "codemirror_mode": {
    "name": "ipython",
    "version": 3
   },
   "file_extension": ".py",
   "mimetype": "text/x-python",
   "name": "python",
   "nbconvert_exporter": "python",
   "pygments_lexer": "ipython3",
   "version": "3.11.9"
  }
 },
 "nbformat": 4,
 "nbformat_minor": 2
}
